{
 "cells": [
  {
   "cell_type": "markdown",
   "id": "654bd483-a764-4789-b8d3-760cc5c513fb",
   "metadata": {},
   "source": [
    "1. Given an array, check if it contains any duplicates or not.\n",
    "arr = [1, 2, 4, 2, 5, 9]\n",
    "Output = True"
   ]
  },
  {
   "cell_type": "code",
   "execution_count": 1,
   "id": "e76f7782-0b8f-4755-89f8-6ef78ea4efe9",
   "metadata": {},
   "outputs": [
    {
     "data": {
      "text/plain": [
       "True"
      ]
     },
     "execution_count": 1,
     "metadata": {},
     "output_type": "execute_result"
    }
   ],
   "source": [
    "def contains_duplicates(l):\n",
    "    # create an empty set to store first occurrence of every elements\n",
    "    seen = set()\n",
    "    \n",
    "    for x in l:\n",
    "        if x in seen:\n",
    "            return True\n",
    "        else:\n",
    "            seen.add(x)\n",
    "    return False\n",
    "\n",
    "arr = [1, 2, 4, 2, 5, 9]\n",
    "contains_duplicates(arr)"
   ]
  },
  {
   "cell_type": "markdown",
   "id": "4748c14a-8895-4c66-aee7-1b8fa43f782a",
   "metadata": {},
   "source": [
    "2. Given an array and an integer k, rotate the array to the right by k steps.\n",
    "arr = [1, 2, 3, 4, 5, 6, 7] k = 3\n",
    "Output = [5, 6, 7, 1, 2, 3, 4]"
   ]
  },
  {
   "cell_type": "code",
   "execution_count": 2,
   "id": "d7ee64c8-d0b3-4a14-a5e7-d22caeb6f81f",
   "metadata": {},
   "outputs": [
    {
     "data": {
      "text/plain": [
       "[5, 6, 7, 1, 2, 3, 4]"
      ]
     },
     "execution_count": 2,
     "metadata": {},
     "output_type": "execute_result"
    }
   ],
   "source": [
    "def rotate_right(arr, k):\n",
    "    n = len(arr)\n",
    "    k %= n\n",
    "    arr[:] = arr[-k:] + arr[:-k] #using Python List Slicing syntax\n",
    "    \n",
    "arr = [1, 2, 3, 4, 5, 6, 7]\n",
    "rotate_right(arr, 3)\n",
    "arr"
   ]
  },
  {
   "cell_type": "markdown",
   "id": "221145a2-7199-42e5-87d9-99a96390a436",
   "metadata": {},
   "source": [
    "3. Reverse the given array in-place, means without using any extra data structure.\n",
    "arr = [2, 4, 5, 7, 9, 12]\n",
    "Output = [12, 9, 7, 5, 4, 2]"
   ]
  },
  {
   "cell_type": "code",
   "execution_count": 3,
   "id": "2e250f0f-ed3c-45d8-987b-5876fa22648b",
   "metadata": {},
   "outputs": [
    {
     "data": {
      "text/plain": [
       "[12, 9, 7, 5, 4, 2]"
      ]
     },
     "execution_count": 3,
     "metadata": {},
     "output_type": "execute_result"
    }
   ],
   "source": [
    "def reverse_array(arr):\n",
    "    start = 0\n",
    "    end = len(arr) - 1\n",
    "    \n",
    "    while(start < end):\n",
    "        arr[start], arr[end] = arr[end], arr[start]\n",
    "        start += 1\n",
    "        end -=1\n",
    "        \n",
    "    return arr\n",
    "\n",
    "\n",
    "arr = [2, 4, 5, 7, 9, 12]\n",
    "reverse_array(arr)"
   ]
  },
  {
   "cell_type": "markdown",
   "id": "67ac791e-8782-4969-ac27-60b1796ff5a4",
   "metadata": {},
   "source": [
    "4. Given an array of integers, find the maximum element in an array\n",
    "arr = [10, 5, 20, 8, 15]\n",
    "Output = 20"
   ]
  },
  {
   "cell_type": "code",
   "execution_count": 4,
   "id": "f7c4351f-308d-4224-aff1-50426ad03411",
   "metadata": {},
   "outputs": [
    {
     "name": "stdout",
     "output_type": "stream",
     "text": [
      "20\n"
     ]
    }
   ],
   "source": [
    "arr = [10, 5, 20, 8, 15]\n",
    "\n",
    "# using built-in function 'max'\n",
    "max_element = max(arr)\n",
    "\n",
    "print(max_element)"
   ]
  },
  {
   "cell_type": "code",
   "execution_count": 5,
   "id": "09fd7de5-db6d-4f80-a866-f831ae205c97",
   "metadata": {},
   "outputs": [
    {
     "data": {
      "text/plain": [
       "20"
      ]
     },
     "execution_count": 5,
     "metadata": {},
     "output_type": "execute_result"
    }
   ],
   "source": [
    "def find_max(arr):\n",
    "    # Initialize a variable to store the maximum element, initially set to the first element.\n",
    "    max_element = arr[0]\n",
    "\n",
    "    # Iterate through the array and update max_element if a larger value is encountered.\n",
    "    for num in arr:\n",
    "        if num > max_element:\n",
    "            max_element = num\n",
    "    \n",
    "    return max_element\n",
    "\n",
    "arr=[10, 5, 20, 8, 15]\n",
    "find_max(arr)"
   ]
  },
  {
   "cell_type": "markdown",
   "id": "dca4aafd-2ae3-40c9-a19a-4713aba53e8a",
   "metadata": {},
   "source": [
    "5. Given a sorted array, remove the duplicate element without using any extra data structure.\n",
    "arr = [1, 1, 2, 2, 2, 3, 3, 4, 4, 4, 5, 5]\n",
    "Output = [1, 2, 3, 4, 5]"
   ]
  },
  {
   "cell_type": "code",
   "execution_count": 6,
   "id": "adedd796-760a-4fcd-9646-b2bfc332dcae",
   "metadata": {},
   "outputs": [
    {
     "data": {
      "text/plain": [
       "[1, 2, 3, 4, 5]"
      ]
     },
     "execution_count": 6,
     "metadata": {},
     "output_type": "execute_result"
    }
   ],
   "source": [
    "def remove_duplicates(arr):\n",
    "    n = len(arr)\n",
    "    if n == 0 or n == 1:\n",
    "        return n\n",
    " \n",
    "    # To store index of next unique element\n",
    "    j = 0\n",
    " \n",
    "    # Doing same as done in Method 1\n",
    "    # Just maintaining another updated index i.e. j\n",
    "    for i in range(n - 1):\n",
    "        if arr[i] != arr[i + 1]:\n",
    "            arr[j] = arr[i]\n",
    "            j += 1\n",
    " \n",
    "    arr[j] = arr[n - 1]\n",
    " \n",
    "    return arr[:j+1]\n",
    "\n",
    "arr = [1, 1, 2, 2, 2, 3, 3, 4, 4, 4, 5, 5]\n",
    "remove_duplicates(arr)"
   ]
  }
 ],
 "metadata": {
  "kernelspec": {
   "display_name": "Python 3 (ipykernel)",
   "language": "python",
   "name": "python3"
  },
  "language_info": {
   "codemirror_mode": {
    "name": "ipython",
    "version": 3
   },
   "file_extension": ".py",
   "mimetype": "text/x-python",
   "name": "python",
   "nbconvert_exporter": "python",
   "pygments_lexer": "ipython3",
   "version": "3.10.8"
  }
 },
 "nbformat": 4,
 "nbformat_minor": 5
}
