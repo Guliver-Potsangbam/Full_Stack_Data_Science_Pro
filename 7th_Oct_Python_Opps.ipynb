{
 "cells": [
  {
   "cell_type": "markdown",
   "id": "7afdf8cd-6941-440d-a3ff-9c4258c79f78",
   "metadata": {},
   "source": [
    "### Problem 1: Bank Account Create a class representing a bank account with attributes like account number, account holder name, and balance. Implement methods to deposit and withdraw money from the account."
   ]
  },
  {
   "cell_type": "code",
   "execution_count": 1,
   "id": "72f59c8e-01cf-425c-bf34-f433c610ff0a",
   "metadata": {},
   "outputs": [
    {
     "name": "stdout",
     "output_type": "stream",
     "text": [
      "ACCOUNT BALANCE : 10000\n",
      "\n",
      "DEPOSIT\n"
     ]
    },
    {
     "name": "stdin",
     "output_type": "stream",
     "text": [
      "Enter the account holder name : Guliver\n",
      "Enter the account number : 123456789\n"
     ]
    },
    {
     "name": "stdout",
     "output_type": "stream",
     "text": [
      "Dear User, your A/c x6789 credited by Rs. 2000\n",
      "Current Balance : 12000\n",
      "\n",
      "WITHDRAW\n"
     ]
    },
    {
     "name": "stdin",
     "output_type": "stream",
     "text": [
      "Enter the account holder name : Guliver\n",
      "Enter the account number : 123456789\n"
     ]
    },
    {
     "name": "stdout",
     "output_type": "stream",
     "text": [
      "Dear User, your A/cX6789 debited by Rs. 1000\n",
      "Current Balance : 11000\n"
     ]
    }
   ],
   "source": [
    "class BankAccount :\n",
    "    \n",
    "    # Constructor\n",
    "    def __init__(self, ac_num: int, ac_holder_name: str, balance: int):\n",
    "        self.account_number = ac_num\n",
    "        self.account_holder_name = ac_holder_name\n",
    "        self.balance = balance\n",
    "        \n",
    "    def deposit(self, amt: int):\n",
    "        print(\"DEPOSIT\") \n",
    "        while True:\n",
    "            username = input(\"Enter the account holder name :\")\n",
    "            ac_num = int(input(\"Enter the account number :\"))\n",
    "\n",
    "            if username == self.account_holder_name and ac_num == self.account_number:\n",
    "                self.balance += amt\n",
    "                print(f\"Dear User, your A/c x{str(self.account_number)[-4:]} credited by Rs. {amt}\")\n",
    "                print(f\"Current Balance : {self.balance}\")\n",
    "                break\n",
    "            else:\n",
    "                print(\"Username and Account Number not found. Try again.\")\n",
    "    \n",
    "    def withdraw(self, amt: int):\n",
    "        print(\"WITHDRAW\")\n",
    "        while True:\n",
    "            username = input(\"Enter the account holder name :\")\n",
    "            ac_num = int(input(\"Enter the account number :\"))\n",
    "\n",
    "            if username == self.account_holder_name and ac_num == self.account_number:\n",
    "                self.balance -= amt\n",
    "                print(f\"Dear User, your A/cX{str(self.account_number)[-4:]} debited by Rs. {amt}\")\n",
    "                print(f\"Current Balance : {self.balance}\")\n",
    "                break\n",
    "            else:\n",
    "                print(\"Username and Account Number not found. Try again.\")\n",
    "\n",
    "Guliver = BankAccount(123456789, 'Guliver', 10000)\n",
    "print(\"ACCOUNT BALANCE :\", Guliver.balance)\n",
    "print()\n",
    "Guliver.deposit(2000)\n",
    "print()\n",
    "Guliver.withdraw(1000)"
   ]
  },
  {
   "cell_type": "markdown",
   "id": "b869b39a-bbe7-448e-9c48-2fea44842309",
   "metadata": {},
   "source": [
    "### Problem 2: Employee Management Create a class representing an employee with attributes like employee ID, name, and salary. Implement methods to calculate the yearly bonus and display employee details."
   ]
  },
  {
   "cell_type": "code",
   "execution_count": 2,
   "id": "82de48de-eb83-469c-87ba-38a0d8b0f6ef",
   "metadata": {},
   "outputs": [
    {
     "name": "stdout",
     "output_type": "stream",
     "text": [
      "Yearly Bonus of Guliver : 7500.0\n",
      "\n",
      "Employee Details\n",
      "----------------\n",
      "Employee ID: 101\n",
      "Name: Guliver\n",
      "Salary: 50000\n"
     ]
    }
   ],
   "source": [
    "class Employee:\n",
    "    \n",
    "    # Constructor\n",
    "    def __init__(self, employee_id, name, salary):\n",
    "        self.employee_id = employee_id\n",
    "        self.name = name\n",
    "        self.salary = salary\n",
    "\n",
    "    def calculate_yearly_bonus(self, bonus_percentage):\n",
    "        # Calculate the yearly bonus based on the bonus_percentage\n",
    "        yearly_bonus = (bonus_percentage / 100) * self.salary\n",
    "        return yearly_bonus\n",
    "\n",
    "    def display_employee_details(self):\n",
    "        # Display employee details\n",
    "        print(\"Employee Details\")\n",
    "        print(\"----------------\")\n",
    "        print(\"Employee ID:\", self.employee_id)\n",
    "        print(\"Name:\", self.name)\n",
    "        print(\"Salary:\", self.salary)\n",
    "\n",
    "# Create an Employee instance\n",
    "employee1 = Employee(101, \"Guliver\", 50000)\n",
    "bonus_percent = 15\n",
    "print(f\"Yearly Bonus of {employee1.name} : {employee1.calculate_yearly_bonus(bonus_percent)}\")\n",
    "print()\n",
    "employee1.display_employee_details()"
   ]
  },
  {
   "cell_type": "markdown",
   "id": "d55bd396-077c-4745-a627-f0970ab9dcb8",
   "metadata": {},
   "source": [
    "### Problem 3: Vehicle Rental Create a class representing a vehicle rental system. Implement methods to rent a vehicle, return a vehicle, and display available vehicles."
   ]
  },
  {
   "cell_type": "code",
   "execution_count": 3,
   "id": "4aca59fe-cb5f-4925-8b4e-123645ef199b",
   "metadata": {},
   "outputs": [
    {
     "name": "stdout",
     "output_type": "stream",
     "text": [
      "Available Vehicles:\n",
      "Car: 10\n",
      "Motorcycle: 15\n",
      "Bicycle: 20\n",
      "\n",
      "Guliver rented 9 Car(s).\n",
      "Available Vehicles:\n",
      "Car: 1\n",
      "Motorcycle: 15\n",
      "Bicycle: 20\n",
      "\n",
      "Guliver returned 3 Car(s).\n",
      "Available Vehicles:\n",
      "Car: 4\n",
      "Motorcycle: 15\n",
      "Bicycle: 20\n"
     ]
    }
   ],
   "source": [
    "class VehicleRentalSystem:\n",
    "    \n",
    "    # Constructor\n",
    "    def __init__(self, username):\n",
    "        self.available_vehicles = {\n",
    "            'Car': 10,\n",
    "            'Motorcycle': 15,\n",
    "            'Bicycle': 20,\n",
    "        }\n",
    "        self.rented_vehicles = {\n",
    "            'Car': 0,\n",
    "            'Motorcycle': 0,\n",
    "            'Bicycle': 0,\n",
    "        }\n",
    "        self.username = username\n",
    "\n",
    "    def rent_vehicle(self, vehicle_type, quantity):\n",
    "        if vehicle_type in self.available_vehicles and quantity <= self.available_vehicles[vehicle_type]:\n",
    "            self.available_vehicles[vehicle_type] -= quantity\n",
    "            self.rented_vehicles[vehicle_type] += quantity\n",
    "            print(f\"{self.username} rented {quantity} {vehicle_type}(s).\")\n",
    "        else:\n",
    "            print(f\"Sorry, {quantity} {vehicle_type}(s) not available for rent.\")\n",
    "\n",
    "    def return_vehicle(self, vehicle_type, quantity):\n",
    "        if vehicle_type in self.rented_vehicles and quantity <= self.rented_vehicles[vehicle_type]:\n",
    "            self.available_vehicles[vehicle_type] += quantity\n",
    "            self.rented_vehicles[vehicle_type] -= quantity\n",
    "            print(f\"{self.username} returned {quantity} {vehicle_type}(s).\")\n",
    "        else:\n",
    "            print(\"Invalid return request.\")\n",
    "\n",
    "    def display_available_vehicles(self):\n",
    "        print(\"Available Vehicles:\")\n",
    "        for vehicle_type, quantity in self.available_vehicles.items():\n",
    "            print(f\"{vehicle_type}: {quantity}\")\n",
    "\n",
    "# Create an instance of Vehicle Rental System\n",
    "Guliver = VehicleRentalSystem('Guliver')\n",
    "Guliver.display_available_vehicles()\n",
    "print()\n",
    "Guliver.rent_vehicle('Car', 9)\n",
    "Guliver.display_available_vehicles()\n",
    "print()\n",
    "Guliver.return_vehicle('Car', 3)\n",
    "Guliver.display_available_vehicles()"
   ]
  },
  {
   "cell_type": "markdown",
   "id": "08a2d7d8-79fe-4b3e-be48-70e6ba0decc3",
   "metadata": {},
   "source": [
    "### Problem 4: Library Catalog Create classes representing a library and a book. Implement methods to add books to the library, borrow books, and display available books."
   ]
  },
  {
   "cell_type": "code",
   "execution_count": 4,
   "id": "e6b074eb-f01e-4015-af39-736fa497fb1e",
   "metadata": {},
   "outputs": [
    {
     "name": "stdout",
     "output_type": "stream",
     "text": [
      "Added 3 units of 'To Kill a Mockingbird' to the library catalog.\n",
      "Added 5 units of '1984' to the library catalog.\n",
      "\n",
      "Available Books:\n",
      "Book ID: 101, Title: 'To Kill a Mockingbird', Author: Harper Lee, Quantity: 3\n",
      "Book ID: 102, Title: '1984', Author: George Orwell, Quantity: 5\n",
      "\n",
      "Borrowed: '1984' (ID: 102) (Qtn. 2)\n",
      "\n",
      "Available Books:\n",
      "Book ID: 101, Title: 'To Kill a Mockingbird', Author: Harper Lee, Quantity: 3\n",
      "Book ID: 102, Title: '1984', Author: George Orwell, Quantity: 3\n",
      "\n",
      "Added 10 more units of 'To Kill a Mockingbird' in the library catalog.\n",
      "\n",
      "Available Books:\n",
      "Book ID: 101, Title: 'To Kill a Mockingbird', Author: Harper Lee, Quantity: 13\n",
      "Book ID: 102, Title: '1984', Author: George Orwell, Quantity: 3\n"
     ]
    }
   ],
   "source": [
    "# Book class\n",
    "class Book:\n",
    "    \n",
    "    # Constructor\n",
    "    def __init__(self, book_id, title, author):\n",
    "        self.book_id = book_id\n",
    "        self.title = title\n",
    "        self.author = author\n",
    "\n",
    "# Another class for Library Catalog\n",
    "class LibraryCatalog:\n",
    "    def __init__(self):\n",
    "        self.books = {}\n",
    "\n",
    "    def add_book(self, book, quantity):\n",
    "        if book.book_id not in self.books:\n",
    "            self.books[book.book_id] = book\n",
    "            self.books[book.book_id].quantity = quantity\n",
    "            print(f\"Added {quantity} units of '{book.title}' to the library catalog.\")\n",
    "        else:\n",
    "            self.books[book.book_id].quantity += quantity\n",
    "            print(f\"Added {quantity} more units of '{book.title}' in the library catalog.\")\n",
    "\n",
    "    def borrow_books(self, book_id, quantity):\n",
    "        if book_id in self.books and quantity <= self.books[book_id].quantity:\n",
    "            book = self.books[book_id]\n",
    "            book.quantity -= quantity\n",
    "            print(f\"Borrowed: '{book.title}' (ID: {book_id}) (Qtn. {quantity})\")\n",
    "        else:\n",
    "            print(\"Book not found in the library catalog.\")\n",
    "\n",
    "    def display_available_books(self):\n",
    "        print(\"Available Books:\")\n",
    "        for book_id, book in self.books.items():\n",
    "            print(f\"Book ID: {book_id}, Title: '{book.title}', Author: {book.author}, Quantity: {book.quantity}\")\n",
    "\n",
    "# Create an instance of Library Catalog\n",
    "library_catalog = LibraryCatalog()\n",
    "\n",
    "# Add books to the library catalog\n",
    "book1 = Book(101, \"To Kill a Mockingbird\", \"Harper Lee\")\n",
    "book2 = Book(102, \"1984\", \"George Orwell\")\n",
    "library_catalog.add_book(book1, 3)\n",
    "library_catalog.add_book(book2, 5)\n",
    "\n",
    "print()\n",
    "\n",
    "# Display Available Books\n",
    "library_catalog.display_available_books()\n",
    "\n",
    "print()\n",
    "\n",
    "# Borrow books\n",
    "library_catalog.borrow_books(102, 2)\n",
    "\n",
    "print()\n",
    "\n",
    "# Display Available Books\n",
    "library_catalog.display_available_books()\n",
    "\n",
    "print()\n",
    "\n",
    "# Add book1 again\n",
    "library_catalog.add_book(book1, 10)\n",
    "\n",
    "print()\n",
    "\n",
    "# Display Available Books\n",
    "library_catalog.display_available_books()"
   ]
  },
  {
   "cell_type": "markdown",
   "id": "91810279-c609-4cbc-9069-6be8e6b57cba",
   "metadata": {},
   "source": [
    "### Problem 5: Product Inventory Create classes representing a product and an inventory system. Implement methods to add products to the inventory, update product quantity, and display available products."
   ]
  },
  {
   "cell_type": "code",
   "execution_count": 5,
   "id": "3b2e06b7-b792-4993-8326-142e2cb416e3",
   "metadata": {},
   "outputs": [
    {
     "name": "stdout",
     "output_type": "stream",
     "text": [
      "Added 5 units of Laptop to the inventory.\n",
      "Added 10 units of Smartphone to the inventory.\n",
      "\n",
      "Available Products:\n",
      "Product ID: 1, Name: Laptop, Price: ₹40000.00, Quantity: 5\n",
      "Product ID: 2, Name: Smartphone, Price: ₹25000.00, Quantity: 10\n",
      "\n",
      "Updated the quantity of Laptop to 3.\n",
      "\n",
      "Available Products:\n",
      "Product ID: 1, Name: Laptop, Price: ₹40000.00, Quantity: 3\n",
      "Product ID: 2, Name: Smartphone, Price: ₹25000.00, Quantity: 10\n",
      "\n",
      "Added 8 units of Tablet to the inventory.\n",
      "\n",
      "Available Products:\n",
      "Product ID: 1, Name: Laptop, Price: ₹40000.00, Quantity: 3\n",
      "Product ID: 2, Name: Smartphone, Price: ₹25000.00, Quantity: 10\n",
      "Product ID: 3, Name: Tablet, Price: ₹30000.00, Quantity: 8\n"
     ]
    }
   ],
   "source": [
    "# Product class\n",
    "class Product:\n",
    "    def __init__(self, product_id, name, price):\n",
    "        self.product_id = product_id\n",
    "        self.name = name\n",
    "        self.price = price\n",
    "\n",
    "# Another class for Inventory System\n",
    "class InventorySystem:\n",
    "    \n",
    "    # Constructor\n",
    "    def __init__(self):\n",
    "        self.inventory = {}\n",
    "\n",
    "    def add_product(self, product, quantity):\n",
    "        if product.product_id not in self.inventory:\n",
    "            self.inventory[product.product_id] = product\n",
    "            self.inventory[product.product_id].quantity = quantity\n",
    "            print(f\"Added {quantity} units of {product.name} to the inventory.\")\n",
    "        else:\n",
    "            self.inventory[product.product_id].quantity += quantity\n",
    "            print(f\"Updated the quantity of {product.name} in the inventory.\")\n",
    "\n",
    "    def update_quantity(self, product_id, new_quantity):\n",
    "        if product_id in self.inventory:\n",
    "            self.inventory[product_id].quantity = new_quantity\n",
    "            print(f\"Updated the quantity of {self.inventory[product_id].name} to {new_quantity}.\")\n",
    "        else:\n",
    "            print(\"Product not found in the inventory.\")\n",
    "\n",
    "    def display_available_products(self):\n",
    "        print(\"Available Products:\")\n",
    "        for product_id, product in self.inventory.items():\n",
    "            print(f\"Product ID: {product_id}, Name: {product.name}, Price: ₹{product.price:.2f}, Quantity: {product.quantity}\")\n",
    "\n",
    "# Create an instance of Inventory System\n",
    "inventory_system = InventorySystem()\n",
    "\n",
    "# Add products to the inventory\n",
    "product1 = Product(1, \"Laptop\", 40000)\n",
    "product2 = Product(2, \"Smartphone\", 25000)\n",
    "product3 = Product(3, \"Tablet\", 30000)\n",
    "\n",
    "inventory_system.add_product(product1, 5)\n",
    "inventory_system.add_product(product2, 10)\n",
    "print()\n",
    "# Print available products in the inventory\n",
    "inventory_system.display_available_products()\n",
    "print()\n",
    "# Update quantities of product1\n",
    "inventory_system.update_quantity(1, 3)\n",
    "print()\n",
    "inventory_system.display_available_products()\n",
    "print()\n",
    "# Add product3 to the inventory \n",
    "inventory_system.add_product(product3, 8)\n",
    "print()\n",
    "inventory_system.display_available_products()"
   ]
  },
  {
   "cell_type": "markdown",
   "id": "193ba7da-2783-4767-9288-61e7811cbeba",
   "metadata": {},
   "source": [
    "### Problem 6: Shape Calculation Create a class representing a shape with attributes like length, width, and height. Implement methods to calculate the area and perimeter of the shape."
   ]
  },
  {
   "cell_type": "code",
   "execution_count": 6,
   "id": "0d806e43-f586-4946-a39d-595bf04cd53e",
   "metadata": {},
   "outputs": [
    {
     "name": "stdout",
     "output_type": "stream",
     "text": [
      "30\n",
      "22\n",
      "6\n",
      "10\n"
     ]
    }
   ],
   "source": [
    "class Rectangle:\n",
    "    \n",
    "    # Constructor\n",
    "    def __init__(self, l, w):\n",
    "        self.length = l\n",
    "        self.width = w\n",
    "        \n",
    "    def calculate_area(self):\n",
    "        return self.length * self.width\n",
    "        \n",
    "    def calculate_perimeter(self):\n",
    "        return 2*self.length + 2*self.width\n",
    "\n",
    "# First object of Rectangle\n",
    "obj1 = Rectangle(5,6)\n",
    "print(obj1.calculate_area())\n",
    "print(obj1.calculate_perimeter())\n",
    "\n",
    "# Second object of Rectangle\n",
    "obj2 = Rectangle(2,3)\n",
    "print(obj2.calculate_area())\n",
    "print(obj2.calculate_perimeter())"
   ]
  },
  {
   "cell_type": "markdown",
   "id": "e3230e80-b77d-4e15-b04a-8410cb00f692",
   "metadata": {},
   "source": [
    "Problem 7: Student Management Create a class representing a student with attributes like student ID, name, and grades. Implement methods to calculate the average grade and display student details."
   ]
  },
  {
   "cell_type": "code",
   "execution_count": 7,
   "id": "d526ebdb-edee-4f7b-a08f-383a866455ff",
   "metadata": {},
   "outputs": [
    {
     "name": "stdout",
     "output_type": "stream",
     "text": [
      "Average grade of Guliver : 85.0\n",
      "Student ID: 101\n",
      "Name: Guliver\n",
      "Grades: 85, 92, 78\n",
      "\n",
      "Average grade of Thomas : 91.33333333333333\n",
      "Student ID: 102\n",
      "Name: Thomas\n",
      "Grades: 92, 88, 94\n"
     ]
    }
   ],
   "source": [
    "class Student:\n",
    "    \n",
    "    # Constructor\n",
    "    def __init__(self, student_id, name):\n",
    "        self.student_id = student_id\n",
    "        self.name = name\n",
    "        self.grades = []\n",
    "\n",
    "    def add_grade(self, grade):\n",
    "        self.grades.append(grade)\n",
    "\n",
    "    def calculate_average_grade(self):\n",
    "        if not self.grades:\n",
    "            return 0\n",
    "        total = sum(self.grades)\n",
    "        return total / len(self.grades)\n",
    "\n",
    "    def display_student_details(self):\n",
    "        print(\"Student ID:\", self.student_id)\n",
    "        print(\"Name:\", self.name)\n",
    "        if self.grades:\n",
    "            print(\"Grades:\", \", \".join(map(str, self.grades)))\n",
    "        else:\n",
    "            print(\"No grades available for this student.\")\n",
    "\n",
    "# Create an instance of Student:\n",
    "student1 = Student(101, \"Guliver\")\n",
    "student1.add_grade(85)\n",
    "student1.add_grade(92)\n",
    "student1.add_grade(78)\n",
    "\n",
    "# Calculate student average grade and print\n",
    "print(f\"Average grade of {student1.name} :\", student1.calculate_average_grade())\n",
    "# Display student details\n",
    "student1.display_student_details()\n",
    "\n",
    "print()\n",
    "\n",
    "# Create another instance of Student:\n",
    "student2 = Student(102, \"Thomas\")\n",
    "student2.add_grade(92)\n",
    "student2.add_grade(88)\n",
    "student2.add_grade(94)\n",
    "\n",
    "# Calculate student average grade and print\n",
    "print(f\"Average grade of {student2.name} :\",student2.calculate_average_grade())\n",
    "# Display student details\n",
    "student2.display_student_details()"
   ]
  },
  {
   "cell_type": "markdown",
   "id": "40d24009-66a9-49f8-92c2-0d4ab7da52e6",
   "metadata": {},
   "source": [
    "### Problem 8: Email Management Create a class representing an email with attributes like sender, recipient, and subject. Implement methods to send an email and display email details."
   ]
  },
  {
   "cell_type": "code",
   "execution_count": 8,
   "id": "82b81f6d-08ab-4643-91a9-0762b409ae6d",
   "metadata": {},
   "outputs": [
    {
     "name": "stdout",
     "output_type": "stream",
     "text": [
      "Sending Email...\n",
      "Email sent successfully.\n",
      "\n",
      "Email Details:\n",
      "From: sender@example.com\n",
      "To: recipient@example.com\n",
      "Subject: Hello\n",
      "Message:\n",
      "This is a test email.\n",
      "\n",
      "Sending Email...\n",
      "Email sent successfully.\n",
      "\n",
      "Email Details:\n",
      "From: sender2@example.com\n",
      "To: recipient@example.com\n",
      "Subject: Greetings\n",
      "Message:\n",
      "Another test email.\n"
     ]
    }
   ],
   "source": [
    "import time\n",
    "class Email:\n",
    "    \n",
    "    # Constructor\n",
    "    def __init__(self, sender, recipient, subject, message):\n",
    "        self.sender = sender\n",
    "        self.recipient = recipient\n",
    "        self.subject = subject\n",
    "        self.message = message\n",
    "\n",
    "    def send_email(self):\n",
    "        \n",
    "        # Simulate sending the email (we would replace this with actual email sending code)\n",
    "        print(\"Sending Email...\")\n",
    "        time.sleep(2)  # Delay of 2 seconds\n",
    "        print(\"Email sent successfully.\\n\")\n",
    "        \n",
    "\n",
    "    def display_email_details(self):\n",
    "        print(\"Email Details:\")\n",
    "        print(\"From:\", self.sender)\n",
    "        print(\"To:\", self.recipient)\n",
    "        print(\"Subject:\", self.subject)\n",
    "        print(\"Message:\")\n",
    "        print(self.message)\n",
    "\n",
    "# Example usage:\n",
    "email1 = Email(\"sender@example.com\", \"recipient@example.com\", \"Hello\", \"This is a test email.\")\n",
    "email1.send_email()\n",
    "email1.display_email_details()\n",
    "\n",
    "# Delay of 2 seconds\n",
    "time.sleep(2)\n",
    "\n",
    "print()\n",
    "\n",
    "email2 = Email(\"sender2@example.com\", \"recipient@example.com\", \"Greetings\", \"Another test email.\")\n",
    "email2.send_email()\n",
    "email2.display_email_details()"
   ]
  },
  {
   "cell_type": "markdown",
   "id": "6d0905ec-ce7d-43f3-9a94-15892842fa9f",
   "metadata": {},
   "source": [
    "### Problem 9: Social Media Profile Create a class representing a social media profile with attributes like username and posts. Implement methods to add posts, display posts, and search for posts by keyword."
   ]
  },
  {
   "cell_type": "code",
   "execution_count": 9,
   "id": "995fa272-91df-41cc-87e4-899d90cde63f",
   "metadata": {},
   "outputs": [
    {
     "name": "stdout",
     "output_type": "stream",
     "text": [
      "GP's Posts:\n",
      "1. Enjoying a sunny day at the beach.\n",
      "2. We’ve got amazing news\n",
      "3. Just had an amazing dinner at my favorite restaurant!\n",
      "\n",
      "GP's Posts containing 'amazing':\n",
      "1. We’ve got amazing news\n",
      "2. Just had an amazing dinner at my favorite restaurant!\n"
     ]
    }
   ],
   "source": [
    "class SocialMediaProfile:\n",
    "    \n",
    "    # Constructor\n",
    "    def __init__(self, username):\n",
    "        self.username = username\n",
    "        self.posts = []\n",
    "\n",
    "    def add_post(self, post_text):\n",
    "        self.posts.append(post_text)\n",
    "\n",
    "    def display_posts(self):\n",
    "        if not self.posts:\n",
    "            print(f\"{self.username} has no posts.\")\n",
    "        else:\n",
    "            print(f\"{self.username}'s Posts:\")\n",
    "            for i, post in enumerate(self.posts, start=1):\n",
    "                print(f\"{i}. {post}\")\n",
    "\n",
    "    def search_posts(self, keyword):\n",
    "        matching_posts = [post for post in self.posts if keyword in post]\n",
    "        if self.posts:\n",
    "            if not matching_posts:\n",
    "                print(f\"No posts by {self.username} contain the keyword '{keyword}'.\")\n",
    "            else:\n",
    "                print(f\"{self.username}'s Posts containing '{keyword}':\")\n",
    "                for i, post in enumerate(matching_posts, start=1):\n",
    "                    print(f\"{i}. {post}\")\n",
    "\n",
    "# Create an instance of Social Media Profile\n",
    "Guliver = SocialMediaProfile(\"GP\")\n",
    "\n",
    "# Add posts\n",
    "Guliver.add_post(\"Enjoying a sunny day at the beach.\")\n",
    "Guliver.add_post(\"We’ve got amazing news\")\n",
    "Guliver.add_post(\"Just had an amazing dinner at my favorite restaurant!\")\n",
    "\n",
    "# Display posts\n",
    "Guliver.display_posts()\n",
    "\n",
    "print()\n",
    "\n",
    "# Search for posts\n",
    "Guliver.search_posts(\"amazing\")"
   ]
  },
  {
   "cell_type": "markdown",
   "id": "37f2b96f-49b3-40ba-ac57-ac601f545b74",
   "metadata": {},
   "source": [
    "### Problem 10: ToDo List Create a class representing a ToDo list with attributes like tasks and due dates. Implement methods to add tasks, mark tasks as completed, and display pending tasks."
   ]
  },
  {
   "cell_type": "code",
   "execution_count": 10,
   "id": "a2e68889-6b62-4778-8e00-34067af37680",
   "metadata": {},
   "outputs": [
    {
     "name": "stdout",
     "output_type": "stream",
     "text": [
      "Pending Tasks:\n",
      "Task: Complete project report (Due Date: 2023-09-30)\n",
      "Task: Buy groceries (Due Date: 2023-09-15)\n",
      "Task: Call client (Due Date: 2023-09-20)\n",
      "\n",
      "Task 'Buy groceries' marked as completed.\n",
      "\n",
      "Pending Tasks:\n",
      "Task: Complete project report (Due Date: 2023-09-30)\n",
      "Task: Call client (Due Date: 2023-09-20)\n"
     ]
    }
   ],
   "source": [
    "class ToDoList:\n",
    "    # Constructor to initialize an empty dictionary to store the tasks\n",
    "    def __init__(self):\n",
    "        self.tasks = {}  # A dictionary to store tasks and their due dates\n",
    "\n",
    "    def add_task(self, task, due_date):\n",
    "        self.tasks[task] = due_date\n",
    "\n",
    "    def mark_completed(self, task):\n",
    "        if task in self.tasks:\n",
    "            del self.tasks[task]\n",
    "            print(f\"Task '{task}' marked as completed.\")\n",
    "        else:\n",
    "            print(f\"Task '{task}' not found in the ToDo list.\")\n",
    "\n",
    "    def display_pending_tasks(self):\n",
    "        if not self.tasks:\n",
    "            print(\"No pending tasks in the ToDo list.\")\n",
    "        else:\n",
    "            print(\"Pending Tasks:\")\n",
    "            for task, due_date in self.tasks.items():\n",
    "                print(f\"Task: {task} (Due Date: {due_date})\")\n",
    "\n",
    "# Create an instance of the class\n",
    "Guliver = ToDoList()\n",
    "\n",
    "# Add tasks\n",
    "Guliver.add_task(\"Complete project report\", \"2023-09-30\")\n",
    "Guliver.add_task(\"Buy groceries\", \"2023-09-15\")\n",
    "Guliver.add_task(\"Call client\", \"2023-09-20\")\n",
    "\n",
    "# Display pending tasks\n",
    "Guliver.display_pending_tasks()\n",
    "\n",
    "print()\n",
    "# Mark a task as completed\n",
    "Guliver.mark_completed(\"Buy groceries\")\n",
    "\n",
    "print()\n",
    "# Display pending tasks again\n",
    "Guliver.display_pending_tasks()"
   ]
  },
  {
   "cell_type": "code",
   "execution_count": null,
   "id": "3696c89d-2084-416e-acbd-1f310b8280b9",
   "metadata": {},
   "outputs": [],
   "source": []
  }
 ],
 "metadata": {
  "kernelspec": {
   "display_name": "Python 3 (ipykernel)",
   "language": "python",
   "name": "python3"
  },
  "language_info": {
   "codemirror_mode": {
    "name": "ipython",
    "version": 3
   },
   "file_extension": ".py",
   "mimetype": "text/x-python",
   "name": "python",
   "nbconvert_exporter": "python",
   "pygments_lexer": "ipython3",
   "version": "3.10.8"
  }
 },
 "nbformat": 4,
 "nbformat_minor": 5
}
