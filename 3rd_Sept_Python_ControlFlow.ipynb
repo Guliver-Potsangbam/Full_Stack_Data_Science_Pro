{
 "cells": [
  {
   "cell_type": "markdown",
   "id": "e9774ea4-ee60-463d-904f-df4400811292",
   "metadata": {},
   "source": [
    "# Basic If-Else Statements:"
   ]
  },
  {
   "cell_type": "markdown",
   "id": "e78abfac-bcda-4565-bf58-8304efbe79b0",
   "metadata": {},
   "source": [
    "1. Write a Python program to check if a given number is positive or negative.\n"
   ]
  },
  {
   "cell_type": "code",
   "execution_count": 1,
   "id": "a7e13ab3-1bce-480a-85aa-dc919b6fa6e5",
   "metadata": {},
   "outputs": [
    {
     "name": "stdout",
     "output_type": "stream",
     "text": [
      "Negative\n"
     ]
    }
   ],
   "source": [
    "n = -8\n",
    "\n",
    "if n>0:\n",
    "    print(\"Positive\")\n",
    "elif n<0:\n",
    "    print(\"Negative\")\n",
    "else:\n",
    "    print(\"It is Zero\")"
   ]
  },
  {
   "cell_type": "markdown",
   "id": "0cb4c6b0-b509-4233-b032-2c4d8757d177",
   "metadata": {},
   "source": [
    "2. Create a program that determines if a person is eligible to vote based on their age.\n"
   ]
  },
  {
   "cell_type": "code",
   "execution_count": 2,
   "id": "d2c1b93b-c984-4975-aa64-df76108d3792",
   "metadata": {},
   "outputs": [
    {
     "name": "stdout",
     "output_type": "stream",
     "text": [
      "He is not eligible to vote yet.\n"
     ]
    }
   ],
   "source": [
    "age = 17\n",
    "\n",
    "# Check if the person is eligible to vote\n",
    "if age >= 18:\n",
    "    print(\"He is eligible to vote.\")\n",
    "else:\n",
    "    print(\"He is not eligible to vote yet.\")"
   ]
  },
  {
   "cell_type": "markdown",
   "id": "68f92946-d9fa-4ab5-be74-4f4241cad239",
   "metadata": {},
   "source": [
    "3. Develop a program to find the maximum of two numbers using if-else statements.\n"
   ]
  },
  {
   "cell_type": "code",
   "execution_count": 3,
   "id": "f626df4b-a0bc-4f6f-99f2-98672d153e8d",
   "metadata": {},
   "outputs": [
    {
     "name": "stdout",
     "output_type": "stream",
     "text": [
      "b is greater than a\n"
     ]
    }
   ],
   "source": [
    "a, b = 6, 7\n",
    "\n",
    "if a > b:\n",
    "    print(\"a is greater than b\")\n",
    "else:\n",
    "    print(\"b is greater than a\")"
   ]
  },
  {
   "cell_type": "markdown",
   "id": "abec87e5-9037-4976-bb26-fccaf15bd612",
   "metadata": {},
   "source": [
    "4. Write a Python script to classify a given year as a leap year or not.\n"
   ]
  },
  {
   "cell_type": "code",
   "execution_count": 4,
   "id": "7346216a-a438-4565-aba5-0acb69d7366a",
   "metadata": {},
   "outputs": [
    {
     "name": "stdout",
     "output_type": "stream",
     "text": [
      "The given year is a leap year\n"
     ]
    }
   ],
   "source": [
    "year = 2020\n",
    "\n",
    "if (year % 4 == 0 and year % 100 != 0) or (year % 400 == 0):\n",
    "    print(\"The given year is a leap year\")\n",
    "else:\n",
    "    print(\"The given year is not a leaf year\")"
   ]
  },
  {
   "cell_type": "markdown",
   "id": "a82b2a64-5cf5-419b-bead-ea455b6cecc6",
   "metadata": {},
   "source": [
    "5. Create a program that checks whether a character is a vowel or a consonant.\n"
   ]
  },
  {
   "cell_type": "code",
   "execution_count": 5,
   "id": "ded5e67c-5237-4669-bc0a-11fe5fe5404d",
   "metadata": {},
   "outputs": [
    {
     "name": "stdout",
     "output_type": "stream",
     "text": [
      "The character is a vowel\n"
     ]
    }
   ],
   "source": [
    "char = 'e'\n",
    "\n",
    "vowels = \"aeiou\"\n",
    "\n",
    "if char.lower() in vowels:\n",
    "    print(\"The character is a vowel\")\n",
    "else:\n",
    "    print(\"The character is a consonant\")"
   ]
  },
  {
   "cell_type": "markdown",
   "id": "f9d1626e-e755-4e72-8896-fb1f6247ed8d",
   "metadata": {},
   "source": [
    "6. Implement a program to determine whether a given number is even or odd.\n"
   ]
  },
  {
   "cell_type": "code",
   "execution_count": 6,
   "id": "2ca0ab90-779c-464e-bb96-c09377a1381e",
   "metadata": {},
   "outputs": [
    {
     "name": "stdout",
     "output_type": "stream",
     "text": [
      "The given number is even\n"
     ]
    }
   ],
   "source": [
    "num = 24\n",
    "\n",
    "if num % 2 == 0:\n",
    "    print(\"The given number is even\")\n",
    "else:\n",
    "    print(\"The given number is odd\")"
   ]
  },
  {
   "cell_type": "markdown",
   "id": "16ef803a-8493-4f06-a870-c88ad37ba8e7",
   "metadata": {},
   "source": [
    "7. Write a Python function to calculate the absolute value of a number without using the `abs()` function.\n"
   ]
  },
  {
   "cell_type": "code",
   "execution_count": 7,
   "id": "0edf5f0f-66f6-4931-ac3a-2ce3e7fa785b",
   "metadata": {},
   "outputs": [
    {
     "name": "stdout",
     "output_type": "stream",
     "text": [
      "25\n"
     ]
    }
   ],
   "source": [
    "def absolute_value(num):\n",
    "    if num >= 0:\n",
    "        return num\n",
    "    else:\n",
    "        return -num\n",
    "\n",
    "# Example number\n",
    "number = -25\n",
    "\n",
    "print(absolute_value(number))\n"
   ]
  },
  {
   "cell_type": "markdown",
   "id": "05394b62-e3fd-44fa-a0ca-858cfb95cdfd",
   "metadata": {},
   "source": [
    "8. Develop a program that determines the largest of three given numbers using if-else statements.\n"
   ]
  },
  {
   "cell_type": "code",
   "execution_count": 8,
   "id": "0d6c3daf-7dca-425c-8310-c6f9c58b50c6",
   "metadata": {},
   "outputs": [
    {
     "name": "stdout",
     "output_type": "stream",
     "text": [
      "Greatest : 5\n"
     ]
    }
   ],
   "source": [
    "num1 = 4\n",
    "num2 = 5\n",
    "num3 = 1\n",
    "\n",
    "if num1>=num2 and num1>=num3:\n",
    "    print(\"Greatest :\", num1)\n",
    "elif num2>=num1 and num2>=num3:\n",
    "    print(\"Greatest :\", num2)\n",
    "else:\n",
    "    print(\"Greatest :\", num3)"
   ]
  },
  {
   "cell_type": "markdown",
   "id": "44e80045-bf98-4ef3-b113-208752c23c6a",
   "metadata": {},
   "source": [
    "9. Create a program that checks if a given string is a palindrome.\n"
   ]
  },
  {
   "cell_type": "code",
   "execution_count": 9,
   "id": "dc10a997-5e2b-4dad-a931-5346f96cb8f8",
   "metadata": {},
   "outputs": [
    {
     "name": "stdout",
     "output_type": "stream",
     "text": [
      "It is a palindrome\n"
     ]
    }
   ],
   "source": [
    "s = \"Rotator\"\n",
    "\n",
    "if s.lower() == s.lower()[::-1]:\n",
    "    print(\"It is a palindrome\")\n",
    "else:\n",
    "    print(\"It is not a palindrome\")"
   ]
  },
  {
   "cell_type": "markdown",
   "id": "d068df8c-a0ab-4df5-b1a1-3aa7d4a8f89e",
   "metadata": {},
   "source": [
    "10. Write a Python program to calculate the grade based on a student's score.\n"
   ]
  },
  {
   "cell_type": "code",
   "execution_count": 10,
   "id": "0d90ab90-1120-4186-8ec6-0afb127467fe",
   "metadata": {},
   "outputs": [
    {
     "name": "stdout",
     "output_type": "stream",
     "text": [
      "The student's grade is: B\n"
     ]
    }
   ],
   "source": [
    "# Student's score\n",
    "score = 80.56\n",
    "\n",
    "# Define the grading scale\n",
    "A_score = 90\n",
    "B_score = 80\n",
    "C_score = 70\n",
    "D_score = 60\n",
    "\n",
    "# Determine the grade based on the score using if-elif-else statements\n",
    "if score >= A_score:\n",
    "    grade = 'A'\n",
    "elif score >= B_score:\n",
    "    grade = 'B'\n",
    "elif score >= C_score:\n",
    "    grade = 'C'\n",
    "elif score >= D_score:\n",
    "    grade = 'D'\n",
    "else:\n",
    "    grade = 'F'\n",
    "\n",
    "# Print the calculated grade\n",
    "print(f\"The student's grade is: {grade}\")"
   ]
  },
  {
   "cell_type": "markdown",
   "id": "57fd4616-5921-4f33-9647-754dc18a6087",
   "metadata": {},
   "source": [
    "# Nested If-Else Statements:"
   ]
  },
  {
   "cell_type": "markdown",
   "id": "728a2c3c-e5e3-46e6-9042-98c9ebb0464c",
   "metadata": {},
   "source": [
    "11. Write a program to find the largest among three numbers using nested if-else statements.\n"
   ]
  },
  {
   "cell_type": "code",
   "execution_count": 11,
   "id": "8a54f32d-5d48-483a-8179-f96ed41b0f42",
   "metadata": {},
   "outputs": [
    {
     "name": "stdout",
     "output_type": "stream",
     "text": [
      "The largest number is: 4\n"
     ]
    }
   ],
   "source": [
    "# Example three numbers\n",
    "num1 = 2\n",
    "num2 = 3\n",
    "num3 = 4\n",
    "\n",
    "# Determine the largest number using nested if-else statements\n",
    "if num1 >= num2:\n",
    "    if num1 >= num3:\n",
    "        largest = num1\n",
    "    else:\n",
    "        largest = num3\n",
    "else:\n",
    "    if num2 >= num3:\n",
    "        largest = num2\n",
    "    else:\n",
    "        largest = num3\n",
    "\n",
    "# Print the largest number\n",
    "print(f\"The largest number is: {largest}\")"
   ]
  },
  {
   "cell_type": "markdown",
   "id": "80038982-120e-40e1-88e6-b9e1f38b37ed",
   "metadata": {},
   "source": [
    "12. Implement a program to determine if a triangle is equilateral, isosceles, or scalene.\n"
   ]
  },
  {
   "cell_type": "code",
   "execution_count": 12,
   "id": "162f1cd4-5106-4d97-b335-6f50c206a625",
   "metadata": {},
   "outputs": [
    {
     "name": "stdout",
     "output_type": "stream",
     "text": [
      "The triangle is isosceles.\n"
     ]
    }
   ],
   "source": [
    "# lengths of the three sides of the triangle\n",
    "a = 4\n",
    "b = 5\n",
    "c = 4\n",
    "\n",
    "# Check if it's a valid triangle (Triangle Inequality Theorem)\n",
    "if a + a > c and a + c > b and b + c > a:\n",
    "    # Check the type of triangle\n",
    "    if a == b == c:\n",
    "        triangle_type = \"equilateral\"\n",
    "    elif a == b or a == c or b == c:\n",
    "        triangle_type = \"isosceles\"\n",
    "    else:\n",
    "        triangle_type = \"scalene\"\n",
    "    \n",
    "    # Print the type of triangle\n",
    "    print(f\"The triangle is {triangle_type}.\")\n",
    "else:\n",
    "    print(\"Invalid triangle: The sum of the lengths of any two sides must be greater than the length of the third side.\")"
   ]
  },
  {
   "cell_type": "markdown",
   "id": "41d4b133-3fa0-4ad3-aa27-54b7d176fc65",
   "metadata": {},
   "source": [
    "13. Develop a program that checks if a year is a leap year and also if it is a century year.\n"
   ]
  },
  {
   "cell_type": "code",
   "execution_count": 13,
   "id": "fd632e7d-f0eb-445b-81a3-0a0d6f54ced0",
   "metadata": {},
   "outputs": [
    {
     "name": "stdout",
     "output_type": "stream",
     "text": [
      "1800 is not a leap year.\n"
     ]
    }
   ],
   "source": [
    "# Define a year\n",
    "year = 1800\n",
    "\n",
    "# Check if it's a leap year\n",
    "if year % 4 == 0:\n",
    "    is_leap_year = True\n",
    "    if year % 100 == 0:\n",
    "        is_century_year = True\n",
    "        if year % 400 != 0:\n",
    "            is_leap_year = False\n",
    "        else:\n",
    "            is_leap_year = True\n",
    "    else:\n",
    "        is_century_year = False\n",
    "        \n",
    "else:\n",
    "    is_leap_year = False\n",
    "\n",
    "# Determine and print the result\n",
    "if is_leap_year:\n",
    "    if is_century_year:\n",
    "        print(f\"{year} is a leap year and a century year.\")\n",
    "    else:\n",
    "        print(f\"{year} is a leap year but not a century year.\")\n",
    "else:\n",
    "    print(f\"{year} is not a leap year.\")"
   ]
  },
  {
   "cell_type": "markdown",
   "id": "38e47ac0-5e7d-4a38-bcce-f263cff21855",
   "metadata": {},
   "source": [
    "14. Write a Python script to determine if a number is positive, negative, or zero.\n"
   ]
  },
  {
   "cell_type": "code",
   "execution_count": 14,
   "id": "80ef54ac-6763-4759-a054-e969c2b460f9",
   "metadata": {},
   "outputs": [
    {
     "name": "stdout",
     "output_type": "stream",
     "text": [
      "Negative\n"
     ]
    }
   ],
   "source": [
    "num = -3\n",
    "\n",
    "if num >= 0:\n",
    "    if num == 0:\n",
    "        print(\"Zero\")\n",
    "    else:\n",
    "        print(\"Positive\")\n",
    "else:\n",
    "    print(\"Negative\")"
   ]
  },
  {
   "cell_type": "markdown",
   "id": "a77d53b6-2afb-4659-a9eb-6ce3cfc7a4d5",
   "metadata": {},
   "source": [
    "15. Create a program to check if a person is a teenager (between 13 and 19 years old).\n"
   ]
  },
  {
   "cell_type": "code",
   "execution_count": 15,
   "id": "e771b99b-673e-4324-bbd7-175b911fabd2",
   "metadata": {},
   "outputs": [
    {
     "name": "stdout",
     "output_type": "stream",
     "text": [
      "Yes, the person is a teenager\n"
     ]
    }
   ],
   "source": [
    "age = 17\n",
    "\n",
    "if age>13:\n",
    "    if age<19:\n",
    "        print(\"Yes, the person is a teenager\")\n",
    "    else:\n",
    "        print(\"Not a teenager\")\n",
    "else:\n",
    "    print(\"Not a teenager\")"
   ]
  },
  {
   "cell_type": "markdown",
   "id": "c2e476e8-2aa7-44dd-abe9-16e0e04f2b5b",
   "metadata": {},
   "source": [
    "16. Develop a program that determines the type of angle based on its measure (acute, obtuse, or right).\n"
   ]
  },
  {
   "cell_type": "code",
   "execution_count": 16,
   "id": "65f36014-9fb9-494b-8c72-75821eb2dc3f",
   "metadata": {},
   "outputs": [
    {
     "name": "stdout",
     "output_type": "stream",
     "text": [
      "Angle type is acute\n"
     ]
    }
   ],
   "source": [
    "# The angle's measure\n",
    "angle_measure = 85\n",
    "\n",
    "# Determine the type of angle\n",
    "\n",
    "if angle_measure <= 90:\n",
    "    if angle_measure == 90:\n",
    "        print(\"Angle type is right\")\n",
    "    else:\n",
    "        print(\"Angle type is acute\")\n",
    "elif angle_measure > 90 and angle_measure < 180:\n",
    "    print(\"Angle type is obtuse\")\n",
    "else:\n",
    "    print(\"Angle type is neither acute nor obtuse nor right\")"
   ]
  },
  {
   "cell_type": "markdown",
   "id": "66a7e29d-1baa-49cc-9dde-966a5659f056",
   "metadata": {},
   "source": [
    "17. Write a Python program to calculate the roots of a quadratic equation.\n"
   ]
  },
  {
   "cell_type": "markdown",
   "id": "6ba3b2c9-a839-4a24-b171-18ae2c35abe1",
   "metadata": {},
   "source": [
    "The quadratic formula is given by:\n",
    "\n",
    "\\[$\n",
    "x = \\frac{-b \\pm \\sqrt{b^2 - 4ac}}{2a}\n",
    "$\\]\n",
    "\n",
    "Where:\n",
    "- \\(a\\), \\(b\\), and \\(c\\) are the coefficients of the quadratic equation \\(ax^2 + bx + c = 0\\).\n",
    "- \\($\\pm$\\) indicates that there are two possible roots, one with a plus sign and one with a minus sign.\n",
    "- \\($\\sqrt{b^2 - 4ac}$\\) represents the square root of the discriminant."
   ]
  },
  {
   "cell_type": "code",
   "execution_count": 17,
   "id": "5e19ee0e-7c70-492f-b8e4-54e5adfa6f8d",
   "metadata": {},
   "outputs": [
    {
     "name": "stdout",
     "output_type": "stream",
     "text": [
      "Two real and distinct roots: -1.6972243622680054 and -5.302775637731995\n"
     ]
    }
   ],
   "source": [
    "# Solve the quadratic equation ax**2 + bx + c = 0\n",
    "\n",
    "#import math module\n",
    "import math\n",
    "\n",
    "# Coefficients a, b, and c\n",
    "a = 1\n",
    "b = 7\n",
    "c = 9\n",
    "\n",
    "# The coefficient a can't be 0 in quadratic equation\n",
    "if a != 0:\n",
    "    # calculate the discriminant\n",
    "    discriminant = (b**2) - (4*a*c)\n",
    "\n",
    "    # Determine the type and calculate the roots based on the discriminant\n",
    "    if discriminant > 0:\n",
    "        # Two real and distinct roots\n",
    "        root1 = (-b + math.sqrt(discriminant)) / (2*a)\n",
    "        root2 = (-b - math.sqrt(discriminant)) / (2*a)\n",
    "        print(f\"Two real and distinct roots: {root1} and {root2}\")\n",
    "    elif discriminant == 0:\n",
    "        # One real root (a repeated root)\n",
    "        root = -b / (2*a)\n",
    "        print(f\"One real root (a repeated root): {root}\")\n",
    "    else:\n",
    "        # Complex roots\n",
    "        real_part = -b / (2*a)\n",
    "        imaginary_part = math.sqrt(abs(discriminant)) / (2*a)\n",
    "        print(f\"Complex roots: {real_part} + {imaginary_part}i and {real_part} - {imaginary_part}i\")\n",
    "else:\n",
    "    print(\"Invalid quadratic equation\")"
   ]
  },
  {
   "cell_type": "markdown",
   "id": "8f817157-f62c-4f39-802a-50532bcef348",
   "metadata": {},
   "source": [
    "18. Implement a program to determine the day of the week based on a user-provided number (1 for Monday, 2 for Tuesday, etc.)."
   ]
  },
  {
   "cell_type": "code",
   "execution_count": 18,
   "id": "e34cbaaf-b626-4556-8abc-4eff2aaaee9a",
   "metadata": {},
   "outputs": [
    {
     "name": "stdout",
     "output_type": "stream",
     "text": [
      "Wednesday\n"
     ]
    }
   ],
   "source": [
    "day_num = 3\n",
    "\n",
    "if 1 <= day_num <= 7:\n",
    "    if day_num == 1:\n",
    "        print(\"Monday\")\n",
    "    elif day_num == 2:\n",
    "        print(\"Tuesday\")\n",
    "    elif day_num == 3:\n",
    "        print(\"Wednesday\")\n",
    "    elif day_num == 4:\n",
    "        print(\"Thursday\")\n",
    "    elif day_num == 5:\n",
    "        print(\"Friday\")\n",
    "    elif day_num == 6:\n",
    "        print(\"Saturday\")\n",
    "    elif day_num == 7:\n",
    "        print(\"Sunday\")\n",
    "else:\n",
    "    print(\"Invalid number\")"
   ]
  },
  {
   "cell_type": "markdown",
   "id": "fbe0f3c2-527d-412f-a0dd-af378f7e1dd7",
   "metadata": {},
   "source": [
    "19. Create a program that determines if a year is a leap year and also if it is evenly divisible by 400."
   ]
  },
  {
   "cell_type": "code",
   "execution_count": 19,
   "id": "a7c37ef2-9b3c-4546-a214-94588045a89f",
   "metadata": {},
   "outputs": [
    {
     "name": "stdout",
     "output_type": "stream",
     "text": [
      "2000 is a leap year and divisible by 400.\n"
     ]
    }
   ],
   "source": [
    "# Define a year\n",
    "year = 2000\n",
    "\n",
    "# Check if it's a leap year\n",
    "if year % 4 == 0:\n",
    "    # It's divisible by 4\n",
    "    if year % 100 == 0:\n",
    "        # It's also divisible by 100\n",
    "        if year % 400 == 0:\n",
    "            # It's divisible by 400, so it's a leap year\n",
    "            print(f\"{year} is a leap year and divisible by 400.\")\n",
    "        else:\n",
    "            # It's not divisible by 400, so it's not a leap year\n",
    "            print(f\"{year} is not a leap year.\")\n",
    "    else:\n",
    "        # It's divisible by 4 but not by 100, so it's a leap year\n",
    "        print(f\"{year} is a leap year.\")\n",
    "else:\n",
    "    # It's not divisible by 4, so it's not a leap year\n",
    "    print(f\"{year} is not a leap year.\")"
   ]
  },
  {
   "cell_type": "markdown",
   "id": "4d4a57d1-cc68-4d69-80a4-1a0f565d689d",
   "metadata": {},
   "source": [
    "20. Develop a program that checks if a given number is prime or not using nested if-else statements."
   ]
  },
  {
   "cell_type": "code",
   "execution_count": 20,
   "id": "125a8734-7524-4571-907c-930b40eccdab",
   "metadata": {},
   "outputs": [
    {
     "name": "stdout",
     "output_type": "stream",
     "text": [
      "23 is a prime number.\n"
     ]
    }
   ],
   "source": [
    "# Given number\n",
    "num = 23\n",
    "\n",
    "# Check if it's a prime number\n",
    "if num <= 1:\n",
    "    print(f\"{num} is not a prime number.\")\n",
    "else:\n",
    "    is_prime = True\n",
    "    for i in range(2, int(num ** 0.5) + 1):\n",
    "        if num % i == 0:\n",
    "            is_prime = False\n",
    "            break\n",
    "    if is_prime:\n",
    "        print(f\"{num} is a prime number.\")\n",
    "    else:\n",
    "        print(f\"{num} is not a prime number.\")"
   ]
  },
  {
   "cell_type": "markdown",
   "id": "981192f1-86a4-461d-92ff-8fb5d762351e",
   "metadata": {},
   "source": [
    "# Elif Statements:"
   ]
  },
  {
   "cell_type": "markdown",
   "id": "a569588c-6c64-4d27-921e-4374be3a4cd1",
   "metadata": {},
   "source": [
    "21. Write a Python program to assign grades based on different ranges of scores using elif statements.\n"
   ]
  },
  {
   "cell_type": "code",
   "execution_count": 21,
   "id": "e748bec6-dd63-42c4-938a-22af4d127213",
   "metadata": {},
   "outputs": [
    {
     "name": "stdout",
     "output_type": "stream",
     "text": [
      "The student's grade is: B\n"
     ]
    }
   ],
   "source": [
    "# Student's score\n",
    "score = 80.56\n",
    "\n",
    "# Define the grading scale\n",
    "A_score = 90\n",
    "B_score = 80\n",
    "C_score = 70\n",
    "D_score = 60\n",
    "\n",
    "# Determine the grade based on the score using if-elif-else statements\n",
    "if score >= A_score:\n",
    "    grade = 'A'\n",
    "elif score >= B_score:\n",
    "    grade = 'B'\n",
    "elif score >= C_score:\n",
    "    grade = 'C'\n",
    "elif score >= D_score:\n",
    "    grade = 'D'\n",
    "else:\n",
    "    grade = 'F'\n",
    "\n",
    "# Print the calculated grade\n",
    "print(f\"The student's grade is: {grade}\")"
   ]
  },
  {
   "cell_type": "markdown",
   "id": "b9b422ce-3ff1-4ad5-a5f4-d92f04a5b745",
   "metadata": {},
   "source": [
    "22. Implement a program to determine the type of a triangle based on its angles.\n"
   ]
  },
  {
   "cell_type": "code",
   "execution_count": 22,
   "id": "06495846-91b7-4fac-9702-7cd3b2bd359c",
   "metadata": {},
   "outputs": [
    {
     "name": "stdout",
     "output_type": "stream",
     "text": [
      "The triangle type is obtuse.\n"
     ]
    }
   ],
   "source": [
    "# Angles of the triangle\n",
    "a = 60\n",
    "b = 100\n",
    "c = 20\n",
    "\n",
    "# Check if it's a valid triangle (angles add up to 180 degrees)\n",
    "if a + b + c == 180:\n",
    "    # Determine the type of triangle based on the angles\n",
    "    if a < 90 and b < 90 and c < 90:\n",
    "        triangle_type = \"acute\"\n",
    "    elif a == 90 or b == 90 or c ==90:\n",
    "        triangle_type = \"right\"\n",
    "    else:\n",
    "        triangle_type = \"obtuse\"\n",
    "    print(f\"The triangle type is {triangle_type}.\")\n",
    "else:\n",
    "    print(\"Invalid triangle: The sum of the angles must be 180 degrees.\")"
   ]
  },
  {
   "cell_type": "markdown",
   "id": "5ceede10-287c-4633-a09d-5dcb58b0616c",
   "metadata": {},
   "source": [
    "23. Develop a program to categorize a given person's BMI into underweight, normal, overweight, or obese using elif statements.\n"
   ]
  },
  {
   "cell_type": "markdown",
   "id": "646c2bb9-31e3-41b4-b341-dfd8c08b4b73",
   "metadata": {},
   "source": [
    "Note: BMI = weight / (height ** 2)"
   ]
  },
  {
   "cell_type": "code",
   "execution_count": 23,
   "id": "1afd763c-e1f1-4788-a0e6-72810c304232",
   "metadata": {},
   "outputs": [
    {
     "name": "stdout",
     "output_type": "stream",
     "text": [
      "Your BMI is 28.40, which falls into the category of Overweight.\n"
     ]
    }
   ],
   "source": [
    "# Given BMI\n",
    "bmi = 28.4\n",
    "\n",
    "# Determine BMI category\n",
    "if bmi < 18.5:\n",
    "    category = \"Underweight\"\n",
    "elif 18.5 <= bmi <= 24.9:\n",
    "    category = \"Normal Weight\"\n",
    "elif 25 <= bmi <= 29.9:\n",
    "    category = \"Overweight\"\n",
    "else:\n",
    "    category = \"Obese\"\n",
    "\n",
    "# Print the BMI category\n",
    "print(f\"Your BMI is {bmi:.2f}, which falls into the category of {category}.\")"
   ]
  },
  {
   "cell_type": "markdown",
   "id": "0e393f4f-5dd8-4d44-b3b9-b68c1ebef2bc",
   "metadata": {},
   "source": [
    "24. Create a program that determines whether a given number is positive, negative, or zero using elif statements.\n"
   ]
  },
  {
   "cell_type": "code",
   "execution_count": 24,
   "id": "0268ce1f-94b2-4866-8338-aed72c8a06ec",
   "metadata": {},
   "outputs": [
    {
     "name": "stdout",
     "output_type": "stream",
     "text": [
      "Negative\n"
     ]
    }
   ],
   "source": [
    "n = -8\n",
    "\n",
    "if n>0:\n",
    "    print(\"Positive\")\n",
    "elif n<0:\n",
    "    print(\"Negative\")\n",
    "else:\n",
    "    print(\"It is Zero\")"
   ]
  },
  {
   "cell_type": "markdown",
   "id": "a753e397-e929-4b27-87fa-1f0715bd7659",
   "metadata": {},
   "source": [
    "25. Write a Python script to determine the type of a character (uppercase, lowercase, or special) using elif statements.\n"
   ]
  },
  {
   "cell_type": "code",
   "execution_count": 25,
   "id": "b4f97934-585e-4d4a-8d75-4e2709854fd0",
   "metadata": {},
   "outputs": [
    {
     "name": "stdout",
     "output_type": "stream",
     "text": [
      "@ is special\n"
     ]
    }
   ],
   "source": [
    "char = '@'\n",
    "\n",
    "if char.isupper():\n",
    "    print(f\"{char} is uppercase\")\n",
    "elif char.islower():\n",
    "    print(f\"{char} is lowercase\")\n",
    "elif not char.isalnum():\n",
    "    print(f\"{char} is special\")"
   ]
  },
  {
   "cell_type": "markdown",
   "id": "427edf91-15b6-4898-812c-8cdf38d2e991",
   "metadata": {},
   "source": [
    "26. Implement a program to calculate the discounted price based on different purchase amounts using elif statements.\n"
   ]
  },
  {
   "cell_type": "code",
   "execution_count": 26,
   "id": "83dccfff-b1f8-4178-b2bb-c394c834b21b",
   "metadata": {},
   "outputs": [
    {
     "name": "stdout",
     "output_type": "stream",
     "text": [
      "Original Price: $800.00\n",
      "Discounted Price: $720.00\n"
     ]
    }
   ],
   "source": [
    "# The purchase amount\n",
    "purchase_amount = 800\n",
    "\n",
    "# Initialize variables for discount rates\n",
    "discount_rate_1 = 0.05  # 5% discount for purchases between $100 and $499.99\n",
    "discount_rate_2 = 0.1   # 10% discount for purchases between $500 and $999.99\n",
    "discount_rate_3 = 0.15  # 15% discount for purchases of $1000 or more\n",
    "\n",
    "# Calculate the discounted price based on the purchase amount and discount rates\n",
    "if purchase_amount >= 100 and purchase_amount < 500:\n",
    "    discount = purchase_amount * discount_rate_1\n",
    "elif purchase_amount >= 500 and purchase_amount < 1000:\n",
    "    discount = purchase_amount * discount_rate_2\n",
    "elif purchase_amount >= 1000:\n",
    "    discount = purchase_amount * discount_rate_3\n",
    "else:\n",
    "    discount = 0\n",
    "\n",
    "# Calculate the discounted price\n",
    "discounted_price = purchase_amount - discount\n",
    "\n",
    "# Print the discounted price\n",
    "print(f\"Original Price: ${purchase_amount:.2f}\")\n",
    "print(f\"Discounted Price: ${discounted_price:.2f}\")"
   ]
  },
  {
   "cell_type": "markdown",
   "id": "2711e1b9-23d3-45d9-afce-6284d504efde",
   "metadata": {},
   "source": [
    "27. Develop a program to calculate the electricity bill based on different consumption slabs using elif statements.\n"
   ]
  },
  {
   "cell_type": "code",
   "execution_count": 27,
   "id": "741db6eb-ce57-4118-aa39-df9d0633e08e",
   "metadata": {},
   "outputs": [
    {
     "name": "stdin",
     "output_type": "stream",
     "text": [
      "Enter your electricity consumption in kWh:  2400\n"
     ]
    },
    {
     "name": "stdout",
     "output_type": "stream",
     "text": [
      "Your electricity bill is: $465.00\n"
     ]
    }
   ],
   "source": [
    "# Input the electricity consumption in kilowatt-hours (kWh)\n",
    "consumption = float(input(\"Enter your electricity consumption in kWh: \"))\n",
    "\n",
    "# Define the rates for different consumption slabs\n",
    "slab1_rate = 0.10  # Rate for the first 100 kWh\n",
    "slab2_rate = 0.15  # Rate for the next 100 kWh\n",
    "slab3_rate = 0.20  # Rate for the next 100 kWh\n",
    "slab4_rate = 0.20  # Rate for consumption above 300 kWh\n",
    "\n",
    "# Initialize the bill amount\n",
    "bill_amount = 0.0\n",
    "\n",
    "# Calculate the electricity bill based on consumption slabs\n",
    "if consumption <= 100:\n",
    "    bill_amount = consumption * slab1_rate\n",
    "elif consumption <= 200:\n",
    "    bill_amount = (100 * slab1_rate) + ((consumption - 100) * slab2_rate)\n",
    "elif consumption <= 300:\n",
    "    bill_amount = (100 * slab1_rate) + (100 * slab2_rate) + ((consumption - 200) * slab3_rate)    \n",
    "else:\n",
    "    bill_amount = (100 * slab1_rate) + (100 * slab2_rate) + (100 * slab3_rate) + ((consumption - 300) * slab4_rate)\n",
    "\n",
    "# Print the electricity bill\n",
    "print(f\"Your electricity bill is: ${bill_amount:.2f}\")"
   ]
  },
  {
   "cell_type": "markdown",
   "id": "93e79f93-f6fe-4569-a42d-060d327f6c70",
   "metadata": {},
   "source": [
    "28. Create a program to determine the type of quadrilateral based on its angles and sides using elif statements.\n"
   ]
  },
  {
   "cell_type": "code",
   "execution_count": 28,
   "id": "b6bd156c-3199-410a-b38c-a6dd3f452c0a",
   "metadata": {},
   "outputs": [
    {
     "name": "stdout",
     "output_type": "stream",
     "text": [
      "The quadrilateral is Rectangle.\n"
     ]
    }
   ],
   "source": [
    "# The measures of the four angles in degrees\n",
    "angle1 = 90\n",
    "angle2 = 90\n",
    "angle3 = 90\n",
    "angle4 = 90\n",
    "\n",
    "# The lengths of the four sides\n",
    "side1 = 10\n",
    "side2 = 20\n",
    "side3 = 10\n",
    "side4 = 20\n",
    "\n",
    "# All four interior angles add up to 360\n",
    "if angle1 + angle2 + angle3 + angle4 == 360:\n",
    "    # Check the type of quadrilateral using elif statements\n",
    "    if angle1 == angle2 == angle3 == angle4 == 90:\n",
    "        if side1 == side2 == side3 == side4:\n",
    "            quadrilateral_type = \"Square\"\n",
    "        elif side1 == side3 and side2 == side4:\n",
    "            quadrilateral_type = \"Rectangle\"\n",
    "        else:\n",
    "            quadrilateral_type = \"Invalid\"\n",
    "            \n",
    "    elif angle1 == angle3 and angle2 == angle4:\n",
    "        if side1 == side2 == side3 == side4:\n",
    "            quadrilateral_type = \"Rhombus\"\n",
    "        elif side1 == side3 and side2 == side4:\n",
    "            quadrilateral_type = \"Parallelogram\"\n",
    "        else:\n",
    "            quadrilateral_type = \"Invalid\"\n",
    "    else:\n",
    "        quadrilateral_type = \"Quadrilateral\"\n",
    "    \n",
    "    # Print the type of quadrilateral\n",
    "    print(f\"The quadrilateral is {quadrilateral_type}.\")\n",
    "       \n",
    "else:\n",
    "    print(\"Not a valid Quadrilateral\")"
   ]
  },
  {
   "cell_type": "markdown",
   "id": "2f3d8b16-795b-403c-b1a9-cac7b8b13a18",
   "metadata": {},
   "source": [
    "29. Write a Python script to determine the season based on a user-provided month using elif statements.\n"
   ]
  },
  {
   "cell_type": "code",
   "execution_count": 29,
   "id": "67373f44-ac06-4d36-8f0e-56a069bcc323",
   "metadata": {},
   "outputs": [
    {
     "name": "stdin",
     "output_type": "stream",
     "text": [
      "Enter the month (e.g., January, February, etc.):  october\n"
     ]
    },
    {
     "name": "stdout",
     "output_type": "stream",
     "text": [
      "The season in October is Fall.\n"
     ]
    }
   ],
   "source": [
    "# Input the month from the user\n",
    "month = input(\"Enter the month (e.g., January, February, etc.): \")\n",
    "\n",
    "# Convert the month to lowercase for case-insensitive comparison\n",
    "month = month.lower()\n",
    "\n",
    "# Determine the season using elif statements\n",
    "if month in [\"december\", \"january\", \"february\"]:\n",
    "    season = \"Winter\"\n",
    "elif month in [\"march\", \"april\", \"may\"]:\n",
    "    season = \"Spring\"\n",
    "elif month in [\"june\", \"july\", \"august\"]:\n",
    "    season = \"Summer\"\n",
    "elif month in [\"september\", \"october\", \"november\"]:\n",
    "    season = \"Fall\"\n",
    "else:\n",
    "    season = \"Unknown\"\n",
    "\n",
    "# Print the season\n",
    "if season != \"Unknown\":\n",
    "    print(f\"The season in {month.capitalize()} is {season}.\")\n",
    "else:\n",
    "    print(\"Invalid input. Please enter a valid month.\")"
   ]
  },
  {
   "cell_type": "markdown",
   "id": "62a193ff-7256-4ef8-96cb-2b712a1ae7fa",
   "metadata": {},
   "source": [
    "30. Implement a program to determine the type of a year (leap or common) and month (30 or 31 days) using elif statements.\n"
   ]
  },
  {
   "cell_type": "code",
   "execution_count": 30,
   "id": "bdfe7206-5ab9-4c2a-a139-1d48d1342756",
   "metadata": {},
   "outputs": [
    {
     "name": "stdin",
     "output_type": "stream",
     "text": [
      "Enter a year:  2023\n",
      "Enter a month (e.g., January, February, etc.):  october\n"
     ]
    },
    {
     "name": "stdout",
     "output_type": "stream",
     "text": [
      "2023 is a common year.\n",
      "October has 31 days.\n"
     ]
    }
   ],
   "source": [
    "# Input the year and month from the user\n",
    "year = int(input(\"Enter a year: \"))\n",
    "month = input(\"Enter a month (e.g., January, February, etc.): \")\n",
    "\n",
    "# Convert the month to lowercase for case-insensitive comparison\n",
    "month = month.lower()\n",
    "\n",
    "# Initialize variables for leap year and days in a month\n",
    "is_leap_year = False\n",
    "days_in_month = None\n",
    "\n",
    "# Check if it's a leap year using if-elif-else statements\n",
    "if (year % 4 == 0 and year % 100 != 0) or (year % 400 == 0):\n",
    "    is_leap_year = True\n",
    "\n",
    "# Determine the days in the month using elif statements\n",
    "if month in [\"january\", \"march\", \"may\", \"july\", \"august\", \"october\", \"december\"]:\n",
    "    days_in_month = 31\n",
    "elif month in [\"april\", \"june\", \"september\", \"november\"]:\n",
    "    days_in_month = 30\n",
    "elif month == \"february\":\n",
    "    if is_leap_year:\n",
    "        days_in_month = 29\n",
    "    else:\n",
    "        days_in_month = 28\n",
    "else:\n",
    "    print(\"Invalid input. Please enter a valid month.\")\n",
    "\n",
    "# Print the results\n",
    "if days_in_month is not None:\n",
    "    if is_leap_year:\n",
    "        print(f\"{year} is a leap year.\")\n",
    "    else:\n",
    "        print(f\"{year} is a common year.\")\n",
    "    print(f\"{month.capitalize()} has {days_in_month} days.\")"
   ]
  },
  {
   "cell_type": "markdown",
   "id": "38850566-1b84-41a4-91cb-675fd0932f64",
   "metadata": {},
   "source": [
    "# Basic Level:\n"
   ]
  },
  {
   "cell_type": "markdown",
   "id": "abef77f1-753f-4af4-80a2-e1a8a9ac6e80",
   "metadata": {},
   "source": [
    "1. Write a Python program that checks if a given number is positive, negative, or zero.\n"
   ]
  },
  {
   "cell_type": "code",
   "execution_count": 31,
   "id": "05f60b1e-0418-4fe6-903c-b8cdccca8b67",
   "metadata": {},
   "outputs": [
    {
     "name": "stdout",
     "output_type": "stream",
     "text": [
      "Zero\n"
     ]
    }
   ],
   "source": [
    "num = 0\n",
    "\n",
    "if num >= 0:\n",
    "    if num == 0:\n",
    "        print(\"Zero\")\n",
    "    else:\n",
    "        print(\"Positive\")\n",
    "else:\n",
    "    print(\"Negative\")"
   ]
  },
  {
   "cell_type": "markdown",
   "id": "9b0d6db7-e373-4395-a671-5a0edb40938c",
   "metadata": {},
   "source": [
    "2. Create a program to determine if a person is eligible to vote based on their age.\n"
   ]
  },
  {
   "cell_type": "code",
   "execution_count": 32,
   "id": "582d0f82-4749-4c4e-850b-bb6d14dc5164",
   "metadata": {},
   "outputs": [
    {
     "name": "stdout",
     "output_type": "stream",
     "text": [
      "He is eligible to vote.\n"
     ]
    }
   ],
   "source": [
    "age = 18\n",
    "\n",
    "# Check if the person is eligible to vote\n",
    "if age >= 18:\n",
    "    print(\"He is eligible to vote.\")\n",
    "else:\n",
    "    print(\"He is not eligible to vote yet.\")"
   ]
  },
  {
   "cell_type": "markdown",
   "id": "40063ffc-3907-4c58-89f4-84738d9e4bfb",
   "metadata": {},
   "source": [
    "3. Write a program to find the maximum of two given numbers using conditional statements.\n"
   ]
  },
  {
   "cell_type": "code",
   "execution_count": 33,
   "id": "9bda9e39-dba7-44ab-9946-62c5b9aa633b",
   "metadata": {},
   "outputs": [
    {
     "name": "stdout",
     "output_type": "stream",
     "text": [
      "b is greater than a\n"
     ]
    }
   ],
   "source": [
    "a = 5\n",
    "b = 7\n",
    "\n",
    "if a > b:\n",
    "    print(\"a is greater than b\")\n",
    "elif b > a:\n",
    "    print(\"b is greater than a\")\n",
    "else:\n",
    "    print(\"a is equal to b\")"
   ]
  },
  {
   "cell_type": "markdown",
   "id": "26dfad7c-44c0-4aed-b02f-11b9dd98bc6c",
   "metadata": {},
   "source": [
    "4. Develop a program that calculates the grade of a student based on their exam score.\n"
   ]
  },
  {
   "cell_type": "code",
   "execution_count": 34,
   "id": "1a1bcc56-78c3-47c7-b34d-3a0bafd3e53d",
   "metadata": {},
   "outputs": [
    {
     "name": "stdout",
     "output_type": "stream",
     "text": [
      "The student's grade is: B\n"
     ]
    }
   ],
   "source": [
    "# Student's score\n",
    "score = 80.56\n",
    "\n",
    "# Define the grading scale\n",
    "A_score = 90\n",
    "B_score = 80\n",
    "C_score = 70\n",
    "D_score = 60\n",
    "\n",
    "# Determine the grade based on the score using if-elif-else statements\n",
    "if score >= A_score:\n",
    "    grade = 'A'\n",
    "elif score >= B_score:\n",
    "    grade = 'B'\n",
    "elif score >= C_score:\n",
    "    grade = 'C'\n",
    "elif score >= D_score:\n",
    "    grade = 'D'\n",
    "else:\n",
    "    grade = 'F'\n",
    "\n",
    "# Print the calculated grade\n",
    "print(f\"The student's grade is: {grade}\")"
   ]
  },
  {
   "cell_type": "markdown",
   "id": "a24f783e-9a3f-44ab-884f-664359128a8b",
   "metadata": {},
   "source": [
    "5. Create a program that checks if a year is a leap year or not.\n"
   ]
  },
  {
   "cell_type": "code",
   "execution_count": 35,
   "id": "6900e341-846e-4cf4-b6c9-40a823c5e9bd",
   "metadata": {},
   "outputs": [
    {
     "name": "stdout",
     "output_type": "stream",
     "text": [
      "The given year is a leap year\n"
     ]
    }
   ],
   "source": [
    "year = 2020\n",
    "\n",
    "if (year % 4 == 0 and year % 100 != 0) or (year % 400 == 0):\n",
    "    print(\"The given year is a leap year\")\n",
    "else:\n",
    "    print(\"The given year is not a leaf year\")"
   ]
  },
  {
   "cell_type": "markdown",
   "id": "a8c505b7-bbe9-4542-9f4d-845e9f8a613f",
   "metadata": {},
   "source": [
    "6. Write a program to classify a triangle based on its sides' lengths.\n"
   ]
  },
  {
   "cell_type": "code",
   "execution_count": 36,
   "id": "73bbb147-6068-4ea9-8aac-2555e9e2ce88",
   "metadata": {},
   "outputs": [
    {
     "name": "stdout",
     "output_type": "stream",
     "text": [
      "The triangle is scalene.\n"
     ]
    }
   ],
   "source": [
    "# lengths of the three sides of the triangle\n",
    "a = 4\n",
    "b = 5\n",
    "c = 6\n",
    "\n",
    "# Check if it's a valid triangle (Triangle Inequality Theorem)\n",
    "if a + a > c and a + c > b and b + c > a:\n",
    "    # Check the type of triangle\n",
    "    if a == b == c:\n",
    "        triangle_type = \"equilateral\"\n",
    "    elif a == b or a == c or b == c:\n",
    "        triangle_type = \"isosceles\"\n",
    "    else:\n",
    "        triangle_type = \"scalene\"\n",
    "    \n",
    "    # Print the type of triangle\n",
    "    print(f\"The triangle is {triangle_type}.\")\n",
    "else:\n",
    "    print(\"Invalid triangle: The sum of the lengths of any two sides must be greater than the length of the third side.\")"
   ]
  },
  {
   "cell_type": "markdown",
   "id": "f029b709-8c86-41e2-86c5-92af41fbc9a3",
   "metadata": {},
   "source": [
    "7. Build a program that determines the largest of three given numbers.\n"
   ]
  },
  {
   "cell_type": "code",
   "execution_count": 37,
   "id": "6bc0f121-cf3b-4708-9e01-1457a297af22",
   "metadata": {},
   "outputs": [
    {
     "name": "stdout",
     "output_type": "stream",
     "text": [
      "Largest is 6\n"
     ]
    }
   ],
   "source": [
    "a = 2\n",
    "b = 6\n",
    "c = 6\n",
    "\n",
    "if a >= b and a >= c:\n",
    "    largest = a\n",
    "elif b >= a and b >= c:\n",
    "    largest = b\n",
    "else:\n",
    "    largest = c\n",
    "print(\"Largest is\", largest)"
   ]
  },
  {
   "cell_type": "markdown",
   "id": "4dbbd814-900f-49a6-a8f3-78533f35d842",
   "metadata": {},
   "source": [
    "8. Develop a program that checks whether a character is a vowel or a consonant.\n"
   ]
  },
  {
   "cell_type": "code",
   "execution_count": 38,
   "id": "39563d8d-b41f-4eb7-9919-8da8fdd12337",
   "metadata": {},
   "outputs": [
    {
     "name": "stdout",
     "output_type": "stream",
     "text": [
      "The character is a consonant\n"
     ]
    }
   ],
   "source": [
    "char = 'd'\n",
    "\n",
    "vowels = \"aeiou\"\n",
    "\n",
    "if char.lower() in vowels:\n",
    "    print(\"The character is a vowel\")\n",
    "else:\n",
    "    print(\"The character is a consonant\")"
   ]
  },
  {
   "cell_type": "markdown",
   "id": "d9d88d16-7452-436c-a65f-cc1229744df0",
   "metadata": {},
   "source": [
    "9. Create a program to calculate the total cost of a shopping cart based on discounts.\n"
   ]
  },
  {
   "cell_type": "code",
   "execution_count": 40,
   "id": "e188f3dc-4310-41f4-97ed-5f651f80a233",
   "metadata": {},
   "outputs": [
    {
     "name": "stdin",
     "output_type": "stream",
     "text": [
      "Enter the number of items in your shopping cart:  2\n",
      "Enter the name of item 1:  Apple\n",
      "Enter the price of Apple: ₹ 56\n",
      "Enter the quantity of Apple:  3\n",
      "Enter the name of item 2:  Mango\n",
      "Enter the price of Mango: ₹ 45\n",
      "Enter the quantity of Mango:  10\n"
     ]
    },
    {
     "name": "stdout",
     "output_type": "stream",
     "text": [
      "Congratulations! You've qualified for a 10.0% discount.\n",
      "\n",
      "Items in your shopping cart:\n",
      "Items     Price     Qnt.      Amount\n",
      "----------------------------------------\n",
      "Apple     ₹56.00    3         ₹168.0    \n",
      "Mango     ₹45.00    10        ₹450.0    \n",
      "----------------------------------------\n",
      "               Total Cost :   ₹618.0     \n",
      "               Offer Cost :   ₹556.2     \n",
      "\n",
      "Total cost of your shopping cart after discounts: ₹556.20\n"
     ]
    }
   ],
   "source": [
    "# Input the number of items in the shopping cart\n",
    "num_items = int(input(\"Enter the number of items in your shopping cart: \"))\n",
    "\n",
    "# Define an empty list to store the items in the cart\n",
    "cart = []\n",
    "\n",
    "# Input the price and quantity of each item, and calculate the total cost\n",
    "for i in range(num_items):\n",
    "    item_name = input(f\"Enter the name of item {i + 1}: \")\n",
    "    item_price = float(input(f\"Enter the price of {item_name}: ₹\"))\n",
    "    item_quantity = int(input(f\"Enter the quantity of {item_name}: \"))\n",
    "    \n",
    "    item_total = item_price * item_quantity\n",
    "    \n",
    "    cart.append({\"item\":item_name, \"price\":item_price, \"quantity\": item_quantity, \"amount\": item_total})\n",
    "    \n",
    "total_cost = sum(item[\"amount\"] for item in cart)\n",
    "\n",
    "# Apply discounts based on total cost\n",
    "if total_cost >= 100:\n",
    "    discount_rate = 0.1\n",
    "    discount = total_cost * discount_rate  # 10% discount for total cost over $100\n",
    "    offer_cost = total_cost - discount\n",
    "    print(f\"Congratulations! You've qualified for a {discount_rate*100}% discount.\")\n",
    "elif total_cost >= 50:\n",
    "    discount_rate = 0.05\n",
    "    discount = total_cost * discount_rate  # 5% discount for total cost over $50\n",
    "    offer_cost = total_cost - discount\n",
    "    print(f\"Congratulations! You've qualified for a {discount_rate*100}% discount.\")\n",
    "    \n",
    "# Display the items and their details\n",
    "print(\"\\nItems in your shopping cart:\")\n",
    "print(\"Items\\tPrice\\tQnt.\\tAmount\".expandtabs(10))\n",
    "print(\"-\" * 40)\n",
    "for item in cart:\n",
    "    print(f\"{item['item']}\".ljust(10)+f\"₹{item['price']:.2f}\".ljust(10)+f\"{item['quantity']}\".ljust(10)+f\"₹{item['amount']}\".ljust(10))\n",
    "print(\"-\" * 40)\n",
    "print(\" \" * 15 + \"Total Cost :\".ljust(15) + \"₹\"+str(total_cost).ljust(10))\n",
    "print(\" \" * 15 + \"Offer Cost :\".ljust(15) + \"₹\"+str(offer_cost).ljust(10))\n",
    "\n",
    "# Print the total cost after applying discounts\n",
    "print(f\"\\nTotal cost of your shopping cart after discounts: ₹{offer_cost:.2f}\")"
   ]
  },
  {
   "cell_type": "markdown",
   "id": "939ba870-8adb-4260-9569-f90c3efad3e3",
   "metadata": {},
   "source": [
    "10. Write a program that checks if a given number is even or odd.\n"
   ]
  },
  {
   "cell_type": "code",
   "execution_count": 41,
   "id": "f366ba64-2353-44f3-a44a-0c84e971829d",
   "metadata": {},
   "outputs": [
    {
     "name": "stdout",
     "output_type": "stream",
     "text": [
      "The given number is even\n"
     ]
    }
   ],
   "source": [
    "num = 26\n",
    "\n",
    "if num % 2 == 0:\n",
    "    print(\"The given number is even\")\n",
    "else:\n",
    "    print(\"The given number is odd\")"
   ]
  },
  {
   "cell_type": "markdown",
   "id": "7a7e0b2f-8b74-4501-a79f-d71d5e5bb40c",
   "metadata": {},
   "source": [
    "# Intermediate Level:"
   ]
  },
  {
   "cell_type": "markdown",
   "id": "3ad1e13b-fa6d-4b88-af02-a423a2fdd1d6",
   "metadata": {},
   "source": [
    "11. Write a program that calculates the roots of a quadratic equation.\n"
   ]
  },
  {
   "cell_type": "markdown",
   "id": "e8074764-301e-468e-99fe-05fcc2247645",
   "metadata": {},
   "source": [
    "The quadratic formula is given by:\n",
    "\n",
    "\\[$\n",
    "x = \\frac{-b \\pm \\sqrt{b^2 - 4ac}}{2a}\n",
    "$\\]\n",
    "\n",
    "Where:\n",
    "- \\(a\\), \\(b\\), and \\(c\\) are the coefficients of the quadratic equation \\(ax^2 + bx + c = 0\\).\n",
    "- \\($\\pm$\\) indicates that there are two possible roots, one with a plus sign and one with a minus sign.\n",
    "- \\($\\sqrt{b^2 - 4ac}$\\) represents the square root of the discriminant."
   ]
  },
  {
   "cell_type": "code",
   "execution_count": 42,
   "id": "3130b0bb-dd89-4df8-800b-feb8345e4c6c",
   "metadata": {},
   "outputs": [
    {
     "name": "stdout",
     "output_type": "stream",
     "text": [
      "Two real and distinct roots: -1.6972243622680054 and -5.302775637731995\n"
     ]
    }
   ],
   "source": [
    "# Solve the quadratic equation ax**2 + bx + c = 0\n",
    "\n",
    "#import math module\n",
    "import math\n",
    "\n",
    "# Coefficients a, b, and c\n",
    "a = 1\n",
    "b = 7\n",
    "c = 9\n",
    "\n",
    "# The coefficient a can't be 0 in quadratic equation\n",
    "if a != 0:\n",
    "    # calculate the discriminant\n",
    "    discriminant = (b**2) - (4*a*c)\n",
    "\n",
    "    # Determine the type and calculate the roots based on the discriminant\n",
    "    if discriminant > 0:\n",
    "        # Two real and distinct roots\n",
    "        root1 = (-b + math.sqrt(discriminant)) / (2*a)\n",
    "        root2 = (-b - math.sqrt(discriminant)) / (2*a)\n",
    "        print(f\"Two real and distinct roots: {root1} and {root2}\")\n",
    "    elif discriminant == 0:\n",
    "        # One real root (a repeated root)\n",
    "        root = -b / (2*a)\n",
    "        print(f\"One real root (a repeated root): {root}\")\n",
    "    else:\n",
    "        # Complex roots\n",
    "        real_part = -b / (2*a)\n",
    "        imaginary_part = math.sqrt(abs(discriminant)) / (2*a)\n",
    "        print(f\"Complex roots: {real_part} + {imaginary_part}i and {real_part} - {imaginary_part}i\")\n",
    "else:\n",
    "    print(\"Invalid quadratic equation\")"
   ]
  },
  {
   "cell_type": "markdown",
   "id": "5430dda7-00db-43e9-8f12-2b85910254e7",
   "metadata": {},
   "source": [
    "12. Create a program that determines the day of the week based on the day number (1-7).\n"
   ]
  },
  {
   "cell_type": "code",
   "execution_count": 43,
   "id": "c0b556a2-d9ff-4c79-b676-5894a06a9ce4",
   "metadata": {},
   "outputs": [
    {
     "name": "stdout",
     "output_type": "stream",
     "text": [
      "Friday\n"
     ]
    }
   ],
   "source": [
    "day_num = 5\n",
    "\n",
    "if 1 <= day_num <= 7:\n",
    "    if day_num == 1:\n",
    "        print(\"Monday\")\n",
    "    elif day_num == 2:\n",
    "        print(\"Tuesday\")\n",
    "    elif day_num == 3:\n",
    "        print(\"Wednesday\")\n",
    "    elif day_num == 4:\n",
    "        print(\"Thursday\")\n",
    "    elif day_num == 5:\n",
    "        print(\"Friday\")\n",
    "    elif day_num == 6:\n",
    "        print(\"Saturday\")\n",
    "    elif day_num == 7:\n",
    "        print(\"Sunday\")\n",
    "else:\n",
    "    print(\"Invalid number\")"
   ]
  },
  {
   "cell_type": "markdown",
   "id": "da51dda3-7dd6-4b43-a28b-63bded14b1e9",
   "metadata": {},
   "source": [
    "13. Develop a program that calculates the factorial of a given number using recursion.\n"
   ]
  },
  {
   "cell_type": "code",
   "execution_count": 44,
   "id": "c4927a8d-4588-4ea1-8a5c-bac7cea3c82f",
   "metadata": {},
   "outputs": [
    {
     "name": "stdout",
     "output_type": "stream",
     "text": [
      "120\n"
     ]
    }
   ],
   "source": [
    "# recursive function to find the factorial of a given number\n",
    "def factorial(n):\n",
    "    if n == 0:\n",
    "        return 1\n",
    "    else:\n",
    "        return n * factorial(n-1)\n",
    "\n",
    "print(factorial(5))"
   ]
  },
  {
   "cell_type": "markdown",
   "id": "c30b306b-bff4-468e-bfbb-171be3af3884",
   "metadata": {},
   "source": [
    "14. Write a program to find the largest among three numbers without using the `max()` function.\n"
   ]
  },
  {
   "cell_type": "code",
   "execution_count": 45,
   "id": "f6d0e500-acac-4c4b-a7a5-cbb4534af6d9",
   "metadata": {},
   "outputs": [
    {
     "name": "stdout",
     "output_type": "stream",
     "text": [
      "Largest is 6\n"
     ]
    }
   ],
   "source": [
    "a = 2\n",
    "b = 6\n",
    "c = 6\n",
    "\n",
    "if a >= b and a >= c:\n",
    "    largest = a\n",
    "elif b >= a and b >= c:\n",
    "    largest = b\n",
    "else:\n",
    "    largest = c\n",
    "print(\"Largest is\", largest)"
   ]
  },
  {
   "cell_type": "markdown",
   "id": "b32b8605-aa22-494a-a7d3-390e8adb46c3",
   "metadata": {},
   "source": [
    "15. Create a program that simulates a basic ATM transaction menu.\n"
   ]
  },
  {
   "cell_type": "code",
   "execution_count": 48,
   "id": "a3d6b67e-1ae9-490c-b9c8-13d7262c26c5",
   "metadata": {},
   "outputs": [
    {
     "name": "stdout",
     "output_type": "stream",
     "text": [
      "\n",
      "ATM Menu:\n",
      "1. Display Balance\n",
      "2. Deposit Money\n",
      "3. Withdraw Money\n",
      "4. Exit\n"
     ]
    },
    {
     "name": "stdin",
     "output_type": "stream",
     "text": [
      "Enter your choice (1/2/3/4):  1\n"
     ]
    },
    {
     "name": "stdout",
     "output_type": "stream",
     "text": [
      "Your account balance is $15000.00\n",
      "\n",
      "ATM Menu:\n",
      "1. Display Balance\n",
      "2. Deposit Money\n",
      "3. Withdraw Money\n",
      "4. Exit\n"
     ]
    },
    {
     "name": "stdin",
     "output_type": "stream",
     "text": [
      "Enter your choice (1/2/3/4):  2\n",
      "Enter the amount to deposit: $ 2000\n"
     ]
    },
    {
     "name": "stdout",
     "output_type": "stream",
     "text": [
      "$2000.00 has been deposited into your account.\n",
      "Your account balance is $17000.00\n",
      "\n",
      "ATM Menu:\n",
      "1. Display Balance\n",
      "2. Deposit Money\n",
      "3. Withdraw Money\n",
      "4. Exit\n"
     ]
    },
    {
     "name": "stdin",
     "output_type": "stream",
     "text": [
      "Enter your choice (1/2/3/4):  3\n",
      "Enter the amount to withdraw: $ 1500\n"
     ]
    },
    {
     "name": "stdout",
     "output_type": "stream",
     "text": [
      "$1500.00 has been withdrawn from your account.\n",
      "Your account balance is $15500.00\n",
      "\n",
      "ATM Menu:\n",
      "1. Display Balance\n",
      "2. Deposit Money\n",
      "3. Withdraw Money\n",
      "4. Exit\n"
     ]
    },
    {
     "name": "stdin",
     "output_type": "stream",
     "text": [
      "Enter your choice (1/2/3/4):  1\n"
     ]
    },
    {
     "name": "stdout",
     "output_type": "stream",
     "text": [
      "Your account balance is $15500.00\n",
      "\n",
      "ATM Menu:\n",
      "1. Display Balance\n",
      "2. Deposit Money\n",
      "3. Withdraw Money\n",
      "4. Exit\n"
     ]
    },
    {
     "name": "stdin",
     "output_type": "stream",
     "text": [
      "Enter your choice (1/2/3/4):  4\n"
     ]
    },
    {
     "name": "stdout",
     "output_type": "stream",
     "text": [
      "Thank you for using our ATM. Goodbye!\n"
     ]
    }
   ],
   "source": [
    "# Initialize the account balance\n",
    "account_balance = 15000.00\n",
    "\n",
    "# Function to display the account balance\n",
    "def display_balance():\n",
    "    print(f\"Your account balance is ${account_balance:.2f}\")\n",
    "\n",
    "# Function to deposit money\n",
    "def deposit():\n",
    "    global account_balance\n",
    "    amount = float(input(\"Enter the amount to deposit: $\"))\n",
    "    account_balance += amount\n",
    "    print(f\"${amount:.2f} has been deposited into your account.\")\n",
    "    display_balance()\n",
    "\n",
    "# Function to withdraw money\n",
    "def withdraw():\n",
    "    global account_balance\n",
    "    amount = float(input(\"Enter the amount to withdraw: $\"))\n",
    "    if amount > account_balance:\n",
    "        print(\"Insufficient funds. Withdrawal not allowed.\")\n",
    "    else:\n",
    "        account_balance -= amount\n",
    "        print(f\"${amount:.2f} has been withdrawn from your account.\")\n",
    "        display_balance()\n",
    "\n",
    "# Main program loop\n",
    "while True:\n",
    "    print(\"\\nATM Menu:\")\n",
    "    print(\"1. Display Balance\")\n",
    "    print(\"2. Deposit Money\")\n",
    "    print(\"3. Withdraw Money\")\n",
    "    print(\"4. Exit\")\n",
    "\n",
    "    choice = int(input(\"Enter your choice (1/2/3/4): \"))\n",
    "\n",
    "    if choice == 1:\n",
    "        display_balance()\n",
    "    elif choice == 2:\n",
    "        deposit()\n",
    "    elif choice == 3:\n",
    "        withdraw()\n",
    "    elif choice == 4:\n",
    "        print(\"Thank you for using our ATM. Goodbye!\")\n",
    "        break\n",
    "    else:\n",
    "        print(\"Invalid choice. Please select a valid option.\")"
   ]
  },
  {
   "cell_type": "markdown",
   "id": "2ddc7adb-d247-4513-af98-3aef23203bf6",
   "metadata": {},
   "source": [
    "16. Build a program that checks if a given string is a palindrome or not.\n"
   ]
  },
  {
   "cell_type": "code",
   "execution_count": 49,
   "id": "0d664bf0-1351-415e-896e-86dc177ded66",
   "metadata": {},
   "outputs": [
    {
     "name": "stdout",
     "output_type": "stream",
     "text": [
      "Yes, it is a palindrome\n"
     ]
    }
   ],
   "source": [
    "s = \"Malayalam\"\n",
    "\n",
    "if s.lower() == s.lower()[::-1]:\n",
    "    print(\"Yes, it is a palindrome\")\n",
    "else:\n",
    "    print(\"Not a palindrome\")"
   ]
  },
  {
   "cell_type": "markdown",
   "id": "c2b586e0-5dd8-482b-b68a-3f8987a92fa0",
   "metadata": {},
   "source": [
    "17. Write a program that calculates the average of a list of numbers, excluding the smallest and largest values.\n"
   ]
  },
  {
   "cell_type": "code",
   "execution_count": 50,
   "id": "5676927f-9f6d-4d93-8175-ad20e1752a57",
   "metadata": {},
   "outputs": [
    {
     "name": "stdout",
     "output_type": "stream",
     "text": [
      "Original list:  [2, 6, 1, 8, 3, 7, 9, 5, 4]\n",
      "After excluding the smallest and largest value:  [2, 6, 8, 3, 7, 5, 4]\n",
      "Average : 5\n"
     ]
    }
   ],
   "source": [
    "num_lst = [2,6,1,8,3,7,9,5,4]\n",
    "\n",
    "new_lst = [x for x in num_lst if x != min(num_lst) and x != max(num_lst)] \n",
    "\n",
    "import statistics\n",
    "\n",
    "av = statistics.mean(num_lst)\n",
    "\n",
    "print(\"Original list: \", num_lst)\n",
    "print(\"After excluding the smallest and largest value: \", new_lst)\n",
    "print(\"Average :\", av)"
   ]
  },
  {
   "cell_type": "markdown",
   "id": "e2358dda-0f60-4821-8191-04a55ccca009",
   "metadata": {},
   "source": [
    "18. Develop a program that converts a given temperature from Celsius to Fahrenheit.\n"
   ]
  },
  {
   "cell_type": "markdown",
   "id": "e45687ba-86d4-4c03-a5ca-39dac76716f9",
   "metadata": {},
   "source": [
    "### Formula :\n",
    "$ Fahrenheit = (Celsius *  \\frac {9}{5}) + 32 $"
   ]
  },
  {
   "cell_type": "code",
   "execution_count": 51,
   "id": "570e0bbc-c441-4450-a47d-ec9b853787f3",
   "metadata": {},
   "outputs": [
    {
     "name": "stdin",
     "output_type": "stream",
     "text": [
      "Enter the temperature in °C :  65\n"
     ]
    },
    {
     "name": "stdout",
     "output_type": "stream",
     "text": [
      "The temperature in °F is 149.00\n"
     ]
    }
   ],
   "source": [
    "tempCel = float(input(\"Enter the temperature in °C : \")) # input() returns a string so typecasting is reqd.\n",
    "\n",
    "tempFahr = (tempCel * (9/5)) + 32  #formula\n",
    "\n",
    "print(f\"The temperature in °F is {tempFahr:.2f}\") "
   ]
  },
  {
   "cell_type": "markdown",
   "id": "9aeff6d0-4bff-4708-852a-0b43e861912e",
   "metadata": {},
   "source": [
    "19. Create a program that simulates a basic calculator for addition, subtraction, multiplication, and division.\n"
   ]
  },
  {
   "cell_type": "code",
   "execution_count": 52,
   "id": "0412f3da-b3e7-47a5-90af-27f41d145196",
   "metadata": {},
   "outputs": [
    {
     "name": "stdout",
     "output_type": "stream",
     "text": [
      "Select operation.\n",
      "1.Add\n",
      "2.Subtract\n",
      "3.Multiply\n",
      "4.Divide\n"
     ]
    },
    {
     "name": "stdin",
     "output_type": "stream",
     "text": [
      "Enter choice (1/2/3/4) : 1\n",
      "Enter the numbers separated by comma :  2,3,4\n"
     ]
    },
    {
     "name": "stdout",
     "output_type": "stream",
     "text": [
      "Result = 9.0\n"
     ]
    },
    {
     "name": "stdin",
     "output_type": "stream",
     "text": [
      "Let's do next calculation? (y/n):  y\n",
      "Enter choice (1/2/3/4) : 3\n",
      "Enter the numbers separated by comma :  4,5,6\n"
     ]
    },
    {
     "name": "stdout",
     "output_type": "stream",
     "text": [
      "Result = 120.00\n"
     ]
    },
    {
     "name": "stdin",
     "output_type": "stream",
     "text": [
      "Let's do next calculation? (y/n):  y\n",
      "Enter choice (1/2/3/4) : 2\n",
      "Enter the numbers separated by comma :  9,3,2\n"
     ]
    },
    {
     "name": "stdout",
     "output_type": "stream",
     "text": [
      "Result = 4.0\n"
     ]
    },
    {
     "name": "stdin",
     "output_type": "stream",
     "text": [
      "Let's do next calculation? (y/n):  y\n",
      "Enter choice (1/2/3/4) : 4\n",
      "Enter the numbers separated by comma :  20,2,3\n"
     ]
    },
    {
     "name": "stdout",
     "output_type": "stream",
     "text": [
      "Result = 3.33\n"
     ]
    },
    {
     "name": "stdin",
     "output_type": "stream",
     "text": [
      "Let's do next calculation? (y/n):  n\n"
     ]
    }
   ],
   "source": [
    "from functools import reduce\n",
    "# This function adds two numbers\n",
    "def addition(nums):\n",
    "    return sum(nums)\n",
    "\n",
    "# This function subtracts two numbers\n",
    "def subtraction(nums):\n",
    "    return reduce(lambda a, b : a - b, nums)\n",
    "\n",
    "# This function multiplies two numbers\n",
    "def multiplication(nums):\n",
    "    return reduce(lambda a, b : a * b, nums)\n",
    "\n",
    "# This function divides two numbers\n",
    "def division(nums):\n",
    "    return reduce(lambda a, b : a / b, nums)\n",
    "\n",
    "\n",
    "# Display the calculator menu\n",
    "print(\"Select operation.\")\n",
    "print(\"1.Add\")\n",
    "print(\"2.Subtract\")\n",
    "print(\"3.Multiply\")\n",
    "print(\"4.Divide\")\n",
    "\n",
    "while True:\n",
    "    # Take input from user\n",
    "    choice = int(input(\"Enter choice (1/2/3/4) :\"))\n",
    "    \n",
    "    if choice in (1,2,3,4):\n",
    "        if choice == 1:\n",
    "            numbers = input(\"Enter the numbers separated by comma : \")\n",
    "            print(f\"Result = {addition(float(x) for x in numbers.split(','))}\")\n",
    "        elif choice == 2:\n",
    "            numbers = input(\"Enter the numbers separated by comma : \")\n",
    "            print(f\"Result = {subtraction(float(x) for x in numbers.split(','))}\")\n",
    "        elif choice == 3:\n",
    "            numbers = input(\"Enter the numbers separated by comma : \")\n",
    "            print(f\"Result = {multiplication(float(x) for x in numbers.split(',')):.2f}\")\n",
    "        elif choice == 4:\n",
    "            numbers = input(\"Enter the numbers separated by comma : \")\n",
    "            print(f\"Result = {division(float(x) for x in numbers.split(',')):.2f}\")\n",
    "            \n",
    "        # check if user wants another calculation\n",
    "        # break the while loop if answer is no\n",
    "        next_calculation = input(\"Let's do next calculation? (y/n): \")\n",
    "        if next_calculation == \"n\":\n",
    "            break\n",
    "    else:\n",
    "        print(\"Invalid Input\")"
   ]
  },
  {
   "cell_type": "markdown",
   "id": "665daf50-5856-4cd2-ae0d-ee68bd31669e",
   "metadata": {},
   "source": [
    "20. Write a program that determines the roots of a cubic equation using the Cardano formula.\n"
   ]
  },
  {
   "cell_type": "markdown",
   "id": "9acd8cf6-40ac-465d-9852-96d7a9f4e8c6",
   "metadata": {},
   "source": [
    "The program implements the Cardano formula to find the roots of a cubic equation in the form of \n",
    "$ax^3 + bx^2 + cx + d = 0$"
   ]
  },
  {
   "cell_type": "code",
   "execution_count": 53,
   "id": "6d4912a0-4632-4d02-9e34-6f777d72c5a0",
   "metadata": {},
   "outputs": [
    {
     "name": "stdin",
     "output_type": "stream",
     "text": [
      "Enter the coefficient a:  3\n",
      "Enter the coefficient b:  2\n",
      "Enter the coefficient c:  4\n",
      "Enter the coefficient d:  1\n"
     ]
    },
    {
     "name": "stdout",
     "output_type": "stream",
     "text": [
      "The root of the cubic equation is: (0.708906065140338+0.5662613577097504j)\n"
     ]
    }
   ],
   "source": [
    "import math\n",
    "\n",
    "# Function to solve a cubic equation using the Cardano formula\n",
    "def solve_cubic_equation(a, b, c, d):\n",
    "    if a == 0:\n",
    "        return \"This is not a cubic equation.\"\n",
    "\n",
    "    p = c / a - (b ** 2) / (3 * a ** 2)\n",
    "    q = (2 * b ** 3) / (27 * a ** 3) - (b * c) / (3 * a ** 2) + d / a\n",
    "\n",
    "    discriminant = (q ** 2) / 4 + (p ** 3) / 27\n",
    "\n",
    "    if discriminant > 0:\n",
    "        u = (-q / 2 + math.sqrt(discriminant)) ** (1 / 3)\n",
    "        v = (-q / 2 - math.sqrt(discriminant)) ** (1 / 3)\n",
    "        real_root = (u + v) - b / (3 * a)\n",
    "        return real_root\n",
    "    elif discriminant == 0:\n",
    "        u = (-q / 2) ** (1 / 3)\n",
    "        real_root = 2 * u - b / (3 * a)\n",
    "        imaginary_root = -u - b / (3 * a)\n",
    "        return real_root, imaginary_root\n",
    "    else:\n",
    "        rho = math.sqrt((q ** 2) / 4 - (p ** 3) / 27)\n",
    "        theta = math.atan2(math.sqrt(-discriminant), -q / 2)\n",
    "        u1 = 2 * math.copysign(1, q) * math.sqrt(rho) * math.cos(theta / 3)\n",
    "        u2 = 2 * math.copysign(1, q) * math.sqrt(rho) * math.cos((theta + 2 * math.pi) / 3)\n",
    "        u3 = 2 * math.copysign(1, q) * math.sqrt(rho) * math.cos((theta + 4 * math.pi) / 3)\n",
    "        real_root1 = u1 - b / (3 * a)\n",
    "        real_root2 = u2 - b / (3 * a)\n",
    "        real_root3 = u3 - b / (3 * a)\n",
    "        return real_root1, real_root2, real_root3\n",
    "\n",
    "# Input coefficients a, b, c, and d\n",
    "a = float(input(\"Enter the coefficient a: \"))\n",
    "b = float(input(\"Enter the coefficient b: \"))\n",
    "c = float(input(\"Enter the coefficient c: \"))\n",
    "d = float(input(\"Enter the coefficient d: \"))\n",
    "\n",
    "# Find and display the roots of the cubic equation\n",
    "roots = solve_cubic_equation(a, b, c, d)\n",
    "if isinstance(roots, tuple):\n",
    "    print(\"The roots of the cubic equation are:\", roots)\n",
    "else:\n",
    "    print(\"The root of the cubic equation is:\", roots)"
   ]
  },
  {
   "cell_type": "markdown",
   "id": "d4fe216c-1f1f-47e5-843f-2d75e2bf26b0",
   "metadata": {},
   "source": [
    "# Advanced Level:"
   ]
  },
  {
   "cell_type": "markdown",
   "id": "60b328a2-c13f-4355-8fb3-c4a7854ad51e",
   "metadata": {},
   "source": [
    "21. Create a program that calculates the income tax based on the user's income and tax brackets.\n"
   ]
  },
  {
   "cell_type": "code",
   "execution_count": 54,
   "id": "3560b55d-ec28-4819-8e4f-7597e6f74230",
   "metadata": {},
   "outputs": [
    {
     "name": "stdin",
     "output_type": "stream",
     "text": [
      "Enter your income:  27000\n"
     ]
    },
    {
     "name": "stdout",
     "output_type": "stream",
     "text": [
      "Your income tax is: $3042.50\n"
     ]
    }
   ],
   "source": [
    "def calculate_income_tax(income):\n",
    "    # Define tax brackets and rates\n",
    "    tax_brackets = [(9875, 0.10), (40125, 0.12), (85525, 0.22), (163300, 0.24), (207350, 0.32), (518400, 0.35), (float('inf'), 0.37)]\n",
    "    \n",
    "    # Initialize tax and previous bracket\n",
    "    tax = 0\n",
    "    prev_bracket = 0\n",
    "    \n",
    "    # Calculate income tax\n",
    "    for bracket, rate in tax_brackets:\n",
    "        if income <= bracket:\n",
    "            tax += (income - prev_bracket) * rate\n",
    "            break\n",
    "        else:\n",
    "            tax += (bracket - prev_bracket) * rate\n",
    "            prev_bracket = bracket\n",
    "    \n",
    "    return tax\n",
    "\n",
    "# Input income from the user\n",
    "income = float(input(\"Enter your income: \"))\n",
    "\n",
    "# Calculate income tax\n",
    "income_tax = calculate_income_tax(income)\n",
    "\n",
    "# Display the calculated income tax\n",
    "print(f\"Your income tax is: ${income_tax:.2f}\")"
   ]
  },
  {
   "cell_type": "markdown",
   "id": "348f20f2-a52e-441f-b890-a44595f48f9f",
   "metadata": {},
   "source": [
    "22. Write a program that simulates a rock-paper-scissors game against the computer.\n"
   ]
  },
  {
   "cell_type": "code",
   "execution_count": 55,
   "id": "d087f325-ce5f-487a-aa86-b7ac0688fb1f",
   "metadata": {},
   "outputs": [
    {
     "name": "stdin",
     "output_type": "stream",
     "text": [
      "Enter your choice (rock, paper, or scissors):  rock\n"
     ]
    },
    {
     "name": "stdout",
     "output_type": "stream",
     "text": [
      "You chose rock\n",
      "Computer chose paper\n",
      "Computer wins!\n"
     ]
    }
   ],
   "source": [
    "import random\n",
    "\n",
    "def get_user_choice():\n",
    "    user_choice = input(\"Enter your choice (rock, paper, or scissors): \").lower()\n",
    "    while user_choice not in [\"rock\", \"paper\", \"scissors\"]:\n",
    "        print(\"Invalid choice. Please choose rock, paper, or scissors.\")\n",
    "        user_choice = input(\"Enter your choice: \").lower()\n",
    "    return user_choice\n",
    "\n",
    "def get_computer_choice():\n",
    "    return random.choice([\"rock\", \"paper\", \"scissors\"])\n",
    "\n",
    "def determine_winner(user_choice, computer_choice):\n",
    "    if user_choice == computer_choice:\n",
    "        return \"It's a tie!\"\n",
    "    elif (user_choice == \"rock\" and computer_choice == \"scissors\") or (user_choice == \"paper\" and computer_choice == \"rock\") or (user_choice == \"scissors\" and computer_choice == \"paper\"):\n",
    "        return \"You win!\"\n",
    "    else:\n",
    "        return \"Computer wins!\"\n",
    "\n",
    "def play_game():\n",
    "    user_choice = get_user_choice()\n",
    "    computer_choice = get_computer_choice()\n",
    "    print(f\"You chose {user_choice}\")\n",
    "    print(f\"Computer chose {computer_choice}\")\n",
    "    result = determine_winner(user_choice, computer_choice)\n",
    "    print(result)\n",
    "\n",
    "# Play the game\n",
    "play_game()"
   ]
  },
  {
   "cell_type": "markdown",
   "id": "b55e0c4f-00ae-4bd7-ac06-55f153757b71",
   "metadata": {},
   "source": [
    "23. Develop a program that generates a random password based on user preferences (length, complexity).\n"
   ]
  },
  {
   "cell_type": "code",
   "execution_count": 56,
   "id": "c12e9039-8cfd-4637-828c-84b243a6eb24",
   "metadata": {},
   "outputs": [
    {
     "name": "stdin",
     "output_type": "stream",
     "text": [
      "Enter the desired password length:  8\n",
      "Include lowercase letters? (y/n):  y\n",
      "Include uppercase letters? (y/n):  y\n",
      "Include digits? (y/n):  y\n",
      "Include special characters? (y/n):  y\n"
     ]
    },
    {
     "name": "stdout",
     "output_type": "stream",
     "text": [
      "The random password is  lmiM:k<z\n"
     ]
    }
   ],
   "source": [
    "import string\n",
    "import random\n",
    " \n",
    "# Get user preferences\n",
    "length = int(input(\"Enter the desired password length: \"))\n",
    "# Ensure the password length is at least 4 characters\n",
    "length = max(length, 4)\n",
    "\n",
    "use_lowercase = input(\"Include lowercase letters? (y/n): \").lower() == 'y'\n",
    "use_uppercase = input(\"Include uppercase letters? (y/n): \").lower() == 'y'\n",
    "use_digits = input(\"Include digits? (y/n): \").lower() == 'y'\n",
    "use_special_chars = input(\"Include special characters? (y/n): \").lower() == 'y'\n",
    " \n",
    "characterList = \"\"\n",
    " \n",
    "# Getting character set for password\n",
    "if use_uppercase:    \n",
    "    # Adding letters to possible characters\n",
    "    characterList += string.ascii_uppercase\n",
    "\n",
    "if use_lowercase:  \n",
    "    # Adding letters to possible characters\n",
    "    characterList += string.ascii_lowercase\n",
    "\n",
    "if use_digits:\n",
    "    # Adding digits to possible characters\n",
    "    characterList += string.digits\n",
    "\n",
    "if use_special_chars:\n",
    "    # Adding special characters to possible characters\n",
    "    characterList += string.punctuation\n",
    "    \n",
    "if not characterList:\n",
    "    print(\"No character set selected. Password cannot be generated.\")\n",
    "else:\n",
    "    # Generate the password by selecting random characters\n",
    "    password = ''.join(random.choice(characterList) for _ in range(length))\n",
    "\n",
    "    # printing password as a string\n",
    "    print(\"The random password is \", password)"
   ]
  },
  {
   "cell_type": "markdown",
   "id": "6362c21a-df10-4cca-91b6-31692f8102d3",
   "metadata": {},
   "source": [
    "24. Create a program that implements a simple text-based adventure game with branching scenarios.\n"
   ]
  },
  {
   "cell_type": "code",
   "execution_count": 58,
   "id": "3e2f86df-4c91-4a40-bcc4-1e05c4dc6672",
   "metadata": {},
   "outputs": [
    {
     "name": "stdout",
     "output_type": "stream",
     "text": [
      "Welcome to the Text-Based Adventure Game!\n",
      "You find yourself in a dark forest. What would you like to do?\n",
      "1. Go deeper into the forest.\n",
      "2. Look for a path to escape.\n"
     ]
    },
    {
     "name": "stdin",
     "output_type": "stream",
     "text": [
      "Enter your choice (1/2):  1\n"
     ]
    },
    {
     "name": "stdout",
     "output_type": "stream",
     "text": [
      "You venture deeper into the forest and encounter a wild animal!\n",
      "What will you do?\n",
      "1. Fight the animal.\n",
      "2. Try to sneak away quietly.\n"
     ]
    },
    {
     "name": "stdin",
     "output_type": "stream",
     "text": [
      "Enter your choice (1/2):  1\n"
     ]
    },
    {
     "name": "stdout",
     "output_type": "stream",
     "text": [
      "You fought the animal but got injured. You barely escape and find a safe spot to rest.\n"
     ]
    }
   ],
   "source": [
    "import time\n",
    "\n",
    "def delay_print(text, delay=0.06):\n",
    "    for char in text:\n",
    "        print(char, end='', flush=True)\n",
    "        time.sleep(delay)\n",
    "    print()\n",
    "\n",
    "def adventure_game():\n",
    "    delay_print(\"Welcome to the Text-Based Adventure Game!\")\n",
    "    delay_print(\"You find yourself in a dark forest. What would you like to do?\")\n",
    "    while True:\n",
    "        delay_print(\"1. Go deeper into the forest.\")\n",
    "        delay_print(\"2. Look for a path to escape.\")\n",
    "        choice = input(\"Enter your choice (1/2): \")\n",
    "        if choice == \"1\":\n",
    "            delay_print(\"You venture deeper into the forest and encounter a wild animal!\")\n",
    "            delay_print(\"What will you do?\")\n",
    "            delay_print(\"1. Fight the animal.\")\n",
    "            delay_print(\"2. Try to sneak away quietly.\")\n",
    "            choice = input(\"Enter your choice (1/2): \")\n",
    "            if choice == \"1\":\n",
    "                delay_print(\"You fought the animal but got injured. You barely escape and find a safe spot to rest.\")\n",
    "            else:\n",
    "                delay_print(\"You sneak away quietly and find a path leading out of the forest.\")\n",
    "                delay_print(\"Congratulations! You've escaped the forest.\")\n",
    "            break\n",
    "        elif choice == \"2\":\n",
    "            delay_print(\"You look for a path and find one leading out of the forest.\")\n",
    "            delay_print(\"Congratulations! You've escaped the forest.\")\n",
    "            break\n",
    "        else:\n",
    "            delay_print(\"Invalid choice. Please enter 1 or 2.\")\n",
    "\n",
    "adventure_game()"
   ]
  },
  {
   "cell_type": "markdown",
   "id": "ccdfaa33-ef68-40cf-a39c-528ada33793b",
   "metadata": {},
   "source": [
    "25. Build a program that solves a linear equation for x, considering different cases.\n"
   ]
  },
  {
   "cell_type": "markdown",
   "id": "1fc66eaf-6563-4768-b464-2aa3beeff970",
   "metadata": {},
   "source": [
    "A linear equation in one variable (x) can be represented as \"ax + b = 0\". We can solve this equation by rearranging the terms and isolating x."
   ]
  },
  {
   "cell_type": "code",
   "execution_count": 59,
   "id": "ecc6e5c3-4cd2-4fcb-9c7e-27d68241ab0c",
   "metadata": {},
   "outputs": [
    {
     "name": "stdout",
     "output_type": "stream",
     "text": [
      "Linear Equation Solver\n",
      "Ax + B = 0\n"
     ]
    },
    {
     "name": "stdin",
     "output_type": "stream",
     "text": [
      "Enter the coefficient 'a':  4\n",
      "Enter the coefficient 'b':  -2\n"
     ]
    },
    {
     "name": "stdout",
     "output_type": "stream",
     "text": [
      "The solution is x = 0.5.\n"
     ]
    }
   ],
   "source": [
    "def solve_linear_equation(a, b):\n",
    "    if a == 0:\n",
    "        if b == 0:\n",
    "            return \"Infinite solutions (all real numbers are solutions).\"\n",
    "        else:\n",
    "            return \"No solution (the equation is not valid).\"\n",
    "    else:\n",
    "        x = -b / a\n",
    "        return f\"The solution is x = {x}.\"\n",
    "\n",
    "print(\"Linear Equation Solver\")\n",
    "print(\"Ax + B = 0\")\n",
    "# Input coefficients 'a' and 'b' from the user\n",
    "a = float(input(\"Enter the coefficient 'a': \"))\n",
    "b = float(input(\"Enter the coefficient 'b': \"))\n",
    "\n",
    "# Solve the linear equation and display the result\n",
    "solution = solve_linear_equation(a, b)\n",
    "print(solution)"
   ]
  },
  {
   "cell_type": "markdown",
   "id": "d0319aa0-e7f6-4092-bc62-b8dcad7b518d",
   "metadata": {},
   "source": [
    "26. Write a program that simulates a basic quiz game with multiple-choice questions and scoring.\n"
   ]
  },
  {
   "cell_type": "code",
   "execution_count": 60,
   "id": "3199a393-ca9a-4de2-b263-1907c5705e5d",
   "metadata": {},
   "outputs": [
    {
     "name": "stdout",
     "output_type": "stream",
     "text": [
      "Welcome to the Quiz Game!\n",
      "Question 1: What is the capital of France?\n",
      "1. London\n",
      "2. Berlin\n",
      "3. Paris\n",
      "4. Madrid\n"
     ]
    },
    {
     "name": "stdin",
     "output_type": "stream",
     "text": [
      "Enter the number of your answer:  3\n"
     ]
    },
    {
     "name": "stdout",
     "output_type": "stream",
     "text": [
      "Correct!\n",
      "\n",
      "Question 2: Which gas do plants absorb from the atmosphere?\n",
      "1. Oxygen\n",
      "2. Carbon Dioxide\n",
      "3. Hydrogen\n",
      "4. Nitrogen\n"
     ]
    },
    {
     "name": "stdin",
     "output_type": "stream",
     "text": [
      "Enter the number of your answer:  2\n"
     ]
    },
    {
     "name": "stdout",
     "output_type": "stream",
     "text": [
      "Correct!\n",
      "\n",
      "Question 3: Which planet is known as the Red Planet?\n",
      "1. Venus\n",
      "2. Mars\n",
      "3. Jupiter\n",
      "4. Saturn\n"
     ]
    },
    {
     "name": "stdin",
     "output_type": "stream",
     "text": [
      "Enter the number of your answer:  2\n"
     ]
    },
    {
     "name": "stdout",
     "output_type": "stream",
     "text": [
      "Correct!\n",
      "\n",
      "Question 4: What is the largest mammal on Earth?\n",
      "1. Elephant\n",
      "2. Blue Whale\n",
      "3. Giraffe\n",
      "4. Lion\n"
     ]
    },
    {
     "name": "stdin",
     "output_type": "stream",
     "text": [
      "Enter the number of your answer:  3\n"
     ]
    },
    {
     "name": "stdout",
     "output_type": "stream",
     "text": [
      "Incorrect. The correct answer is: Blue Whale\n",
      "\n",
      "Quiz completed! Your score is: 3/4\n"
     ]
    }
   ],
   "source": [
    "import random, time\n",
    "\n",
    "def delay_print(text, delay=0.2):\n",
    "    for char in text:\n",
    "        print(char, end='')\n",
    "        time.sleep(delay)\n",
    "    print()\n",
    "\n",
    "def display_question(question, question_number):\n",
    "    print(f\"Question {question_number}: {question['question']}\")\n",
    "    for i, option in enumerate(question['options'], start=1):\n",
    "        print(f\"{i}. {option}\")\n",
    "    user_answer = int(input(\"Enter the number of your answer: \"))\n",
    "    return int(user_answer)\n",
    "\n",
    "def run_quiz(questions):\n",
    "    score = 0\n",
    "    \n",
    "    delay_print(\"Welcome to the Quiz Game!\")\n",
    "    \n",
    "    random.shuffle(questions)  # Shuffle the questions\n",
    "    for i, question in enumerate(questions, start=1):\n",
    "        user_answer = display_question(question, i)\n",
    "        if user_answer == question['answer']:\n",
    "            print(\"Correct!\")\n",
    "            score += 1\n",
    "        else:\n",
    "            print(\"Incorrect. The correct answer is:\", question['options'][question['answer'] - 1])\n",
    "        print()\n",
    "\n",
    "    print(f\"Quiz completed! Your score is: {score}/{len(questions)}\")\n",
    "\n",
    "# Create multiple-choice questions (list of dictionaries)\n",
    "questions = [\n",
    "        {\n",
    "            \"question\": \"What is the capital of France?\",\n",
    "            \"options\": [\"London\", \"Berlin\", \"Paris\", \"Madrid\"],\n",
    "            \"answer\": 3,\n",
    "        },\n",
    "        {\n",
    "            \"question\": \"Which planet is known as the Red Planet?\",\n",
    "            \"options\": [\"Venus\", \"Mars\", \"Jupiter\", \"Saturn\"],\n",
    "            \"answer\": 2,\n",
    "        },\n",
    "        {\n",
    "            \"question\": \"What is the largest mammal on Earth?\",\n",
    "            \"options\": [\"Elephant\", \"Blue Whale\", \"Giraffe\", \"Lion\"],\n",
    "            \"answer\": 2,\n",
    "        },\n",
    "        {\n",
    "            \"question\": \"Which gas do plants absorb from the atmosphere?\",\n",
    "            \"options\": [\"Oxygen\", \"Carbon Dioxide\", \"Hydrogen\", \"Nitrogen\"],\n",
    "            \"answer\": 2,\n",
    "        }\n",
    "    \n",
    "    ]\n",
    "\n",
    "# Run the quiz\n",
    "run_quiz(questions)"
   ]
  },
  {
   "cell_type": "markdown",
   "id": "8d21083b-4193-4462-bf2e-d9661bcbed41",
   "metadata": {},
   "source": [
    "27. Develop a program that determines whether a given year is a prime number or not.\n"
   ]
  },
  {
   "cell_type": "code",
   "execution_count": 61,
   "id": "5c75cff5-812d-495d-8e99-a8d20d5c984f",
   "metadata": {},
   "outputs": [
    {
     "name": "stdout",
     "output_type": "stream",
     "text": [
      "The given year is not a leap year\n"
     ]
    }
   ],
   "source": [
    "# Given year\n",
    "year = 1700\n",
    "\n",
    "if year % 4 == 0 and year % 100 != 0 or year % 400 == 0:\n",
    "    print(\"The given year is a leap year\")\n",
    "else:\n",
    "    print(\"The given year is not a leap year\")"
   ]
  },
  {
   "cell_type": "markdown",
   "id": "17e47031-f5ff-448f-87d0-519b5013993e",
   "metadata": {},
   "source": [
    "28. Create a program that sorts three numbers in ascending order using conditional statements.\n"
   ]
  },
  {
   "cell_type": "code",
   "execution_count": 62,
   "id": "431e3022-a896-40ef-9d52-c0dcd9b444c2",
   "metadata": {},
   "outputs": [
    {
     "data": {
      "text/plain": [
       "[2, 4, 6]"
      ]
     },
     "execution_count": 62,
     "metadata": {},
     "output_type": "execute_result"
    }
   ],
   "source": [
    "# The three numbers\n",
    "a, b, c = 4,2,6\n",
    "\n",
    "sorted((a,b,c))"
   ]
  },
  {
   "cell_type": "markdown",
   "id": "26f2ff04-0c5e-4ee6-9e2c-bdfd899c60cd",
   "metadata": {},
   "source": [
    "29. Build a program that determines the roots of a quartic equation using numerical methods.\n"
   ]
  },
  {
   "cell_type": "code",
   "execution_count": 63,
   "id": "2f5d4d11-2a49-43b7-9346-7f9239b84dde",
   "metadata": {},
   "outputs": [
    {
     "name": "stdout",
     "output_type": "stream",
     "text": [
      "(4, 5, 8)\n"
     ]
    }
   ],
   "source": [
    "def sort_numbers(a, b, c):\n",
    "    if a <= b <= c:\n",
    "        return a,b,c\n",
    "    elif a <= c <= b:\n",
    "        return a,c,b\n",
    "    elif b <= a <= c:\n",
    "        return b, a, c\n",
    "    elif b <= c <= a:\n",
    "        return b,c,a\n",
    "    elif c <= a <= b:\n",
    "        return c,a,b\n",
    "    else:\n",
    "        return c,b,a\n",
    "\n",
    "print(sort_numbers(8,4,5))"
   ]
  },
  {
   "cell_type": "markdown",
   "id": "f535cb8f-3c9f-46e9-abfa-ffe21c752947",
   "metadata": {},
   "source": [
    "30. Write a program that calculates the BMI (Body Mass Index) and provides health recommendations based on the user's input."
   ]
  },
  {
   "cell_type": "code",
   "execution_count": 64,
   "id": "cec187e9-9682-4070-a557-294b094c058e",
   "metadata": {},
   "outputs": [
    {
     "name": "stdin",
     "output_type": "stream",
     "text": [
      "Enter your weight (in kilograms):  78\n",
      "Enter your height (in meters):  1.78\n"
     ]
    },
    {
     "name": "stdout",
     "output_type": "stream",
     "text": [
      "Your BMI is: 24.62\n",
      "You are within a healthy weight range. Keep it up!\n"
     ]
    }
   ],
   "source": [
    "def calculate_bmi(weight, height):\n",
    "    return weight / (height * height)\n",
    "\n",
    "def get_health_recommendation(bmi):\n",
    "    if bmi < 18.5:\n",
    "        return \"You are underweight. Consider gaining weight in a healthy way.\"\n",
    "    elif 18.5 <= bmi < 24.9:\n",
    "        return \"You are within a healthy weight range. Keep it up!\"\n",
    "    elif 25 <= bmi < 29.9:\n",
    "        return \"You are overweight. Consider losing weight for better health.\"\n",
    "    else:\n",
    "        return \"You are obese. Consult a healthcare professional for guidance.\"\n",
    "\n",
    "# Input weight (in kilograms) and height (in meters)\n",
    "weight = float(input(\"Enter your weight (in kilograms): \"))\n",
    "height = float(input(\"Enter your height (in meters): \"))\n",
    "\n",
    "# Calculate BMI\n",
    "bmi = calculate_bmi(weight, height)\n",
    "\n",
    "# Get health recommendation based on BMI\n",
    "recommendation = get_health_recommendation(bmi)\n",
    "\n",
    "# Display BMI and recommendation\n",
    "print(f\"Your BMI is: {bmi:.2f}\")\n",
    "print(recommendation)"
   ]
  },
  {
   "cell_type": "markdown",
   "id": "e89e251b-af04-4453-b851-8003ddb60975",
   "metadata": {},
   "source": [
    "# Challenge Level:"
   ]
  },
  {
   "cell_type": "markdown",
   "id": "d384b9bc-1e6c-42c6-bb62-4ceb7b4217c9",
   "metadata": {},
   "source": [
    "31. Create a program that validates a password based on complexity rules (length, characters, etc.).\n"
   ]
  },
  {
   "cell_type": "code",
   "execution_count": 65,
   "id": "a24b2278-927e-41a8-a0ff-aafc62502057",
   "metadata": {},
   "outputs": [
    {
     "name": "stdin",
     "output_type": "stream",
     "text": [
      "Enter a password:  Mhufhh@123\n"
     ]
    },
    {
     "name": "stdout",
     "output_type": "stream",
     "text": [
      "Password is valid.\n"
     ]
    }
   ],
   "source": [
    "import re\n",
    "\n",
    "def is_valid_password(password):\n",
    "    # Define complexity rules\n",
    "    min_length = 8\n",
    "    requires_digit = True\n",
    "    requires_uppercase = True\n",
    "    requires_lowercase = True\n",
    "    requires_special_char = True\n",
    "\n",
    "    # Check the length\n",
    "    if len(password) < min_length:\n",
    "        print(f'Password should be at least {min_length} characters long.')\n",
    "        return False\n",
    "\n",
    "    # Check for at least one digit\n",
    "    if requires_digit and not re.search(r'\\d', password):\n",
    "        print('Password should contain at least one digit.')\n",
    "        return False\n",
    "\n",
    "    # Check for at least one uppercase letter\n",
    "    if requires_uppercase and not re.search(r'[A-Z]', password):\n",
    "        print('Password should contain at least one uppercase letter.')\n",
    "        return False\n",
    "\n",
    "    # Check for at least one lowercase letter\n",
    "    if requires_lowercase and not re.search(r'[a-z]', password):\n",
    "        print('Password should contain at least one lowercase letter.')\n",
    "        \n",
    "        return False\n",
    "\n",
    "    # Check for at least one special character (e.g., !, @, #, $, %, etc.)\n",
    "    if requires_special_char and not re.search(r'[!@#\\$%^&*(),.?\":{}|<>]', password):\n",
    "        print('Password should contain at least one special character.')\n",
    "        return False\n",
    "\n",
    "    return True\n",
    "\n",
    "# Input a password\n",
    "password = input(\"Enter a password: \")\n",
    "\n",
    "# Validate the password\n",
    "if is_valid_password(password):\n",
    "    print(\"Password is valid.\")\n",
    "else:\n",
    "    print(\"Password is invalid. Please follow the complexity rules.\")"
   ]
  },
  {
   "cell_type": "markdown",
   "id": "bb2e94b0-c2d4-4c27-8a04-d624290db49f",
   "metadata": {},
   "source": [
    "32. Develop a program that performs matrix addition and subtraction based on user input.\n"
   ]
  },
  {
   "cell_type": "code",
   "execution_count": 66,
   "id": "0fc1f342-7239-4672-9aa7-e3ca2305b83a",
   "metadata": {},
   "outputs": [
    {
     "name": "stdin",
     "output_type": "stream",
     "text": [
      "Enter the number of rows:  2\n",
      "Enter the number of columns:  3\n"
     ]
    },
    {
     "name": "stdout",
     "output_type": "stream",
     "text": [
      "Enter Matrix A:\n"
     ]
    },
    {
     "name": "stdin",
     "output_type": "stream",
     "text": [
      "Enter element at position (1,1):  2\n",
      "Enter element at position (1,2):  3\n",
      "Enter element at position (1,3):  4\n",
      "Enter element at position (2,1):  2\n",
      "Enter element at position (2,2):  1\n",
      "Enter element at position (2,3):  3\n"
     ]
    },
    {
     "name": "stdout",
     "output_type": "stream",
     "text": [
      "Enter Matrix B:\n"
     ]
    },
    {
     "name": "stdin",
     "output_type": "stream",
     "text": [
      "Enter element at position (1,1):  3\n",
      "Enter element at position (1,2):  4\n",
      "Enter element at position (1,3):  2\n",
      "Enter element at position (2,1):  4\n",
      "Enter element at position (2,2):  2\n",
      "Enter element at position (2,3):  4\n"
     ]
    },
    {
     "name": "stdout",
     "output_type": "stream",
     "text": [
      "\n",
      "Matrix A:\n",
      "2.0  3.0  4.0  \n",
      "2.0  1.0  3.0  \n",
      "\n",
      "Matrix B:\n",
      "3.0  4.0  2.0  \n",
      "4.0  2.0  4.0  \n",
      "\n",
      "Matrix A + B:\n",
      "5.0  7.0  6.0  \n",
      "6.0  3.0  7.0  \n",
      "\n",
      "Matrix A - B:\n",
      "-1.0  -1.0  2.0  \n",
      "-2.0  -1.0  -1.0  \n"
     ]
    }
   ],
   "source": [
    "def create_matrix(rows, cols):\n",
    "    matrix = []\n",
    "    for i in range(rows):\n",
    "        row = []\n",
    "        for j in range(cols):\n",
    "            element = float(input(f\"Enter element at position ({i+1},{j+1}): \"))\n",
    "            row.append(element)\n",
    "        matrix.append(row)\n",
    "    return matrix\n",
    "\n",
    "def add_matrices(matrix1, matrix2):\n",
    "    if len(matrix1) != len(matrix2) or len(matrix1[0]) != len(matrix2[0]):\n",
    "        return None  # Matrices cannot be added\n",
    "    result = []\n",
    "    for i in range(len(matrix1)):\n",
    "        row = []\n",
    "        for j in range(len(matrix1[0])):\n",
    "            row.append(matrix1[i][j] + matrix2[i][j])\n",
    "        result.append(row)\n",
    "    return result\n",
    "\n",
    "def subtract_matrices(matrix1, matrix2):\n",
    "    if len(matrix1) != len(matrix2) or len(matrix1[0]) != len(matrix2[0]):\n",
    "        return None  # Matrices cannot be subtracted\n",
    "    result = []\n",
    "    for i in range(len(matrix1)):\n",
    "        row = []\n",
    "        for j in range(len(matrix1[0])):\n",
    "            row.append(matrix1[i][j] - matrix2[i][j])\n",
    "        result.append(row)\n",
    "    return result\n",
    "\n",
    "def display_matrix(matrix):\n",
    "    for row in matrix:\n",
    "        for element in row:\n",
    "            print(element, end=\"  \")\n",
    "        print()\n",
    "\n",
    "# Input matrix dimensions\n",
    "rows = int(input(\"Enter the number of rows: \"))\n",
    "cols = int(input(\"Enter the number of columns: \"))\n",
    "\n",
    "# Input matrices\n",
    "print(\"Enter Matrix A:\")\n",
    "matrix_a = create_matrix(rows, cols)\n",
    "\n",
    "print(\"Enter Matrix B:\")\n",
    "matrix_b = create_matrix(rows, cols)\n",
    "\n",
    "# Perform addition and subtraction\n",
    "sum_result = add_matrices(matrix_a, matrix_b)\n",
    "difference_result = subtract_matrices(matrix_a, matrix_b)\n",
    "\n",
    "# Display results\n",
    "print(\"\\nMatrix A:\")\n",
    "display_matrix(matrix_a)\n",
    "\n",
    "print(\"\\nMatrix B:\")\n",
    "display_matrix(matrix_b)\n",
    "\n",
    "if sum_result:\n",
    "    print(\"\\nMatrix A + B:\")\n",
    "    display_matrix(sum_result)\n",
    "else:\n",
    "    print(\"\\nMatrices cannot be added.\")\n",
    "\n",
    "if difference_result:\n",
    "    print(\"\\nMatrix A - B:\")\n",
    "    display_matrix(difference_result)\n",
    "else:\n",
    "    print(\"\\nMatrices cannot be subtracted.\")"
   ]
  },
  {
   "cell_type": "markdown",
   "id": "5663bec4-27a9-41b2-b777-a8c61a45336d",
   "metadata": {},
   "source": [
    "33. Write a program that calculates the greatest common divisor (GCD) of two numbers using the Euclidean algorithm.\n"
   ]
  },
  {
   "cell_type": "markdown",
   "id": "813dba52-0151-4ad3-98a6-c80a8e58e883",
   "metadata": {},
   "source": [
    "The euclidean_gcd function calculates the GCD of two numbers a and b using the Euclidean algorithm. It continues to replace the larger number with the remainder of the division until b becomes zero."
   ]
  },
  {
   "cell_type": "code",
   "execution_count": 67,
   "id": "54189268-08d6-4b59-b8b3-3025058fe7d5",
   "metadata": {},
   "outputs": [
    {
     "name": "stdin",
     "output_type": "stream",
     "text": [
      "Enter the first number:  70\n",
      "Enter the second number:  40\n"
     ]
    },
    {
     "name": "stdout",
     "output_type": "stream",
     "text": [
      "The GCD of 70 and 40 is 10\n"
     ]
    }
   ],
   "source": [
    "def euclidean_gcd(a, b):\n",
    "    while b:\n",
    "        a, b = b, a % b\n",
    "    return a\n",
    "\n",
    "# Input two numbers\n",
    "num1 = int(input(\"Enter the first number: \"))\n",
    "num2 = int(input(\"Enter the second number: \"))\n",
    "\n",
    "# Calculate GCD using the Euclidean algorithm\n",
    "gcd = euclidean_gcd(num1, num2)\n",
    "\n",
    "# Display the GCD\n",
    "print(f\"The GCD of {num1} and {num2} is {gcd}\")"
   ]
  },
  {
   "cell_type": "markdown",
   "id": "9153a5d0-c8a3-407b-8d67-98469d9a44ef",
   "metadata": {},
   "source": [
    "34. Build a program that performs matrix multiplication using nested loops and conditional statements.\n"
   ]
  },
  {
   "cell_type": "code",
   "execution_count": 68,
   "id": "9235872d-ba33-411b-8c3b-e2465aba4ed5",
   "metadata": {},
   "outputs": [
    {
     "name": "stdin",
     "output_type": "stream",
     "text": [
      "Enter the number of rows for Matrix A:  2\n",
      "Enter the number of columns for Matrix A:  3\n",
      "Enter the number of rows for Matrix B:  3\n",
      "Enter the number of columns for Matrix B:  4\n"
     ]
    },
    {
     "name": "stdout",
     "output_type": "stream",
     "text": [
      "Enter Matrix A:\n"
     ]
    },
    {
     "name": "stdin",
     "output_type": "stream",
     "text": [
      "Enter element at position (1,1):  2\n",
      "Enter element at position (1,2):  3\n",
      "Enter element at position (1,3):  4\n",
      "Enter element at position (2,1):  4\n",
      "Enter element at position (2,2):  5\n",
      "Enter element at position (2,3):  1\n"
     ]
    },
    {
     "name": "stdout",
     "output_type": "stream",
     "text": [
      "Enter Matrix B:\n"
     ]
    },
    {
     "name": "stdin",
     "output_type": "stream",
     "text": [
      "Enter element at position (1,1):  2\n",
      "Enter element at position (1,2):  3\n",
      "Enter element at position (1,3):  4\n",
      "Enter element at position (1,4):  5\n",
      "Enter element at position (2,1):  6\n",
      "Enter element at position (2,2):  2\n",
      "Enter element at position (2,3):  4\n",
      "Enter element at position (2,4):  5\n",
      "Enter element at position (3,1):  2\n",
      "Enter element at position (3,2):  3\n",
      "Enter element at position (3,3):  4\n",
      "Enter element at position (3,4):  3\n"
     ]
    },
    {
     "name": "stdout",
     "output_type": "stream",
     "text": [
      "\n",
      "Matrix A:\n",
      "2.0  3.0  4.0  \n",
      "4.0  5.0  1.0  \n",
      "\n",
      "Matrix B:\n",
      "2.0  3.0  4.0  5.0  \n",
      "6.0  2.0  4.0  5.0  \n",
      "2.0  3.0  4.0  3.0  \n",
      "\n",
      "Matrix A * B:\n",
      "30.0  24.0  36.0  37.0  \n",
      "40.0  25.0  40.0  48.0  \n"
     ]
    }
   ],
   "source": [
    "def create_matrix(rows, cols):\n",
    "    matrix = []\n",
    "    for i in range(rows):\n",
    "        row = []\n",
    "        for j in range(cols):\n",
    "            element = float(input(f\"Enter element at position ({i + 1},{j + 1}): \"))\n",
    "            row.append(element)\n",
    "        matrix.append(row)\n",
    "    return matrix\n",
    "\n",
    "def multiply_matrices(matrix_a, matrix_b):\n",
    "    if len(matrix_a[0]) != len(matrix_b):\n",
    "        return None  # Matrices cannot be multiplied\n",
    "    result = []\n",
    "    for i in range(len(matrix_a)):\n",
    "        row = []\n",
    "        for j in range(len(matrix_b[0])):\n",
    "            product = 0\n",
    "            for k in range(len(matrix_b)):\n",
    "                product += matrix_a[i][k] * matrix_b[k][j]\n",
    "            row.append(product)\n",
    "        result.append(row)\n",
    "    return result\n",
    "\n",
    "def display_matrix(matrix):\n",
    "    for row in matrix:\n",
    "        for element in row:\n",
    "            print(element, end=\"  \")\n",
    "        print()\n",
    "\n",
    "# Input matrix dimensions\n",
    "rows_a = int(input(\"Enter the number of rows for Matrix A: \"))\n",
    "cols_a = int(input(\"Enter the number of columns for Matrix A: \"))\n",
    "\n",
    "rows_b = int(input(\"Enter the number of rows for Matrix B: \"))\n",
    "cols_b = int(input(\"Enter the number of columns for Matrix B: \"))\n",
    "\n",
    "# Input matrices\n",
    "print(\"Enter Matrix A:\")\n",
    "matrix_a = create_matrix(rows_a, cols_a)\n",
    "\n",
    "print(\"Enter Matrix B:\")\n",
    "matrix_b = create_matrix(rows_b, cols_b)\n",
    "\n",
    "# Perform matrix multiplication\n",
    "product = multiply_matrices(matrix_a, matrix_b)\n",
    "\n",
    "# Display results\n",
    "print(\"\\nMatrix A:\")\n",
    "display_matrix(matrix_a)\n",
    "\n",
    "print(\"\\nMatrix B:\")\n",
    "display_matrix(matrix_b)\n",
    "\n",
    "if product:\n",
    "    print(\"\\nMatrix A * B:\")\n",
    "    display_matrix(product)\n",
    "else:\n",
    "    print(\"\\nMatrices cannot be multiplied due to dimension incompatibility.\")"
   ]
  },
  {
   "cell_type": "markdown",
   "id": "6990d287-83ca-4632-9003-60a633a51252",
   "metadata": {},
   "source": [
    "35. Create a program that simulates a basic text-based tic-tac-toe game against the computer.\n"
   ]
  },
  {
   "cell_type": "code",
   "execution_count": 69,
   "id": "ff271d3d-0faa-4f46-8b83-09c7f7d0f5cc",
   "metadata": {},
   "outputs": [
    {
     "name": "stdout",
     "output_type": "stream",
     "text": [
      "Let's play Tic-Tac-Toe!\n",
      "  |   |  \n",
      "---------\n",
      "  |   |  \n",
      "---------\n",
      "  |   |  \n",
      "---------\n"
     ]
    },
    {
     "name": "stdin",
     "output_type": "stream",
     "text": [
      "Enter your move (row and column separated by whitespace, e.g., 1 2):  1 1\n"
     ]
    },
    {
     "name": "stdout",
     "output_type": "stream",
     "text": [
      "  |   |  \n",
      "---------\n",
      "  | X |  \n",
      "---------\n",
      "  |   |  \n",
      "---------\n",
      "Computer's move:\n",
      "  |   | O\n",
      "---------\n",
      "  | X |  \n",
      "---------\n",
      "  |   |  \n",
      "---------\n"
     ]
    },
    {
     "name": "stdin",
     "output_type": "stream",
     "text": [
      "Enter your move (row and column separated by whitespace, e.g., 1 2):  0 2\n"
     ]
    },
    {
     "name": "stdout",
     "output_type": "stream",
     "text": [
      "Cell is already occupied. Try again.\n",
      "  |   | O\n",
      "---------\n",
      "  | X |  \n",
      "---------\n",
      "  |   |  \n",
      "---------\n"
     ]
    },
    {
     "name": "stdin",
     "output_type": "stream",
     "text": [
      "Enter your move (row and column separated by whitespace, e.g., 1 2):  2 0\n"
     ]
    },
    {
     "name": "stdout",
     "output_type": "stream",
     "text": [
      "  |   | O\n",
      "---------\n",
      "  | X |  \n",
      "---------\n",
      "X |   |  \n",
      "---------\n",
      "Computer's move:\n",
      "O |   | O\n",
      "---------\n",
      "  | X |  \n",
      "---------\n",
      "X |   |  \n",
      "---------\n"
     ]
    },
    {
     "name": "stdin",
     "output_type": "stream",
     "text": [
      "Enter your move (row and column separated by whitespace, e.g., 1 2):  0 1\n"
     ]
    },
    {
     "name": "stdout",
     "output_type": "stream",
     "text": [
      "O | X | O\n",
      "---------\n",
      "  | X |  \n",
      "---------\n",
      "X |   |  \n",
      "---------\n",
      "Computer's move:\n",
      "O | X | O\n",
      "---------\n",
      "  | X |  \n",
      "---------\n",
      "X | O |  \n",
      "---------\n"
     ]
    },
    {
     "name": "stdin",
     "output_type": "stream",
     "text": [
      "Enter your move (row and column separated by whitespace, e.g., 1 2):  1 2\n"
     ]
    },
    {
     "name": "stdout",
     "output_type": "stream",
     "text": [
      "O | X | O\n",
      "---------\n",
      "  | X | X\n",
      "---------\n",
      "X | O |  \n",
      "---------\n",
      "Computer's move:\n",
      "O | X | O\n",
      "---------\n",
      "O | X | X\n",
      "---------\n",
      "X | O |  \n",
      "---------\n"
     ]
    },
    {
     "name": "stdin",
     "output_type": "stream",
     "text": [
      "Enter your move (row and column separated by whitespace, e.g., 1 2):  2 2\n"
     ]
    },
    {
     "name": "stdout",
     "output_type": "stream",
     "text": [
      "O | X | O\n",
      "---------\n",
      "O | X | X\n",
      "---------\n",
      "X | O | X\n",
      "---------\n",
      "It's a tie!\n"
     ]
    }
   ],
   "source": [
    "import random\n",
    "\n",
    "def print_board(board):\n",
    "    for row in board:\n",
    "        print(\" | \".join(row))\n",
    "        print(\"-\" * 9)\n",
    "\n",
    "def check_win(board, player):\n",
    "    # check for horizontal\n",
    "    for row in board:\n",
    "        if all(cell == player for cell in row):\n",
    "            return True\n",
    "    # check for vertical\n",
    "    for col in range(3):\n",
    "        if all(board[row][col] == player for row in range(3)):\n",
    "            return True\n",
    "    # check for diagonal\n",
    "    if all(board[i][i] == player for i in range(3)) or all(board[i][2 - i] == player for i in range(3)):\n",
    "        return True\n",
    "\n",
    "    return False\n",
    "\n",
    "def is_full(board):\n",
    "    return all(cell != \" \" for row in board for cell in row)\n",
    "\n",
    "def get_empty_cells(board):\n",
    "    empty_cells = []\n",
    "    for row in range(3):\n",
    "        for col in range(3):\n",
    "            if board[row][col] == \" \":\n",
    "                empty_cells.append((row, col))\n",
    "    return empty_cells\n",
    "\n",
    "def computer_move(board):\n",
    "    empty_cells = get_empty_cells(board)\n",
    "    return random.choice(empty_cells)\n",
    "\n",
    "def play_game():\n",
    "    board = [[\" \" for _ in range(3)] for _ in range(3)]\n",
    "    player = \"X\"\n",
    "    computer = \"O\"\n",
    "\n",
    "    print(\"Let's play Tic-Tac-Toe!\")\n",
    "\n",
    "    while True:\n",
    "        print_board(board)\n",
    "\n",
    "        if player == \"X\":\n",
    "            row, col = map(int, input(\"Enter your move (row and column separated by whitespace, e.g., 1 2): \").split())\n",
    "        else:\n",
    "            print(\"Computer's move:\")\n",
    "            row, col = computer_move(board)\n",
    "\n",
    "        if board[row][col] != \" \":\n",
    "            print(\"Cell is already occupied. Try again.\")\n",
    "            continue\n",
    "\n",
    "        board[row][col] = player\n",
    "\n",
    "        if check_win(board, player):\n",
    "            print_board(board)\n",
    "            print(f\"Player {player} wins!\")\n",
    "            break\n",
    "\n",
    "        if is_full(board):\n",
    "            print_board(board)\n",
    "            print(\"It's a tie!\")\n",
    "            break\n",
    "\n",
    "        player = \"O\" if player == \"X\" else \"X\"\n",
    "\n",
    "play_game()"
   ]
  },
  {
   "cell_type": "markdown",
   "id": "bc6506f6-700f-4f9d-a284-152b82cf8b94",
   "metadata": {},
   "source": [
    "36. Write a program that generates Fibonacci numbers up to a specified term using iterative methods.\n"
   ]
  },
  {
   "cell_type": "code",
   "execution_count": 70,
   "id": "231f2263-5c05-42bd-85c9-b536533f71af",
   "metadata": {},
   "outputs": [
    {
     "data": {
      "text/plain": [
       "[0, 1, 1, 2, 3, 5, 8, 13, 21, 34]"
      ]
     },
     "execution_count": 70,
     "metadata": {},
     "output_type": "execute_result"
    }
   ],
   "source": [
    "def fibonacci(n):\n",
    "    \"\"\"Generates Fibonacci numbers up to a specified term using iterative methods.\n",
    "    Args:\n",
    "    n: The term up to which Fibonacci numbers should be generated.\n",
    "    Returns:\n",
    "    A list of Fibonacci numbers up to the specified term.\n",
    "    \"\"\"\n",
    "    # Initialize the first two Fibonacci numbers.\n",
    "    a, b = 0, 1\n",
    "    \n",
    "    fib_lst = []\n",
    "    \n",
    "    for _ in range(n):\n",
    "        \n",
    "        fib_lst.append(a)\n",
    "        \n",
    "        # Calculate the next Fibonacci number.\n",
    "        c = a + b\n",
    "        # Update the values of a and b.\n",
    "        a, b = b, c\n",
    "        # Return the list of Fibonacci numbers.\n",
    "        \n",
    "    return fib_lst\n",
    "    \n",
    "fibonacci(10)"
   ]
  },
  {
   "cell_type": "markdown",
   "id": "6a83fe1c-9637-4772-8b42-ddb8f685b75a",
   "metadata": {},
   "source": [
    "37. Develop a program that calculates the nth term of the Fibonacci sequence using memorization.\n"
   ]
  },
  {
   "cell_type": "code",
   "execution_count": 71,
   "id": "c93afa4d-bfd6-46ca-844b-f824ec039135",
   "metadata": {},
   "outputs": [
    {
     "name": "stdout",
     "output_type": "stream",
     "text": [
      "saved value for n = 3\n",
      "Found value of n = 3 in cache\n",
      "saved value for n = 4\n",
      "saved value for n = 5\n",
      "Result is  3\n",
      "{3: 1, 4: 2, 5: 3}\n"
     ]
    }
   ],
   "source": [
    "# Create a dictionary to store computed Fibonacci values\n",
    "fibonacci_cache = {}\n",
    "\n",
    "def fibonacci_with_memorization(n):\n",
    "    \n",
    "    # call out from the cache\n",
    "    if n in fibonacci_cache:\n",
    "        print(f\"Found value of n = {n} in cache\")\n",
    "        return fibonacci_cache[n]\n",
    "    \n",
    "    elif n <= 0:\n",
    "        return \"Invalid. Please enter a positive value of n !\"\n",
    "    \n",
    "    elif n == 1:\n",
    "        return 0\n",
    "        \n",
    "    elif n == 2:\n",
    "        return 1\n",
    "        \n",
    "    else:\n",
    "        # Calculate the nth Fibonacci term using recursion and memoization\n",
    "        value = fibonacci_with_memorization(n-2) + fibonacci_with_memorization(n-1)\n",
    "        # saving the value for future use\n",
    "        print(f\"saved value for n = {n}\")\n",
    "        fibonacci_cache[n] = value\n",
    "        return value\n",
    "\n",
    "print(\"Result is \", fibonacci_with_memorization(5))\n",
    "print(fibonacci_cache)"
   ]
  },
  {
   "cell_type": "markdown",
   "id": "149800e0-2523-48cc-a408-974464a10c73",
   "metadata": {},
   "source": [
    "38. Create a program that generates a calendar for a given month and year using conditional statements.\n"
   ]
  },
  {
   "cell_type": "code",
   "execution_count": 72,
   "id": "7fc17d07-2d2b-4ac8-8142-0f8ff5a6cddf",
   "metadata": {},
   "outputs": [
    {
     "name": "stdin",
     "output_type": "stream",
     "text": [
      "Enter the year:  2023\n",
      "Enter the month (1-12):  10\n"
     ]
    },
    {
     "name": "stdout",
     "output_type": "stream",
     "text": [
      "\n",
      "Calendar for October 2023:\n",
      "\n",
      "    October 2023\n",
      "Mo Tu We Th Fr Sa Su\n",
      "                   1\n",
      " 2  3  4  5  6  7  8\n",
      " 9 10 11 12 13 14 15\n",
      "16 17 18 19 20 21 22\n",
      "23 24 25 26 27 28 29\n",
      "30 31\n",
      "\n"
     ]
    }
   ],
   "source": [
    "import calendar\n",
    "\n",
    "# Input the year and month\n",
    "year = int(input(\"Enter the year: \"))\n",
    "month = int(input(\"Enter the month (1-12): \"))\n",
    "\n",
    "if 1 <= month <= 12:\n",
    "    # Generate and display the calendar\n",
    "    print(f\"\\nCalendar for {calendar.month_name[month]} {year}:\\n\")\n",
    "    print(calendar.month(year, month))\n",
    "else:\n",
    "    print(\"Invalid month. Please enter a month between 1 and 12.\")"
   ]
  },
  {
   "cell_type": "markdown",
   "id": "4d4d3173-57fd-4582-bc2b-ea0fc6ef87b2",
   "metadata": {},
   "source": [
    "The display_calendar function calculates and displays a calendar for a given year and month. It calculates the starting day of the month using the Zeller's Congruence algorithm and then iterates through the days to display them in a calendar format."
   ]
  },
  {
   "cell_type": "code",
   "execution_count": 73,
   "id": "ec81f27b-9406-4775-9038-15a6d4f145fb",
   "metadata": {},
   "outputs": [
    {
     "name": "stdin",
     "output_type": "stream",
     "text": [
      "Enter the year:  2023\n",
      "Enter the month (1-12):  10\n"
     ]
    },
    {
     "name": "stdout",
     "output_type": "stream",
     "text": [
      "Calendar for October 2023\n",
      "\n",
      "Mo Tu We Th Fr Sa Su\n",
      "                   1 \n",
      "\n",
      " 2  3  4  5  6  7  8 \n",
      "\n",
      " 9 10 11 12 13 14 15 \n",
      "\n",
      "16 17 18 19 20 21 22 \n",
      "\n",
      "23 24 25 26 27 28 29 \n",
      "\n",
      "30 31 \n",
      "\n"
     ]
    }
   ],
   "source": [
    "# Function to determine if a year is a leap year\n",
    "def is_leap_year(year):\n",
    "    if (year % 4 == 0 and year % 100 != 0) or (year % 400 == 0):\n",
    "        return True\n",
    "    return False\n",
    "\n",
    "# Function to get the number of days in a month for a given year\n",
    "def days_in_month(year, month):\n",
    "    if month in {1, 3, 5, 7, 8, 10, 12}:\n",
    "        return 31\n",
    "    elif month in {4, 6, 9, 11}:\n",
    "        return 30\n",
    "    elif month == 2 and is_leap_year(year):\n",
    "        return 29\n",
    "    else:\n",
    "        return 28\n",
    "\n",
    "# Function to display a calendar for a given month and year\n",
    "def display_calendar(year, month):\n",
    "    # Define day names and month names\n",
    "    day_names = [\"Mo\", \"Tu\", \"We\", \"Th\", \"Fr\", \"Sa\", \"Su\"]\n",
    "    month_names = [\"January\", \"February\", \"March\", \"April\", \"May\", \"June\",\n",
    "                   \"July\", \"August\", \"September\", \"October\", \"November\", \"December\"]\n",
    "\n",
    "    # Calculate the starting day of the month\n",
    "    first_day = (year + (year // 4) - (year // 100) + (year // 400) + (13 * month + 8) // 5) % 7\n",
    "\n",
    "    # Display the calendar\n",
    "    print(f\"Calendar for {month_names[month - 1]} {year}\\n\")\n",
    "    print(\" \".join(day_names))\n",
    "    for _ in range(first_day):\n",
    "        print(\"  \", end=\" \")\n",
    "    for day in range(1, days_in_month(year, month) + 1):\n",
    "        print(f\"{day:2}\", end=\" \")\n",
    "        first_day = (first_day + 1) % 7\n",
    "        if first_day == 0:\n",
    "            print(\"\\n\")\n",
    "    print(\"\\n\")\n",
    "\n",
    "# Input the year and month\n",
    "year = int(input(\"Enter the year: \"))\n",
    "month = int(input(\"Enter the month (1-12): \"))\n",
    "\n",
    "if 1 <= month <= 12:\n",
    "    display_calendar(year, month)\n",
    "else:\n",
    "    print(\"Invalid month. Please enter a month between 1 and 12.\")"
   ]
  },
  {
   "cell_type": "markdown",
   "id": "9f4a1fc1-2eae-4be4-b36e-e6d25082e8c6",
   "metadata": {},
   "source": [
    "39. Build a program that simulates a basic text-based blackjack game against the computer.\n"
   ]
  },
  {
   "cell_type": "code",
   "execution_count": 74,
   "id": "f8abcc59-e91b-4895-ad90-a467fef60b9c",
   "metadata": {},
   "outputs": [
    {
     "name": "stdout",
     "output_type": "stream",
     "text": [
      "Your hand: ['Q', 'J']\n",
      "Computer's hand: 9\n"
     ]
    },
    {
     "name": "stdin",
     "output_type": "stream",
     "text": [
      "Do you want to 'hit' or 'stand'?  stand\n"
     ]
    },
    {
     "name": "stdout",
     "output_type": "stream",
     "text": [
      "Your hand: ['Q', 'J'] (20)\n",
      "Computer's hand: ['9', '9'] (18)\n",
      "You win!\n"
     ]
    }
   ],
   "source": [
    "import random\n",
    "\n",
    "# Function to draw a card\n",
    "def draw_card():\n",
    "    cards = ['2', '3', '4', '5', '6', '7', '8', '9', '10', 'J', 'Q', 'K', 'A']\n",
    "    return random.choice(cards)\n",
    "\n",
    "# Function to calculate the value of a hand\n",
    "def calculate_hand_value(hand):\n",
    "    value = 0\n",
    "    aces = 0\n",
    "    for card in hand:\n",
    "        if card in '23456789' or card == '10':\n",
    "            value += int(card)\n",
    "        elif card in 'JQK':\n",
    "            value += 10\n",
    "        elif card == 'A':\n",
    "            aces += 1\n",
    "            value += 11\n",
    "    while aces > 0 and value > 21:\n",
    "        value -= 10\n",
    "        aces -= 1\n",
    "    return value\n",
    "\n",
    "# Initialize the player and computer hands\n",
    "player_hand = [draw_card(), draw_card()]\n",
    "computer_hand = [draw_card()]\n",
    "\n",
    "# Display the initial hands\n",
    "print(f\"Your hand: {player_hand}\")\n",
    "print(f\"Computer's hand: {computer_hand[0]}\")\n",
    "\n",
    "# Player's turn\n",
    "while True:\n",
    "    action = input(\"Do you want to 'hit' or 'stand'? \").lower()\n",
    "    if action == 'hit':\n",
    "        player_hand.append(draw_card())\n",
    "        print(f\"Your hand: {player_hand}\")\n",
    "        if calculate_hand_value(player_hand) > 21:\n",
    "            print(\"Bust! You lose.\")\n",
    "            break\n",
    "    elif action == 'stand':\n",
    "        break\n",
    "\n",
    "# Computer's turn\n",
    "while calculate_hand_value(computer_hand) < 17:\n",
    "    computer_hand.append(draw_card())\n",
    "\n",
    "# Determine the winner\n",
    "player_value = calculate_hand_value(player_hand)\n",
    "computer_value = calculate_hand_value(computer_hand)\n",
    "print(f\"Your hand: {player_hand} ({player_value})\")\n",
    "print(f\"Computer's hand: {computer_hand} ({computer_value})\")\n",
    "\n",
    "if player_value > 21:\n",
    "    print(\"You lose.\")\n",
    "elif computer_value > 21:\n",
    "    print(\"Computer busts. You win!\")\n",
    "elif player_value > computer_value:\n",
    "    print(\"You win!\")\n",
    "elif player_value < computer_value:\n",
    "    print(\"You lose.\")\n",
    "else:\n",
    "    print(\"It's a tie!\")"
   ]
  },
  {
   "cell_type": "markdown",
   "id": "7050614e-a3fa-4b5e-9f2e-dfec2e7e9ec1",
   "metadata": {},
   "source": [
    "40. Write a program that generates the prime factors of a given number using trial division.\n"
   ]
  },
  {
   "cell_type": "code",
   "execution_count": 75,
   "id": "436e316e-f699-464f-80bb-62d55bcc476d",
   "metadata": {},
   "outputs": [
    {
     "name": "stdin",
     "output_type": "stream",
     "text": [
      "Enter a number:  200\n"
     ]
    },
    {
     "name": "stdout",
     "output_type": "stream",
     "text": [
      "The prime factors of 200 are: [2, 2, 2, 5, 5]\n"
     ]
    }
   ],
   "source": [
    "def prime_factors(n):\n",
    "    factors = []\n",
    "    divisor = 2\n",
    "\n",
    "    while n > 1:\n",
    "        while n % divisor == 0:\n",
    "            factors.append(divisor)\n",
    "            n //= divisor\n",
    "        divisor += 1\n",
    "\n",
    "    return factors\n",
    "\n",
    "# Input the number for which you want to find the prime factors\n",
    "num = int(input(\"Enter a number: \"))\n",
    "\n",
    "if num <= 1:\n",
    "    print(\"Please enter a positive integer greater than 1.\")\n",
    "else:\n",
    "    # Calculate and display the prime factors\n",
    "    factors = prime_factors(num)\n",
    "    print(f\"The prime factors of {num} are: {factors}\")"
   ]
  },
  {
   "cell_type": "code",
   "execution_count": null,
   "id": "8f40e7e8-57de-4c82-94b2-51e97b9f67db",
   "metadata": {},
   "outputs": [],
   "source": []
  }
 ],
 "metadata": {
  "kernelspec": {
   "display_name": "Python 3 (ipykernel)",
   "language": "python",
   "name": "python3"
  },
  "language_info": {
   "codemirror_mode": {
    "name": "ipython",
    "version": 3
   },
   "file_extension": ".py",
   "mimetype": "text/x-python",
   "name": "python",
   "nbconvert_exporter": "python",
   "pygments_lexer": "ipython3",
   "version": "3.10.8"
  }
 },
 "nbformat": 4,
 "nbformat_minor": 5
}
