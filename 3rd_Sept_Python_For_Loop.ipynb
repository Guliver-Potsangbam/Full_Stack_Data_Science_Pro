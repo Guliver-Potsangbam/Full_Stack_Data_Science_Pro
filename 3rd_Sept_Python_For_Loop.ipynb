{
 "cells": [
  {
   "cell_type": "markdown",
   "id": "709b4fa9-bae7-4618-92c1-c835f0060ba8",
   "metadata": {},
   "source": [
    "# Basic Level:"
   ]
  },
  {
   "cell_type": "markdown",
   "id": "47be3e16-2ed0-43de-b250-26ba9b30c52e",
   "metadata": {},
   "source": [
    "1. Write a Python program to print the numbers from 1 to 10 using a `for` loop."
   ]
  },
  {
   "cell_type": "code",
   "execution_count": 1,
   "id": "ace4fe77-84fc-4bdf-abf8-4d2597f7e681",
   "metadata": {},
   "outputs": [
    {
     "name": "stdout",
     "output_type": "stream",
     "text": [
      "1\n",
      "2\n",
      "3\n",
      "4\n",
      "5\n",
      "6\n",
      "7\n",
      "8\n",
      "9\n",
      "10\n"
     ]
    }
   ],
   "source": [
    "for x in range(1,11):\n",
    "    print(x)"
   ]
  },
  {
   "cell_type": "markdown",
   "id": "48769833-183f-4ae5-8124-938ce38fb7c0",
   "metadata": {},
   "source": [
    "2. Create a program that calculates the sum of all numbers in a list using a `for` loop.\n"
   ]
  },
  {
   "cell_type": "code",
   "execution_count": 2,
   "id": "1265c9fb-d147-4668-bba6-b884e0e7e0c3",
   "metadata": {},
   "outputs": [
    {
     "name": "stdout",
     "output_type": "stream",
     "text": [
      "20\n"
     ]
    }
   ],
   "source": [
    "l = [2,4,6,8]\n",
    "\n",
    "sum_of_numbers = 0\n",
    "\n",
    "for x in l:\n",
    "    sum_of_numbers += x\n",
    "\n",
    "print(sum_of_numbers)"
   ]
  },
  {
   "cell_type": "markdown",
   "id": "3fb9bd7b-ac53-43ec-a053-e08bd98e403c",
   "metadata": {},
   "source": [
    "3. Write a program to print the characters of a string in reverse order using a `for` loop.\n"
   ]
  },
  {
   "cell_type": "code",
   "execution_count": 3,
   "id": "6bef4084-3f39-4413-b2e7-86828f3ab408",
   "metadata": {},
   "outputs": [
    {
     "name": "stdout",
     "output_type": "stream",
     "text": [
      "dlroW olleH"
     ]
    }
   ],
   "source": [
    "s = \"Hello World\"\n",
    "\n",
    "for x in s[::-1]:\n",
    "    print(x, end = \"\")"
   ]
  },
  {
   "cell_type": "markdown",
   "id": "81db67fa-892b-46c0-8507-8ccc34667636",
   "metadata": {},
   "source": [
    "4. Develop a program that finds the factorial of a given number using a `for` loop.\n"
   ]
  },
  {
   "cell_type": "code",
   "execution_count": 4,
   "id": "d8b1eada-0d10-4e2e-80da-71e631206e71",
   "metadata": {},
   "outputs": [
    {
     "name": "stdout",
     "output_type": "stream",
     "text": [
      "24\n"
     ]
    }
   ],
   "source": [
    "number = 4\n",
    "\n",
    "if number < 0:\n",
    "    fact = 0\n",
    "    \n",
    "elif (number == 0 or number == 1):\n",
    "    fact = 1\n",
    "    \n",
    "else:\n",
    "    fact = 1\n",
    "    for i in range(number,0, -1):\n",
    "        fact = fact * i\n",
    "        \n",
    "print(fact)"
   ]
  },
  {
   "cell_type": "markdown",
   "id": "3bbbfca7-3ade-489d-8576-4d493f84094b",
   "metadata": {},
   "source": [
    "5. Create a program to print the multiplication table of a given number using a `for` loop.\n"
   ]
  },
  {
   "cell_type": "code",
   "execution_count": 5,
   "id": "d6cb7c9a-c644-4faa-9fac-c20867105958",
   "metadata": {},
   "outputs": [
    {
     "name": "stdout",
     "output_type": "stream",
     "text": [
      "5 x 1 = 5\n",
      "5 x 2 = 10\n",
      "5 x 3 = 15\n",
      "5 x 4 = 20\n",
      "5 x 5 = 25\n",
      "5 x 6 = 30\n",
      "5 x 7 = 35\n",
      "5 x 8 = 40\n",
      "5 x 9 = 45\n",
      "5 x 10 = 50\n"
     ]
    }
   ],
   "source": [
    "number = 5\n",
    "\n",
    "for i in range(1,11):\n",
    "    print(f'{number} x {i} = {number*i}')"
   ]
  },
  {
   "cell_type": "markdown",
   "id": "247ee659-c425-4950-b49b-18bfb0406c17",
   "metadata": {},
   "source": [
    "6. Write a program that counts the number of even and odd numbers in a list using a `for` loop.\n"
   ]
  },
  {
   "cell_type": "code",
   "execution_count": 6,
   "id": "9bcd8aeb-967e-4804-b42c-77f60652d015",
   "metadata": {},
   "outputs": [
    {
     "name": "stdout",
     "output_type": "stream",
     "text": [
      "4 even and 6 odd\n"
     ]
    }
   ],
   "source": [
    "l = [2,7,4,9,5,6,2,9,3,5]\n",
    "\n",
    "even = odd = 0\n",
    "\n",
    "for x in l:\n",
    "    if x % 2 == 0:\n",
    "        even+=1\n",
    "    else:\n",
    "        odd +=1\n",
    "\n",
    "print(f\"{even} even and {odd} odd\")"
   ]
  },
  {
   "cell_type": "markdown",
   "id": "91744bba-2117-4722-927f-fb6a55a5cae2",
   "metadata": {},
   "source": [
    "7. Develop a program that prints the squares of numbers from 1 to 5 using a `for` loop.\n"
   ]
  },
  {
   "cell_type": "code",
   "execution_count": 7,
   "id": "6a60e62f-12d2-42e4-952a-e75f24c5bb9e",
   "metadata": {},
   "outputs": [
    {
     "name": "stdout",
     "output_type": "stream",
     "text": [
      "1\n",
      "4\n",
      "9\n",
      "16\n",
      "25\n"
     ]
    }
   ],
   "source": [
    "for i in range(1,6):\n",
    "    print(i**2)  # i to the power of 2"
   ]
  },
  {
   "cell_type": "markdown",
   "id": "89bd0ba0-a507-42ba-86da-1b75b6b33468",
   "metadata": {},
   "source": [
    "8. Create a program to find the length of a string without using the `len()` function.\n"
   ]
  },
  {
   "cell_type": "code",
   "execution_count": 8,
   "id": "bc4f925c-9a30-4fdc-87d8-206ff7690dde",
   "metadata": {},
   "outputs": [
    {
     "name": "stdout",
     "output_type": "stream",
     "text": [
      "11\n"
     ]
    }
   ],
   "source": [
    "s = \"Hello World\"\n",
    "\n",
    "length = 0\n",
    "\n",
    "for x in s:\n",
    "    length += 1\n",
    "\n",
    "print(length)"
   ]
  },
  {
   "cell_type": "markdown",
   "id": "6ac8f054-6f10-4a9d-a7c4-1b44becebec5",
   "metadata": {},
   "source": [
    "9. Write a program that calculates the average of a list of numbers using a `for` loop.\n"
   ]
  },
  {
   "cell_type": "code",
   "execution_count": 9,
   "id": "b28340b0-f2ec-491e-a2a6-7946d71b9463",
   "metadata": {},
   "outputs": [
    {
     "name": "stdout",
     "output_type": "stream",
     "text": [
      "4.33\n"
     ]
    }
   ],
   "source": [
    "l = [2,1,6,4,1,12]\n",
    "\n",
    "length = total = 0\n",
    "\n",
    "for x in l:\n",
    "    length += 1\n",
    "    total += x\n",
    "    \n",
    "av = total/length\n",
    "print(f'{av:.2f}')"
   ]
  },
  {
   "cell_type": "markdown",
   "id": "8d6a6826-54cb-4cbb-81de-aa3c84701e9a",
   "metadata": {},
   "source": [
    "10. Develop a program that prints the first `n` Fibonacci numbers using a `for` loop.\n"
   ]
  },
  {
   "cell_type": "code",
   "execution_count": 10,
   "id": "01efaff2-7a45-42b5-bea4-8f627b95e3b4",
   "metadata": {},
   "outputs": [
    {
     "name": "stdout",
     "output_type": "stream",
     "text": [
      "0\n",
      "1\n",
      "1\n",
      "2\n",
      "3\n",
      "5\n",
      "8\n",
      "13\n",
      "21\n",
      "34\n"
     ]
    }
   ],
   "source": [
    "n = 10\n",
    "\n",
    "num1 = 0\n",
    "num2 = 1\n",
    "\n",
    "for i in range(n):\n",
    "    print(num1)\n",
    "    num3 = num1 + num2\n",
    "    num1 = num2\n",
    "    num2 = num3"
   ]
  },
  {
   "cell_type": "markdown",
   "id": "320fb515-7a8a-4695-a942-6304b07228f4",
   "metadata": {},
   "source": [
    "# Intermediate Level:\n"
   ]
  },
  {
   "cell_type": "markdown",
   "id": "3084dafa-a670-4393-ac0b-2085a5d4d82c",
   "metadata": {},
   "source": [
    "11. Write a program to check if a given list contains any duplicates using a `for` loop.\n"
   ]
  },
  {
   "cell_type": "code",
   "execution_count": 11,
   "id": "d0cb8367-8b3a-4eee-a35f-eb6c41267462",
   "metadata": {},
   "outputs": [
    {
     "name": "stdout",
     "output_type": "stream",
     "text": [
      "List has no duplicate elements.\n",
      "The list contains duplicate elements.\n"
     ]
    }
   ],
   "source": [
    "def check_duplicate(l):\n",
    "    visited = set()\n",
    "    for element in l:\n",
    "        if element in visited:\n",
    "            print(\"The list contains duplicate elements.\")\n",
    "            break\n",
    "        else:\n",
    "            visited.add(element)\n",
    "    else:\n",
    "        print(\"List has no duplicate elements.\")\n",
    "\n",
    "mylist1 = [2,3,5,7,9]\n",
    "mylist2 = [2,3,5,2,9]\n",
    "\n",
    "check_duplicate(mylist1)\n",
    "check_duplicate(mylist2)"
   ]
  },
  {
   "cell_type": "markdown",
   "id": "92c8c6d0-8edb-4d70-acdf-faff594ec6e7",
   "metadata": {},
   "source": [
    "12. Create a program that prints the prime numbers in a given range using a `for` loop.\n"
   ]
  },
  {
   "cell_type": "code",
   "execution_count": 12,
   "id": "bb53318a-7e21-4e72-85c5-fa31a89c706c",
   "metadata": {},
   "outputs": [
    {
     "name": "stdout",
     "output_type": "stream",
     "text": [
      "2\n",
      "3\n",
      "5\n",
      "7\n",
      "11\n",
      "13\n",
      "17\n"
     ]
    }
   ],
   "source": [
    "myrange = range(19)\n",
    "\n",
    "for x in myrange:\n",
    "    if x < 2:\n",
    "        continue\n",
    "    elif x == 2:\n",
    "        print(x)\n",
    "    else:\n",
    "        for i in range(2,x):\n",
    "            if x % i == 0:\n",
    "                break\n",
    "        else:\n",
    "            print(x)  "
   ]
  },
  {
   "cell_type": "markdown",
   "id": "2d067d94-08de-4c8a-b185-91dbbcb00ab2",
   "metadata": {},
   "source": [
    "13. Develop a program that counts the number of vowels in a string using a `for` loop.\n"
   ]
  },
  {
   "cell_type": "code",
   "execution_count": 13,
   "id": "37825158-c70c-45e0-b24e-9766843a970c",
   "metadata": {},
   "outputs": [
    {
     "name": "stdout",
     "output_type": "stream",
     "text": [
      "There are 7 vowels in the given sentence.\n"
     ]
    }
   ],
   "source": [
    "s = \"Hi, I am learning Python.\"\n",
    "\n",
    "num_vow = 0  # counter variable\n",
    "\n",
    "for x in s:\n",
    "    if x.lower() in \"aeiou\":  # to check the characters regardless of the case\n",
    "        num_vow += 1\n",
    "\n",
    "print(\"There are {} vowels in the given sentence.\".format(num_vow))"
   ]
  },
  {
   "cell_type": "markdown",
   "id": "f2dc1b54-d1b4-4108-a076-d6d99397738c",
   "metadata": {},
   "source": [
    "14. Write a program to find the maximum element in a 2D list using a nested `for` loop.\n"
   ]
  },
  {
   "cell_type": "code",
   "execution_count": 14,
   "id": "756bd935-66c0-4594-9c12-a93dc59b6bd3",
   "metadata": {},
   "outputs": [
    {
     "name": "stdout",
     "output_type": "stream",
     "text": [
      "19\n"
     ]
    }
   ],
   "source": [
    "my2Dlist = [[2,3,4],[4,19,6],[1,14,3]]\n",
    " \n",
    "# A variable to store the maximum element\n",
    "maxi = 0\n",
    "\n",
    "for row in my2Dlist:\n",
    "    for i in row:\n",
    "        if i > maxi:\n",
    "            maxi = i\n",
    "print(maxi)"
   ]
  },
  {
   "cell_type": "markdown",
   "id": "732f6214-a00a-4780-820f-121e85cbb212",
   "metadata": {},
   "source": [
    "15. Create a program that removes all occurrences of a specific element from a list using a `for` loop.\n"
   ]
  },
  {
   "cell_type": "code",
   "execution_count": 15,
   "id": "30711595-e06e-4a88-a0d2-582ce4d063ed",
   "metadata": {},
   "outputs": [
    {
     "name": "stdout",
     "output_type": "stream",
     "text": [
      "[3, 5, 9, 2, 5, 7, 9, 5, 3, 2]\n"
     ]
    }
   ],
   "source": [
    "l = [3,5,6,9,2,5,7,9,5,3,6,2]\n",
    "\n",
    "el = 6\n",
    "\n",
    "# Iterate each element of l one by one\n",
    "for x in l:\n",
    "    # Check if any element in l is equal to 6\n",
    "    if x == el:\n",
    "        # If we find the element 6, remove if from the list l\n",
    "        l.remove(el)\n",
    "print(l)"
   ]
  },
  {
   "cell_type": "markdown",
   "id": "aa9c5aa1-43a5-4c7a-8cb6-484f6b6acb08",
   "metadata": {},
   "source": [
    "16. Develop a program that generates a multiplication table for numbers from 1 to 5 using a nested `for` loop.\n"
   ]
  },
  {
   "cell_type": "code",
   "execution_count": 16,
   "id": "35c005aa-977b-42f4-947f-92abb7644a88",
   "metadata": {},
   "outputs": [
    {
     "name": "stdout",
     "output_type": "stream",
     "text": [
      "1 x 1 = 1\n",
      "1 x 2 = 2\n",
      "1 x 3 = 3\n",
      "1 x 4 = 4\n",
      "1 x 5 = 5\n",
      "1 x 6 = 6\n",
      "1 x 7 = 7\n",
      "1 x 8 = 8\n",
      "1 x 9 = 9\n",
      "1 x 10 = 10\n",
      "\n",
      "2 x 1 = 2\n",
      "2 x 2 = 4\n",
      "2 x 3 = 6\n",
      "2 x 4 = 8\n",
      "2 x 5 = 10\n",
      "2 x 6 = 12\n",
      "2 x 7 = 14\n",
      "2 x 8 = 16\n",
      "2 x 9 = 18\n",
      "2 x 10 = 20\n",
      "\n",
      "3 x 1 = 3\n",
      "3 x 2 = 6\n",
      "3 x 3 = 9\n",
      "3 x 4 = 12\n",
      "3 x 5 = 15\n",
      "3 x 6 = 18\n",
      "3 x 7 = 21\n",
      "3 x 8 = 24\n",
      "3 x 9 = 27\n",
      "3 x 10 = 30\n",
      "\n",
      "4 x 1 = 4\n",
      "4 x 2 = 8\n",
      "4 x 3 = 12\n",
      "4 x 4 = 16\n",
      "4 x 5 = 20\n",
      "4 x 6 = 24\n",
      "4 x 7 = 28\n",
      "4 x 8 = 32\n",
      "4 x 9 = 36\n",
      "4 x 10 = 40\n",
      "\n",
      "5 x 1 = 5\n",
      "5 x 2 = 10\n",
      "5 x 3 = 15\n",
      "5 x 4 = 20\n",
      "5 x 5 = 25\n",
      "5 x 6 = 30\n",
      "5 x 7 = 35\n",
      "5 x 8 = 40\n",
      "5 x 9 = 45\n",
      "5 x 10 = 50\n",
      "\n"
     ]
    }
   ],
   "source": [
    "for num in range(1, 6):\n",
    "    for i in range(1, 11):\n",
    "        print(f'{num} x {i} = {num * i}')\n",
    "    print()"
   ]
  },
  {
   "cell_type": "markdown",
   "id": "e10acd35-0064-4cc7-94c9-9b5050981034",
   "metadata": {},
   "source": [
    "17. Write a program that converts a list of Fahrenheit temperatures to Celsius using a `for` loop.\n"
   ]
  },
  {
   "cell_type": "markdown",
   "id": "b0106295-7dbc-44b6-9caf-ffc0891aed7a",
   "metadata": {},
   "source": [
    "### Formula :\n",
    "$ Celsius = (Fahrenheit - 32)/ \\frac {9}{5} $"
   ]
  },
  {
   "cell_type": "code",
   "execution_count": 17,
   "id": "158ff511-ed18-4a2c-9686-4898a617cdb1",
   "metadata": {},
   "outputs": [
    {
     "name": "stdout",
     "output_type": "stream",
     "text": [
      "[29.4444, 23.8889, 38.3333, 36.6667, 20.5556]\n"
     ]
    }
   ],
   "source": [
    "fahList = [85, 75, 101, 98, 69]\n",
    "\n",
    "celList = [round((x - 32)/(9/5), 4) for x in fahList]\n",
    "print(celList)"
   ]
  },
  {
   "cell_type": "markdown",
   "id": "23214ca0-91d7-4146-8ea5-53740919b24d",
   "metadata": {},
   "source": [
    "18. Create a program to print the common elements from two lists using a `for` loop.\n"
   ]
  },
  {
   "cell_type": "code",
   "execution_count": 18,
   "id": "81455306-658b-4d31-93f4-de0ee5bc6c3a",
   "metadata": {},
   "outputs": [
    {
     "name": "stdout",
     "output_type": "stream",
     "text": [
      "2 4 6 "
     ]
    }
   ],
   "source": [
    "l1 = [1,2,3,4,5,6]\n",
    "l2 = [2,4,6,8,10]\n",
    "\n",
    "for x in l1:\n",
    "    if x in l2:\n",
    "        print(x, end=\" \")\n"
   ]
  },
  {
   "cell_type": "markdown",
   "id": "d93c4c06-1884-4c9b-9042-855a31255475",
   "metadata": {},
   "source": [
    "19. Develop a program that prints the pattern of right-angled triangles using a `for` loop. Use ‘*’ to draw the pattern\n"
   ]
  },
  {
   "cell_type": "code",
   "execution_count": 19,
   "id": "3b8e6921-deff-490c-be8c-62936b33da41",
   "metadata": {},
   "outputs": [
    {
     "name": "stdout",
     "output_type": "stream",
     "text": [
      "* \n",
      "* * \n",
      "* * * \n",
      "* * * * \n",
      "* * * * * \n"
     ]
    }
   ],
   "source": [
    "for i in range(5):\n",
    "    for j in range(i+1):\n",
    "        print('*', end = \" \")\n",
    "    print()"
   ]
  },
  {
   "cell_type": "markdown",
   "id": "7ec83d37-9975-4d51-926f-1f0655f7e1ed",
   "metadata": {},
   "source": [
    "20. Write a program to find the greatest common divisor (GCD) of two numbers using a `for` loop.\n",
    "\n"
   ]
  },
  {
   "cell_type": "code",
   "execution_count": 20,
   "id": "48247bc9-2471-4d80-9087-4d9ce1e7043f",
   "metadata": {},
   "outputs": [
    {
     "name": "stdout",
     "output_type": "stream",
     "text": [
      "9\n"
     ]
    }
   ],
   "source": [
    "n1 = 81\n",
    "n2 = -153\n",
    "\n",
    "# if user enters negative number, sign of the number is changed to positive\n",
    "n1 = abs(n1)\n",
    "n2 = abs(n2)\n",
    "\n",
    "# Iterate i from 1 to the smaller of n1 and n2\n",
    "for i in range(1, n1+1 and n2+1):\n",
    "    # Check if i can divide both n1 and n2\n",
    "    if n1 % i == 0 and n2 % i == 0:\n",
    "        # get the biggest divisor of both numbers in gcd\n",
    "        gcd = i\n",
    "print(gcd)"
   ]
  },
  {
   "cell_type": "markdown",
   "id": "a81eefe8-0297-4381-93e6-9c4e824fb635",
   "metadata": {},
   "source": [
    "# Advanced Level:\n"
   ]
  },
  {
   "cell_type": "markdown",
   "id": "8cb6eef8-386b-406b-a683-4cc1a89dba36",
   "metadata": {},
   "source": [
    "21. Create a program that calculates the sum of the digits of numbers in a list using a list comprehension.\n"
   ]
  },
  {
   "cell_type": "code",
   "execution_count": 22,
   "id": "dd95a45f-6f74-4299-a35a-0e59e5bb4c81",
   "metadata": {},
   "outputs": [
    {
     "name": "stdout",
     "output_type": "stream",
     "text": [
      "[6, 8, 7, 8, 8]\n"
     ]
    }
   ],
   "source": [
    "my_lst = [24, 251, 3112, 26, 44]\n",
    "\n",
    "def sum_of_digits(num):\n",
    "    return sum(int(digit) for digit in str(num) if digit.isdigit())\n",
    "\n",
    "sum_list = [sum_of_digits(number) for number in my_lst]\n",
    "\n",
    "print(sum_list)"
   ]
  },
  {
   "cell_type": "markdown",
   "id": "eb7a360a-9d23-4a89-b0a8-37cc7b72e12b",
   "metadata": {},
   "source": [
    "22. Write a program to find the prime factors of a given number using a `for` loop and list comprehension.\n"
   ]
  },
  {
   "cell_type": "code",
   "execution_count": 23,
   "id": "0ef17e87-f611-4b00-a38c-6171bac83b13",
   "metadata": {},
   "outputs": [
    {
     "name": "stdout",
     "output_type": "stream",
     "text": [
      "[7]\n"
     ]
    }
   ],
   "source": [
    "# The given number\n",
    "num = 49\n",
    "\n",
    "# Function to check whether a number is prime or not\n",
    "def isprime(n):\n",
    "    # prime numbers start from 2\n",
    "    if n< 2:\n",
    "        return False\n",
    "    elif n == 2:\n",
    "        return True\n",
    "    else:\n",
    "        # at least one of the divisors must be less than or equal to the square root of n.\n",
    "        for i in range(2, int(n ** 0.5) + 1): \n",
    "            if n % i == 0:\n",
    "                return False\n",
    "        return True\n",
    "# Get the list of prime factors of the given number using list comprehension\n",
    "prime_factors = [x for x in range(2, num + 1) if num % x == 0 and isprime(x)]\n",
    "\n",
    "print(prime_factors)"
   ]
  },
  {
   "cell_type": "markdown",
   "id": "95f5b4bc-ce36-4208-9b71-6f6406b069e3",
   "metadata": {},
   "source": [
    "23. Develop a program that extracts unique elements from a list and stores them in a new list using a list comprehension.\n"
   ]
  },
  {
   "cell_type": "code",
   "execution_count": 24,
   "id": "5c4958ef-88ee-4d44-b6e9-2fda621aa258",
   "metadata": {},
   "outputs": [
    {
     "name": "stdout",
     "output_type": "stream",
     "text": [
      "[1, 2, 3, 5, 6, 7, 8]\n"
     ]
    }
   ],
   "source": [
    "l =[1,3,5,7,2,3,6,7,8]\n",
    "\n",
    "unique_l = [x for x in set(l)] \n",
    "\n",
    "print(unique_l)"
   ]
  },
  {
   "cell_type": "markdown",
   "id": "35943d47-2f02-4490-970d-f57fce66ce27",
   "metadata": {},
   "source": [
    "24. Create a program that generates a list of all palindromic numbers up to a specified limit using a list comprehension.\n"
   ]
  },
  {
   "cell_type": "code",
   "execution_count": 25,
   "id": "5b28d9e2-923b-47e7-9fcb-feb9396fa47d",
   "metadata": {},
   "outputs": [
    {
     "name": "stdout",
     "output_type": "stream",
     "text": [
      "Palindromic Numbers up to 300 : [0, 1, 2, 3, 4, 5, 6, 7, 8, 9, 11, 22, 33, 44, 55, 66, 77, 88, 99, 101, 111, 121, 131, 141, 151, 161, 171, 181, 191, 202, 212, 222, 232, 242, 252, 262, 272, 282, 292]\n"
     ]
    }
   ],
   "source": [
    "# Function to check if a number is palindromic\n",
    "def is_palindromic(number):\n",
    "    number_str = str(number)\n",
    "    return number_str == number_str[::-1]\n",
    "\n",
    "# Specify the upper limit\n",
    "limit = 300\n",
    "\n",
    "# Generate a list of palindromic numbers up to the limit using a list comprehension\n",
    "palindromic_numbers = [x for x in range(limit + 1) if is_palindromic(x)]\n",
    "\n",
    "# Print the list of palindromic numbers\n",
    "print(\"Palindromic Numbers up to\", limit, \":\", palindromic_numbers)"
   ]
  },
  {
   "cell_type": "markdown",
   "id": "eb82a434-fc9a-48cc-b536-0c3be1cbc0ab",
   "metadata": {},
   "source": [
    "25. Write a program to flatten a nested list using list comprehension.\n"
   ]
  },
  {
   "cell_type": "code",
   "execution_count": 26,
   "id": "926c8c09-0417-4d57-90c6-2e8880326f45",
   "metadata": {},
   "outputs": [
    {
     "name": "stdout",
     "output_type": "stream",
     "text": [
      "[1, 2, 3, 4, 5, 6, 7, 8, 9, 10]\n"
     ]
    }
   ],
   "source": [
    "nested_lst = [[1,2,3],[4,5,6],[7,8,[9,10]]]\n",
    "\n",
    "# Function to flatten a nested list using list comprehension.\n",
    "def flatten(ori_lst):\n",
    "    flattened = []\n",
    "    [flattened.extend(flatten(item)) if type(item) == list else flattened.append(item) for item in ori_lst]       \n",
    "    return flattened\n",
    "\n",
    "flat_lst = flatten(nested_lst)\n",
    "\n",
    "print(flat_lst)"
   ]
  },
  {
   "cell_type": "markdown",
   "id": "8eef300a-976c-45f4-abed-8ec60d9355f3",
   "metadata": {},
   "source": [
    "26. Develop a program that computes the sum of even and odd numbers in a list separately using list comprehension.\n"
   ]
  },
  {
   "cell_type": "code",
   "execution_count": 27,
   "id": "5543b56d-4cf6-47e4-b932-2f771d503bbd",
   "metadata": {},
   "outputs": [
    {
     "name": "stdout",
     "output_type": "stream",
     "text": [
      "Numbers: [1, 2, 3, 4, 5, 6, 7, 8, 9, 10]\n",
      "Sum of Even Numbers: 30\n",
      "Sum of Odd Numbers: 25\n"
     ]
    }
   ],
   "source": [
    "# List of numbers\n",
    "numbers = [1, 2, 3, 4, 5, 6, 7, 8, 9, 10]\n",
    "\n",
    "# Use list comprehensions to calculate the sums separately\n",
    "sum_of_even = sum(x for x in numbers if x % 2 == 0)\n",
    "sum_of_odd = sum(x for x in numbers if x % 2 != 0)\n",
    "\n",
    "# Print the sums\n",
    "print(\"Numbers:\", numbers)\n",
    "print(\"Sum of Even Numbers:\", sum_of_even)\n",
    "print(\"Sum of Odd Numbers:\", sum_of_odd)"
   ]
  },
  {
   "cell_type": "markdown",
   "id": "709f8452-a55f-428d-b73e-530f5839dbcd",
   "metadata": {},
   "source": [
    "27. Create a program that generates a list of squares of odd numbers between 1 and 10 using list comprehension.\n"
   ]
  },
  {
   "cell_type": "code",
   "execution_count": 28,
   "id": "4fb693cc-b225-4508-a014-bb5bcb63a352",
   "metadata": {},
   "outputs": [
    {
     "name": "stdout",
     "output_type": "stream",
     "text": [
      "[1, 9, 25, 49, 81]\n"
     ]
    }
   ],
   "source": [
    "list_of_squares = [x**2 for x in range(1,11) if x % 2 != 0]\n",
    "\n",
    "print(list_of_squares)"
   ]
  },
  {
   "cell_type": "markdown",
   "id": "22874762-c419-45cf-a9f4-72c0b1ad75ab",
   "metadata": {},
   "source": [
    "28. Write a program that combines two lists into a dictionary using list comprehension.\n"
   ]
  },
  {
   "cell_type": "code",
   "execution_count": 29,
   "id": "439bdce6-bc9f-41fa-b1b3-d71f3f656e40",
   "metadata": {},
   "outputs": [
    {
     "name": "stdout",
     "output_type": "stream",
     "text": [
      "Combined Dictionary: {'apple': 1, 'banana': 2, 'cherry': 3}\n"
     ]
    }
   ],
   "source": [
    "# Two lists to combine into a dictionary\n",
    "keys = ['apple', 'banana', 'cherry']\n",
    "values = [1, 2, 3]\n",
    "\n",
    "# Combine the lists into a dictionary using list comprehension\n",
    "combined_dict = {key: value for key, value in zip(keys, values)}\n",
    "'''It iterates through the keys and values lists simultaneously \n",
    "using the zip function and creates key-value pairs in the dictionary.'''\n",
    "\n",
    "# Print the resulting dictionary\n",
    "print(\"Combined Dictionary:\", combined_dict)"
   ]
  },
  {
   "cell_type": "markdown",
   "id": "4ee944ad-2961-4c34-a5d6-c6499e86f4b6",
   "metadata": {},
   "source": [
    "29. Develop a program that extracts the vowels from a string and stores them in a list using list comprehension.\n"
   ]
  },
  {
   "cell_type": "code",
   "execution_count": 30,
   "id": "066ae4db-9364-42bc-8884-9aeaaf7c2611",
   "metadata": {},
   "outputs": [
    {
     "name": "stdout",
     "output_type": "stream",
     "text": [
      "['I', 'a', 'e', 'a', 'i', 'o']\n"
     ]
    }
   ],
   "source": [
    "# Define a string\n",
    "s = \"I am learning Python.\"\n",
    "\n",
    "# Extract vowels from the string using list comprehension\n",
    "vowels_list = [x for x in s if x.lower() in 'aeiou']\n",
    "\n",
    "print(vowels_list)"
   ]
  },
  {
   "cell_type": "markdown",
   "id": "51845d45-ac23-4d15-832c-8f812e5799c3",
   "metadata": {},
   "source": [
    "30. Create a program that removes all non-numeric characters from a list of strings using list comprehension.\n"
   ]
  },
  {
   "cell_type": "code",
   "execution_count": 31,
   "id": "be7ed093-7f57-4f3d-be5b-249812c46a74",
   "metadata": {},
   "outputs": [
    {
     "name": "stdout",
     "output_type": "stream",
     "text": [
      "Original List: ['abc123', '456def', 'gh789', 'i1j2k3']\n",
      "Numeric Strings: ['123', '456', '789', '123']\n"
     ]
    }
   ],
   "source": [
    "# List of strings with alphanumeric characters\n",
    "string_list = [\"abc123\", \"456def\", \"gh789\", \"i1j2k3\"]\n",
    "\n",
    "# Remove non-numeric characters using list comprehension\n",
    "numeric_strings = [''.join(char for char in string if char.isnumeric()) for string in string_list]\n",
    "\n",
    "# Print the list of numeric strings\n",
    "print(\"Original List:\", string_list)\n",
    "print(\"Numeric Strings:\", numeric_strings)"
   ]
  },
  {
   "cell_type": "markdown",
   "id": "11b1e640-85f1-419a-b898-a5f35be5dab4",
   "metadata": {},
   "source": [
    "# Challenge Level:\n"
   ]
  },
  {
   "cell_type": "markdown",
   "id": "9e57d15f-ab07-4dd0-b96b-16b96dcfb893",
   "metadata": {},
   "source": [
    "31. Write a program to generate a list of prime numbers using the Sieve of Eratosthenes algorithm and list comprehension.\n"
   ]
  },
  {
   "cell_type": "code",
   "execution_count": 32,
   "id": "4bfbe7df-73d3-4df2-81ff-96d60c442f60",
   "metadata": {},
   "outputs": [
    {
     "name": "stdout",
     "output_type": "stream",
     "text": [
      "Prime Numbers up to 100 : [2, 3, 5, 7, 11, 13, 17, 19, 23, 29, 31, 37, 41, 43, 47, 53, 59, 61, 67, 71, 73, 79, 83, 89, 97]\n"
     ]
    }
   ],
   "source": [
    "# Function to find the list of prime numbers using Sieve of Eratosthenes algorithm\n",
    "def sieve_eratosthenes(limit):\n",
    "    sieve = [True] * (limit + 1)\n",
    "    sieve[0:2] = [False, False]  # As 0 and 1 are not prime numbers \n",
    "\n",
    "    # Iterate i from 2 to square root of limit.\n",
    "    for i in range(2, int(limit**0.5) + 1):\n",
    "        # Sieve Algorithm\n",
    "        # False all the numbers which are divisible by i and are greater than or equal to the square of it. \n",
    "        if sieve[i]:\n",
    "            sieve[i*i::i] = [False] * len(sieve[i*i::i])\n",
    "    # list comprehension with enumerate() function to return all the prime numbers\n",
    "    return [number for number, is_prime in enumerate(sieve) if is_prime]\n",
    "\n",
    "# Specify the upper limit for prime generation\n",
    "limit = 100\n",
    "\n",
    "# Generate a list of prime numbers using the Sieve of Eratosthenes\n",
    "prime_numbers = sieve_eratosthenes(limit)\n",
    "\n",
    "# Print the list of prime numbers\n",
    "print(\"Prime Numbers up to\", limit, \":\", prime_numbers)"
   ]
  },
  {
   "cell_type": "markdown",
   "id": "86373ff4-d86e-4c94-b726-44ea98490de0",
   "metadata": {},
   "source": [
    "32. Create a program that generates a list of all Pythagorean triplets up to a specified limit using list comprehension.\n"
   ]
  },
  {
   "cell_type": "code",
   "execution_count": 34,
   "id": "bfc6d1a6-cfda-4eac-a00b-4422c1ce52ca",
   "metadata": {},
   "outputs": [
    {
     "name": "stdout",
     "output_type": "stream",
     "text": [
      "Length of triplets: 52\n",
      "Pythagorean Triplets up to 100 : [(3, 4, 5), (5, 12, 13), (6, 8, 10), (7, 24, 25), (8, 15, 17), (9, 12, 15), (9, 40, 41), (10, 24, 26), (11, 60, 61), (12, 16, 20), (12, 35, 37), (13, 84, 85), (14, 48, 50), (15, 20, 25), (15, 36, 39), (16, 30, 34), (16, 63, 65), (18, 24, 30), (18, 80, 82), (20, 21, 29), (20, 48, 52), (21, 28, 35), (21, 72, 75), (24, 32, 40), (24, 45, 51), (24, 70, 74), (25, 60, 65), (27, 36, 45), (28, 45, 53), (28, 96, 100), (30, 40, 50), (30, 72, 78), (32, 60, 68), (33, 44, 55), (33, 56, 65), (35, 84, 91), (36, 48, 60), (36, 77, 85), (39, 52, 65), (39, 80, 89), (40, 42, 58), (40, 75, 85), (42, 56, 70), (45, 60, 75), (48, 55, 73), (48, 64, 80), (51, 68, 85), (54, 72, 90), (57, 76, 95), (60, 63, 87), (60, 80, 100), (65, 72, 97)]\n"
     ]
    }
   ],
   "source": [
    "# Specify the upper limit for generating Pythagorean triplets\n",
    "limit = 100\n",
    "\n",
    "# Generate a list of Pythagorean triplets using nested loops and list comprehension\n",
    "triplets = [(a, b, c) for a in range(1, limit + 1) for b in range(a, limit + 1) for c in range(b, limit + 1) if a**2 + b**2 == c**2]\n",
    "\n",
    "# Print the length of the triplets list\n",
    "print(\"Length of triplets:\",len(triplets))\n",
    "\n",
    "# Print the list of unique Pythagorean triplets\n",
    "print(\"Pythagorean Triplets up to\", limit, \":\", triplets)"
   ]
  },
  {
   "cell_type": "markdown",
   "id": "435142d3-285b-45aa-82e5-48cdae96e82f",
   "metadata": {},
   "source": [
    "33. Develop a program that generates a list of all possible combinations of two lists using list comprehension.\n"
   ]
  },
  {
   "cell_type": "code",
   "execution_count": 35,
   "id": "6004d791-46fc-4170-8ecc-5b3064ec765d",
   "metadata": {},
   "outputs": [
    {
     "name": "stdout",
     "output_type": "stream",
     "text": [
      "List 1: [1, 2, 3]\n",
      "List 2: ['a', 'b', 'c']\n",
      "Combinations: [(1, 'a'), (1, 'b'), (1, 'c'), (2, 'a'), (2, 'b'), (2, 'c'), (3, 'a'), (3, 'b'), (3, 'c')]\n"
     ]
    }
   ],
   "source": [
    "# Two lists to combine into combinations\n",
    "list1 = [1, 2, 3]\n",
    "list2 = ['a', 'b', 'c']\n",
    "\n",
    "# Generate a list of all possible combinations using list comprehension\n",
    "combinations = [(x, y) for x in list1 for y in list2]\n",
    "\n",
    "# Print the list of combinations\n",
    "print(\"List 1:\", list1)\n",
    "print(\"List 2:\", list2)\n",
    "print(\"Combinations:\", combinations)"
   ]
  },
  {
   "cell_type": "markdown",
   "id": "9377c077-2ef2-45ad-afd2-a496aae4ff44",
   "metadata": {},
   "source": [
    "34. Write a program that calculates the mean, median, and mode of a list of numbers using list comprehension.\n"
   ]
  },
  {
   "cell_type": "code",
   "execution_count": 36,
   "id": "ea78e84d-a8e0-4950-997a-b0b8ac5393cb",
   "metadata": {},
   "outputs": [
    {
     "name": "stdout",
     "output_type": "stream",
     "text": [
      "[4, 5]\n",
      "Numbers: [1, 1, 2, 2, 3, 3, 4, 4, 5, 5, 5, 4]\n",
      "Mean: 3.25\n",
      "Median: 3.5\n",
      "Mode: Mode is / are: 4, 5\n"
     ]
    }
   ],
   "source": [
    "# List of numbers\n",
    "numbers = [1,1,2,2,3,3,4,4,5,5,5,4]\n",
    "\n",
    "# Calculate the mean\n",
    "mean = sum(numbers) / len(numbers)\n",
    "\n",
    "# Calculate the median using list comprehension\n",
    "sorted_numbers = sorted(numbers)\n",
    "n = len(sorted_numbers)\n",
    "median = (sorted_numbers[n // 2] + sorted_numbers[(n - 1) // 2]) / 2 if n % 2 == 0 else sorted_numbers[n // 2]\n",
    "\n",
    "# Calculate the mode using list comprehension\n",
    "from collections import Counter\n",
    "\n",
    "counts = Counter(numbers)\n",
    "max_count = max(counts.values())\n",
    "mode = [num for num, count in counts.items() if count == max_count]\n",
    "print(mode)\n",
    "if len(mode) == len(set(numbers)):\n",
    "    get_mode = \"No mode found\"\n",
    "else:\n",
    "    get_mode = \"Mode is / are: \" + ', '.join(map(str,mode))\n",
    "\n",
    "# Print the mean, median, and mode\n",
    "print(\"Numbers:\", numbers)\n",
    "print(\"Mean:\", mean)\n",
    "print(\"Median:\", median)\n",
    "print(\"Mode:\", get_mode)"
   ]
  },
  {
   "cell_type": "markdown",
   "id": "94d22d5b-5b9b-4fa6-8f6b-83d4262421f1",
   "metadata": {},
   "source": [
    "35. Create a program that generates Pascal's triangle up to a specified number of rows using list comprehension.\n"
   ]
  },
  {
   "cell_type": "code",
   "execution_count": 37,
   "id": "12aadd28-8966-4c15-b8e5-89f925d35179",
   "metadata": {},
   "outputs": [
    {
     "name": "stdout",
     "output_type": "stream",
     "text": [
      "[1]\n",
      "[1, 1]\n",
      "[1, 2, 1]\n",
      "[1, 3, 3, 1]\n",
      "[1, 4, 6, 4, 1]\n"
     ]
    }
   ],
   "source": [
    "def generate_pascals_triangle(num_rows):\n",
    "    if num_rows <= 0:\n",
    "        return []\n",
    "\n",
    "    triangle = [[1]]\n",
    "\n",
    "    for i in range(1, num_rows):\n",
    "        row = [1] + [triangle[i-1][j-1] + triangle[i-1][j] for j in range(1, i)] + [1]\n",
    "        triangle.append(row)\n",
    "\n",
    "    return triangle\n",
    "\n",
    "# Specify the number of rows for Pascal's triangle\n",
    "num_rows = 5\n",
    "\n",
    "# Generate Pascal's triangle using list comprehension\n",
    "pascals_triangle = generate_pascals_triangle(num_rows)\n",
    "\n",
    "# Print Pascal's triangle\n",
    "for row in pascals_triangle:\n",
    "    print(row)"
   ]
  },
  {
   "cell_type": "markdown",
   "id": "7191a2a9-6bc0-4d05-bec6-6e9893f52cb0",
   "metadata": {},
   "source": [
    "36. Develop a program that calculates the sum of the digits of a factorial of numbers from 1 to 5 using list comprehension.\n"
   ]
  },
  {
   "cell_type": "code",
   "execution_count": 38,
   "id": "d6dae5e7-5110-4e3c-85ff-32cbf399e9e3",
   "metadata": {},
   "outputs": [
    {
     "name": "stdout",
     "output_type": "stream",
     "text": [
      "Sum of digits of 1!: 1\n",
      "Sum of digits of 2!: 2\n",
      "Sum of digits of 3!: 6\n",
      "Sum of digits of 4!: 6\n",
      "Sum of digits of 5!: 3\n"
     ]
    }
   ],
   "source": [
    "# Function to calculate the factorial of a number\n",
    "def factorial(n):\n",
    "    if n == 0:\n",
    "        return 1\n",
    "    else:\n",
    "        return n * factorial(n - 1)\n",
    "\n",
    "# Calculate the sum of digits of factorials from 1 to 5 using list comprehension\n",
    "factorial_sums = [sum(int(digit) for digit in str(factorial(n))) for n in range(1, 6)]\n",
    "\n",
    "# Print the results\n",
    "for n, factorial_sum in enumerate(factorial_sums, start = 1):\n",
    "    print(f\"Sum of digits of {n}!:\", factorial_sum)"
   ]
  },
  {
   "cell_type": "markdown",
   "id": "46834b5c-313e-4a7b-8cd5-5648baa4aae9",
   "metadata": {},
   "source": [
    "37. Write a program that finds the longest word in a sentence using list comprehension.\n"
   ]
  },
  {
   "cell_type": "code",
   "execution_count": 46,
   "id": "1b774f53-d417-4e0d-9354-d3f06689b288",
   "metadata": {},
   "outputs": [
    {
     "name": "stdout",
     "output_type": "stream",
     "text": [
      "<class 'str'>\n",
      "Input Sentence: This is an example sentence to find the longest word.\n",
      "Longest Word: sentence\n"
     ]
    }
   ],
   "source": [
    "# Input sentence\n",
    "sentence = \"This is an example sentence to find the longest word.\"\n",
    "\n",
    "# Remove punctuations using translate() method\n",
    "import string\n",
    "clean_sentence = sentence.translate(str.maketrans(\"\",\"\",string.punctuation))\n",
    "\n",
    "# Split the sentence into words and find the longest word using list comprehension\n",
    "words = clean_sentence.split()\n",
    "longest_word = max((word for word in words), key=len)\n",
    "\n",
    "print(type(longest_word))\n",
    "\n",
    "# Print the longest word\n",
    "print(\"Input Sentence:\", sentence)\n",
    "print(\"Longest Word:\", longest_word)"
   ]
  },
  {
   "cell_type": "markdown",
   "id": "786acce1-311c-47cb-8883-93d97f9cef0f",
   "metadata": {},
   "source": [
    "38. Create a program that filters a list of strings to include only those with more than three vowels using list comprehension.\n"
   ]
  },
  {
   "cell_type": "code",
   "execution_count": 40,
   "id": "7afca680-9742-4b4e-9216-96d67f4d9365",
   "metadata": {},
   "outputs": [
    {
     "name": "stdout",
     "output_type": "stream",
     "text": [
      "Original List: ['hello', 'world', 'apple', 'banana', 'goodbye', 'audio']\n",
      "Filtered Strings: ['audio']\n"
     ]
    }
   ],
   "source": [
    "# List of strings\n",
    "string_list = [\"hello\", \"world\", \"apple\", \"banana\", \"goodbye\", \"audio\"]\n",
    "\n",
    "# Define a function to count vowels in a string\n",
    "def count_vowels(s):\n",
    "    vowels = \"aeiouAEIOU\"\n",
    "    return sum(1 for char in s if char in vowels)\n",
    "\n",
    "# Use list comprehension to filter strings with more than three vowels\n",
    "filtered_strings = [s for s in string_list if count_vowels(s) > 3]\n",
    "\n",
    "# Print the filtered strings\n",
    "print(\"Original List:\", string_list)\n",
    "print(\"Filtered Strings:\", filtered_strings)"
   ]
  },
  {
   "cell_type": "markdown",
   "id": "c0adeffb-8359-4610-a43c-d83ce5923e4d",
   "metadata": {},
   "source": [
    "39. Develop a program that calculates the sum of the digits of numbers from 1 to 1000 using list comprehension.\n"
   ]
  },
  {
   "cell_type": "code",
   "execution_count": 41,
   "id": "fdebfcdd-34e1-47ad-af33-db1e03fb21a8",
   "metadata": {},
   "outputs": [
    {
     "name": "stdout",
     "output_type": "stream",
     "text": [
      "Sum of digits of 1: 1\n",
      "Sum of digits of 2: 2\n",
      "Sum of digits of 3: 3\n",
      "Sum of digits of 4: 4\n",
      "Sum of digits of 5: 5\n",
      "Sum of digits of 6: 6\n",
      "Sum of digits of 7: 7\n",
      "Sum of digits of 8: 8\n",
      "Sum of digits of 9: 9\n",
      "Sum of digits of 10: 1\n",
      "Sum of digits of 11: 2\n",
      "Sum of digits of 12: 3\n",
      "Sum of digits of 13: 4\n",
      "Sum of digits of 14: 5\n",
      "Sum of digits of 15: 6\n",
      "Sum of digits of 16: 7\n",
      "Sum of digits of 17: 8\n",
      "Sum of digits of 18: 9\n",
      "Sum of digits of 19: 10\n",
      "Sum of digits of 20: 2\n",
      "Sum of digits of 21: 3\n",
      "Sum of digits of 22: 4\n",
      "Sum of digits of 23: 5\n",
      "Sum of digits of 24: 6\n",
      "Sum of digits of 25: 7\n",
      "Sum of digits of 26: 8\n",
      "Sum of digits of 27: 9\n",
      "Sum of digits of 28: 10\n",
      "Sum of digits of 29: 11\n",
      "Sum of digits of 30: 3\n",
      "Sum of digits of 31: 4\n",
      "Sum of digits of 32: 5\n",
      "Sum of digits of 33: 6\n",
      "Sum of digits of 34: 7\n",
      "Sum of digits of 35: 8\n",
      "Sum of digits of 36: 9\n",
      "Sum of digits of 37: 10\n",
      "Sum of digits of 38: 11\n",
      "Sum of digits of 39: 12\n",
      "Sum of digits of 40: 4\n",
      "Sum of digits of 41: 5\n",
      "Sum of digits of 42: 6\n",
      "Sum of digits of 43: 7\n",
      "Sum of digits of 44: 8\n",
      "Sum of digits of 45: 9\n",
      "Sum of digits of 46: 10\n",
      "Sum of digits of 47: 11\n",
      "Sum of digits of 48: 12\n",
      "Sum of digits of 49: 13\n",
      "Sum of digits of 50: 5\n",
      "Sum of digits of 51: 6\n",
      "Sum of digits of 52: 7\n",
      "Sum of digits of 53: 8\n",
      "Sum of digits of 54: 9\n",
      "Sum of digits of 55: 10\n",
      "Sum of digits of 56: 11\n",
      "Sum of digits of 57: 12\n",
      "Sum of digits of 58: 13\n",
      "Sum of digits of 59: 14\n",
      "Sum of digits of 60: 6\n",
      "Sum of digits of 61: 7\n",
      "Sum of digits of 62: 8\n",
      "Sum of digits of 63: 9\n",
      "Sum of digits of 64: 10\n",
      "Sum of digits of 65: 11\n",
      "Sum of digits of 66: 12\n",
      "Sum of digits of 67: 13\n",
      "Sum of digits of 68: 14\n",
      "Sum of digits of 69: 15\n",
      "Sum of digits of 70: 7\n",
      "Sum of digits of 71: 8\n",
      "Sum of digits of 72: 9\n",
      "Sum of digits of 73: 10\n",
      "Sum of digits of 74: 11\n",
      "Sum of digits of 75: 12\n",
      "Sum of digits of 76: 13\n",
      "Sum of digits of 77: 14\n",
      "Sum of digits of 78: 15\n",
      "Sum of digits of 79: 16\n",
      "Sum of digits of 80: 8\n",
      "Sum of digits of 81: 9\n",
      "Sum of digits of 82: 10\n",
      "Sum of digits of 83: 11\n",
      "Sum of digits of 84: 12\n",
      "Sum of digits of 85: 13\n",
      "Sum of digits of 86: 14\n",
      "Sum of digits of 87: 15\n",
      "Sum of digits of 88: 16\n",
      "Sum of digits of 89: 17\n",
      "Sum of digits of 90: 9\n",
      "Sum of digits of 91: 10\n",
      "Sum of digits of 92: 11\n",
      "Sum of digits of 93: 12\n",
      "Sum of digits of 94: 13\n",
      "Sum of digits of 95: 14\n",
      "Sum of digits of 96: 15\n",
      "Sum of digits of 97: 16\n",
      "Sum of digits of 98: 17\n",
      "Sum of digits of 99: 18\n",
      "Sum of digits of 100: 1\n",
      "Sum of digits of 101: 2\n",
      "Sum of digits of 102: 3\n",
      "Sum of digits of 103: 4\n",
      "Sum of digits of 104: 5\n",
      "Sum of digits of 105: 6\n",
      "Sum of digits of 106: 7\n",
      "Sum of digits of 107: 8\n",
      "Sum of digits of 108: 9\n",
      "Sum of digits of 109: 10\n",
      "Sum of digits of 110: 2\n",
      "Sum of digits of 111: 3\n",
      "Sum of digits of 112: 4\n",
      "Sum of digits of 113: 5\n",
      "Sum of digits of 114: 6\n",
      "Sum of digits of 115: 7\n",
      "Sum of digits of 116: 8\n",
      "Sum of digits of 117: 9\n",
      "Sum of digits of 118: 10\n",
      "Sum of digits of 119: 11\n",
      "Sum of digits of 120: 3\n",
      "Sum of digits of 121: 4\n",
      "Sum of digits of 122: 5\n",
      "Sum of digits of 123: 6\n",
      "Sum of digits of 124: 7\n",
      "Sum of digits of 125: 8\n",
      "Sum of digits of 126: 9\n",
      "Sum of digits of 127: 10\n",
      "Sum of digits of 128: 11\n",
      "Sum of digits of 129: 12\n",
      "Sum of digits of 130: 4\n",
      "Sum of digits of 131: 5\n",
      "Sum of digits of 132: 6\n",
      "Sum of digits of 133: 7\n",
      "Sum of digits of 134: 8\n",
      "Sum of digits of 135: 9\n",
      "Sum of digits of 136: 10\n",
      "Sum of digits of 137: 11\n",
      "Sum of digits of 138: 12\n",
      "Sum of digits of 139: 13\n",
      "Sum of digits of 140: 5\n",
      "Sum of digits of 141: 6\n",
      "Sum of digits of 142: 7\n",
      "Sum of digits of 143: 8\n",
      "Sum of digits of 144: 9\n",
      "Sum of digits of 145: 10\n",
      "Sum of digits of 146: 11\n",
      "Sum of digits of 147: 12\n",
      "Sum of digits of 148: 13\n",
      "Sum of digits of 149: 14\n",
      "Sum of digits of 150: 6\n",
      "Sum of digits of 151: 7\n",
      "Sum of digits of 152: 8\n",
      "Sum of digits of 153: 9\n",
      "Sum of digits of 154: 10\n",
      "Sum of digits of 155: 11\n",
      "Sum of digits of 156: 12\n",
      "Sum of digits of 157: 13\n",
      "Sum of digits of 158: 14\n",
      "Sum of digits of 159: 15\n",
      "Sum of digits of 160: 7\n",
      "Sum of digits of 161: 8\n",
      "Sum of digits of 162: 9\n",
      "Sum of digits of 163: 10\n",
      "Sum of digits of 164: 11\n",
      "Sum of digits of 165: 12\n",
      "Sum of digits of 166: 13\n",
      "Sum of digits of 167: 14\n",
      "Sum of digits of 168: 15\n",
      "Sum of digits of 169: 16\n",
      "Sum of digits of 170: 8\n",
      "Sum of digits of 171: 9\n",
      "Sum of digits of 172: 10\n",
      "Sum of digits of 173: 11\n",
      "Sum of digits of 174: 12\n",
      "Sum of digits of 175: 13\n",
      "Sum of digits of 176: 14\n",
      "Sum of digits of 177: 15\n",
      "Sum of digits of 178: 16\n",
      "Sum of digits of 179: 17\n",
      "Sum of digits of 180: 9\n",
      "Sum of digits of 181: 10\n",
      "Sum of digits of 182: 11\n",
      "Sum of digits of 183: 12\n",
      "Sum of digits of 184: 13\n",
      "Sum of digits of 185: 14\n",
      "Sum of digits of 186: 15\n",
      "Sum of digits of 187: 16\n",
      "Sum of digits of 188: 17\n",
      "Sum of digits of 189: 18\n",
      "Sum of digits of 190: 10\n",
      "Sum of digits of 191: 11\n",
      "Sum of digits of 192: 12\n",
      "Sum of digits of 193: 13\n",
      "Sum of digits of 194: 14\n",
      "Sum of digits of 195: 15\n",
      "Sum of digits of 196: 16\n",
      "Sum of digits of 197: 17\n",
      "Sum of digits of 198: 18\n",
      "Sum of digits of 199: 19\n",
      "Sum of digits of 200: 2\n",
      "Sum of digits of 201: 3\n",
      "Sum of digits of 202: 4\n",
      "Sum of digits of 203: 5\n",
      "Sum of digits of 204: 6\n",
      "Sum of digits of 205: 7\n",
      "Sum of digits of 206: 8\n",
      "Sum of digits of 207: 9\n",
      "Sum of digits of 208: 10\n",
      "Sum of digits of 209: 11\n",
      "Sum of digits of 210: 3\n",
      "Sum of digits of 211: 4\n",
      "Sum of digits of 212: 5\n",
      "Sum of digits of 213: 6\n",
      "Sum of digits of 214: 7\n",
      "Sum of digits of 215: 8\n",
      "Sum of digits of 216: 9\n",
      "Sum of digits of 217: 10\n",
      "Sum of digits of 218: 11\n",
      "Sum of digits of 219: 12\n",
      "Sum of digits of 220: 4\n",
      "Sum of digits of 221: 5\n",
      "Sum of digits of 222: 6\n",
      "Sum of digits of 223: 7\n",
      "Sum of digits of 224: 8\n",
      "Sum of digits of 225: 9\n",
      "Sum of digits of 226: 10\n",
      "Sum of digits of 227: 11\n",
      "Sum of digits of 228: 12\n",
      "Sum of digits of 229: 13\n",
      "Sum of digits of 230: 5\n",
      "Sum of digits of 231: 6\n",
      "Sum of digits of 232: 7\n",
      "Sum of digits of 233: 8\n",
      "Sum of digits of 234: 9\n",
      "Sum of digits of 235: 10\n",
      "Sum of digits of 236: 11\n",
      "Sum of digits of 237: 12\n",
      "Sum of digits of 238: 13\n",
      "Sum of digits of 239: 14\n",
      "Sum of digits of 240: 6\n",
      "Sum of digits of 241: 7\n",
      "Sum of digits of 242: 8\n",
      "Sum of digits of 243: 9\n",
      "Sum of digits of 244: 10\n",
      "Sum of digits of 245: 11\n",
      "Sum of digits of 246: 12\n",
      "Sum of digits of 247: 13\n",
      "Sum of digits of 248: 14\n",
      "Sum of digits of 249: 15\n",
      "Sum of digits of 250: 7\n",
      "Sum of digits of 251: 8\n",
      "Sum of digits of 252: 9\n",
      "Sum of digits of 253: 10\n",
      "Sum of digits of 254: 11\n",
      "Sum of digits of 255: 12\n",
      "Sum of digits of 256: 13\n",
      "Sum of digits of 257: 14\n",
      "Sum of digits of 258: 15\n",
      "Sum of digits of 259: 16\n",
      "Sum of digits of 260: 8\n",
      "Sum of digits of 261: 9\n",
      "Sum of digits of 262: 10\n",
      "Sum of digits of 263: 11\n",
      "Sum of digits of 264: 12\n",
      "Sum of digits of 265: 13\n",
      "Sum of digits of 266: 14\n",
      "Sum of digits of 267: 15\n",
      "Sum of digits of 268: 16\n",
      "Sum of digits of 269: 17\n",
      "Sum of digits of 270: 9\n",
      "Sum of digits of 271: 10\n",
      "Sum of digits of 272: 11\n",
      "Sum of digits of 273: 12\n",
      "Sum of digits of 274: 13\n",
      "Sum of digits of 275: 14\n",
      "Sum of digits of 276: 15\n",
      "Sum of digits of 277: 16\n",
      "Sum of digits of 278: 17\n",
      "Sum of digits of 279: 18\n",
      "Sum of digits of 280: 10\n",
      "Sum of digits of 281: 11\n",
      "Sum of digits of 282: 12\n",
      "Sum of digits of 283: 13\n",
      "Sum of digits of 284: 14\n",
      "Sum of digits of 285: 15\n",
      "Sum of digits of 286: 16\n",
      "Sum of digits of 287: 17\n",
      "Sum of digits of 288: 18\n",
      "Sum of digits of 289: 19\n",
      "Sum of digits of 290: 11\n",
      "Sum of digits of 291: 12\n",
      "Sum of digits of 292: 13\n",
      "Sum of digits of 293: 14\n",
      "Sum of digits of 294: 15\n",
      "Sum of digits of 295: 16\n",
      "Sum of digits of 296: 17\n",
      "Sum of digits of 297: 18\n",
      "Sum of digits of 298: 19\n",
      "Sum of digits of 299: 20\n",
      "Sum of digits of 300: 3\n",
      "Sum of digits of 301: 4\n",
      "Sum of digits of 302: 5\n",
      "Sum of digits of 303: 6\n",
      "Sum of digits of 304: 7\n",
      "Sum of digits of 305: 8\n",
      "Sum of digits of 306: 9\n",
      "Sum of digits of 307: 10\n",
      "Sum of digits of 308: 11\n",
      "Sum of digits of 309: 12\n",
      "Sum of digits of 310: 4\n",
      "Sum of digits of 311: 5\n",
      "Sum of digits of 312: 6\n",
      "Sum of digits of 313: 7\n",
      "Sum of digits of 314: 8\n",
      "Sum of digits of 315: 9\n",
      "Sum of digits of 316: 10\n",
      "Sum of digits of 317: 11\n",
      "Sum of digits of 318: 12\n",
      "Sum of digits of 319: 13\n",
      "Sum of digits of 320: 5\n",
      "Sum of digits of 321: 6\n",
      "Sum of digits of 322: 7\n",
      "Sum of digits of 323: 8\n",
      "Sum of digits of 324: 9\n",
      "Sum of digits of 325: 10\n",
      "Sum of digits of 326: 11\n",
      "Sum of digits of 327: 12\n",
      "Sum of digits of 328: 13\n",
      "Sum of digits of 329: 14\n",
      "Sum of digits of 330: 6\n",
      "Sum of digits of 331: 7\n",
      "Sum of digits of 332: 8\n",
      "Sum of digits of 333: 9\n",
      "Sum of digits of 334: 10\n",
      "Sum of digits of 335: 11\n",
      "Sum of digits of 336: 12\n",
      "Sum of digits of 337: 13\n",
      "Sum of digits of 338: 14\n",
      "Sum of digits of 339: 15\n",
      "Sum of digits of 340: 7\n",
      "Sum of digits of 341: 8\n",
      "Sum of digits of 342: 9\n",
      "Sum of digits of 343: 10\n",
      "Sum of digits of 344: 11\n",
      "Sum of digits of 345: 12\n",
      "Sum of digits of 346: 13\n",
      "Sum of digits of 347: 14\n",
      "Sum of digits of 348: 15\n",
      "Sum of digits of 349: 16\n",
      "Sum of digits of 350: 8\n",
      "Sum of digits of 351: 9\n",
      "Sum of digits of 352: 10\n",
      "Sum of digits of 353: 11\n",
      "Sum of digits of 354: 12\n",
      "Sum of digits of 355: 13\n",
      "Sum of digits of 356: 14\n",
      "Sum of digits of 357: 15\n",
      "Sum of digits of 358: 16\n",
      "Sum of digits of 359: 17\n",
      "Sum of digits of 360: 9\n",
      "Sum of digits of 361: 10\n",
      "Sum of digits of 362: 11\n",
      "Sum of digits of 363: 12\n",
      "Sum of digits of 364: 13\n",
      "Sum of digits of 365: 14\n",
      "Sum of digits of 366: 15\n",
      "Sum of digits of 367: 16\n",
      "Sum of digits of 368: 17\n",
      "Sum of digits of 369: 18\n",
      "Sum of digits of 370: 10\n",
      "Sum of digits of 371: 11\n",
      "Sum of digits of 372: 12\n",
      "Sum of digits of 373: 13\n",
      "Sum of digits of 374: 14\n",
      "Sum of digits of 375: 15\n",
      "Sum of digits of 376: 16\n",
      "Sum of digits of 377: 17\n",
      "Sum of digits of 378: 18\n",
      "Sum of digits of 379: 19\n",
      "Sum of digits of 380: 11\n",
      "Sum of digits of 381: 12\n",
      "Sum of digits of 382: 13\n",
      "Sum of digits of 383: 14\n",
      "Sum of digits of 384: 15\n",
      "Sum of digits of 385: 16\n",
      "Sum of digits of 386: 17\n",
      "Sum of digits of 387: 18\n",
      "Sum of digits of 388: 19\n",
      "Sum of digits of 389: 20\n",
      "Sum of digits of 390: 12\n",
      "Sum of digits of 391: 13\n",
      "Sum of digits of 392: 14\n",
      "Sum of digits of 393: 15\n",
      "Sum of digits of 394: 16\n",
      "Sum of digits of 395: 17\n",
      "Sum of digits of 396: 18\n",
      "Sum of digits of 397: 19\n",
      "Sum of digits of 398: 20\n",
      "Sum of digits of 399: 21\n",
      "Sum of digits of 400: 4\n",
      "Sum of digits of 401: 5\n",
      "Sum of digits of 402: 6\n",
      "Sum of digits of 403: 7\n",
      "Sum of digits of 404: 8\n",
      "Sum of digits of 405: 9\n",
      "Sum of digits of 406: 10\n",
      "Sum of digits of 407: 11\n",
      "Sum of digits of 408: 12\n",
      "Sum of digits of 409: 13\n",
      "Sum of digits of 410: 5\n",
      "Sum of digits of 411: 6\n",
      "Sum of digits of 412: 7\n",
      "Sum of digits of 413: 8\n",
      "Sum of digits of 414: 9\n",
      "Sum of digits of 415: 10\n",
      "Sum of digits of 416: 11\n",
      "Sum of digits of 417: 12\n",
      "Sum of digits of 418: 13\n",
      "Sum of digits of 419: 14\n",
      "Sum of digits of 420: 6\n",
      "Sum of digits of 421: 7\n",
      "Sum of digits of 422: 8\n",
      "Sum of digits of 423: 9\n",
      "Sum of digits of 424: 10\n",
      "Sum of digits of 425: 11\n",
      "Sum of digits of 426: 12\n",
      "Sum of digits of 427: 13\n",
      "Sum of digits of 428: 14\n",
      "Sum of digits of 429: 15\n",
      "Sum of digits of 430: 7\n",
      "Sum of digits of 431: 8\n",
      "Sum of digits of 432: 9\n",
      "Sum of digits of 433: 10\n",
      "Sum of digits of 434: 11\n",
      "Sum of digits of 435: 12\n",
      "Sum of digits of 436: 13\n",
      "Sum of digits of 437: 14\n",
      "Sum of digits of 438: 15\n",
      "Sum of digits of 439: 16\n",
      "Sum of digits of 440: 8\n",
      "Sum of digits of 441: 9\n",
      "Sum of digits of 442: 10\n",
      "Sum of digits of 443: 11\n",
      "Sum of digits of 444: 12\n",
      "Sum of digits of 445: 13\n",
      "Sum of digits of 446: 14\n",
      "Sum of digits of 447: 15\n",
      "Sum of digits of 448: 16\n",
      "Sum of digits of 449: 17\n",
      "Sum of digits of 450: 9\n",
      "Sum of digits of 451: 10\n",
      "Sum of digits of 452: 11\n",
      "Sum of digits of 453: 12\n",
      "Sum of digits of 454: 13\n",
      "Sum of digits of 455: 14\n",
      "Sum of digits of 456: 15\n",
      "Sum of digits of 457: 16\n",
      "Sum of digits of 458: 17\n",
      "Sum of digits of 459: 18\n",
      "Sum of digits of 460: 10\n",
      "Sum of digits of 461: 11\n",
      "Sum of digits of 462: 12\n",
      "Sum of digits of 463: 13\n",
      "Sum of digits of 464: 14\n",
      "Sum of digits of 465: 15\n",
      "Sum of digits of 466: 16\n",
      "Sum of digits of 467: 17\n",
      "Sum of digits of 468: 18\n",
      "Sum of digits of 469: 19\n",
      "Sum of digits of 470: 11\n",
      "Sum of digits of 471: 12\n",
      "Sum of digits of 472: 13\n",
      "Sum of digits of 473: 14\n",
      "Sum of digits of 474: 15\n",
      "Sum of digits of 475: 16\n",
      "Sum of digits of 476: 17\n",
      "Sum of digits of 477: 18\n",
      "Sum of digits of 478: 19\n",
      "Sum of digits of 479: 20\n",
      "Sum of digits of 480: 12\n",
      "Sum of digits of 481: 13\n",
      "Sum of digits of 482: 14\n",
      "Sum of digits of 483: 15\n",
      "Sum of digits of 484: 16\n",
      "Sum of digits of 485: 17\n",
      "Sum of digits of 486: 18\n",
      "Sum of digits of 487: 19\n",
      "Sum of digits of 488: 20\n",
      "Sum of digits of 489: 21\n",
      "Sum of digits of 490: 13\n",
      "Sum of digits of 491: 14\n",
      "Sum of digits of 492: 15\n",
      "Sum of digits of 493: 16\n",
      "Sum of digits of 494: 17\n",
      "Sum of digits of 495: 18\n",
      "Sum of digits of 496: 19\n",
      "Sum of digits of 497: 20\n",
      "Sum of digits of 498: 21\n",
      "Sum of digits of 499: 22\n",
      "Sum of digits of 500: 5\n",
      "Sum of digits of 501: 6\n",
      "Sum of digits of 502: 7\n",
      "Sum of digits of 503: 8\n",
      "Sum of digits of 504: 9\n",
      "Sum of digits of 505: 10\n",
      "Sum of digits of 506: 11\n",
      "Sum of digits of 507: 12\n",
      "Sum of digits of 508: 13\n",
      "Sum of digits of 509: 14\n",
      "Sum of digits of 510: 6\n",
      "Sum of digits of 511: 7\n",
      "Sum of digits of 512: 8\n",
      "Sum of digits of 513: 9\n",
      "Sum of digits of 514: 10\n",
      "Sum of digits of 515: 11\n",
      "Sum of digits of 516: 12\n",
      "Sum of digits of 517: 13\n",
      "Sum of digits of 518: 14\n",
      "Sum of digits of 519: 15\n",
      "Sum of digits of 520: 7\n",
      "Sum of digits of 521: 8\n",
      "Sum of digits of 522: 9\n",
      "Sum of digits of 523: 10\n",
      "Sum of digits of 524: 11\n",
      "Sum of digits of 525: 12\n",
      "Sum of digits of 526: 13\n",
      "Sum of digits of 527: 14\n",
      "Sum of digits of 528: 15\n",
      "Sum of digits of 529: 16\n",
      "Sum of digits of 530: 8\n",
      "Sum of digits of 531: 9\n",
      "Sum of digits of 532: 10\n",
      "Sum of digits of 533: 11\n",
      "Sum of digits of 534: 12\n",
      "Sum of digits of 535: 13\n",
      "Sum of digits of 536: 14\n",
      "Sum of digits of 537: 15\n",
      "Sum of digits of 538: 16\n",
      "Sum of digits of 539: 17\n",
      "Sum of digits of 540: 9\n",
      "Sum of digits of 541: 10\n",
      "Sum of digits of 542: 11\n",
      "Sum of digits of 543: 12\n",
      "Sum of digits of 544: 13\n",
      "Sum of digits of 545: 14\n",
      "Sum of digits of 546: 15\n",
      "Sum of digits of 547: 16\n",
      "Sum of digits of 548: 17\n",
      "Sum of digits of 549: 18\n",
      "Sum of digits of 550: 10\n",
      "Sum of digits of 551: 11\n",
      "Sum of digits of 552: 12\n",
      "Sum of digits of 553: 13\n",
      "Sum of digits of 554: 14\n",
      "Sum of digits of 555: 15\n",
      "Sum of digits of 556: 16\n",
      "Sum of digits of 557: 17\n",
      "Sum of digits of 558: 18\n",
      "Sum of digits of 559: 19\n",
      "Sum of digits of 560: 11\n",
      "Sum of digits of 561: 12\n",
      "Sum of digits of 562: 13\n",
      "Sum of digits of 563: 14\n",
      "Sum of digits of 564: 15\n",
      "Sum of digits of 565: 16\n",
      "Sum of digits of 566: 17\n",
      "Sum of digits of 567: 18\n",
      "Sum of digits of 568: 19\n",
      "Sum of digits of 569: 20\n",
      "Sum of digits of 570: 12\n",
      "Sum of digits of 571: 13\n",
      "Sum of digits of 572: 14\n",
      "Sum of digits of 573: 15\n",
      "Sum of digits of 574: 16\n",
      "Sum of digits of 575: 17\n",
      "Sum of digits of 576: 18\n",
      "Sum of digits of 577: 19\n",
      "Sum of digits of 578: 20\n",
      "Sum of digits of 579: 21\n",
      "Sum of digits of 580: 13\n",
      "Sum of digits of 581: 14\n",
      "Sum of digits of 582: 15\n",
      "Sum of digits of 583: 16\n",
      "Sum of digits of 584: 17\n",
      "Sum of digits of 585: 18\n",
      "Sum of digits of 586: 19\n",
      "Sum of digits of 587: 20\n",
      "Sum of digits of 588: 21\n",
      "Sum of digits of 589: 22\n",
      "Sum of digits of 590: 14\n",
      "Sum of digits of 591: 15\n",
      "Sum of digits of 592: 16\n",
      "Sum of digits of 593: 17\n",
      "Sum of digits of 594: 18\n",
      "Sum of digits of 595: 19\n",
      "Sum of digits of 596: 20\n",
      "Sum of digits of 597: 21\n",
      "Sum of digits of 598: 22\n",
      "Sum of digits of 599: 23\n",
      "Sum of digits of 600: 6\n",
      "Sum of digits of 601: 7\n",
      "Sum of digits of 602: 8\n",
      "Sum of digits of 603: 9\n",
      "Sum of digits of 604: 10\n",
      "Sum of digits of 605: 11\n",
      "Sum of digits of 606: 12\n",
      "Sum of digits of 607: 13\n",
      "Sum of digits of 608: 14\n",
      "Sum of digits of 609: 15\n",
      "Sum of digits of 610: 7\n",
      "Sum of digits of 611: 8\n",
      "Sum of digits of 612: 9\n",
      "Sum of digits of 613: 10\n",
      "Sum of digits of 614: 11\n",
      "Sum of digits of 615: 12\n",
      "Sum of digits of 616: 13\n",
      "Sum of digits of 617: 14\n",
      "Sum of digits of 618: 15\n",
      "Sum of digits of 619: 16\n",
      "Sum of digits of 620: 8\n",
      "Sum of digits of 621: 9\n",
      "Sum of digits of 622: 10\n",
      "Sum of digits of 623: 11\n",
      "Sum of digits of 624: 12\n",
      "Sum of digits of 625: 13\n",
      "Sum of digits of 626: 14\n",
      "Sum of digits of 627: 15\n",
      "Sum of digits of 628: 16\n",
      "Sum of digits of 629: 17\n",
      "Sum of digits of 630: 9\n",
      "Sum of digits of 631: 10\n",
      "Sum of digits of 632: 11\n",
      "Sum of digits of 633: 12\n",
      "Sum of digits of 634: 13\n",
      "Sum of digits of 635: 14\n",
      "Sum of digits of 636: 15\n",
      "Sum of digits of 637: 16\n",
      "Sum of digits of 638: 17\n",
      "Sum of digits of 639: 18\n",
      "Sum of digits of 640: 10\n",
      "Sum of digits of 641: 11\n",
      "Sum of digits of 642: 12\n",
      "Sum of digits of 643: 13\n",
      "Sum of digits of 644: 14\n",
      "Sum of digits of 645: 15\n",
      "Sum of digits of 646: 16\n",
      "Sum of digits of 647: 17\n",
      "Sum of digits of 648: 18\n",
      "Sum of digits of 649: 19\n",
      "Sum of digits of 650: 11\n",
      "Sum of digits of 651: 12\n",
      "Sum of digits of 652: 13\n",
      "Sum of digits of 653: 14\n",
      "Sum of digits of 654: 15\n",
      "Sum of digits of 655: 16\n",
      "Sum of digits of 656: 17\n",
      "Sum of digits of 657: 18\n",
      "Sum of digits of 658: 19\n",
      "Sum of digits of 659: 20\n",
      "Sum of digits of 660: 12\n",
      "Sum of digits of 661: 13\n",
      "Sum of digits of 662: 14\n",
      "Sum of digits of 663: 15\n",
      "Sum of digits of 664: 16\n",
      "Sum of digits of 665: 17\n",
      "Sum of digits of 666: 18\n",
      "Sum of digits of 667: 19\n",
      "Sum of digits of 668: 20\n",
      "Sum of digits of 669: 21\n",
      "Sum of digits of 670: 13\n",
      "Sum of digits of 671: 14\n",
      "Sum of digits of 672: 15\n",
      "Sum of digits of 673: 16\n",
      "Sum of digits of 674: 17\n",
      "Sum of digits of 675: 18\n",
      "Sum of digits of 676: 19\n",
      "Sum of digits of 677: 20\n",
      "Sum of digits of 678: 21\n",
      "Sum of digits of 679: 22\n",
      "Sum of digits of 680: 14\n",
      "Sum of digits of 681: 15\n",
      "Sum of digits of 682: 16\n",
      "Sum of digits of 683: 17\n",
      "Sum of digits of 684: 18\n",
      "Sum of digits of 685: 19\n",
      "Sum of digits of 686: 20\n",
      "Sum of digits of 687: 21\n",
      "Sum of digits of 688: 22\n",
      "Sum of digits of 689: 23\n",
      "Sum of digits of 690: 15\n",
      "Sum of digits of 691: 16\n",
      "Sum of digits of 692: 17\n",
      "Sum of digits of 693: 18\n",
      "Sum of digits of 694: 19\n",
      "Sum of digits of 695: 20\n",
      "Sum of digits of 696: 21\n",
      "Sum of digits of 697: 22\n",
      "Sum of digits of 698: 23\n",
      "Sum of digits of 699: 24\n",
      "Sum of digits of 700: 7\n",
      "Sum of digits of 701: 8\n",
      "Sum of digits of 702: 9\n",
      "Sum of digits of 703: 10\n",
      "Sum of digits of 704: 11\n",
      "Sum of digits of 705: 12\n",
      "Sum of digits of 706: 13\n",
      "Sum of digits of 707: 14\n",
      "Sum of digits of 708: 15\n",
      "Sum of digits of 709: 16\n",
      "Sum of digits of 710: 8\n",
      "Sum of digits of 711: 9\n",
      "Sum of digits of 712: 10\n",
      "Sum of digits of 713: 11\n",
      "Sum of digits of 714: 12\n",
      "Sum of digits of 715: 13\n",
      "Sum of digits of 716: 14\n",
      "Sum of digits of 717: 15\n",
      "Sum of digits of 718: 16\n",
      "Sum of digits of 719: 17\n",
      "Sum of digits of 720: 9\n",
      "Sum of digits of 721: 10\n",
      "Sum of digits of 722: 11\n",
      "Sum of digits of 723: 12\n",
      "Sum of digits of 724: 13\n",
      "Sum of digits of 725: 14\n",
      "Sum of digits of 726: 15\n",
      "Sum of digits of 727: 16\n",
      "Sum of digits of 728: 17\n",
      "Sum of digits of 729: 18\n",
      "Sum of digits of 730: 10\n",
      "Sum of digits of 731: 11\n",
      "Sum of digits of 732: 12\n",
      "Sum of digits of 733: 13\n",
      "Sum of digits of 734: 14\n",
      "Sum of digits of 735: 15\n",
      "Sum of digits of 736: 16\n",
      "Sum of digits of 737: 17\n",
      "Sum of digits of 738: 18\n",
      "Sum of digits of 739: 19\n",
      "Sum of digits of 740: 11\n",
      "Sum of digits of 741: 12\n",
      "Sum of digits of 742: 13\n",
      "Sum of digits of 743: 14\n",
      "Sum of digits of 744: 15\n",
      "Sum of digits of 745: 16\n",
      "Sum of digits of 746: 17\n",
      "Sum of digits of 747: 18\n",
      "Sum of digits of 748: 19\n",
      "Sum of digits of 749: 20\n",
      "Sum of digits of 750: 12\n",
      "Sum of digits of 751: 13\n",
      "Sum of digits of 752: 14\n",
      "Sum of digits of 753: 15\n",
      "Sum of digits of 754: 16\n",
      "Sum of digits of 755: 17\n",
      "Sum of digits of 756: 18\n",
      "Sum of digits of 757: 19\n",
      "Sum of digits of 758: 20\n",
      "Sum of digits of 759: 21\n",
      "Sum of digits of 760: 13\n",
      "Sum of digits of 761: 14\n",
      "Sum of digits of 762: 15\n",
      "Sum of digits of 763: 16\n",
      "Sum of digits of 764: 17\n",
      "Sum of digits of 765: 18\n",
      "Sum of digits of 766: 19\n",
      "Sum of digits of 767: 20\n",
      "Sum of digits of 768: 21\n",
      "Sum of digits of 769: 22\n",
      "Sum of digits of 770: 14\n",
      "Sum of digits of 771: 15\n",
      "Sum of digits of 772: 16\n",
      "Sum of digits of 773: 17\n",
      "Sum of digits of 774: 18\n",
      "Sum of digits of 775: 19\n",
      "Sum of digits of 776: 20\n",
      "Sum of digits of 777: 21\n",
      "Sum of digits of 778: 22\n",
      "Sum of digits of 779: 23\n",
      "Sum of digits of 780: 15\n",
      "Sum of digits of 781: 16\n",
      "Sum of digits of 782: 17\n",
      "Sum of digits of 783: 18\n",
      "Sum of digits of 784: 19\n",
      "Sum of digits of 785: 20\n",
      "Sum of digits of 786: 21\n",
      "Sum of digits of 787: 22\n",
      "Sum of digits of 788: 23\n",
      "Sum of digits of 789: 24\n",
      "Sum of digits of 790: 16\n",
      "Sum of digits of 791: 17\n",
      "Sum of digits of 792: 18\n",
      "Sum of digits of 793: 19\n",
      "Sum of digits of 794: 20\n",
      "Sum of digits of 795: 21\n",
      "Sum of digits of 796: 22\n",
      "Sum of digits of 797: 23\n",
      "Sum of digits of 798: 24\n",
      "Sum of digits of 799: 25\n",
      "Sum of digits of 800: 8\n",
      "Sum of digits of 801: 9\n",
      "Sum of digits of 802: 10\n",
      "Sum of digits of 803: 11\n",
      "Sum of digits of 804: 12\n",
      "Sum of digits of 805: 13\n",
      "Sum of digits of 806: 14\n",
      "Sum of digits of 807: 15\n",
      "Sum of digits of 808: 16\n",
      "Sum of digits of 809: 17\n",
      "Sum of digits of 810: 9\n",
      "Sum of digits of 811: 10\n",
      "Sum of digits of 812: 11\n",
      "Sum of digits of 813: 12\n",
      "Sum of digits of 814: 13\n",
      "Sum of digits of 815: 14\n",
      "Sum of digits of 816: 15\n",
      "Sum of digits of 817: 16\n",
      "Sum of digits of 818: 17\n",
      "Sum of digits of 819: 18\n",
      "Sum of digits of 820: 10\n",
      "Sum of digits of 821: 11\n",
      "Sum of digits of 822: 12\n",
      "Sum of digits of 823: 13\n",
      "Sum of digits of 824: 14\n",
      "Sum of digits of 825: 15\n",
      "Sum of digits of 826: 16\n",
      "Sum of digits of 827: 17\n",
      "Sum of digits of 828: 18\n",
      "Sum of digits of 829: 19\n",
      "Sum of digits of 830: 11\n",
      "Sum of digits of 831: 12\n",
      "Sum of digits of 832: 13\n",
      "Sum of digits of 833: 14\n",
      "Sum of digits of 834: 15\n",
      "Sum of digits of 835: 16\n",
      "Sum of digits of 836: 17\n",
      "Sum of digits of 837: 18\n",
      "Sum of digits of 838: 19\n",
      "Sum of digits of 839: 20\n",
      "Sum of digits of 840: 12\n",
      "Sum of digits of 841: 13\n",
      "Sum of digits of 842: 14\n",
      "Sum of digits of 843: 15\n",
      "Sum of digits of 844: 16\n",
      "Sum of digits of 845: 17\n",
      "Sum of digits of 846: 18\n",
      "Sum of digits of 847: 19\n",
      "Sum of digits of 848: 20\n",
      "Sum of digits of 849: 21\n",
      "Sum of digits of 850: 13\n",
      "Sum of digits of 851: 14\n",
      "Sum of digits of 852: 15\n",
      "Sum of digits of 853: 16\n",
      "Sum of digits of 854: 17\n",
      "Sum of digits of 855: 18\n",
      "Sum of digits of 856: 19\n",
      "Sum of digits of 857: 20\n",
      "Sum of digits of 858: 21\n",
      "Sum of digits of 859: 22\n",
      "Sum of digits of 860: 14\n",
      "Sum of digits of 861: 15\n",
      "Sum of digits of 862: 16\n",
      "Sum of digits of 863: 17\n",
      "Sum of digits of 864: 18\n",
      "Sum of digits of 865: 19\n",
      "Sum of digits of 866: 20\n",
      "Sum of digits of 867: 21\n",
      "Sum of digits of 868: 22\n",
      "Sum of digits of 869: 23\n",
      "Sum of digits of 870: 15\n",
      "Sum of digits of 871: 16\n",
      "Sum of digits of 872: 17\n",
      "Sum of digits of 873: 18\n",
      "Sum of digits of 874: 19\n",
      "Sum of digits of 875: 20\n",
      "Sum of digits of 876: 21\n",
      "Sum of digits of 877: 22\n",
      "Sum of digits of 878: 23\n",
      "Sum of digits of 879: 24\n",
      "Sum of digits of 880: 16\n",
      "Sum of digits of 881: 17\n",
      "Sum of digits of 882: 18\n",
      "Sum of digits of 883: 19\n",
      "Sum of digits of 884: 20\n",
      "Sum of digits of 885: 21\n",
      "Sum of digits of 886: 22\n",
      "Sum of digits of 887: 23\n",
      "Sum of digits of 888: 24\n",
      "Sum of digits of 889: 25\n",
      "Sum of digits of 890: 17\n",
      "Sum of digits of 891: 18\n",
      "Sum of digits of 892: 19\n",
      "Sum of digits of 893: 20\n",
      "Sum of digits of 894: 21\n",
      "Sum of digits of 895: 22\n",
      "Sum of digits of 896: 23\n",
      "Sum of digits of 897: 24\n",
      "Sum of digits of 898: 25\n",
      "Sum of digits of 899: 26\n",
      "Sum of digits of 900: 9\n",
      "Sum of digits of 901: 10\n",
      "Sum of digits of 902: 11\n",
      "Sum of digits of 903: 12\n",
      "Sum of digits of 904: 13\n",
      "Sum of digits of 905: 14\n",
      "Sum of digits of 906: 15\n",
      "Sum of digits of 907: 16\n",
      "Sum of digits of 908: 17\n",
      "Sum of digits of 909: 18\n",
      "Sum of digits of 910: 10\n",
      "Sum of digits of 911: 11\n",
      "Sum of digits of 912: 12\n",
      "Sum of digits of 913: 13\n",
      "Sum of digits of 914: 14\n",
      "Sum of digits of 915: 15\n",
      "Sum of digits of 916: 16\n",
      "Sum of digits of 917: 17\n",
      "Sum of digits of 918: 18\n",
      "Sum of digits of 919: 19\n",
      "Sum of digits of 920: 11\n",
      "Sum of digits of 921: 12\n",
      "Sum of digits of 922: 13\n",
      "Sum of digits of 923: 14\n",
      "Sum of digits of 924: 15\n",
      "Sum of digits of 925: 16\n",
      "Sum of digits of 926: 17\n",
      "Sum of digits of 927: 18\n",
      "Sum of digits of 928: 19\n",
      "Sum of digits of 929: 20\n",
      "Sum of digits of 930: 12\n",
      "Sum of digits of 931: 13\n",
      "Sum of digits of 932: 14\n",
      "Sum of digits of 933: 15\n",
      "Sum of digits of 934: 16\n",
      "Sum of digits of 935: 17\n",
      "Sum of digits of 936: 18\n",
      "Sum of digits of 937: 19\n",
      "Sum of digits of 938: 20\n",
      "Sum of digits of 939: 21\n",
      "Sum of digits of 940: 13\n",
      "Sum of digits of 941: 14\n",
      "Sum of digits of 942: 15\n",
      "Sum of digits of 943: 16\n",
      "Sum of digits of 944: 17\n",
      "Sum of digits of 945: 18\n",
      "Sum of digits of 946: 19\n",
      "Sum of digits of 947: 20\n",
      "Sum of digits of 948: 21\n",
      "Sum of digits of 949: 22\n",
      "Sum of digits of 950: 14\n",
      "Sum of digits of 951: 15\n",
      "Sum of digits of 952: 16\n",
      "Sum of digits of 953: 17\n",
      "Sum of digits of 954: 18\n",
      "Sum of digits of 955: 19\n",
      "Sum of digits of 956: 20\n",
      "Sum of digits of 957: 21\n",
      "Sum of digits of 958: 22\n",
      "Sum of digits of 959: 23\n",
      "Sum of digits of 960: 15\n",
      "Sum of digits of 961: 16\n",
      "Sum of digits of 962: 17\n",
      "Sum of digits of 963: 18\n",
      "Sum of digits of 964: 19\n",
      "Sum of digits of 965: 20\n",
      "Sum of digits of 966: 21\n",
      "Sum of digits of 967: 22\n",
      "Sum of digits of 968: 23\n",
      "Sum of digits of 969: 24\n",
      "Sum of digits of 970: 16\n",
      "Sum of digits of 971: 17\n",
      "Sum of digits of 972: 18\n",
      "Sum of digits of 973: 19\n",
      "Sum of digits of 974: 20\n",
      "Sum of digits of 975: 21\n",
      "Sum of digits of 976: 22\n",
      "Sum of digits of 977: 23\n",
      "Sum of digits of 978: 24\n",
      "Sum of digits of 979: 25\n",
      "Sum of digits of 980: 17\n",
      "Sum of digits of 981: 18\n",
      "Sum of digits of 982: 19\n",
      "Sum of digits of 983: 20\n",
      "Sum of digits of 984: 21\n",
      "Sum of digits of 985: 22\n",
      "Sum of digits of 986: 23\n",
      "Sum of digits of 987: 24\n",
      "Sum of digits of 988: 25\n",
      "Sum of digits of 989: 26\n",
      "Sum of digits of 990: 18\n",
      "Sum of digits of 991: 19\n",
      "Sum of digits of 992: 20\n",
      "Sum of digits of 993: 21\n",
      "Sum of digits of 994: 22\n",
      "Sum of digits of 995: 23\n",
      "Sum of digits of 996: 24\n",
      "Sum of digits of 997: 25\n",
      "Sum of digits of 998: 26\n",
      "Sum of digits of 999: 27\n",
      "Sum of digits of 1000: 1\n"
     ]
    }
   ],
   "source": [
    "# Calculate the sum of digits of numbers from 1 to 1000 using list comprehension\n",
    "digit_sums = [sum(int(digit) for digit in str(number)) for number in range(1, 1001)]\n",
    "\n",
    "# Print the results\n",
    "for number, digit_sum in enumerate(digit_sums, start=1):\n",
    "    print(f\"Sum of digits of {number}:\", digit_sum)"
   ]
  },
  {
   "cell_type": "markdown",
   "id": "09cb373d-f8b0-425b-b0a7-c719e3cb9341",
   "metadata": {},
   "source": [
    "40. Write a program that generates a list of prime palindromic numbers using list comprehension.\n"
   ]
  },
  {
   "cell_type": "code",
   "execution_count": 42,
   "id": "373e0c84-29f2-4d2b-a876-c30797fe617d",
   "metadata": {},
   "outputs": [
    {
     "name": "stdout",
     "output_type": "stream",
     "text": [
      "Prime Palindromic Numbers: [2, 3, 5, 7, 11, 101, 131, 151, 181, 191, 313, 353, 373, 383, 727, 757, 787, 797, 919, 929]\n"
     ]
    }
   ],
   "source": [
    "# Function to check if a number is prime\n",
    "def is_prime(num):\n",
    "    if num <= 1:\n",
    "        return False\n",
    "    else:\n",
    "        for i in range(2, int(num ** 0.5) + 1):\n",
    "            if num % i == 0:\n",
    "                return False\n",
    "        return True\n",
    "\n",
    "# Generate a list of prime palindromic numbers using list comprehension\n",
    "prime_palindromes = [num for num in range(0, 1000) if is_prime(num) and str(num) == str(num)[::-1]]\n",
    "\n",
    "# Print the list of prime palindromic numbers\n",
    "print(\"Prime Palindromic Numbers:\", prime_palindromes)"
   ]
  },
  {
   "cell_type": "code",
   "execution_count": null,
   "id": "da653f7a-7080-491c-a907-8cace0d12d03",
   "metadata": {},
   "outputs": [],
   "source": []
  }
 ],
 "metadata": {
  "kernelspec": {
   "display_name": "Python 3 (ipykernel)",
   "language": "python",
   "name": "python3"
  },
  "language_info": {
   "codemirror_mode": {
    "name": "ipython",
    "version": 3
   },
   "file_extension": ".py",
   "mimetype": "text/x-python",
   "name": "python",
   "nbconvert_exporter": "python",
   "pygments_lexer": "ipython3",
   "version": "3.10.8"
  }
 },
 "nbformat": 4,
 "nbformat_minor": 5
}
