{
 "cells": [
  {
   "cell_type": "markdown",
   "id": "1fc1cf98-cdca-4930-bdea-6ec14d3c6307",
   "metadata": {},
   "source": [
    "# TOPIC: String Based Assignment Problem"
   ]
  },
  {
   "cell_type": "markdown",
   "id": "e3d67fb4-a8ae-4bc1-ab76-d1d5c4d7eb61",
   "metadata": {},
   "source": [
    "1. Write a program to reverse a string."
   ]
  },
  {
   "cell_type": "code",
   "execution_count": 1,
   "id": "517cc2f5-5bab-4df4-b709-a89a77aa6bbe",
   "metadata": {},
   "outputs": [
    {
     "name": "stdout",
     "output_type": "stream",
     "text": [
      "nohtyP gninrael ma I iH\n"
     ]
    }
   ],
   "source": [
    "s = \"Hi I am learning Python\"\n",
    "\n",
    "rev = s[::-1]  # -1 for negative step\n",
    "\n",
    "print(rev)"
   ]
  },
  {
   "cell_type": "markdown",
   "id": "4ad96530-29b6-4b60-9b90-12509fce38fb",
   "metadata": {},
   "source": [
    "2. Check if a string is a palindrome."
   ]
  },
  {
   "cell_type": "code",
   "execution_count": 2,
   "id": "f7e7b3f2-9cd4-40b6-bb20-21e53e5e27cf",
   "metadata": {},
   "outputs": [
    {
     "name": "stdout",
     "output_type": "stream",
     "text": [
      "Yes, it is a palindrome\n",
      "Yes, it is a palindrome\n",
      "No, it is not a palindrome\n",
      "Yes, it is a palindrome\n"
     ]
    }
   ],
   "source": [
    "def is_palindrome(s):\n",
    "    \n",
    "    # Convert the string to lowercase to ensure case-insensitive comparison\n",
    "    s = s.lower()\n",
    "\n",
    "    # Remove spaces and punctuation from the string\n",
    "    s = ''.join(c for c in s if c.isalnum())\n",
    "    # print(s)\n",
    "\n",
    "    # Compare the original string with its reverse\n",
    "    print(\"Yes, it is a palindrome\") if s == s[::-1] else print(\"No, it is not a palindrome\")\n",
    "\n",
    "\n",
    "is_palindrome(\"Malayalam\")\n",
    "is_palindrome(\"Never odd or even\")\n",
    "is_palindrome(\"Learn Python\")\n",
    "is_palindrome(\"Madam, I’m Adam.\")"
   ]
  },
  {
   "cell_type": "markdown",
   "id": "013e4c5b-9d37-4a3d-ab65-c10da4310634",
   "metadata": {},
   "source": [
    "3. Convert a string to uppercase."
   ]
  },
  {
   "cell_type": "code",
   "execution_count": 3,
   "id": "bebc5e58-75e0-45af-9306-33ee7b8ce014",
   "metadata": {},
   "outputs": [
    {
     "name": "stdout",
     "output_type": "stream",
     "text": [
      "HI I AM LEARNING PYTHON\n"
     ]
    }
   ],
   "source": [
    "s = \"Hi I am learning Python\"\n",
    "us = s.upper()  # Convert the string to uppercase using the upper() method\n",
    "\n",
    "print(us)"
   ]
  },
  {
   "cell_type": "markdown",
   "id": "57e00650-f49c-4464-841e-48700b220cba",
   "metadata": {},
   "source": [
    "4. Convert a string to lowercase."
   ]
  },
  {
   "cell_type": "code",
   "execution_count": 4,
   "id": "977595c2-ee4e-4de7-a8d6-b171a1045777",
   "metadata": {},
   "outputs": [
    {
     "name": "stdout",
     "output_type": "stream",
     "text": [
      "hi i am learning python\n"
     ]
    }
   ],
   "source": [
    "s = \"Hi I am learning Python\"\n",
    "ls = s.lower()  # Convert the string to lowercase using the lower() method\n",
    "\n",
    "print(ls)"
   ]
  },
  {
   "cell_type": "markdown",
   "id": "3601e218-10c9-48d2-a29e-60db9ba21207",
   "metadata": {},
   "source": [
    "5. Count the number of vowels in a string."
   ]
  },
  {
   "cell_type": "code",
   "execution_count": 5,
   "id": "d2f412d2-1bf3-4716-b1c1-74abf3f3f774",
   "metadata": {},
   "outputs": [
    {
     "name": "stdout",
     "output_type": "stream",
     "text": [
      "There are 7 vowels in the given sentence.\n"
     ]
    }
   ],
   "source": [
    "sent = \"Hi, I am learning Python.\"\n",
    "\n",
    "num_vow = 0  # counter variable\n",
    "\n",
    "for x in sent:\n",
    "    if x.lower() in \"aeiou\":  # to check the characters regardless of the case\n",
    "        num_vow += 1\n",
    "\n",
    "print(\"There are {} vowels in the given sentence.\".format(num_vow))"
   ]
  },
  {
   "cell_type": "markdown",
   "id": "ccdfdfe2-c5fc-44c1-9a8c-e3f9e7e3dd32",
   "metadata": {},
   "source": [
    "6. Count the number of consonants in a string."
   ]
  },
  {
   "cell_type": "code",
   "execution_count": 6,
   "id": "05700e6c-5a5e-4005-9e1c-6a2ab1e052ca",
   "metadata": {},
   "outputs": [
    {
     "name": "stdout",
     "output_type": "stream",
     "text": [
      "There are 12 consonants in the given sentence.\n"
     ]
    }
   ],
   "source": [
    "sent = \"Hi, I am learning Python.\"\n",
    "\n",
    "num_con = 0  # counter variable\n",
    "\n",
    "for x in sent:\n",
    "    if x.lower() in \"bcdfghjklmnpqrstvwxyz\":  # to check the characters regardless of the case\n",
    "        num_con += 1\n",
    "\n",
    "print(\"There are {} consonants in the given sentence.\".format(num_con))"
   ]
  },
  {
   "cell_type": "markdown",
   "id": "ee0fc694-d923-4a62-9397-bf7fe586b3ba",
   "metadata": {},
   "source": [
    "7. Remove all whitespaces from a string."
   ]
  },
  {
   "cell_type": "code",
   "execution_count": 7,
   "id": "5f904e8c-c625-40d2-a9ff-040b4e5bddd5",
   "metadata": {},
   "outputs": [
    {
     "name": "stdout",
     "output_type": "stream",
     "text": [
      "Hi,IamlearningPython.\n"
     ]
    }
   ],
   "source": [
    "s = \"Hi, I am learning Python.\"\n",
    "mod = s.replace(\" \",\"\")  # removes all whitespaces\n",
    "print(mod)"
   ]
  },
  {
   "cell_type": "markdown",
   "id": "ff1bcc82-c4a1-430a-b000-48271fdb94d0",
   "metadata": {},
   "source": [
    "8. Find the length of a string without using the `len()` function."
   ]
  },
  {
   "cell_type": "code",
   "execution_count": 8,
   "id": "de330471-0f19-4f41-83f3-c6a1c6025eba",
   "metadata": {},
   "outputs": [
    {
     "name": "stdout",
     "output_type": "stream",
     "text": [
      "Length of the string is  25\n"
     ]
    }
   ],
   "source": [
    "s = \"Hi, I am learning Python.\"\n",
    "\n",
    "count = 0\n",
    "\n",
    "#Iterate through each character in the string\n",
    "for char in s:\n",
    "    \n",
    "    # Increment the count variable by 1 for each character\n",
    "    count += 1\n",
    "\n",
    "print(\"Length of the string is \", count)"
   ]
  },
  {
   "cell_type": "markdown",
   "id": "7401091d-4f23-46a0-be49-1f2a3873e378",
   "metadata": {},
   "source": [
    "9. Check if a string contains a specific word."
   ]
  },
  {
   "cell_type": "code",
   "execution_count": 9,
   "id": "cd86aa2f-6a40-4171-890f-db553fd4c6dd",
   "metadata": {},
   "outputs": [
    {
     "name": "stdout",
     "output_type": "stream",
     "text": [
      "The string contains the word 'learn'\n"
     ]
    }
   ],
   "source": [
    "s = \"Hi, I am learning Python.\"\n",
    "w = \"learn\"\n",
    "if w in s:\n",
    "    print(f\"The string contains the word '{w}'\")\n",
    "else:\n",
    "    print(f\"The string does not contain the word '{w}'\")"
   ]
  },
  {
   "cell_type": "markdown",
   "id": "0b4337d5-9020-438c-8998-066bc640ed49",
   "metadata": {},
   "source": [
    "10. Replace a word in a string with another word."
   ]
  },
  {
   "cell_type": "code",
   "execution_count": 10,
   "id": "4c8c71e5-d084-44ba-bdba-1c7860b4e18f",
   "metadata": {},
   "outputs": [
    {
     "name": "stdout",
     "output_type": "stream",
     "text": [
      "Hi, I am coding in Python.\n"
     ]
    }
   ],
   "source": [
    "s = \"Hi, I am learning Python.\"\n",
    "\n",
    "s = s.replace(\"learning\", \"coding in\")\n",
    "\n",
    "print(s)"
   ]
  },
  {
   "cell_type": "markdown",
   "id": "71505297-4fc2-4e8e-ab7d-e010b60a81a2",
   "metadata": {},
   "source": [
    "11. Count the occurrences of a word in a string."
   ]
  },
  {
   "cell_type": "code",
   "execution_count": 11,
   "id": "4d7c1649-0e75-44f4-8a4d-744be7b4524a",
   "metadata": {},
   "outputs": [
    {
     "name": "stdout",
     "output_type": "stream",
     "text": [
      "2\n"
     ]
    }
   ],
   "source": [
    "s = \"Hi, I am learning Python. I am so excited that now I can code.\"\n",
    "print(s.count(\"am\"))"
   ]
  },
  {
   "cell_type": "markdown",
   "id": "90386e3e-d427-4a92-8c84-e94d2c2d0353",
   "metadata": {},
   "source": [
    "12. Find the first occurrence of a word in a string."
   ]
  },
  {
   "cell_type": "code",
   "execution_count": 12,
   "id": "6e36bca4-31e5-4ed2-8eb0-a81677e62570",
   "metadata": {},
   "outputs": [
    {
     "name": "stdout",
     "output_type": "stream",
     "text": [
      "14\n"
     ]
    }
   ],
   "source": [
    "s = \"Hi, I am learning Python. I am  in so excited that now I can code.\"\n",
    "print(s.find(\"in\"))"
   ]
  },
  {
   "cell_type": "markdown",
   "id": "85480eb2-d476-477e-b280-c1b2f0364db4",
   "metadata": {},
   "source": [
    "13. Find the last occurrence of a word in a string."
   ]
  },
  {
   "cell_type": "code",
   "execution_count": 13,
   "id": "802240fc-879b-467c-a49e-98fc6d3793fa",
   "metadata": {},
   "outputs": [
    {
     "name": "stdout",
     "output_type": "stream",
     "text": [
      "51\n"
     ]
    }
   ],
   "source": [
    "s = \"Hi, I am learning Python. I am so excited that now I can code.\"\n",
    "print(s.rfind(\"I\"))"
   ]
  },
  {
   "cell_type": "markdown",
   "id": "9ff3a280-98ca-4c7f-aa73-ea039b4ea09c",
   "metadata": {},
   "source": [
    "14. Split a string into a list of words."
   ]
  },
  {
   "cell_type": "code",
   "execution_count": 14,
   "id": "da6b53ff-941e-496f-a244-efeaa8aefdb7",
   "metadata": {},
   "outputs": [
    {
     "name": "stdout",
     "output_type": "stream",
     "text": [
      "['Hi,', 'I', 'am', 'learning', 'Python.', 'I', 'am', 'so', 'excited', 'that', 'now', 'I', 'can', 'code.']\n"
     ]
    }
   ],
   "source": [
    "s = \"Hi, I am learning Python. I am so excited that now I can code.\"\n",
    "l = s.split()\n",
    "print(l)"
   ]
  },
  {
   "cell_type": "markdown",
   "id": "b506f586-88d7-43c7-bfeb-cc8ab6118ec4",
   "metadata": {},
   "source": [
    "15. Join a list of words into a string."
   ]
  },
  {
   "cell_type": "code",
   "execution_count": 15,
   "id": "4517fa99-5379-4667-a89f-23b0531ae453",
   "metadata": {},
   "outputs": [
    {
     "name": "stdout",
     "output_type": "stream",
     "text": [
      "I am learning Python. I am so excited that now I can code.\n"
     ]
    }
   ],
   "source": [
    "mylist = ['I', 'am', 'learning', 'Python.', 'I', 'am', 'so', 'excited', 'that', 'now', 'I', 'can', 'code.']\n",
    "s = \" \".join(mylist)\n",
    "print(s)"
   ]
  },
  {
   "cell_type": "markdown",
   "id": "adb18f94-3d86-47ea-a763-4dcc250fb3b4",
   "metadata": {},
   "source": [
    "16. Convert a string where words are separated by spaces to one where words\n",
    "are separated by underscores."
   ]
  },
  {
   "cell_type": "code",
   "execution_count": 16,
   "id": "0167a243-5d7c-4d93-9bbd-6428c4ec7850",
   "metadata": {},
   "outputs": [
    {
     "name": "stdout",
     "output_type": "stream",
     "text": [
      "I_am_so_excited_that_now_I_can_code.\n"
     ]
    }
   ],
   "source": [
    "s = \"I am so excited that now I can code.\"\n",
    "s = s.replace(\" \",\"_\")\n",
    "print(s)"
   ]
  },
  {
   "cell_type": "markdown",
   "id": "c43200ac-cef9-4cfc-9636-c351b3d7d6b6",
   "metadata": {},
   "source": [
    "17. Check if a string starts with a specific word or phrase."
   ]
  },
  {
   "cell_type": "code",
   "execution_count": 17,
   "id": "778ea0e3-17dc-486d-b1d4-88dd4e3fd055",
   "metadata": {},
   "outputs": [
    {
     "name": "stdout",
     "output_type": "stream",
     "text": [
      "True\n"
     ]
    }
   ],
   "source": [
    "s = \"I am so excited that now I can code.\"\n",
    "print(s.startswith(\"I\"))"
   ]
  },
  {
   "cell_type": "markdown",
   "id": "7bb73c08-a7f8-4dd7-a64d-2c66bb60c6fc",
   "metadata": {},
   "source": [
    "18. Check if a string ends with a specific word or phrase."
   ]
  },
  {
   "cell_type": "code",
   "execution_count": 18,
   "id": "aa6170cc-2fef-4b05-972f-f680777820f5",
   "metadata": {},
   "outputs": [
    {
     "name": "stdout",
     "output_type": "stream",
     "text": [
      "True\n"
     ]
    }
   ],
   "source": [
    "s = \"I am so excited that now I can code.\"\n",
    "print(s.endswith(\"code.\"))"
   ]
  },
  {
   "cell_type": "markdown",
   "id": "8e38c384-bc88-4e17-a773-8e499e48ab93",
   "metadata": {},
   "source": [
    "19. Convert a string to title case (e.g., \"hello world\" to \"Hello World\")."
   ]
  },
  {
   "cell_type": "code",
   "execution_count": 19,
   "id": "0792cf2c-6ce8-47de-bbb6-1be77a2bed0b",
   "metadata": {},
   "outputs": [
    {
     "name": "stdout",
     "output_type": "stream",
     "text": [
      "Learning Data Science Is Awesome\n"
     ]
    }
   ],
   "source": [
    "s = \"Learning data science is awesome\"\n",
    "s = s.title()\n",
    "print(s)"
   ]
  },
  {
   "cell_type": "markdown",
   "id": "e579c287-40f4-4401-bce0-704bbcf8ddff",
   "metadata": {},
   "source": [
    "20. Find the longest word in a string."
   ]
  },
  {
   "cell_type": "code",
   "execution_count": 20,
   "id": "e4569188-8c07-4d62-8af5-85749831932a",
   "metadata": {},
   "outputs": [
    {
     "name": "stdout",
     "output_type": "stream",
     "text": [
      "Longest words :  Learning , awesomes\n"
     ]
    }
   ],
   "source": [
    "import string\n",
    "s = \"Learning!!!, data science is awesomes.\"\n",
    "\n",
    "#removing punctuations\n",
    "for x in s:\n",
    "    if x in string.punctuation:\n",
    "        s = s.replace(x,\"\")\n",
    "\n",
    "#split string to words\n",
    "words = s.split()\n",
    "\n",
    "'''finding the length of the longest word\n",
    "because I may have multiple words with same max_length \n",
    "'''\n",
    "\n",
    "max_length = len(max(words, key=len))\n",
    "\n",
    "\n",
    "#find all the words with len = max_length\n",
    "longest_words = [x for x in words if len(x) == max_length]\n",
    "\n",
    "if len(longest_words) == 1:\n",
    "    print(\"Longest word : \", \" , \".join(longest_words))\n",
    "else:\n",
    "    print(\"Longest words : \", \" , \".join(longest_words))"
   ]
  },
  {
   "cell_type": "markdown",
   "id": "fccbb398-c781-479a-9a34-47fc44f510fc",
   "metadata": {},
   "source": [
    "21. Find the shortest word in a string."
   ]
  },
  {
   "cell_type": "code",
   "execution_count": 21,
   "id": "da5691ce-ecc6-4455-9ec5-d76f8bca9aff",
   "metadata": {},
   "outputs": [
    {
     "name": "stdout",
     "output_type": "stream",
     "text": [
      "Shortest word :  is\n"
     ]
    }
   ],
   "source": [
    "import string\n",
    "s = \"Learning!!!, data science is awesomes.\"\n",
    "\n",
    "#removing punctuations\n",
    "for x in s:\n",
    "    if x in string.punctuation:\n",
    "        s = s.replace(x,\"\")\n",
    "\n",
    "\n",
    "#split string to words\n",
    "words = s.split()\n",
    "\n",
    "\n",
    "'''finding the length of the longest word\n",
    "because I may have multiple words with same max_length \n",
    "'''\n",
    "\n",
    "\n",
    "min_length = len(min(words, key=len))\n",
    "\n",
    "#find all the words with len = max_length\n",
    "shortest_words = [x for x in words if len(x) == min_length]\n",
    "\n",
    "if len(shortest_words) == 1:\n",
    "    print(\"Shortest word : \", \" , \".join(shortest_words))\n",
    "else:\n",
    "    print(\"Shortest words : \", \" , \".join(shortest_words))"
   ]
  },
  {
   "cell_type": "markdown",
   "id": "4977f3e2-3260-42f3-9bca-c552cda512c9",
   "metadata": {},
   "source": [
    "22. Reverse the order of words in a string."
   ]
  },
  {
   "cell_type": "code",
   "execution_count": 22,
   "id": "2b9acd41-2065-4dd9-8a8c-193244911630",
   "metadata": {},
   "outputs": [
    {
     "name": "stdout",
     "output_type": "stream",
     "text": [
      "['Learning', 'data', 'science', 'is', 'awesomes.']\n",
      "awesomes. is science data Learning\n"
     ]
    }
   ],
   "source": [
    "s = \"Learning data science is awesomes.\"\n",
    "\n",
    "words = s.split()\n",
    "\n",
    "print(words)\n",
    "\n",
    "s = \" \".join(reversed(words))\n",
    "print(s)"
   ]
  },
  {
   "cell_type": "markdown",
   "id": "cf84dcce-383d-433b-b35b-75033d6aa22b",
   "metadata": {},
   "source": [
    "23. Check if a string is alphanumeric."
   ]
  },
  {
   "cell_type": "code",
   "execution_count": 23,
   "id": "49925bd0-f473-4300-85f1-a746b8b57942",
   "metadata": {},
   "outputs": [
    {
     "name": "stdout",
     "output_type": "stream",
     "text": [
      "True\n"
     ]
    }
   ],
   "source": [
    "s = \"Ravi24\"\n",
    "print(s.isalnum())"
   ]
  },
  {
   "cell_type": "markdown",
   "id": "250c917f-0085-49b1-a7d0-7c0d25a831fc",
   "metadata": {},
   "source": [
    "24. Extract all digits from a string."
   ]
  },
  {
   "cell_type": "code",
   "execution_count": 24,
   "id": "f661b53f-e2d8-4108-9543-2622c816562b",
   "metadata": {},
   "outputs": [
    {
     "name": "stdout",
     "output_type": "stream",
     "text": [
      "2,4\n"
     ]
    }
   ],
   "source": [
    "s = \"Hi, I am Ravi and I am 24 years old.\"\n",
    "\n",
    "# digits = \"\".join(filter(lambda x: x.isdigit(), s))\n",
    "\n",
    "digits = []\n",
    "for x in s:\n",
    "    if x.isdigit():\n",
    "        digits.append(x)\n",
    "        \n",
    "print(','.join(digits))"
   ]
  },
  {
   "cell_type": "markdown",
   "id": "e9b5bd9f-6e8e-48bb-9499-80f359b359d4",
   "metadata": {},
   "source": [
    "25. Extract all alphabets from a string."
   ]
  },
  {
   "cell_type": "code",
   "execution_count": 25,
   "id": "63a4ed76-9e9e-47ff-b4c7-aa308fcb5b12",
   "metadata": {},
   "outputs": [
    {
     "name": "stdout",
     "output_type": "stream",
     "text": [
      "H,i,I,a,m,R,a,v,i,a,n,d,I,a,m,y,e,a,r,s,o,l,d\n"
     ]
    }
   ],
   "source": [
    "s = \"Hi, I am Ravi and I am 24 years old.\"\n",
    "\n",
    "# digits = \"\".join(filter(lambda x: x.isdigit(), s))\n",
    "\n",
    "alphabets = []\n",
    "for x in s:\n",
    "    if x.isalpha():\n",
    "        alphabets.append(x)\n",
    "        \n",
    "print(','.join(alphabets))"
   ]
  },
  {
   "cell_type": "markdown",
   "id": "aa3b4e2d-359b-43b7-9073-5e8ce58dcf3e",
   "metadata": {},
   "source": [
    "26. Count the number of uppercase letters in a string."
   ]
  },
  {
   "cell_type": "code",
   "execution_count": 26,
   "id": "a6008eda-aa3e-4a81-8ff1-7fdd615b9f02",
   "metadata": {},
   "outputs": [
    {
     "name": "stdout",
     "output_type": "stream",
     "text": [
      "Number of uppercase letters : 4\n"
     ]
    }
   ],
   "source": [
    "s = \"Hi, I am Ravi and I am 24 years old.\"\n",
    "\n",
    "count = 0\n",
    "for char in s:\n",
    "    if char.isupper():\n",
    "        count += 1\n",
    "print(\"Number of uppercase letters :\", count)"
   ]
  },
  {
   "cell_type": "markdown",
   "id": "2192c42d-be40-4388-bee7-56ab6b24e310",
   "metadata": {},
   "source": [
    "27. Count the number of lowercase letters in a string."
   ]
  },
  {
   "cell_type": "code",
   "execution_count": 27,
   "id": "da66180f-2f18-4b45-9d8b-7992527ebf61",
   "metadata": {},
   "outputs": [
    {
     "name": "stdout",
     "output_type": "stream",
     "text": [
      "Number of lowercase letters : 19\n"
     ]
    }
   ],
   "source": [
    "s = \"Hi, I am Ravi and I am 24 years old.\"\n",
    "\n",
    "count = 0\n",
    "for char in s:\n",
    "    if char.islower():\n",
    "        count += 1\n",
    "print(\"Number of lowercase letters :\", count)"
   ]
  },
  {
   "cell_type": "markdown",
   "id": "c1cc3a56-10aa-45cf-b5ec-d1501939484b",
   "metadata": {},
   "source": [
    "28. Swap the case of each character in a string."
   ]
  },
  {
   "cell_type": "code",
   "execution_count": 28,
   "id": "14bf5a23-b958-4263-be35-ac63bd9bf5eb",
   "metadata": {},
   "outputs": [
    {
     "name": "stdout",
     "output_type": "stream",
     "text": [
      "hI, i AM rAVI AND i AM 24 YEARS OLD.\n"
     ]
    }
   ],
   "source": [
    "s = \"Hi, I am Ravi and I am 24 years old.\"\n",
    "s= s.swapcase()\n",
    "print(s)"
   ]
  },
  {
   "cell_type": "markdown",
   "id": "99bd113d-631a-4fd9-8ac8-de74a2064d10",
   "metadata": {},
   "source": [
    "29. Remove a specific word from a string."
   ]
  },
  {
   "cell_type": "code",
   "execution_count": 29,
   "id": "447f0ff0-7417-4a3e-a5c0-dd7818eb84fa",
   "metadata": {},
   "outputs": [
    {
     "name": "stdout",
     "output_type": "stream",
     "text": [
      "Hi, I am Ravi and I am 24 years.\n"
     ]
    }
   ],
   "source": [
    "s = \"Hi, I am Ravi and I am 24 years old.\"\n",
    "s = s.replace(\" old\", \"\")\n",
    "print(s)"
   ]
  },
  {
   "cell_type": "code",
   "execution_count": 30,
   "id": "556eb295-19d5-4a97-946e-45dbb74c4237",
   "metadata": {},
   "outputs": [
    {
     "name": "stdout",
     "output_type": "stream",
     "text": [
      "Hi, I am Ravi and I am 24 years\n"
     ]
    }
   ],
   "source": [
    "s = \"Hi, I am Ravi and I am 24 years old.\"\n",
    "word_to_removed = \"old.\"\n",
    "\n",
    "words = s.split()\n",
    "filtered_words = [word for word in words if word != word_to_removed]\n",
    "s = \" \".join(filtered_words)\n",
    "print(s)               "
   ]
  },
  {
   "cell_type": "markdown",
   "id": "bd00dd99-79ac-4dea-99fe-d628df2f8c8f",
   "metadata": {},
   "source": [
    "30. Check if a string is a valid email address."
   ]
  },
  {
   "cell_type": "markdown",
   "id": "af87f751-fe34-4173-b695-84ed2ec2061e",
   "metadata": {},
   "source": [
    "### Regular expression pattern for a basic email format: \n",
    "\n",
    "\n",
    "| Components | Description |\n",
    "| --- | --- |\n",
    "| ^ | Anchors the pattern to the start of the string. |\n",
    "| [\\w\\.-]+ | Matches one or more word characters (letters, digits, underscores) or dots or hyphens, which are valid characters in the username part of the email. |\n",
    "| @ | Matches the \"@\" symbol. |\n",
    "| [\\w\\.-]+ | Matches one or more word characters (letters, digits, underscores) or dots or hyphens, which are valid characters in the domain name part of the email. |\n",
    "| \\\\. | Escapes and matches the literal dot (.) symbol. |\n",
    "| \\w+$ | Matches one or more word characters (letters, digits, underscores) at the end of the string (domain suffix, like \".com\"). |\n"
   ]
  },
  {
   "cell_type": "code",
   "execution_count": 31,
   "id": "95086b79-5911-4138-9505-4e5866f98482",
   "metadata": {},
   "outputs": [
    {
     "name": "stdout",
     "output_type": "stream",
     "text": [
      "tom_naomrem-123.@gmail.com is a valid email address.\n"
     ]
    }
   ],
   "source": [
    "import re\n",
    "\n",
    "pattern = r'^[\\w.-]+@[\\w.-]+\\.\\w+$'\n",
    "\n",
    "email = \"tom_naomrem-123.@gmail.com\"\n",
    "\n",
    "# Use the re.match function to check if the email matches the pattern\n",
    "if re.match(pattern, email):\n",
    "    print(f\"{email} is a valid email address.\")\n",
    "else:\n",
    "    print(f\"{email} is a not valid email address.\")"
   ]
  },
  {
   "cell_type": "markdown",
   "id": "a091545b-e083-4263-8323-1cf511a47c68",
   "metadata": {},
   "source": [
    "31. Extract the username from an email address string."
   ]
  },
  {
   "cell_type": "code",
   "execution_count": 32,
   "id": "e32f2337-c91c-4289-9e05-e8869a4d28ca",
   "metadata": {},
   "outputs": [
    {
     "name": "stdout",
     "output_type": "stream",
     "text": [
      "tom_naomrem-123.\n"
     ]
    }
   ],
   "source": [
    "import re\n",
    "email = \"tom_naomrem-123.@gmail.com\"\n",
    "\n",
    "pattern = r'^([\\w.-]+)@([\\w.-]+)\\.(\\w+)$'\n",
    "\n",
    "# Use re.search to find the match\n",
    "match = re.search(pattern, email)\n",
    "\n",
    "# Check if a match was found\n",
    "if match:\n",
    "    print(match.group(1))  # Extract the matched group , 1 for the first parenthesized subgroup\n",
    "else:\n",
    "    raise TypeError(\"Invalid email address\")  # Invalid email address format"
   ]
  },
  {
   "cell_type": "markdown",
   "id": "07c7cad9-a6c2-486e-8a10-3e1a3a009f06",
   "metadata": {},
   "source": [
    "32. Extract the domain name from an email address string."
   ]
  },
  {
   "cell_type": "code",
   "execution_count": 33,
   "id": "1cfc787a-b011-4df6-9ad2-4c6b7662e225",
   "metadata": {},
   "outputs": [
    {
     "name": "stdout",
     "output_type": "stream",
     "text": [
      "gmail\n"
     ]
    }
   ],
   "source": [
    "import re\n",
    "email = \"tom_naomrem-123.@gmail.com\"\n",
    "\n",
    "pattern = r'^([\\w.-]+)@([\\w.-]+)\\.(\\w+)$'\n",
    "\n",
    "# Use re.search to find the match\n",
    "match = re.search(pattern, email)\n",
    "\n",
    "# Check if a match was found\n",
    "if match:\n",
    "    print(match.group(2))  # Extract the matched group , 1 for the first parenthesized subgroup\n",
    "else:\n",
    "    raise TypeError(\"Invalid email address\")  # Invalid email address format"
   ]
  },
  {
   "cell_type": "markdown",
   "id": "f5140f6e-94b0-462d-8c9f-335b66b34890",
   "metadata": {},
   "source": [
    "33. Replace multiple spaces in a string with a single space."
   ]
  },
  {
   "cell_type": "code",
   "execution_count": 34,
   "id": "c8bcb2de-b811-43b9-9e7f-1e4a236e86b0",
   "metadata": {},
   "outputs": [
    {
     "name": "stdout",
     "output_type": "stream",
     "text": [
      "Hi, I am Ravi and I am 24 years old.\n"
     ]
    }
   ],
   "source": [
    "import re\n",
    "\n",
    "s = \"Hi,    I am    Ravi    and I   am   24     years      old.\"\n",
    "s = re.sub(\"\\s+\", \" \", s)\n",
    "print(s)"
   ]
  },
  {
   "cell_type": "markdown",
   "id": "3b99dab0-c53a-4414-9551-994d608b9cf5",
   "metadata": {},
   "source": [
    "34. Check if a string is a valid URL."
   ]
  },
  {
   "cell_type": "code",
   "execution_count": 35,
   "id": "35a2aae7-05c7-40f7-b105-e7700e506f35",
   "metadata": {},
   "outputs": [
    {
     "name": "stdout",
     "output_type": "stream",
     "text": [
      "True\n",
      "False\n"
     ]
    }
   ],
   "source": [
    "from urllib.parse import urlparse\n",
    "# urlparse function allows us to parse URLs and extract their components\n",
    "\n",
    "def is_valid_url(url):\n",
    "    try:\n",
    "        result = urlparse(url)\n",
    "        \n",
    "        '''Check if both the result.scheme \n",
    "        (URL scheme, like \"http\", \"https\", etc.) \n",
    "        and result.netloc (network location, \n",
    "        like \"www.abc.com\") are \n",
    "        present'''\n",
    "        \n",
    "        return all([result.scheme, result.netloc])\n",
    "    except ValueError:\n",
    "        return False\n",
    "    \n",
    "url1 = \"https://www.validexample.com\"\n",
    "url2 = \"invalid-url\"\n",
    "\n",
    "print(is_valid_url(url1))\n",
    "print(is_valid_url(url2))"
   ]
  },
  {
   "cell_type": "markdown",
   "id": "21e6dce4-d1ce-4fac-8134-e1e7e363f05a",
   "metadata": {},
   "source": [
    "35. Extract the protocol (http or https) from a URL string."
   ]
  },
  {
   "cell_type": "code",
   "execution_count": 36,
   "id": "4c4e5176-b443-4c4d-b6b5-e2d0110860aa",
   "metadata": {},
   "outputs": [
    {
     "name": "stdout",
     "output_type": "stream",
     "text": [
      "https\n"
     ]
    }
   ],
   "source": [
    "from urllib.parse import urlparse\n",
    "# urlparse function allows us to parse URLs and extract their components\n",
    "    \n",
    "url = \"https://www.validexample.com\"\n",
    "\n",
    "\n",
    "o = urlparse(url1)\n",
    "\n",
    "# print(o)\n",
    "print(o.scheme)\n",
    "# print(o.netloc)"
   ]
  },
  {
   "cell_type": "markdown",
   "id": "f8cb0627-25aa-45bf-a649-98b46aadbb7e",
   "metadata": {},
   "source": [
    "36. Find the frequency of each character in a string."
   ]
  },
  {
   "cell_type": "code",
   "execution_count": 37,
   "id": "20eb138f-d714-49a5-a31a-08c3b609457a",
   "metadata": {},
   "outputs": [
    {
     "name": "stdout",
     "output_type": "stream",
     "text": [
      "Character: H, Frequency: 1\n",
      "Character: e, Frequency: 1\n",
      "Character: l, Frequency: 3\n",
      "Character: o, Frequency: 2\n",
      "Character:  , Frequency: 1\n",
      "Character: W, Frequency: 1\n",
      "Character: r, Frequency: 1\n",
      "Character: d, Frequency: 1\n"
     ]
    }
   ],
   "source": [
    "s = \"Hello World\"\n",
    "\n",
    "freq = {}\n",
    "\n",
    "for char in s:\n",
    "    if char in freq:\n",
    "        freq[char] += 1 # Increment the frequency count \n",
    "    else:\n",
    "        freq[char] = 1 #  Initialize the frequency count\n",
    "\n",
    "for c, f in freq.items():\n",
    "    print(f\"Character: {c}, Frequency: {f}\")"
   ]
  },
  {
   "cell_type": "markdown",
   "id": "7ec59875-de3e-4a69-a012-13f863cdfdd4",
   "metadata": {},
   "source": [
    "37. Remove all punctuation from a string."
   ]
  },
  {
   "cell_type": "code",
   "execution_count": 38,
   "id": "d1ba5f9b-c329-42e5-8005-980e27ff7831",
   "metadata": {},
   "outputs": [
    {
     "name": "stdout",
     "output_type": "stream",
     "text": [
      "Hello world Hows it going\n"
     ]
    }
   ],
   "source": [
    "'''\n",
    "Import the string module, which contains a string called punctuation containing \n",
    "all punctuation characters.\n",
    "'''\n",
    "import string\n",
    "\n",
    "s = \"Hello, world! How's it going?\"\n",
    "\n",
    " # Create a translation table to remove punctuation\n",
    "translator = str.maketrans(\"\",\"\",string.punctuation)\n",
    "\n",
    "# Using the table, remove all characters that are present in the string.punctuation.\n",
    "cleaned = s.translate(translator)\n",
    "\n",
    "print(cleaned)"
   ]
  },
  {
   "cell_type": "markdown",
   "id": "8dbe1182-1dcf-4476-b02a-8856da19efc7",
   "metadata": {},
   "source": [
    "38. Check if a string contains only digits."
   ]
  },
  {
   "cell_type": "code",
   "execution_count": 39,
   "id": "6c83cad7-d013-4ef8-9ea2-a4294aaf392c",
   "metadata": {},
   "outputs": [
    {
     "name": "stdout",
     "output_type": "stream",
     "text": [
      "True\n",
      "False\n"
     ]
    }
   ],
   "source": [
    "s1 = \"12345\"\n",
    "s2 = \"abc123\"\n",
    "print(s1.isdigit())\n",
    "print(s2.isdigit())"
   ]
  },
  {
   "cell_type": "markdown",
   "id": "1f65c2b0-4f26-493f-b147-c66a544b2251",
   "metadata": {},
   "source": [
    "39. Check if a string contains only alphabets."
   ]
  },
  {
   "cell_type": "code",
   "execution_count": 40,
   "id": "cb2541f3-9fdd-4b05-b57a-ad6ef020a1f9",
   "metadata": {},
   "outputs": [
    {
     "name": "stdout",
     "output_type": "stream",
     "text": [
      "True\n",
      "False\n"
     ]
    }
   ],
   "source": [
    "s1 = \"abcde\"\n",
    "s2 = \"abc123\"\n",
    "print(s1.isalpha())\n",
    "print(s2.isalpha())"
   ]
  },
  {
   "cell_type": "markdown",
   "id": "cb234e39-e65c-4dd9-bdd3-faf72a760542",
   "metadata": {},
   "source": [
    "40. Convert a string to a list of characters."
   ]
  },
  {
   "cell_type": "code",
   "execution_count": 41,
   "id": "1f2fbce6-4572-4e10-92e7-61e0cbda7717",
   "metadata": {},
   "outputs": [
    {
     "name": "stdout",
     "output_type": "stream",
     "text": [
      "['H', 'e', 'l', 'l', 'o', ' ', 'w', 'o', 'r', 'l', 'd', ',', ' ', 'n', 'i', 'c', 'e', ' ', 't', 'o', ' ', 'm', 'e', 'e', 't', ' ', 'y', 'o', 'u', '.']\n"
     ]
    }
   ],
   "source": [
    "s = \"Hello world, nice to meet you.\"\n",
    "charlist = list(s)\n",
    "print(charlist)"
   ]
  },
  {
   "cell_type": "markdown",
   "id": "9daf2266-d406-49fa-bd13-bee180f7564d",
   "metadata": {},
   "source": [
    "41. Check if two strings are anagrams."
   ]
  },
  {
   "cell_type": "markdown",
   "id": "92b2ec97-a8b1-4cba-b798-3e42c6fc7b09",
   "metadata": {},
   "source": [
    "**Anagram** - a word or phrase made by transposing the letters of another word or phrase."
   ]
  },
  {
   "cell_type": "code",
   "execution_count": 42,
   "id": "6ce63609-46d3-44db-b384-b9b0fdaa967d",
   "metadata": {},
   "outputs": [
    {
     "name": "stdout",
     "output_type": "stream",
     "text": [
      "listenon nosilent\n",
      "True\n",
      "['e', 'i', 'l', 'n', 'n', 'o', 's', 't']\n",
      "['e', 'i', 'l', 'n', 'n', 'o', 's', 't']\n"
     ]
    }
   ],
   "source": [
    "str1 = \"Listen on\"\n",
    "str2 = \"No silent\"\n",
    "    \n",
    "# Remove spaces and convert strings to lowercase for accurate comparison\n",
    "str1 = str1.replace(\" \", \"\").lower()\n",
    "str2 = str2.replace(\" \", \"\").lower()\n",
    "print(str1, str2)\n",
    "\n",
    "# Sort the characters in both strings and compare to check if they are identical\n",
    "result = sorted(str1) == sorted(str2)\n",
    "print(result)\n",
    "\n",
    "print(sorted(str1))\n",
    "print(sorted(str2))"
   ]
  },
  {
   "cell_type": "markdown",
   "id": "e9099de7-3e8c-4889-8263-9cc7d37b49b3",
   "metadata": {},
   "source": [
    "42. Encode a string using a Caesar cipher."
   ]
  },
  {
   "cell_type": "markdown",
   "id": "783c4d4d-33db-405e-a797-da24fc1a736f",
   "metadata": {},
   "source": [
    "Caesar cipher is a type of substitution cipher that shifts each letter by a fixed number of positions down or up the alphabet."
   ]
  },
  {
   "cell_type": "code",
   "execution_count": 43,
   "id": "429ec06f-f7e0-44db-bff0-4c768ccd8cdc",
   "metadata": {},
   "outputs": [
    {
     "name": "stdout",
     "output_type": "stream",
     "text": [
      "Mn! N fr Lzqnajw 79 djfwx tqi, N fr qjfwsnsl Udymts kwtr UbXpnqqx IfyfXhnjshj Uwt Uwtlwfr.\n"
     ]
    }
   ],
   "source": [
    "s = \"Hi! I am Guliver 24 years old, I am learning Python from PwSkills DataScience Pro Program.\"\n",
    "\n",
    "# Initialize an empty string to store the encoded text.\n",
    "en_txt = \"\"\n",
    "# Initialize The number of positions to shift each letter.\n",
    "shift = 5\n",
    "\n",
    "# encoded through each character in the original string\n",
    "for char in s:\n",
    "    \n",
    "    # check if it's an uppercase character\n",
    "    if char.isupper():\n",
    "        c_index = ord(char) - ord('A')\n",
    "\n",
    "        # shift the current character by shift positions\n",
    "        c_shifted = (c_index + shift) % 26 + ord('A')\n",
    "\n",
    "        en_char = chr(c_shifted)\n",
    "        \n",
    "    # check if it's a lowercase character    \n",
    "    elif char.islower():\n",
    "        c_index = ord(char) - ord('a')\n",
    "\n",
    "        # shift the current character by shift positions\n",
    "        c_shifted = (c_index + shift) % 26 + ord('a')\n",
    "\n",
    "        en_char = chr(c_shifted)\n",
    "        \n",
    "    # if it's a number, shift its actual value  \n",
    "    elif char.isdigit():\n",
    "        c_shifted = (int(char) + shift) % 10\n",
    "        en_char = str(c_shifted)\n",
    "        \n",
    "    # if its neither alphabetical nor a number, just leave it like that\n",
    "    else:\n",
    "        en_char = char\n",
    "    \n",
    "    # Add the encoded character to the encoded text.    \n",
    "    en_txt += en_char\n",
    "\n",
    "print(en_txt)"
   ]
  },
  {
   "cell_type": "markdown",
   "id": "cdc43b3e-1d3d-4f16-81fb-23092af99b49",
   "metadata": {},
   "source": [
    "43. Decode a Caesar cipher encoded string."
   ]
  },
  {
   "cell_type": "code",
   "execution_count": 44,
   "id": "7f7b0dbf-2662-4ae6-848c-7e727bbf96a5",
   "metadata": {},
   "outputs": [
    {
     "name": "stdout",
     "output_type": "stream",
     "text": [
      "Hi! I am Guliver 24 years old, I am learning Python from PwSkills DataScience Pro Program.\n"
     ]
    }
   ],
   "source": [
    "encoded = \"Mn! N fr Lzqnajw 79 djfwx tqi, N fr qjfwsnsl Udymts kwtr UbXpnqqx IfyfXhnjshj Uwt Uwtlwfr.\"\n",
    "\n",
    "# Initialize an empty string to store the decoded text.\n",
    "de_txt = \"\"\n",
    "\n",
    "# The number of positions to shift each letter.\n",
    "shift = 5\n",
    "\n",
    "# encoded through each character in the original string\n",
    "for char in encoded:\n",
    "    \n",
    "    # check if it's an uppercase character\n",
    "    if char.isupper():\n",
    "        c_index = ord(char) - ord('A')\n",
    "\n",
    "        # shift the current character by shift positions\n",
    "        c_shifted = (c_index - shift) % 26 + ord('A')\n",
    "\n",
    "        de_char = chr(c_shifted)\n",
    "        \n",
    "    # check if it's a lowercase character    \n",
    "    elif char.islower():\n",
    "        c_index = ord(char) - ord('a')\n",
    "\n",
    "        # shift the current character by shift positions\n",
    "        c_shifted = (c_index - shift) % 26 + ord('a')\n",
    "\n",
    "        de_char = chr(c_shifted)\n",
    "        \n",
    "    # if it's a number, shift its actual value  \n",
    "    elif char.isdigit():\n",
    "        c_shifted = (int(char) - shift) % 10\n",
    "        de_char = str(c_shifted)\n",
    "        \n",
    "    # if its neither alphabetical nor a number, just leave it like that\n",
    "    else:\n",
    "        de_char = char\n",
    "    \n",
    "    # Add the decoded character to the decoded text.    \n",
    "    de_txt += de_char\n",
    "\n",
    "print(de_txt)"
   ]
  },
  {
   "cell_type": "markdown",
   "id": "048cc81b-9eef-4a3e-902a-3ecc05639667",
   "metadata": {},
   "source": [
    "44. Find the most frequent word in a string."
   ]
  },
  {
   "cell_type": "code",
   "execution_count": 45,
   "id": "848b7c94-e2c9-4c7e-b437-5f71741dba16",
   "metadata": {},
   "outputs": [
    {
     "name": "stdout",
     "output_type": "stream",
     "text": [
      "hello\n"
     ]
    }
   ],
   "source": [
    "import re\n",
    "from collections import Counter\n",
    "\n",
    "input_string = \"Hello world, hello there! How's the world?\"\n",
    "\n",
    "# Remove punctuations and convert to lowercase\n",
    "# [^\\w\\s] returns a match for any character except words and spaces\n",
    "clean_string = re.sub(r'[^\\w\\s]', '', input_string).lower()\n",
    "\n",
    "# Split the string into words\n",
    "words = clean_string.split()\n",
    "\n",
    "# Use Counter to count word frequencies\n",
    "word_counter = Counter(words)\n",
    "\n",
    "# print(word_counter)\n",
    "# print(type(word_counter))\n",
    "\n",
    "# Find the most common word\n",
    "most_common_word = word_counter.most_common(1)[0][0]\n",
    "# print(type(most_common_word))\n",
    "print(most_common_word)"
   ]
  },
  {
   "cell_type": "markdown",
   "id": "6743df70-66a4-48c9-b1dd-fb620fdb2f6f",
   "metadata": {},
   "source": [
    "45. Find all unique words in a string."
   ]
  },
  {
   "cell_type": "code",
   "execution_count": 46,
   "id": "54ccc97f-a1bb-4bf5-bbd2-c853d05ccd61",
   "metadata": {},
   "outputs": [
    {
     "name": "stdout",
     "output_type": "stream",
     "text": [
      "hello world hello there hows the world\n",
      "['hello', 'world', 'hello', 'there', 'hows', 'the', 'world']\n",
      "{'hello', 'hows', 'the', 'world', 'there'}\n"
     ]
    }
   ],
   "source": [
    "import re\n",
    "input_string = \"Hello world, hello there! How's the world?\"\n",
    "\n",
    "# Remove punctuations and convert to lowercase\n",
    "clean_string = re.sub(r'[^\\w\\s]', '', input_string).lower()\n",
    "print(clean_string)\n",
    "\n",
    "# Split the string into words\n",
    "words = clean_string.split()\n",
    "print(words)\n",
    "\n",
    "# Convert to a set for uniqueness\n",
    "unique_words = set(words)\n",
    "print(unique_words)"
   ]
  },
  {
   "cell_type": "markdown",
   "id": "fc4a79fc-b641-4994-b68b-3d4d2c1d26a9",
   "metadata": {},
   "source": [
    "46. Count the number of syllables in a string."
   ]
  },
  {
   "cell_type": "code",
   "execution_count": 47,
   "id": "ec2a870e-14fc-410f-9b8e-78ba52faf289",
   "metadata": {},
   "outputs": [
    {
     "name": "stdout",
     "output_type": "stream",
     "text": [
      "'Pneumonoultramicroscopicsilicovolcanoconiosis' has 17 syllables.\n",
      "'Banana' has 3 syllables.\n",
      "'Syllable' has 3 syllables.\n"
     ]
    }
   ],
   "source": [
    "import re\n",
    "\n",
    "def count_syllables(word):\n",
    "    # Count vowel groups using regular expression\n",
    "    vowel_groups = re.findall(r'[aeiouy]+', word, re.IGNORECASE) #pattern, string, flag\n",
    "    # print(vowel_groups)\n",
    "    \n",
    "    # Number of vowel group in the word\n",
    "    length = len(vowel_groups)\n",
    "    \n",
    "    # Print the results\n",
    "    print(f\"'{word}' has {length} syllables.\")\n",
    "\n",
    "# Example words\n",
    "word1 = \"Pneumonoultramicroscopicsilicovolcanoconiosis\"\n",
    "word2 = \"Banana\"\n",
    "word3 = \"Syllable\"\n",
    "\n",
    "# Calling funtion to count syllables\n",
    "count_syllables(word1)\n",
    "count_syllables(word2)\n",
    "count_syllables(word3)"
   ]
  },
  {
   "cell_type": "markdown",
   "id": "ba3a314b-8fd4-4ddf-b27e-262e3c173df4",
   "metadata": {},
   "source": [
    "47. Check if a string contains any special characters."
   ]
  },
  {
   "cell_type": "code",
   "execution_count": 48,
   "id": "5488d546-c409-4c59-b466-fca2e4eed947",
   "metadata": {},
   "outputs": [
    {
     "name": "stdout",
     "output_type": "stream",
     "text": [
      "True\n",
      "False\n",
      "True\n"
     ]
    }
   ],
   "source": [
    "import re\n",
    "\n",
    "def check_special_char(string):\n",
    "    # Define a regular expression pattern to match special characters\n",
    "    pattern = re.compile(r'[!@#$%^&*()_+{}\\[\\]:;<>,.?~\\\\/]')\n",
    "    \n",
    "    # Use the search() method to find a match\n",
    "    # If there is more than one match, only the first occurrence of the match will be returned\n",
    "    \n",
    "    match = pattern.search(string)\n",
    "    # print(match)\n",
    "    \n",
    "    # Print True if a match is found, False otherwise\n",
    "    print(bool(match))\n",
    "\n",
    "# Example strings\n",
    "str1 = \"Hello! Jupyter.\"\n",
    "str2 = \"This is an example\"\n",
    "str3 = \"The @ is a special character\"\n",
    "\n",
    "check_special_char(str1)\n",
    "check_special_char(str2)\n",
    "check_special_char(str3)"
   ]
  },
  {
   "cell_type": "markdown",
   "id": "31eed5d2-d54b-4945-8653-36ba7e622228",
   "metadata": {},
   "source": [
    "48. Remove the nth word from a string."
   ]
  },
  {
   "cell_type": "code",
   "execution_count": 49,
   "id": "f71bb0cc-bb0b-47bd-b764-46f35145c66a",
   "metadata": {},
   "outputs": [
    {
     "name": "stdout",
     "output_type": "stream",
     "text": [
      "Hello world! I am learning.\n"
     ]
    }
   ],
   "source": [
    "import re\n",
    "import string\n",
    "\n",
    "s = \"Hello world! I am learning Python.\"\n",
    "\n",
    "# The n value\n",
    "n = 6\n",
    "\n",
    "# Remove Punctuations\n",
    "clean_s = re.sub(r'[^\\w\\s]', '', s)\n",
    "\n",
    "# Split string into words\n",
    "words = clean_s.split()\n",
    "# print(words)\n",
    "\n",
    "# Check if n is within a valid range\n",
    "if n >= 1 and n <= len(words):\n",
    "    # if we remove first word, remove the word with the space next to it\n",
    "    if n == 1:\n",
    "        new_s = s.replace(words[n-1] + \" \", \"\")\n",
    "    # if not the first word, remove the word with preceding space\n",
    "    else:\n",
    "        new_s = s.replace(\" \" + words[n-1], \"\")\n",
    "    print(new_s)\n",
    "else:\n",
    "    raise Exception(\"Invalid n value!\")"
   ]
  },
  {
   "cell_type": "markdown",
   "id": "58f910bc-88b2-4943-8cea-ca2c7f110ae2",
   "metadata": {},
   "source": [
    "49. Insert a word at the nth position in a string."
   ]
  },
  {
   "cell_type": "code",
   "execution_count": 50,
   "id": "ff01ee77-7611-404f-9cbe-c21f1e46e655",
   "metadata": {},
   "outputs": [
    {
     "name": "stdout",
     "output_type": "stream",
     "text": [
      "Hello world! I am Yes learning Python through PwSkills Data Science Pro.\n"
     ]
    }
   ],
   "source": [
    "import re\n",
    "import string\n",
    "\n",
    "s = \"Hello world! I am learning Python through PwSkills Data Science Pro.\"\n",
    "word_to_insert = \"Yes\"\n",
    "\n",
    "# The n value\n",
    "n = 5\n",
    "\n",
    "# Remove Punctuations\n",
    "clean_s = re.sub(r'[^\\w\\s]', '', s)\n",
    "\n",
    "# Split string into words\n",
    "words = clean_s.split()\n",
    "# print(words)\n",
    "\n",
    "# Check if n is within a valid range\n",
    "if n >= 1 and n <= len(words) + 1:\n",
    "    # if we need the word at the beginning, concatenate the word at the start with a space \n",
    "    if n == 1:\n",
    "        new_s = word_to_insert + \" \" + s\n",
    "        print(new_s)\n",
    "    # if we need the word at the end, concatenate the word using String Slicing method\n",
    "    elif n == len(words) + 1:\n",
    "        new_s = s[:s.find(words[n-2]) + len(words[n-2])] + \" \" + word_to_insert + s[s.find(words[n-2]) + len(words[n-2]):]\n",
    "        print(new_s)\n",
    "    # if we need the word in between, concatenate the word using String Slicing method\n",
    "    else:\n",
    "        new_s = s[:s.find(words[n-1])] + word_to_insert + \" \" + s[s.find(words[n-1]):]\n",
    "        print(new_s)\n",
    "    \n",
    "else:\n",
    "    raise Exception(\"Invalid n value!\")"
   ]
  },
  {
   "cell_type": "markdown",
   "id": "5af1ce9d-3c19-4b8c-b2dc-2f85fc9e1f55",
   "metadata": {},
   "source": [
    "50. Convert a CSV string to a list of lists."
   ]
  },
  {
   "cell_type": "code",
   "execution_count": 51,
   "id": "e32f5980-c77e-4f94-819c-44e119d318ec",
   "metadata": {},
   "outputs": [
    {
     "name": "stdout",
     "output_type": "stream",
     "text": [
      "['Name', 'Age', 'Country']\n",
      "['John', '25', 'USA']\n",
      "['Alice', '30', 'Canada']\n",
      "['Bob', '22', 'UK']\n",
      "<class 'list'>\n"
     ]
    }
   ],
   "source": [
    "csv_str = \"Name, Age, Country\\nJohn, 25, USA\\nAlice, 30, Canada\\nBob, 22, UK\"\n",
    "\n",
    "# Split the CSV string into lines\n",
    "lines = csv_str.split('\\n')\n",
    "# print(lines)\n",
    "# print(len(lines))\n",
    "\n",
    "# Initialize an empty list to store the result\n",
    "result = []\n",
    "\n",
    "for line in lines:\n",
    "    # Split each line into fields using comma and a space as the delimiter\n",
    "    fields = line.split(', ')\n",
    "    # print(fields)\n",
    "    \n",
    "    # Append the fields to the result list as a row\n",
    "    result.append(fields)\n",
    "    \n",
    "for row in result:\n",
    "    print(row)\n",
    "    \n",
    "print(type(result))"
   ]
  },
  {
   "cell_type": "markdown",
   "id": "b8b81476-05a1-45ce-89dc-43a0b0884b5b",
   "metadata": {},
   "source": [
    "# TOPIC: List Based Practice Problem"
   ]
  },
  {
   "cell_type": "markdown",
   "id": "07383679-9009-453b-8e8c-e60636279c68",
   "metadata": {},
   "source": [
    "1. Create a list with integers from 1 to 10."
   ]
  },
  {
   "cell_type": "code",
   "execution_count": 52,
   "id": "3b2239b5-247c-4f31-b4b5-fd14f6a62be3",
   "metadata": {},
   "outputs": [],
   "source": [
    "l = [1,2,3,4,5,6,7,8,9,10]"
   ]
  },
  {
   "cell_type": "markdown",
   "id": "7f433984-8745-477b-ae8d-02b2e7be9832",
   "metadata": {},
   "source": [
    "2. Find the length of a list without using the `len()` function."
   ]
  },
  {
   "cell_type": "code",
   "execution_count": 53,
   "id": "d7419201-7cfd-4fb9-a569-56dd06fb1bcb",
   "metadata": {},
   "outputs": [
    {
     "name": "stdout",
     "output_type": "stream",
     "text": [
      "Length of the list is 10\n"
     ]
    }
   ],
   "source": [
    "l = [1,2,3,4,5,6,7,8,9,10]\n",
    "\n",
    "count = 0\n",
    "for x in l:\n",
    "    count += 1\n",
    "print(\"Length of the list is\", count)"
   ]
  },
  {
   "cell_type": "markdown",
   "id": "3d4ea67a-a21c-45b1-9d05-fb19824229b8",
   "metadata": {},
   "source": [
    "3. Append an element to the end of a list."
   ]
  },
  {
   "cell_type": "code",
   "execution_count": 54,
   "id": "e8bcc1bb-1fe1-47a4-aba2-8c615f6c45bc",
   "metadata": {},
   "outputs": [
    {
     "name": "stdout",
     "output_type": "stream",
     "text": [
      "[1, 2, 3, 4, 5, 6, 7, 8, 9, 10, 11]\n"
     ]
    }
   ],
   "source": [
    "l = [1,2,3,4,5,6,7,8,9,10]\n",
    "\n",
    "l.append(11)\n",
    "\n",
    "print(l)"
   ]
  },
  {
   "cell_type": "markdown",
   "id": "409fb7a7-9909-49ef-afad-35d3d6569d72",
   "metadata": {},
   "source": [
    "4. Insert an element at a specific index in a list."
   ]
  },
  {
   "cell_type": "code",
   "execution_count": 55,
   "id": "94b74680-0209-4e18-b23d-63dfb51a2309",
   "metadata": {},
   "outputs": [
    {
     "name": "stdout",
     "output_type": "stream",
     "text": [
      "[1, 2, 54, 3, 4, 5, 6, 7, 8, 9, 10]\n"
     ]
    }
   ],
   "source": [
    "l = [1,2,3,4,5,6,7,8,9,10]\n",
    "\n",
    "index = 2\n",
    "element = 54\n",
    "\n",
    "l.insert(index, element)\n",
    "\n",
    "print(l)"
   ]
  },
  {
   "cell_type": "markdown",
   "id": "4bc3d14b-f7dd-41b9-9d39-7018a74f2310",
   "metadata": {},
   "source": [
    "5. Remove an element from a list by its value."
   ]
  },
  {
   "cell_type": "code",
   "execution_count": 56,
   "id": "af15c13a-0701-4f9a-9bfa-70b0261bf6a5",
   "metadata": {},
   "outputs": [
    {
     "name": "stdout",
     "output_type": "stream",
     "text": [
      "[1, 2, 3, 4, 6, 7, 8, 9, 10]\n"
     ]
    }
   ],
   "source": [
    "l = [1,2,3,4,5,6,7,8,9,10]\n",
    "\n",
    "l.remove(5)\n",
    "\n",
    "print(l)"
   ]
  },
  {
   "cell_type": "markdown",
   "id": "1cc68bbc-a607-4638-953b-b9dfa8a9a1f2",
   "metadata": {},
   "source": [
    "6. Remove an element from a list by its index."
   ]
  },
  {
   "cell_type": "code",
   "execution_count": 57,
   "id": "52369cd3-51b1-4ce6-b3e2-16b0c911ca89",
   "metadata": {},
   "outputs": [
    {
     "name": "stdout",
     "output_type": "stream",
     "text": [
      "[1, 2, 4, 5, 6, 7, 8, 9, 10]\n"
     ]
    }
   ],
   "source": [
    "l = [1,2,3,4,5,6,7,8,9,10]\n",
    "\n",
    "l.pop(2)\n",
    "\n",
    "print(l)"
   ]
  },
  {
   "cell_type": "code",
   "execution_count": 58,
   "id": "723adeac-64ea-43f8-98eb-079d7809388b",
   "metadata": {},
   "outputs": [
    {
     "name": "stdout",
     "output_type": "stream",
     "text": [
      "[1, 2, 3, 4, 6, 7, 8, 9, 10]\n"
     ]
    }
   ],
   "source": [
    "l = [1,2,3,4,5,6,7,8,9,10]\n",
    "\n",
    "del l[4]\n",
    "\n",
    "print(l)"
   ]
  },
  {
   "cell_type": "markdown",
   "id": "ffbb457c-5d9a-4770-bbbc-1242b492686c",
   "metadata": {},
   "source": [
    "7. Check if an element exists in a list."
   ]
  },
  {
   "cell_type": "code",
   "execution_count": 59,
   "id": "0894898c-0fc4-436c-bf8b-77a398f7ccbd",
   "metadata": {},
   "outputs": [
    {
     "name": "stdout",
     "output_type": "stream",
     "text": [
      "True\n"
     ]
    }
   ],
   "source": [
    "l = [1,2,3,4,5,6,7,8,9,10]\n",
    "\n",
    "print(5 in l)"
   ]
  },
  {
   "cell_type": "markdown",
   "id": "101ccb4b-94c0-486c-a87d-db0573c7b015",
   "metadata": {},
   "source": [
    "8. Find the index of the first occurrence of an element in a list."
   ]
  },
  {
   "cell_type": "code",
   "execution_count": 60,
   "id": "b591529e-81f7-4ea3-a744-f0ce3fbda104",
   "metadata": {},
   "outputs": [
    {
     "name": "stdout",
     "output_type": "stream",
     "text": [
      "2\n"
     ]
    }
   ],
   "source": [
    "fruits = ['apple', 'cherry', 'pineapple', 'cherry', 'banana', 'guava', 'pineapple', 'grapes']\n",
    "\n",
    "print(fruits.index('pineapple'))"
   ]
  },
  {
   "cell_type": "markdown",
   "id": "08ebad72-0feb-4861-bfbd-f2e51938ce5a",
   "metadata": {},
   "source": [
    "9. Count the occurrences of an element in a list."
   ]
  },
  {
   "cell_type": "code",
   "execution_count": 61,
   "id": "44ce0329-0d6f-4ceb-b02e-e20dab047721",
   "metadata": {},
   "outputs": [
    {
     "data": {
      "text/plain": [
       "3"
      ]
     },
     "execution_count": 61,
     "metadata": {},
     "output_type": "execute_result"
    }
   ],
   "source": [
    "fruits = ['apple', 'cherry', 'pineapple', 'guava', 'banana', 'guava', 'pineapple', 'guava']\n",
    "\n",
    "fruits.count('guava')"
   ]
  },
  {
   "cell_type": "markdown",
   "id": "70097ab8-eb83-490d-8f08-76f71e51dc23",
   "metadata": {},
   "source": [
    "10. Reverse the order of elements in a list."
   ]
  },
  {
   "cell_type": "code",
   "execution_count": 62,
   "id": "0afb22e3-8878-41ef-8ca0-d0d734456044",
   "metadata": {},
   "outputs": [
    {
     "name": "stdout",
     "output_type": "stream",
     "text": [
      "[10, 9, 8, 7, 6, 5, 4, 3, 2, 1]\n"
     ]
    }
   ],
   "source": [
    "l = [1,2,3,4,5,6,7,8,9,10]\n",
    "\n",
    "l.reverse()\n",
    "\n",
    "print(l)"
   ]
  },
  {
   "cell_type": "markdown",
   "id": "661e085a-797e-4da8-b4f8-f1a48ef1dc7c",
   "metadata": {},
   "source": [
    "11. Sort a list in ascending order."
   ]
  },
  {
   "cell_type": "code",
   "execution_count": 63,
   "id": "4c9bbfb9-ae58-41e1-85b3-d4fe77b334d5",
   "metadata": {},
   "outputs": [
    {
     "name": "stdout",
     "output_type": "stream",
     "text": [
      "[1, 2, 3, 4, 5, 6, 7, 8, 9, 10]\n"
     ]
    }
   ],
   "source": [
    "ul = [4,2,5,9,6,1,3,8,10,7]\n",
    "\n",
    "ul.sort()\n",
    "\n",
    "print(ul)"
   ]
  },
  {
   "cell_type": "markdown",
   "id": "9e836287-cf77-40cb-8419-b75c6aa1c3e4",
   "metadata": {},
   "source": [
    "12. Sort a list in descending order."
   ]
  },
  {
   "cell_type": "code",
   "execution_count": 64,
   "id": "619f595a-031e-4a11-958c-6816fb7a695a",
   "metadata": {},
   "outputs": [
    {
     "name": "stdout",
     "output_type": "stream",
     "text": [
      "[10, 9, 8, 7, 6, 5, 4, 3, 2, 1]\n"
     ]
    }
   ],
   "source": [
    "ul = [4,2,5,9,6,1,3,8,10,7]\n",
    "\n",
    "ul.sort(reverse = True)\n",
    "\n",
    "print(ul)"
   ]
  },
  {
   "cell_type": "markdown",
   "id": "0251b600-1d05-4cf6-8ffe-8643d64638d3",
   "metadata": {},
   "source": [
    "13. Create a list of even numbers from 1 to 20."
   ]
  },
  {
   "cell_type": "code",
   "execution_count": 65,
   "id": "97880660-0bb3-486a-a99b-9090ad1b95ac",
   "metadata": {},
   "outputs": [
    {
     "name": "stdout",
     "output_type": "stream",
     "text": [
      "[2, 4, 6, 8, 10, 12, 14, 16, 18, 20]\n"
     ]
    }
   ],
   "source": [
    "even = list(range(2,21,2))\n",
    "print(even)"
   ]
  },
  {
   "cell_type": "markdown",
   "id": "316e7656-63e0-453d-b4d6-2ac9b7162d95",
   "metadata": {},
   "source": [
    "14. Create a list of odd numbers from 1 to 20."
   ]
  },
  {
   "cell_type": "code",
   "execution_count": 66,
   "id": "aa0c8c76-5ad3-4ab4-955a-e9abccde7dfa",
   "metadata": {},
   "outputs": [
    {
     "name": "stdout",
     "output_type": "stream",
     "text": [
      "[1, 3, 5, 7, 9, 11, 13, 15, 17, 19]\n"
     ]
    }
   ],
   "source": [
    "odd = list(range(1,20,2))\n",
    "print(odd)"
   ]
  },
  {
   "cell_type": "markdown",
   "id": "f0abfbe1-7d1f-486f-9a1c-c30b254b9005",
   "metadata": {},
   "source": [
    "15. Find the sum of all elements in a list."
   ]
  },
  {
   "cell_type": "code",
   "execution_count": 67,
   "id": "bf198a5c-eee5-48f7-828c-57a159dd68a8",
   "metadata": {},
   "outputs": [
    {
     "name": "stdout",
     "output_type": "stream",
     "text": [
      "55\n"
     ]
    }
   ],
   "source": [
    "l = [1,2,3,4,5,6,7,8,9,10]\n",
    "\n",
    "sum = 0\n",
    "\n",
    "for x in l:\n",
    "    sum += x\n",
    "\n",
    "print(sum)"
   ]
  },
  {
   "cell_type": "markdown",
   "id": "9c6684a8-5e1e-45e5-9828-dac1aec13e47",
   "metadata": {},
   "source": [
    "16. Find the maximum value in a list."
   ]
  },
  {
   "cell_type": "code",
   "execution_count": 68,
   "id": "9bea9ec5-729d-447f-933f-90c9dfd2395e",
   "metadata": {},
   "outputs": [
    {
     "name": "stdout",
     "output_type": "stream",
     "text": [
      "10\n"
     ]
    }
   ],
   "source": [
    "ul = [4,2,5,9,6,1,3,8,10,7]\n",
    "\n",
    "print(max(ul))"
   ]
  },
  {
   "cell_type": "markdown",
   "id": "218fae9d-a275-4a4f-971d-d59cd7159d85",
   "metadata": {},
   "source": [
    "17. Find the minimum value in a list."
   ]
  },
  {
   "cell_type": "code",
   "execution_count": 69,
   "id": "494eee52-751b-4da7-9702-34b6706aa4ac",
   "metadata": {},
   "outputs": [
    {
     "name": "stdout",
     "output_type": "stream",
     "text": [
      "1\n"
     ]
    }
   ],
   "source": [
    "ul = [4,2,5,9,6,1,3,8,10,7]\n",
    "\n",
    "print(min(ul))"
   ]
  },
  {
   "cell_type": "markdown",
   "id": "e1182142-4695-494d-8c2a-0a8721cd7180",
   "metadata": {},
   "source": [
    "18. Create a list of squares of numbers from 1 to 10."
   ]
  },
  {
   "cell_type": "code",
   "execution_count": 70,
   "id": "4757dd8c-fd1e-4613-ac1f-578826382791",
   "metadata": {},
   "outputs": [
    {
     "name": "stdout",
     "output_type": "stream",
     "text": [
      "[1, 4, 9, 16, 25, 36, 49, 64, 81, 100]\n"
     ]
    }
   ],
   "source": [
    "squares = [x*x for x in range(1,11)]\n",
    "print(squares)"
   ]
  },
  {
   "cell_type": "markdown",
   "id": "9f010e1a-5a76-44c6-bc65-b40565a6385e",
   "metadata": {},
   "source": [
    "19. Create a list of random numbers."
   ]
  },
  {
   "cell_type": "code",
   "execution_count": 71,
   "id": "c83750d2-9385-492f-887a-ea09c7f240a3",
   "metadata": {},
   "outputs": [
    {
     "name": "stdout",
     "output_type": "stream",
     "text": [
      "[5, 3, 7, 4, 6, 9, 7, 8, 6, 6]\n"
     ]
    }
   ],
   "source": [
    "import random\n",
    "\n",
    "l = [random.randint(1,9) for x in range(10)]  # 1 and 9 both included\n",
    "print(l)"
   ]
  },
  {
   "cell_type": "markdown",
   "id": "7b55a87e-7f82-4b8b-bbf9-f7e02a8502cc",
   "metadata": {},
   "source": [
    "20. Remove duplicates from a list."
   ]
  },
  {
   "cell_type": "code",
   "execution_count": 72,
   "id": "8a4c0a13-93b8-4c3b-8d84-d5d0fdad1f31",
   "metadata": {},
   "outputs": [
    {
     "name": "stdout",
     "output_type": "stream",
     "text": [
      "[1, 3, 5, 6]\n"
     ]
    }
   ],
   "source": [
    "# initializing list\n",
    "test_list = [1, 3, 5, 6, 3, 5, 6, 1]\n",
    " \n",
    "# using list comprehension to remove duplicated from list\n",
    "res = []\n",
    "[res.append(x) for x in test_list if x not in res]\n",
    " \n",
    "# printing list after removal\n",
    "print(res)"
   ]
  },
  {
   "cell_type": "markdown",
   "id": "5f476fc2-c386-40ca-a670-229bc1bc815d",
   "metadata": {},
   "source": [
    "21. Find the common elements between two lists."
   ]
  },
  {
   "cell_type": "code",
   "execution_count": 73,
   "id": "397f9246-faf1-4444-b573-d5312dae6244",
   "metadata": {},
   "outputs": [
    {
     "name": "stdout",
     "output_type": "stream",
     "text": [
      "Common elements : [2, 4, 6]\n"
     ]
    }
   ],
   "source": [
    "l1 = [1,2,3,4,5,6]\n",
    "l2 = [2,4,6,8,10]\n",
    "\n",
    "c = list(set(l1).intersection(l2))\n",
    "print(\"Common elements :\", c)"
   ]
  },
  {
   "cell_type": "code",
   "execution_count": 74,
   "id": "57927a7f-2b2d-4443-8fd8-4c3bdab645db",
   "metadata": {},
   "outputs": [
    {
     "name": "stdout",
     "output_type": "stream",
     "text": [
      "Common elements : [2, 4, 6]\n"
     ]
    }
   ],
   "source": [
    "l1 = [1,2,3,4,5,6]\n",
    "l2 = [2,4,6,8,10]\n",
    "\n",
    "c = [x for x in l1 if x in l2]\n",
    "print(\"Common elements :\", c)"
   ]
  },
  {
   "cell_type": "markdown",
   "id": "6a0afe14-31a8-4029-862c-4ed613340889",
   "metadata": {},
   "source": [
    "22. Find the difference between two lists."
   ]
  },
  {
   "cell_type": "code",
   "execution_count": 75,
   "id": "1e33ade1-c265-4385-8875-fbaabf7c6cab",
   "metadata": {},
   "outputs": [
    {
     "name": "stdout",
     "output_type": "stream",
     "text": [
      "l1 - l2 = [1, 3, 5]\n",
      "l2 - l1 = [8, 10]\n"
     ]
    }
   ],
   "source": [
    "l1 = [1,2,3,4,5,6]\n",
    "l2 = [2,4,6,8,10]\n",
    "\n",
    "d1 = list(set(l1).difference(l2))\n",
    "d2 = list(set(l2).difference(l1))\n",
    "\n",
    "print(\"l1 - l2 =\", d1)\n",
    "print(\"l2 - l1 =\", d2)"
   ]
  },
  {
   "cell_type": "code",
   "execution_count": 76,
   "id": "96590f98-52cf-4932-89b4-342a0b36d247",
   "metadata": {},
   "outputs": [
    {
     "name": "stdout",
     "output_type": "stream",
     "text": [
      "l1 - l2 = [1, 3, 5]\n",
      "l2 - l1 = [8, 10]\n"
     ]
    }
   ],
   "source": [
    "l1 = [1,2,3,4,5,6]\n",
    "l2 = [2,4,6,8,10]\n",
    "\n",
    "d1 = [x for x in l1 if x not in l2]\n",
    "d2 = [x for x in l2 if x not in l1]\n",
    "\n",
    "print(\"l1 - l2 =\", d1)\n",
    "print(\"l2 - l1 =\", d2)"
   ]
  },
  {
   "cell_type": "markdown",
   "id": "df6817d0-e682-425b-b7ad-92f2b3dd3f9d",
   "metadata": {},
   "source": [
    "23. Merge two lists."
   ]
  },
  {
   "cell_type": "code",
   "execution_count": 77,
   "id": "ef192c18-ee67-484d-8122-b26c0f05d3a0",
   "metadata": {},
   "outputs": [
    {
     "name": "stdout",
     "output_type": "stream",
     "text": [
      "[1, 2, 3, 4, 5, 6, 2, 4, 6, 8, 10]\n"
     ]
    }
   ],
   "source": [
    "l1 = [1,2,3,4,5,6]\n",
    "l2 = [2,4,6,8,10]\n",
    "\n",
    "l1.extend(l2)\n",
    "\n",
    "print(l1)"
   ]
  },
  {
   "cell_type": "markdown",
   "id": "4cd91c79-624d-4d6a-bef3-fe62feb62e75",
   "metadata": {},
   "source": [
    "24. Multiply all elements in a list by 2."
   ]
  },
  {
   "cell_type": "code",
   "execution_count": 78,
   "id": "97875a2f-d3cb-4727-9ee9-1d2cf9682a52",
   "metadata": {},
   "outputs": [
    {
     "name": "stdout",
     "output_type": "stream",
     "text": [
      "[4, 8, 12, 16, 20]\n"
     ]
    }
   ],
   "source": [
    "l = [2,4,6,8,10]\n",
    "\n",
    "twice = [x*2 for x in l]\n",
    "print(twice)"
   ]
  },
  {
   "cell_type": "code",
   "execution_count": 79,
   "id": "f20a94fd-0232-43e9-ab70-9a0122ec59c8",
   "metadata": {},
   "outputs": [
    {
     "name": "stdout",
     "output_type": "stream",
     "text": [
      "[4, 8, 12, 16, 20]\n"
     ]
    }
   ],
   "source": [
    "l = [2,4,6,8,10]\n",
    "\n",
    "twice = list(map(lambda x: x*2,l))\n",
    "print(twice)"
   ]
  },
  {
   "cell_type": "markdown",
   "id": "3b611793-8d32-4504-a5d7-61e3040dc0f3",
   "metadata": {},
   "source": [
    "25. Filter out all even numbers from a list."
   ]
  },
  {
   "cell_type": "code",
   "execution_count": 80,
   "id": "ab13f7a7-f810-4a0b-b309-a6f8d6acaa8e",
   "metadata": {},
   "outputs": [
    {
     "name": "stdout",
     "output_type": "stream",
     "text": [
      "[2, 4, 6, 8, 10]\n"
     ]
    }
   ],
   "source": [
    "l = [1,2,3,4,5,6,7,8,9,10]\n",
    "\n",
    "even = [x for x in l if x%2 == 0]\n",
    "\n",
    "print(even)"
   ]
  },
  {
   "cell_type": "code",
   "execution_count": 81,
   "id": "c4a8ddbb-b11b-43a2-9cbe-4091d07c5afb",
   "metadata": {},
   "outputs": [
    {
     "name": "stdout",
     "output_type": "stream",
     "text": [
      "[2, 4, 6, 8, 10]\n"
     ]
    }
   ],
   "source": [
    "l = [1,2,3,4,5,6,7,8,9,10]\n",
    "\n",
    "even = list(filter(lambda x: x%2 == 0,l))\n",
    "\n",
    "print(even)"
   ]
  },
  {
   "cell_type": "markdown",
   "id": "f8d2f7aa-8ba5-40b4-b532-db0ed2f8d712",
   "metadata": {},
   "source": [
    "26. Convert a list of strings to a list of integers."
   ]
  },
  {
   "cell_type": "code",
   "execution_count": 82,
   "id": "cba4d10a-904f-4207-bba3-3c87b10af607",
   "metadata": {},
   "outputs": [
    {
     "name": "stdout",
     "output_type": "stream",
     "text": [
      "[2, 2, -3, 1, 5]\n"
     ]
    }
   ],
   "source": [
    "ls = ['1.5', '2', '-3.335', '0.9', '5']\n",
    "\n",
    "li = [round(float(x)) for x in ls]\n",
    "\n",
    "print(li)"
   ]
  },
  {
   "cell_type": "markdown",
   "id": "75b0f8a5-c74c-478c-a1b8-f78a6a6ae93b",
   "metadata": {},
   "source": [
    "27. Convert a list of integers to a list of strings."
   ]
  },
  {
   "cell_type": "code",
   "execution_count": 83,
   "id": "a65a1f92-1a52-4bba-96bd-755d79aa24d3",
   "metadata": {},
   "outputs": [
    {
     "name": "stdout",
     "output_type": "stream",
     "text": [
      "['5', '6', '2', '7', '9']\n"
     ]
    }
   ],
   "source": [
    "l = [5,6,2,7,9]\n",
    "\n",
    "ls = [str(x) for x in l]\n",
    "print(ls)"
   ]
  },
  {
   "cell_type": "markdown",
   "id": "dfb33c49-af98-4d95-bd01-5e79fdb5341e",
   "metadata": {},
   "source": [
    "28. Flatten a nested list."
   ]
  },
  {
   "cell_type": "code",
   "execution_count": 84,
   "id": "d96f47bf-2925-46e0-adce-bfb27317a46a",
   "metadata": {},
   "outputs": [
    {
     "name": "stdout",
     "output_type": "stream",
     "text": [
      "[2, 3, 4, 5, 6, 7]\n"
     ]
    }
   ],
   "source": [
    "nl = [2,3,[4,5,6,7]]\n",
    "\n",
    "f = []\n",
    "[f.extend(x) if type(x) is list else f.append(x) for x in nl]\n",
    "\n",
    "print(f)"
   ]
  },
  {
   "cell_type": "markdown",
   "id": "f2639814-202b-420c-9285-14c31a2a5a02",
   "metadata": {},
   "source": [
    "29. Create a list of the first 10 Fibonacci numbers."
   ]
  },
  {
   "cell_type": "code",
   "execution_count": 85,
   "id": "abef4b90-e552-48f9-ae4d-6cff6a2bf00a",
   "metadata": {},
   "outputs": [
    {
     "name": "stdout",
     "output_type": "stream",
     "text": [
      "0\n",
      "1\n",
      "1\n",
      "2\n",
      "3\n"
     ]
    }
   ],
   "source": [
    "n = 5\n",
    "\n",
    "num1 = 0\n",
    "num2 = 1\n",
    "\n",
    "for i in range(n):\n",
    "    print(num1)\n",
    "    num3 = num1 + num2\n",
    "    num1 = num2\n",
    "    num2 = num3"
   ]
  },
  {
   "cell_type": "markdown",
   "id": "5628fdb4-4883-4302-aa2c-c9088f7a6901",
   "metadata": {},
   "source": [
    "30. Check if a list is sorted."
   ]
  },
  {
   "cell_type": "code",
   "execution_count": 86,
   "id": "93809878-65d0-4367-8999-0063542d8b64",
   "metadata": {},
   "outputs": [
    {
     "name": "stdout",
     "output_type": "stream",
     "text": [
      "False\n"
     ]
    }
   ],
   "source": [
    "l = [8, 1, 3, 2, 5, 9, 7]\n",
    "\n",
    "sl = sorted(l)\n",
    "\n",
    "print(l == sl)"
   ]
  },
  {
   "cell_type": "markdown",
   "id": "b04d6392-2852-47f5-b92d-f17ce2ebea76",
   "metadata": {},
   "source": [
    "31. Rotate a list to the left by `n` positions."
   ]
  },
  {
   "cell_type": "code",
   "execution_count": 87,
   "id": "e0467ad9-0a30-4155-a5e8-7fd4c684e137",
   "metadata": {},
   "outputs": [
    {
     "name": "stdout",
     "output_type": "stream",
     "text": [
      "[3, 4, 5, 6, 1, 2]\n"
     ]
    }
   ],
   "source": [
    "l = [1,2,3,4,5,6]\n",
    "\n",
    "# The n value\n",
    "n = 2\n",
    "\n",
    "n = n % len(l)  # Ensure n is within the range of the list size\n",
    "modified_list = l[n:] + l[:n]\n",
    "\n",
    "print(modified_list)"
   ]
  },
  {
   "cell_type": "markdown",
   "id": "4ae8e90c-9708-4779-8bba-c6025a7e38b1",
   "metadata": {},
   "source": [
    "32. Rotate a list to the right by `n` positions."
   ]
  },
  {
   "cell_type": "code",
   "execution_count": 88,
   "id": "17a368d6-9bd3-4a32-9c22-deeea2057606",
   "metadata": {},
   "outputs": [
    {
     "name": "stdout",
     "output_type": "stream",
     "text": [
      "[5, 6, 1, 2, 3, 4]\n"
     ]
    }
   ],
   "source": [
    "l = [1,2,3,4,5,6]\n",
    "\n",
    "# The n value\n",
    "n = 2\n",
    "\n",
    "n = n % len(l)  # Ensure n is within the range of the list size\n",
    "modified_list = l[-n:] + l[:-n]\n",
    "\n",
    "print(modified_list)"
   ]
  },
  {
   "cell_type": "markdown",
   "id": "2ae5be3f-13c8-443e-a2d7-fb25b0e54979",
   "metadata": {},
   "source": [
    "33. Create a list of prime numbers up to 50."
   ]
  },
  {
   "cell_type": "code",
   "execution_count": 89,
   "id": "d80ed7d0-6971-4da9-838b-45fb7a3e1d9f",
   "metadata": {},
   "outputs": [
    {
     "name": "stdout",
     "output_type": "stream",
     "text": [
      "[2, 3, 5, 7, 11, 13, 17, 19, 23, 29, 31, 37, 41, 43, 47]\n"
     ]
    }
   ],
   "source": [
    "myrange = range(51)\n",
    "\n",
    "prime = []\n",
    "\n",
    "for x in myrange:\n",
    "    if x < 2:\n",
    "        continue\n",
    "    elif x == 2:\n",
    "        prime.append(x)\n",
    "    else:\n",
    "        for i in range(2,x):\n",
    "            if x % i == 0:\n",
    "                break\n",
    "        else:\n",
    "            prime.append(x) \n",
    "            \n",
    "print(prime)"
   ]
  },
  {
   "cell_type": "code",
   "execution_count": 90,
   "id": "a3031b03-ae4a-4d3c-8e0a-ffbbc799a63f",
   "metadata": {},
   "outputs": [
    {
     "name": "stdout",
     "output_type": "stream",
     "text": [
      "[2, 3, 5, 7, 11, 13, 17, 19, 23, 29, 31, 37, 41, 43, 47]\n"
     ]
    }
   ],
   "source": [
    "myrange= range(51)\n",
    "\n",
    "prime = [x for x in myrange if x >= 2 and all(x % i != 0 for i in range(2, x))]\n",
    "\n",
    "print(prime)"
   ]
  },
  {
   "cell_type": "markdown",
   "id": "daf8b419-9ff0-40bd-a9cd-3ff4802f2ca1",
   "metadata": {},
   "source": [
    "34. Split a list into chunks of size `n`."
   ]
  },
  {
   "cell_type": "code",
   "execution_count": 91,
   "id": "439571b6-2f0a-4952-a9a9-a7289e0ab504",
   "metadata": {},
   "outputs": [
    {
     "name": "stdout",
     "output_type": "stream",
     "text": [
      "[[1, 2, 3], [4, 5, 6], [7, 8, 9], [10, 11]]\n"
     ]
    }
   ],
   "source": [
    "l = [1,2,3,4,5,6,7,8,9,10,11]\n",
    "\n",
    "# The n value\n",
    "n = 3\n",
    "\n",
    "c = [l[i:i + n] for i in range(0, len(l), n)]\n",
    "\n",
    "print(c)"
   ]
  },
  {
   "cell_type": "markdown",
   "id": "59a59ddd-36dc-4f85-8ae3-cf15f3ed2c29",
   "metadata": {},
   "source": [
    "35. Find the second largest number in a list."
   ]
  },
  {
   "cell_type": "code",
   "execution_count": 92,
   "id": "a5017568-dc8c-4182-a0e3-11b4d3156517",
   "metadata": {},
   "outputs": [
    {
     "name": "stdout",
     "output_type": "stream",
     "text": [
      "8\n"
     ]
    }
   ],
   "source": [
    "l = [6, 1, 8, 2, 5, 9, 7]\n",
    "\n",
    "if len(l) < 2:\n",
    "    print(\"List should have at least two elements\")\n",
    "    \n",
    "sorted_l = sorted(l, reverse=True)\n",
    "\n",
    "second_largest = sorted_l[1]\n",
    "\n",
    "print(second_largest)"
   ]
  },
  {
   "cell_type": "markdown",
   "id": "844ade21-3412-4d22-b0b1-c3bcd10e2c1b",
   "metadata": {},
   "source": [
    "36. Replace every element in a list with its square."
   ]
  },
  {
   "cell_type": "code",
   "execution_count": 93,
   "id": "5831aa83-1407-4c1e-9058-cbaa1240075a",
   "metadata": {},
   "outputs": [
    {
     "name": "stdout",
     "output_type": "stream",
     "text": [
      "[1, 4, 9, 16, 25]\n"
     ]
    }
   ],
   "source": [
    "l = [1,2,3,4,5]\n",
    "\n",
    "for i in range(len(l)):\n",
    "    l[i] = l[i] ** 2\n",
    "    \n",
    "print(l)"
   ]
  },
  {
   "cell_type": "code",
   "execution_count": 94,
   "id": "7f522f70-1ee5-4e9d-b78e-f175a315b4f3",
   "metadata": {},
   "outputs": [
    {
     "name": "stdout",
     "output_type": "stream",
     "text": [
      "[1, 4, 9, 16, 25]\n"
     ]
    }
   ],
   "source": [
    "l = [1,2,3,4,5]\n",
    "\n",
    "l = [x**2 for x in l]\n",
    "\n",
    "print(l)"
   ]
  },
  {
   "cell_type": "markdown",
   "id": "8818bc7a-7de4-4725-9eed-314e50507985",
   "metadata": {},
   "source": [
    "37. Convert a list to a dictionary where list elements become keys and their\n",
    "indices become values."
   ]
  },
  {
   "cell_type": "code",
   "execution_count": 95,
   "id": "46738cac-4a87-4053-96a5-6539967bb792",
   "metadata": {},
   "outputs": [
    {
     "name": "stdout",
     "output_type": "stream",
     "text": [
      "{'apple': 0, 'cherry': 1, 'grapes': 2, 'kiwi': 3}\n"
     ]
    }
   ],
   "source": [
    "fruits = [\"apple\", \"cherry\", \"grapes\", \"kiwi\"]\n",
    "\n",
    "fruits = {fruits[i]:i for i in range(len(fruits))}\n",
    "\n",
    "print(fruits)"
   ]
  },
  {
   "cell_type": "code",
   "execution_count": 96,
   "id": "0e08ba40-bf75-47ca-8b5c-7ebf1da6b8c3",
   "metadata": {},
   "outputs": [
    {
     "name": "stdout",
     "output_type": "stream",
     "text": [
      "{'apple': 0, 'cherry': 1, 'grapes': 2, 'kiwi': 3}\n"
     ]
    }
   ],
   "source": [
    "fruits = [\"apple\", \"cherry\", \"grapes\", \"kiwi\"]\n",
    "\n",
    "fruits = {element: index for index, element in enumerate(fruits)}\n",
    "\n",
    "print(fruits)"
   ]
  },
  {
   "cell_type": "markdown",
   "id": "350ed0cf-36f1-4937-9047-1dfbc362d615",
   "metadata": {},
   "source": [
    "38. Shuffle the elements of a list randomly."
   ]
  },
  {
   "cell_type": "code",
   "execution_count": 97,
   "id": "2a2a07ea-e927-4ad6-a156-4c34c4b3c323",
   "metadata": {},
   "outputs": [
    {
     "name": "stdout",
     "output_type": "stream",
     "text": [
      "[5, 3, 2, 1, 4]\n"
     ]
    }
   ],
   "source": [
    "import random\n",
    "\n",
    "my_list = [1, 2, 3, 4, 5]\n",
    "\n",
    "# Shuffle the list in-place\n",
    "random.shuffle(my_list)\n",
    "\n",
    "print(my_list)"
   ]
  },
  {
   "cell_type": "code",
   "execution_count": 98,
   "id": "a8a12346-7950-40be-9e8f-ec73bbc3f30e",
   "metadata": {},
   "outputs": [
    {
     "name": "stdout",
     "output_type": "stream",
     "text": [
      "[3, 4, 5, 2, 1]\n"
     ]
    }
   ],
   "source": [
    "import random\n",
    "\n",
    "my_list = [1, 2, 3, 4, 5]\n",
    "\n",
    "# Create a shuffled copy of the list\n",
    "shuffled_list = random.sample(my_list, len(my_list))\n",
    "\n",
    "print(shuffled_list)"
   ]
  },
  {
   "cell_type": "markdown",
   "id": "fb9b5c62-47da-4454-820d-6cfe9358d349",
   "metadata": {},
   "source": [
    "39. Create a list of the first 10 factorial numbers."
   ]
  },
  {
   "cell_type": "code",
   "execution_count": 99,
   "id": "f9984153-29da-4694-a995-8caddf1b3bef",
   "metadata": {},
   "outputs": [
    {
     "name": "stdout",
     "output_type": "stream",
     "text": [
      "[1, 1, 2, 6, 24, 120, 720, 5040, 40320, 362880]\n"
     ]
    }
   ],
   "source": [
    "def factorial(n):\n",
    "    if n == 0:\n",
    "        return 1\n",
    "    else:\n",
    "        result = n * factorial(n - 1)\n",
    "        return result\n",
    "    \n",
    "first_10_factorials = [factorial(i) for i in range(10)]\n",
    "\n",
    "print(first_10_factorials)"
   ]
  },
  {
   "cell_type": "markdown",
   "id": "1cfe6a2f-30ac-4621-8277-fcd85a57e94e",
   "metadata": {},
   "source": [
    "40. Check if two lists have at least one element in common."
   ]
  },
  {
   "cell_type": "code",
   "execution_count": 100,
   "id": "fb571032-f10a-4267-a2dd-94ff4cb55f0f",
   "metadata": {},
   "outputs": [
    {
     "name": "stdout",
     "output_type": "stream",
     "text": [
      "The lists have at least one element in common.\n"
     ]
    }
   ],
   "source": [
    "list1 = [1, 2, 3, 4, 5]\n",
    "list2 = [3, 4, 5, 6, 7]\n",
    "\n",
    "has_common = False\n",
    "\n",
    "for x in list1:\n",
    "    if x in list2:\n",
    "        has_common = True\n",
    "        break\n",
    "\n",
    "if has_common:\n",
    "    print(\"The lists have at least one element in common.\")\n",
    "else:\n",
    "    print(\"The lists do not have any elements in common.\")"
   ]
  },
  {
   "cell_type": "code",
   "execution_count": 101,
   "id": "4f885fbd-cc3b-43c6-8779-df2b257b47e8",
   "metadata": {},
   "outputs": [
    {
     "name": "stdout",
     "output_type": "stream",
     "text": [
      "The lists have at least one element in common.\n"
     ]
    }
   ],
   "source": [
    "list1 = [1, 2, 3, 4, 5]\n",
    "list2 = [3, 4, 5, 6, 7]\n",
    "\n",
    "common_elements = set(list1).intersection(set(list2))\n",
    "# print(common_elements)\n",
    "\n",
    "if (common_elements):\n",
    "    print(\"The lists have at least one element in common.\")\n",
    "else:\n",
    "    print(\"The lists do not have any elements in common.\")"
   ]
  },
  {
   "cell_type": "markdown",
   "id": "e959e171-895d-4f85-8a1b-59bb9295fda4",
   "metadata": {},
   "source": [
    "41. Remove all elements from a list."
   ]
  },
  {
   "cell_type": "code",
   "execution_count": 102,
   "id": "514d4584-4d09-4e69-b19c-c92eecff80b2",
   "metadata": {},
   "outputs": [
    {
     "name": "stdout",
     "output_type": "stream",
     "text": [
      "[]\n"
     ]
    }
   ],
   "source": [
    "l = [1,2,3,4,5]\n",
    "\n",
    "l.clear()\n",
    "\n",
    "print(l)"
   ]
  },
  {
   "cell_type": "markdown",
   "id": "9bed37c7-f28c-40fc-9b26-f6e9c619cab8",
   "metadata": {},
   "source": [
    "42. Replace negative numbers in a list with 0."
   ]
  },
  {
   "cell_type": "code",
   "execution_count": 103,
   "id": "1062ec84-c869-4a44-80fd-aa61e2f77a03",
   "metadata": {},
   "outputs": [
    {
     "name": "stdout",
     "output_type": "stream",
     "text": [
      "[1, 0, 3, 4, 0]\n"
     ]
    }
   ],
   "source": [
    "l = [1,-2,3,4,-5]\n",
    "\n",
    "l = [x if x>=0 else 0 for x in l]\n",
    "\n",
    "print(l)"
   ]
  },
  {
   "cell_type": "markdown",
   "id": "cf916ca1-5939-40a6-a8e3-e57ccb5f78a1",
   "metadata": {},
   "source": [
    "43. Convert a string into a list of words."
   ]
  },
  {
   "cell_type": "code",
   "execution_count": 104,
   "id": "2890b60c-5f44-41d7-9a25-451c77d74e57",
   "metadata": {},
   "outputs": [
    {
     "name": "stdout",
     "output_type": "stream",
     "text": [
      "['I', 'am', 'learning', 'Python']\n"
     ]
    }
   ],
   "source": [
    "s = \"I am learning Python\"\n",
    "s = s.split()\n",
    "print(s)"
   ]
  },
  {
   "cell_type": "markdown",
   "id": "842d524a-0f9a-47c3-88ef-e9c43f64da70",
   "metadata": {},
   "source": [
    "44. Convert a list of words into a string."
   ]
  },
  {
   "cell_type": "code",
   "execution_count": 105,
   "id": "83291b10-5ecf-4c32-9ac7-43b0b5a5f247",
   "metadata": {},
   "outputs": [
    {
     "name": "stdout",
     "output_type": "stream",
     "text": [
      "I am learning Python\n"
     ]
    }
   ],
   "source": [
    "l = ['I', 'am', 'learning', 'Python']\n",
    "\n",
    "l = ' '.join(l)\n",
    "\n",
    "print(l)"
   ]
  },
  {
   "cell_type": "markdown",
   "id": "c917546a-c2f7-4d5c-b890-a206f3c0a061",
   "metadata": {},
   "source": [
    "45. Create a list of the first `n` powers of 2."
   ]
  },
  {
   "cell_type": "code",
   "execution_count": 106,
   "id": "f459bb20-c68b-4df3-adbb-65b73a1e24cf",
   "metadata": {},
   "outputs": [
    {
     "name": "stdout",
     "output_type": "stream",
     "text": [
      "[1, 2, 4, 8, 16]\n"
     ]
    }
   ],
   "source": [
    "n = 5\n",
    "\n",
    "l = [2**x for x in range(n)]\n",
    "\n",
    "print(l)"
   ]
  },
  {
   "cell_type": "markdown",
   "id": "9606a73d-66dd-4b13-955f-07fbcea4a251",
   "metadata": {},
   "source": [
    "46. Find the longest string in a list of strings."
   ]
  },
  {
   "cell_type": "code",
   "execution_count": 107,
   "id": "f6c4d13c-5475-48fa-9f40-66f35fe15610",
   "metadata": {},
   "outputs": [
    {
     "data": {
      "text/plain": [
       "'cherry'"
      ]
     },
     "execution_count": 107,
     "metadata": {},
     "output_type": "execute_result"
    }
   ],
   "source": [
    "fruits = [\"apple\", \"cherry\", \"grapes\", \"kiwi\"]\n",
    "\n",
    "max(fruits, key = len)"
   ]
  },
  {
   "cell_type": "markdown",
   "id": "f024c640-46cf-4bd0-9886-91d9e8def4d7",
   "metadata": {},
   "source": [
    "47. Find the shortest string in a list of strings."
   ]
  },
  {
   "cell_type": "code",
   "execution_count": 108,
   "id": "13ffb566-b829-4f82-b78f-3206842196df",
   "metadata": {},
   "outputs": [
    {
     "data": {
      "text/plain": [
       "'kiwi'"
      ]
     },
     "execution_count": 108,
     "metadata": {},
     "output_type": "execute_result"
    }
   ],
   "source": [
    "fruits = [\"apple\", \"cherry\", \"grapes\", \"kiwi\"]\n",
    "\n",
    "min(fruits, key = len)"
   ]
  },
  {
   "cell_type": "markdown",
   "id": "b9609648-08fc-421e-953c-1d8f3d31dc41",
   "metadata": {},
   "source": [
    "48. Create a list of the first `n` triangular numbers."
   ]
  },
  {
   "cell_type": "markdown",
   "id": "466649a0-f679-47a7-a679-1e0f663809c1",
   "metadata": {},
   "source": [
    "Triangular numbers represent the number of objects that can be arranged in the shape of an equilateral triangle.\n",
    "\n",
    "Triangular numbers are those that can be represented as a sum of consecutive natural numbers, starting from 1\n",
    "\n",
    "* Formula:\n",
    "$T_n = \\frac{n * (n+1)}{2}$"
   ]
  },
  {
   "cell_type": "code",
   "execution_count": 109,
   "id": "8ef785a5-b2c9-474e-83e1-b98ec17b0ed6",
   "metadata": {},
   "outputs": [
    {
     "name": "stdout",
     "output_type": "stream",
     "text": [
      "[1, 3, 6, 10, 15]\n"
     ]
    }
   ],
   "source": [
    "n = 5\n",
    "\n",
    "l = [(i * (i+1))//2 for i in range(1, n + 1)]\n",
    "\n",
    "print(l)"
   ]
  },
  {
   "cell_type": "markdown",
   "id": "1a383435-345a-4842-9be3-3f9244e96b13",
   "metadata": {},
   "source": [
    "49. Check if a list contains another list as a subsequence."
   ]
  },
  {
   "cell_type": "code",
   "execution_count": 110,
   "id": "d0fedecc-5258-4c3b-ae97-0b165e7253ab",
   "metadata": {},
   "outputs": [
    {
     "name": "stdout",
     "output_type": "stream",
     "text": [
      "The subsequence is present in the sequence.\n"
     ]
    }
   ],
   "source": [
    "def is_subsequence(subsequence, sequence):\n",
    "    \n",
    "    sub_len = len(subsequence)\n",
    "    \n",
    "    if sub_len == 0:\n",
    "        return True  # An empty list is a subsequence of any list.\n",
    "    \n",
    "    sub_index = 0  # Index to track the position in the subsequence.\n",
    "    \n",
    "    for element in sequence:\n",
    "        if subsequence[sub_index] == element:\n",
    "            sub_index += 1\n",
    "        \n",
    "        if sub_index == sub_len:\n",
    "            return True  # The entire subsequence has been found.\n",
    "    \n",
    "    return False\n",
    "\n",
    "# Example usage:\n",
    "sequence = [1, 2, 3, 4, 5, 6, 7]\n",
    "subsequence = [2, 4, 5]\n",
    "\n",
    "if is_subsequence(subsequence, sequence):\n",
    "    print(\"The subsequence is present in the sequence.\")\n",
    "else:\n",
    "    print(\"The subsequence is not present in the sequence.\")"
   ]
  },
  {
   "cell_type": "markdown",
   "id": "abbb15ff-71cc-47b1-803e-9a9daa39cb52",
   "metadata": {},
   "source": [
    "50. Swap two elements in a list by their indices."
   ]
  },
  {
   "cell_type": "code",
   "execution_count": 111,
   "id": "fd2df15b-72fb-4853-9a28-2efc01a5891b",
   "metadata": {},
   "outputs": [
    {
     "name": "stdout",
     "output_type": "stream",
     "text": [
      "[2, 8, 6, 4, 10]\n"
     ]
    }
   ],
   "source": [
    "l = [2,4,6,8,10]\n",
    "\n",
    "def swap_elements(lst, index1, index2):\n",
    "    \n",
    "    # Check if the indices are valid\n",
    "    if 0 <= index1 < len(lst) and 0 <= index2 < len(lst):\n",
    "        \n",
    "        # Swap the elements at the specified indices\n",
    "        lst[index1], lst[index2] = lst[index2], lst[index1]\n",
    "\n",
    "# Swap elements at index 1 and index 3\n",
    "swap_elements(l, 1, 3)\n",
    "\n",
    "print(l)"
   ]
  },
  {
   "cell_type": "markdown",
   "id": "feaaa3df-3a23-4ff5-91d7-53d329c86c74",
   "metadata": {},
   "source": [
    "# TOPIC: Tuple Based Practice Problem"
   ]
  },
  {
   "cell_type": "markdown",
   "id": "64684616-8747-4157-aba6-bffc53344164",
   "metadata": {},
   "source": [
    "1. Create a tuple with integers from 1 to 5."
   ]
  },
  {
   "cell_type": "code",
   "execution_count": 112,
   "id": "c5d4952a-6ad8-40b4-a909-da60c29f4731",
   "metadata": {},
   "outputs": [
    {
     "name": "stdout",
     "output_type": "stream",
     "text": [
      "(1, 2, 3, 4, 5)\n"
     ]
    }
   ],
   "source": [
    "t = (1,2,3,4,5)\n",
    "\n",
    "print(t)"
   ]
  },
  {
   "cell_type": "markdown",
   "id": "3b300079-88f5-47a5-a076-fa0a09b952b8",
   "metadata": {},
   "source": [
    "2. Access the third element of a tuple."
   ]
  },
  {
   "cell_type": "code",
   "execution_count": 113,
   "id": "757e0baf-bade-4587-911e-38c86d80bb63",
   "metadata": {},
   "outputs": [
    {
     "name": "stdout",
     "output_type": "stream",
     "text": [
      "3\n"
     ]
    }
   ],
   "source": [
    "t = (1,2,3,4,5)\n",
    "\n",
    "print(t[2])"
   ]
  },
  {
   "cell_type": "markdown",
   "id": "ca4a7ad7-35bf-4c0c-852b-f9b9f404004b",
   "metadata": {},
   "source": [
    "3. Find the length of a tuple without using the `len()` function."
   ]
  },
  {
   "cell_type": "code",
   "execution_count": 114,
   "id": "309d194c-e5e8-481a-be7d-eee4772957d1",
   "metadata": {},
   "outputs": [
    {
     "name": "stdout",
     "output_type": "stream",
     "text": [
      "5\n"
     ]
    }
   ],
   "source": [
    "t = (1,2,3,4,5)\n",
    "\n",
    "length = 0\n",
    "\n",
    "for x in t:\n",
    "    length += 1\n",
    "\n",
    "print(length)"
   ]
  },
  {
   "cell_type": "markdown",
   "id": "5985c2c5-0148-4004-a30f-9e49e8213187",
   "metadata": {},
   "source": [
    "4. Count the occurrences of an element in a tuple."
   ]
  },
  {
   "cell_type": "code",
   "execution_count": 115,
   "id": "4fa0540b-aaa2-4944-9acb-443f272309af",
   "metadata": {},
   "outputs": [
    {
     "name": "stdout",
     "output_type": "stream",
     "text": [
      "3\n"
     ]
    }
   ],
   "source": [
    "t = (1,4,3,4,5,2,4)\n",
    "\n",
    "print(t.count(4))"
   ]
  },
  {
   "cell_type": "markdown",
   "id": "73173f17-f37f-41c6-8f56-9355f543aaa2",
   "metadata": {},
   "source": [
    "5. Find the index of the first occurrence of an element in a tuple."
   ]
  },
  {
   "cell_type": "code",
   "execution_count": 116,
   "id": "40d65d26-4c8a-457d-b075-ae5a82915951",
   "metadata": {},
   "outputs": [
    {
     "name": "stdout",
     "output_type": "stream",
     "text": [
      "2\n"
     ]
    }
   ],
   "source": [
    "t = (9,4,7,2,7,8,4,5)\n",
    "\n",
    "print(t.index(7))"
   ]
  },
  {
   "cell_type": "markdown",
   "id": "2ccfc392-0528-4f13-acdc-f582f7dc2447",
   "metadata": {},
   "source": [
    "6. Check if an element exists in a tuple."
   ]
  },
  {
   "cell_type": "code",
   "execution_count": 117,
   "id": "baa0e05f-2b42-4f34-b25a-854cf62642cf",
   "metadata": {},
   "outputs": [
    {
     "name": "stdout",
     "output_type": "stream",
     "text": [
      "True\n"
     ]
    }
   ],
   "source": [
    "t = ('apple', 'grapes', 'kiwi', 'banana')\n",
    "\n",
    "print('kiwi' in t)"
   ]
  },
  {
   "cell_type": "markdown",
   "id": "1e1fad49-5acb-449c-a3ba-2fd9fad81d5b",
   "metadata": {},
   "source": [
    "7. Convert a tuple to a list."
   ]
  },
  {
   "cell_type": "code",
   "execution_count": 118,
   "id": "fb50f9b6-b95d-4ee8-8a9d-3a0aaacac0e5",
   "metadata": {},
   "outputs": [
    {
     "name": "stdout",
     "output_type": "stream",
     "text": [
      "['apple', 'grapes', 'kiwi', 'banana']\n"
     ]
    }
   ],
   "source": [
    "t = ('apple', 'grapes', 'kiwi', 'banana')\n",
    "\n",
    "t = list(t)\n",
    "\n",
    "print(t)"
   ]
  },
  {
   "cell_type": "markdown",
   "id": "60842be4-34db-4228-8243-3ec4ed0f017e",
   "metadata": {},
   "source": [
    "8. Convert a list to a tuple."
   ]
  },
  {
   "cell_type": "code",
   "execution_count": 119,
   "id": "d1786bfa-5a24-4f37-9dc6-404acd1b3c26",
   "metadata": {},
   "outputs": [
    {
     "name": "stdout",
     "output_type": "stream",
     "text": [
      "('apple', 'grapes', 'kiwi', 'banana')\n"
     ]
    }
   ],
   "source": [
    "l = ['apple', 'grapes', 'kiwi', 'banana']\n",
    "\n",
    "l = tuple(l)\n",
    "\n",
    "print(l)"
   ]
  },
  {
   "cell_type": "markdown",
   "id": "e0172d38-93a0-437e-be23-22c57fedb8c6",
   "metadata": {},
   "source": [
    "9. Unpack the elements of a tuple into variables."
   ]
  },
  {
   "cell_type": "code",
   "execution_count": 120,
   "id": "8ed877f6-5ca1-4a51-9c6b-c16bb080df00",
   "metadata": {},
   "outputs": [
    {
     "name": "stdout",
     "output_type": "stream",
     "text": [
      "apple\n",
      "grapes\n",
      "kiwi\n",
      "banana\n"
     ]
    }
   ],
   "source": [
    "t = ('apple', 'grapes', 'kiwi', 'banana')\n",
    "\n",
    "a,b,c,d = t\n",
    "\n",
    "print(a)\n",
    "print(b)\n",
    "print(c)\n",
    "print(d)"
   ]
  },
  {
   "cell_type": "markdown",
   "id": "5014d92c-e8a5-435f-930d-4b134b745060",
   "metadata": {},
   "source": [
    "10. Create a tuple of even numbers from 1 to 10."
   ]
  },
  {
   "cell_type": "code",
   "execution_count": 121,
   "id": "9514d599-808e-4814-ab14-4f4bb11697f0",
   "metadata": {},
   "outputs": [
    {
     "name": "stdout",
     "output_type": "stream",
     "text": [
      "(2, 4, 6, 8, 10)\n"
     ]
    }
   ],
   "source": [
    "t = tuple(x for x in range(1,11) if x % 2 == 0)\n",
    "print(t)"
   ]
  },
  {
   "cell_type": "markdown",
   "id": "cf2aaf92-3f69-4776-9b78-1c32420d0ddd",
   "metadata": {},
   "source": [
    "11. Create a tuple of odd numbers from 1 to 10."
   ]
  },
  {
   "cell_type": "code",
   "execution_count": 122,
   "id": "bc79ca56-b93a-49bb-9020-963fb27a59dc",
   "metadata": {},
   "outputs": [
    {
     "name": "stdout",
     "output_type": "stream",
     "text": [
      "(1, 3, 5, 7, 9)\n"
     ]
    }
   ],
   "source": [
    "t = tuple(x for x in range(1,11) if x % 2 != 0)\n",
    "print(t)"
   ]
  },
  {
   "cell_type": "markdown",
   "id": "3bd1c4ff-a5f1-4539-afa0-b48e2e16d9b9",
   "metadata": {},
   "source": [
    "12. Concatenate two tuples."
   ]
  },
  {
   "cell_type": "code",
   "execution_count": 123,
   "id": "07473e1e-9823-49c1-8f25-f2409ca87c01",
   "metadata": {},
   "outputs": [
    {
     "name": "stdout",
     "output_type": "stream",
     "text": [
      "(1, 2, 3, 4, 5, 6, 7, 8, 9, 10)\n"
     ]
    }
   ],
   "source": [
    "t1 = (1,2,3,4,5)\n",
    "t2 = (6,7,8,9,10)\n",
    "\n",
    "t = t1 + t2\n",
    "print(t)"
   ]
  },
  {
   "cell_type": "markdown",
   "id": "1755c1d1-65ec-4dde-beca-7e5dca5481dd",
   "metadata": {},
   "source": [
    "13. Repeat a tuple three times."
   ]
  },
  {
   "cell_type": "code",
   "execution_count": 124,
   "id": "392a1398-ff91-430b-aa99-46adaee9bb38",
   "metadata": {},
   "outputs": [
    {
     "name": "stdout",
     "output_type": "stream",
     "text": [
      "(1, 2, 3, 4, 5, 1, 2, 3, 4, 5, 1, 2, 3, 4, 5)\n"
     ]
    }
   ],
   "source": [
    "t = (1,2,3,4,5)\n",
    "\n",
    "t_new = t * 3\n",
    "\n",
    "print(t_new)"
   ]
  },
  {
   "cell_type": "markdown",
   "id": "2b9ff55c-12cb-4c32-8fd5-574e5318ae9f",
   "metadata": {},
   "source": [
    "14. Check if a tuple is empty."
   ]
  },
  {
   "cell_type": "code",
   "execution_count": 125,
   "id": "6265478e-de88-423c-af19-f6ebbf215c44",
   "metadata": {},
   "outputs": [
    {
     "name": "stdout",
     "output_type": "stream",
     "text": [
      "The tuple is empty.\n"
     ]
    }
   ],
   "source": [
    "t = ()\n",
    "\n",
    "if not t:\n",
    "    print(\"The tuple is empty.\")\n",
    "else:\n",
    "    print(\"The tuple is not empty.\")"
   ]
  },
  {
   "cell_type": "markdown",
   "id": "fdeedc13-3fa3-4743-bd00-316134ad2211",
   "metadata": {},
   "source": [
    "15. Create a nested tuple."
   ]
  },
  {
   "cell_type": "code",
   "execution_count": 126,
   "id": "9804a14c-81f5-41f4-9a61-f1feece64029",
   "metadata": {},
   "outputs": [],
   "source": [
    "# Creating a nested tuple\n",
    "nested_tuple = ((1, 2, 3), ('a', 'b', 'c'))"
   ]
  },
  {
   "cell_type": "markdown",
   "id": "8c30e4f0-4df4-4bca-8da6-9a8ef0efde64",
   "metadata": {},
   "source": [
    "16. Access the first element of a nested tuple."
   ]
  },
  {
   "cell_type": "code",
   "execution_count": 127,
   "id": "e75cd966-89cb-4551-a5f9-645f37262aad",
   "metadata": {},
   "outputs": [
    {
     "name": "stdout",
     "output_type": "stream",
     "text": [
      "(1, 2, 3)\n"
     ]
    }
   ],
   "source": [
    "# Creating a nested tuple\n",
    "nested_tuple = ((1, 2, 3), ('a', 'b', 'c'))\n",
    "\n",
    "# Accessing elements in the nested tuple\n",
    "print(nested_tuple[0])  # Access the first element"
   ]
  },
  {
   "cell_type": "markdown",
   "id": "3fd73026-7ca2-4cbc-b591-d7f03f65da83",
   "metadata": {},
   "source": [
    "17. Create a tuple with a single element."
   ]
  },
  {
   "cell_type": "code",
   "execution_count": 128,
   "id": "2af1758a-b667-466d-a55f-df3a9b369750",
   "metadata": {},
   "outputs": [
    {
     "name": "stdout",
     "output_type": "stream",
     "text": [
      "<class 'tuple'>\n",
      "25\n"
     ]
    }
   ],
   "source": [
    "t = (25,)\n",
    "print(type(t))\n",
    "print(t[0])"
   ]
  },
  {
   "cell_type": "markdown",
   "id": "ddad750e-91b1-41e6-bb7c-226271eff538",
   "metadata": {},
   "source": [
    "18. Compare two tuples."
   ]
  },
  {
   "cell_type": "code",
   "execution_count": 129,
   "id": "2e6d1111-1532-48ce-a3cc-7c352dc187a5",
   "metadata": {},
   "outputs": [
    {
     "name": "stdout",
     "output_type": "stream",
     "text": [
      "tuple1 == tuple2: False\n",
      "tuple1 != tuple2: True\n",
      "tuple1 < tuple2: True\n",
      "tuple1 <= tuple2: True\n",
      "tuple1 > tuple2: False\n",
      "tuple1 >= tuple2: False\n"
     ]
    }
   ],
   "source": [
    "# Step 1: Create two tuples\n",
    "tuple1 = (1, 2, 3)\n",
    "tuple2 = (1, 2, 4)\n",
    "\n",
    "# Step 2: Compare the two tuples using comparison operators\n",
    "print(\"tuple1 == tuple2:\", tuple1 == tuple2)  # Equality check element-wise\n",
    "print(\"tuple1 != tuple2:\", tuple1 != tuple2)  # Inequality check element-wise\n",
    "print(\"tuple1 < tuple2:\", tuple1 < tuple2)    # Less than check lexicographically\n",
    "print(\"tuple1 <= tuple2:\", tuple1 <= tuple2)  # Less than or equal to check lexicographically\n",
    "print(\"tuple1 > tuple2:\", tuple1 > tuple2)    # Greater than check lexicographically\n",
    "print(\"tuple1 >= tuple2:\", tuple1 >= tuple2)  # Greater than or equal to check lexicographically"
   ]
  },
  {
   "cell_type": "markdown",
   "id": "851dbdee-b593-436c-8737-ab4d107207aa",
   "metadata": {},
   "source": [
    "19. Delete a tuple."
   ]
  },
  {
   "cell_type": "code",
   "execution_count": 130,
   "id": "04daf7a0-9e86-4dcd-b6dd-a567c5f4c217",
   "metadata": {},
   "outputs": [
    {
     "ename": "NameError",
     "evalue": "name 't' is not defined",
     "output_type": "error",
     "traceback": [
      "\u001b[0;31m---------------------------------------------------------------------------\u001b[0m",
      "\u001b[0;31mNameError\u001b[0m                                 Traceback (most recent call last)",
      "Cell \u001b[0;32mIn[130], line 5\u001b[0m\n\u001b[1;32m      1\u001b[0m t \u001b[38;5;241m=\u001b[39m (\u001b[38;5;241m1\u001b[39m,\u001b[38;5;241m2\u001b[39m,\u001b[38;5;241m3\u001b[39m,\u001b[38;5;241m4\u001b[39m)\n\u001b[1;32m      3\u001b[0m \u001b[38;5;28;01mdel\u001b[39;00m t\n\u001b[0;32m----> 5\u001b[0m \u001b[38;5;28mprint\u001b[39m(\u001b[43mt\u001b[49m)\n",
      "\u001b[0;31mNameError\u001b[0m: name 't' is not defined"
     ]
    }
   ],
   "source": [
    "t = (1,2,3,4)\n",
    "\n",
    "del t\n",
    "\n",
    "print(t)"
   ]
  },
  {
   "cell_type": "markdown",
   "id": "2ec044ec-3e26-4eb4-94b9-eace5d74cbb1",
   "metadata": {},
   "source": [
    "20. Slice a tuple."
   ]
  },
  {
   "cell_type": "code",
   "execution_count": 131,
   "id": "d8a530e7-da92-4186-8583-d2a318193454",
   "metadata": {},
   "outputs": [
    {
     "name": "stdout",
     "output_type": "stream",
     "text": [
      "Sliced tuple: (3, 4, 5, 6)\n"
     ]
    }
   ],
   "source": [
    "# Create a tuple\n",
    "my_tuple = (1, 2, 3, 4, 5, 6, 7, 8, 9, 10)\n",
    "\n",
    "\n",
    "sliced_tuple = my_tuple[2:6]  # Elements from index 2 to 5 (end index is exclusive)\n",
    "\n",
    "# Print the sliced tuple\n",
    "print(\"Sliced tuple:\", sliced_tuple)"
   ]
  },
  {
   "cell_type": "markdown",
   "id": "3f5fabfe-ad52-4649-8271-64cf9d7f295e",
   "metadata": {},
   "source": [
    "21. Find the maximum value in a tuple."
   ]
  },
  {
   "cell_type": "code",
   "execution_count": 132,
   "id": "5b67c90a-24a3-4b91-954c-e8534ed296a0",
   "metadata": {},
   "outputs": [
    {
     "name": "stdout",
     "output_type": "stream",
     "text": [
      "4\n"
     ]
    }
   ],
   "source": [
    "# Create a tuple\n",
    "my_tuple = (3, 2, 4, 1)\n",
    "\n",
    "# Find the maximum value in the tuple using the 'max()' function\n",
    "print(max(my_tuple))"
   ]
  },
  {
   "cell_type": "markdown",
   "id": "cfcaa846-2742-4dcc-934b-2710a5992057",
   "metadata": {},
   "source": [
    "22. Find the minimum value in a tuple."
   ]
  },
  {
   "cell_type": "code",
   "execution_count": 133,
   "id": "0c88e9f2-ccc9-484b-8645-8a7887156d6a",
   "metadata": {},
   "outputs": [
    {
     "name": "stdout",
     "output_type": "stream",
     "text": [
      "1\n"
     ]
    }
   ],
   "source": [
    "# Create a tuple\n",
    "my_tuple = (3, 2, 4, 1)\n",
    "\n",
    "# Find the minimum value in the tuple using the 'min()' function\n",
    "print(min(my_tuple))"
   ]
  },
  {
   "cell_type": "markdown",
   "id": "4afd20c7-c4b5-4d41-bf19-a4f48035a368",
   "metadata": {},
   "source": [
    "23. Convert a string to a tuple of characters."
   ]
  },
  {
   "cell_type": "code",
   "execution_count": 134,
   "id": "f56a70b9-8ad9-445d-8937-293a4b5b061c",
   "metadata": {},
   "outputs": [
    {
     "name": "stdout",
     "output_type": "stream",
     "text": [
      "('I', ' ', 'a', 'm', ' ', 'l', 'e', 'a', 'r', 'n', 'i', 'n', 'g', ' ', 'P', 'y', 't', 'h', 'o', 'n')\n"
     ]
    }
   ],
   "source": [
    "# Create a string\n",
    "s = \"I am learning Python\"\n",
    "\n",
    "# Convert the string to a tuple of characters using tuple() constructor\n",
    "tuple_of_characters = tuple(s)\n",
    "\n",
    "print(tuple_of_characters)"
   ]
  },
  {
   "cell_type": "markdown",
   "id": "71d4d05e-f93b-4cb7-8b02-3c5de36c2d5a",
   "metadata": {},
   "source": [
    "24. Convert a tuple of characters to a string."
   ]
  },
  {
   "cell_type": "code",
   "execution_count": 135,
   "id": "1532b194-22ae-444a-a28f-39640f9b2df4",
   "metadata": {},
   "outputs": [
    {
     "name": "stdout",
     "output_type": "stream",
     "text": [
      "I am learning Python\n"
     ]
    }
   ],
   "source": [
    "# Create a tuple of characters\n",
    "t = ('I', ' ', 'a', 'm', ' ', 'l', 'e', 'a', 'r', 'n', 'i', 'n', 'g', ' ', 'P', 'y', 't', 'h', 'o', 'n')\n",
    "\n",
    "# Convert the tuple of characters to a string using the 'join()' method\n",
    "s = ''.join(t)\n",
    "\n",
    "print(s)"
   ]
  },
  {
   "cell_type": "markdown",
   "id": "194f4d4f-160f-4b3d-813d-4ae360309830",
   "metadata": {},
   "source": [
    "25. Create a tuple from multiple data types."
   ]
  },
  {
   "cell_type": "code",
   "execution_count": 136,
   "id": "38b64375-f750-4641-a796-f95c44484f34",
   "metadata": {},
   "outputs": [
    {
     "name": "stdout",
     "output_type": "stream",
     "text": [
      "(1, 'hello', 3.14, True)\n"
     ]
    }
   ],
   "source": [
    "# Create a tuple with elements of different data types\n",
    "mixed_tuple = (1, \"hello\", 3.14, True)\n",
    "print(mixed_tuple)"
   ]
  },
  {
   "cell_type": "markdown",
   "id": "008bed04-0140-46d0-ab84-bc4009a98742",
   "metadata": {},
   "source": [
    "26. Check if two tuples are identical."
   ]
  },
  {
   "cell_type": "code",
   "execution_count": 137,
   "id": "a2ea6fbc-84ca-4d40-bdb1-caaac640cc39",
   "metadata": {},
   "outputs": [
    {
     "name": "stdout",
     "output_type": "stream",
     "text": [
      "tuple1 and tuple2 are identical: True\n",
      "tuple1 and tuple3 are identical: False\n"
     ]
    }
   ],
   "source": [
    "# Create two tuples\n",
    "tuple1 = (1, 2, 3)\n",
    "tuple2 = (1, 2, 3)\n",
    "tuple3 = (4, 5, 6)\n",
    "\n",
    "# Compare the tuples for identity using the equality operator\n",
    "are_identical1 = tuple1 == tuple2\n",
    "are_identical2 = tuple1 == tuple3\n",
    "\n",
    "# Print the results\n",
    "print(\"tuple1 and tuple2 are identical:\", are_identical1)\n",
    "print(\"tuple1 and tuple3 are identical:\", are_identical2)"
   ]
  },
  {
   "cell_type": "markdown",
   "id": "a6efd8d3-e274-49c0-9301-be00452d5713",
   "metadata": {},
   "source": [
    "27. Sort the elements of a tuple."
   ]
  },
  {
   "cell_type": "code",
   "execution_count": 138,
   "id": "7cced80e-68d0-4b2e-be34-380468ff5c12",
   "metadata": {},
   "outputs": [
    {
     "name": "stdout",
     "output_type": "stream",
     "text": [
      "Sorted tuple: (1, 2, 3, 5, 8)\n"
     ]
    }
   ],
   "source": [
    "# Create a tuple\n",
    "my_tuple = (5, 2, 8, 1, 3)\n",
    "\n",
    "# Convert the tuple to a sorted list using sorted() built-in function, and convert it back to a tuple\n",
    "sorted_tuple = tuple(sorted(my_tuple))\n",
    "\n",
    "# Print the sorted tuple\n",
    "print(\"Sorted tuple:\", sorted_tuple)"
   ]
  },
  {
   "cell_type": "markdown",
   "id": "4d27349f-7565-4384-b615-d0756755f9ee",
   "metadata": {},
   "source": [
    "28. Convert a tuple of integers to a tuple of strings."
   ]
  },
  {
   "cell_type": "code",
   "execution_count": 139,
   "id": "3512e064-0095-47de-a229-4ef770c9e167",
   "metadata": {},
   "outputs": [
    {
     "name": "stdout",
     "output_type": "stream",
     "text": [
      "('1', '2', '3', '4', '5')\n"
     ]
    }
   ],
   "source": [
    "# Create a tuple of integers\n",
    "tuple_of_integers = (1, 2, 3, 4, 5)\n",
    "\n",
    "# Convert the tuple of integers to a tuple of strings using list comprehension\n",
    "tuple_of_strings = tuple(str(item) for item in tuple_of_integers)\n",
    "\n",
    "\n",
    "print(tuple_of_strings)"
   ]
  },
  {
   "cell_type": "markdown",
   "id": "682ca140-2244-493e-8587-cc59cc5063a3",
   "metadata": {},
   "source": [
    "29. Convert a tuple of strings to a tuple of integers."
   ]
  },
  {
   "cell_type": "code",
   "execution_count": 140,
   "id": "82edad12-628c-4569-bf00-068bc5d149e3",
   "metadata": {},
   "outputs": [
    {
     "name": "stdout",
     "output_type": "stream",
     "text": [
      "(10, 20, 30, 40, 50)\n"
     ]
    }
   ],
   "source": [
    "# Create a tuple of strings\n",
    "tuple_of_strings = ('10', '20', '30', '40', '50')\n",
    "\n",
    "# Convert the tuple of strings to a tuple of integers using list comprehension\n",
    "tuple_of_integers = tuple(int(item) for item in tuple_of_strings)\n",
    "\n",
    "\n",
    "print(tuple_of_integers)"
   ]
  },
  {
   "cell_type": "markdown",
   "id": "5e3a6cd5-7343-4ee7-8f66-5c587f9a5314",
   "metadata": {},
   "source": [
    "30. Merge two tuples."
   ]
  },
  {
   "cell_type": "code",
   "execution_count": 141,
   "id": "57322ed8-dabc-4817-a43e-67cf87e231d5",
   "metadata": {},
   "outputs": [
    {
     "name": "stdout",
     "output_type": "stream",
     "text": [
      "Merged tuple: (1, 2, 3, 4, 5, 6)\n"
     ]
    }
   ],
   "source": [
    "# Create two tuples\n",
    "tuple1 = (1, 2, 3)\n",
    "tuple2 = (4, 5, 6)\n",
    "\n",
    "# Merge the two tuples using the '+' operator\n",
    "merged_tuple = tuple1 + tuple2\n",
    "\n",
    "# Print the merged tuple\n",
    "print(\"Merged tuple:\", merged_tuple)"
   ]
  },
  {
   "cell_type": "markdown",
   "id": "c3d6eecb-14d7-45e7-9d4e-bfb7ae94fc54",
   "metadata": {},
   "source": [
    "31. Flatten a nested tuple."
   ]
  },
  {
   "cell_type": "code",
   "execution_count": 142,
   "id": "96a9aa68-95b5-4534-924f-888e60eb85a1",
   "metadata": {},
   "outputs": [
    {
     "name": "stdout",
     "output_type": "stream",
     "text": [
      "Flattened tuple: (1, 2, 3, 4, 5, 6, 7, 8)\n"
     ]
    }
   ],
   "source": [
    "# Create a nested tuple\n",
    "nested_tuple = ((1, 2), (3, 4, 5), (6, (7, 8)))\n",
    "\n",
    "# Recursive function to flatten a nested tuple\n",
    "def flatten_tuple(nested_tuple):\n",
    "    flattened = []\n",
    "    for item in nested_tuple:\n",
    "        if isinstance(item, tuple):\n",
    "            flattened.extend(flatten_tuple(item))\n",
    "        else:\n",
    "            flattened.append(item)\n",
    "    return tuple(flattened)\n",
    "\n",
    "# Flatten the nested tuple\n",
    "flattened_tuple = flatten_tuple(nested_tuple)\n",
    "\n",
    "# Print the flattened tuple\n",
    "print(\"Flattened tuple:\", flattened_tuple)"
   ]
  },
  {
   "cell_type": "markdown",
   "id": "aa2cbf84-4c2c-4e7d-9495-371eda5c3b88",
   "metadata": {},
   "source": [
    "32. Create a tuple of the first 5 prime numbers."
   ]
  },
  {
   "cell_type": "code",
   "execution_count": 143,
   "id": "2d462b5c-52e5-4c7c-9681-06d547ec4543",
   "metadata": {},
   "outputs": [
    {
     "name": "stdout",
     "output_type": "stream",
     "text": [
      "Tuple of the first 5 prime numbers: (2, 3, 5, 7, 11)\n"
     ]
    }
   ],
   "source": [
    "# Function to check if a number is prime\n",
    "def is_prime(num):\n",
    "    if num <= 1:\n",
    "        return False\n",
    "    for i in range(2, int(num ** 0.5) + 1):\n",
    "        if num % i == 0:\n",
    "            return False\n",
    "    return True\n",
    "\n",
    "# Generate the first 5 prime numbers\n",
    "prime_numbers_tuple = tuple(num for num in range(2, 100) if is_prime(num))[:5]\n",
    "\n",
    "# Print the tuple of prime numbers\n",
    "print(\"Tuple of the first 5 prime numbers:\", prime_numbers_tuple)"
   ]
  },
  {
   "cell_type": "markdown",
   "id": "84940009-a6fb-48f2-989d-534659bb007a",
   "metadata": {},
   "source": [
    "33. Check if a tuple is a palindrome."
   ]
  },
  {
   "cell_type": "code",
   "execution_count": 144,
   "id": "1fc45542-f53a-4273-b8dc-af8bca834420",
   "metadata": {},
   "outputs": [
    {
     "name": "stdout",
     "output_type": "stream",
     "text": [
      "tuple1 is a palindrome: True\n",
      "tuple2 is a palindrome: False\n"
     ]
    }
   ],
   "source": [
    "# Function to check if a tuple is a palindrome\n",
    "def is_palindrome(tup):\n",
    "    return tup == tup[::-1]\n",
    "\n",
    "# Create tuples for testing\n",
    "tuple1 = (1, 2, 3, 2, 1)\n",
    "tuple2 = (1, 2, 3, 4, 5)\n",
    "\n",
    "# Print the results\n",
    "print(\"tuple1 is a palindrome:\", is_palindrome(tuple1))\n",
    "print(\"tuple2 is a palindrome:\", is_palindrome(tuple2))"
   ]
  },
  {
   "cell_type": "markdown",
   "id": "f944ca68-62eb-43f6-8e3e-c862f44bb7b9",
   "metadata": {},
   "source": [
    "34. Create a tuple of squares of numbers from 1 to 5."
   ]
  },
  {
   "cell_type": "code",
   "execution_count": 145,
   "id": "a72b8a70-3c73-44e5-aa1f-0cb84da74639",
   "metadata": {},
   "outputs": [
    {
     "name": "stdout",
     "output_type": "stream",
     "text": [
      "(1, 4, 9, 16, 25)\n"
     ]
    }
   ],
   "source": [
    "# Create a tuple of squares using a list comprehension\n",
    "squares_tuple = tuple(x**2 for x in range(1, 6))\n",
    "\n",
    "print(squares_tuple)"
   ]
  },
  {
   "cell_type": "markdown",
   "id": "1b03c2fb-7bbb-4c3d-811b-1730ee1a6516",
   "metadata": {},
   "source": [
    "35. Filter out all even numbers from a tuple."
   ]
  },
  {
   "cell_type": "code",
   "execution_count": 146,
   "id": "6820d115-c562-4976-bf33-cf99993c85f7",
   "metadata": {},
   "outputs": [
    {
     "name": "stdout",
     "output_type": "stream",
     "text": [
      "Filtered tuple: (1, 3, 5, 7, 9)\n"
     ]
    }
   ],
   "source": [
    "# Create a tuple\n",
    "mytuple = (1, 2, 3, 4, 5, 6, 7, 8, 9, 10)\n",
    "\n",
    "# Filter out even numbers using a list comprehension\n",
    "filtered_tuple = tuple(num for num in mytuple if not num % 2 == 0)\n",
    "\n",
    "# Print the filtered tuple\n",
    "print(\"Filtered tuple:\", filtered_tuple)"
   ]
  },
  {
   "cell_type": "markdown",
   "id": "d1d9aeeb-eddc-4a8d-8ce0-88607a910715",
   "metadata": {},
   "source": [
    "36. Multiply all elements in a tuple by 2."
   ]
  },
  {
   "cell_type": "code",
   "execution_count": 147,
   "id": "a09f8b2e-e2b9-4f39-af7c-53f783277fab",
   "metadata": {},
   "outputs": [
    {
     "name": "stdout",
     "output_type": "stream",
     "text": [
      "(2, 4, 6, 8, 10)\n"
     ]
    }
   ],
   "source": [
    "# Create a tuple\n",
    "t = (1, 2, 3, 4, 5)\n",
    "\n",
    "# Multiply all elements by 2 using a list comprehension and convert to a tuple\n",
    "doubled_t = tuple(x*2 for x in t)\n",
    "\n",
    "print(doubled_t)"
   ]
  },
  {
   "cell_type": "markdown",
   "id": "a9a66ee2-6691-43b3-9fe9-0b3521cbf2c1",
   "metadata": {},
   "source": [
    "37. Create a tuple of random numbers."
   ]
  },
  {
   "cell_type": "code",
   "execution_count": 148,
   "id": "5c38269e-151e-4712-adcc-8a7321e372c6",
   "metadata": {},
   "outputs": [
    {
     "name": "stdout",
     "output_type": "stream",
     "text": [
      "Random tuple: (18, 54, 36, 4, 44, 66, 31, 27, 95, 72)\n"
     ]
    }
   ],
   "source": [
    "import random\n",
    "\n",
    "# Create a tuple of random numbers using a list comprehension\n",
    "random_tuple = tuple(random.randint(1, 100) for _ in range(10))  # Generating 10 random numbers between 1 and 100\n",
    "                                                                # (both included)\n",
    "\n",
    "\n",
    "# Print the tuple of random numbers\n",
    "print(\"Random tuple:\", random_tuple)"
   ]
  },
  {
   "cell_type": "markdown",
   "id": "51c2d1c1-1a34-446d-935a-6bffe4309592",
   "metadata": {},
   "source": [
    "38. Check if a tuple is sorted."
   ]
  },
  {
   "cell_type": "code",
   "execution_count": 149,
   "id": "833ce0f8-035d-4201-a3be-b5dc235c0520",
   "metadata": {},
   "outputs": [
    {
     "name": "stdout",
     "output_type": "stream",
     "text": [
      "True\n"
     ]
    }
   ],
   "source": [
    "# Create a tuple\n",
    "ori_tuple = (2,3,4,5,6)\n",
    "\n",
    "# Compare the original tuple with the sorted version of it using equality operator \n",
    "print(ori_tuple == tuple(sorted(ori_tuple)))"
   ]
  },
  {
   "cell_type": "markdown",
   "id": "70d44b55-6c22-497a-96f4-fdee4469c3f8",
   "metadata": {},
   "source": [
    "39. Rotate a tuple to the left by `n` positions."
   ]
  },
  {
   "cell_type": "code",
   "execution_count": 150,
   "id": "89dbc6c0-dc1a-4de2-9cf6-ac0a6311d8da",
   "metadata": {},
   "outputs": [
    {
     "name": "stdout",
     "output_type": "stream",
     "text": [
      "(3, 4, 5, 1, 2)\n"
     ]
    }
   ],
   "source": [
    "# Create a tuple\n",
    "t = (1,2,3,4,5)\n",
    "\n",
    "# The n value\n",
    "n = 2\n",
    "\n",
    "# Ensure n is within the range of the tuple size\n",
    "n = n % len(t)\n",
    "\n",
    "new_t = t[n:] + t[:n]\n",
    "\n",
    "print(new_t)"
   ]
  },
  {
   "cell_type": "markdown",
   "id": "67549083-a3da-4828-be9e-c65f593cfea6",
   "metadata": {},
   "source": [
    "40. Rotate a tuple to the right by `n` positions."
   ]
  },
  {
   "cell_type": "code",
   "execution_count": 151,
   "id": "5debac52-70a3-4987-ad18-8ed881760f28",
   "metadata": {},
   "outputs": [
    {
     "name": "stdout",
     "output_type": "stream",
     "text": [
      "(5, 1, 2, 3, 4)\n"
     ]
    }
   ],
   "source": [
    "# Create a tuple\n",
    "t = (1,2,3,4,5)\n",
    "\n",
    "# The n value\n",
    "n = 6\n",
    "\n",
    "# Ensure n is within the range of the tuple size\n",
    "n = n % len(t)\n",
    "\n",
    "new_t = t[-n:] + t[:-n]\n",
    "\n",
    "print(new_t)"
   ]
  },
  {
   "cell_type": "markdown",
   "id": "dad528ff-acbd-43ac-beaf-027eb5d31f28",
   "metadata": {},
   "source": [
    "41. Create a tuple of the first 5 Fibonacci numbers."
   ]
  },
  {
   "cell_type": "code",
   "execution_count": 152,
   "id": "efefe321-9ed6-4141-99d7-f552c2f84f26",
   "metadata": {},
   "outputs": [
    {
     "name": "stdout",
     "output_type": "stream",
     "text": [
      "Tuple of the first 5 Fibonacci numbers (0, 1, 1, 2, 3)\n"
     ]
    }
   ],
   "source": [
    "# Initialize the first two Fibonacci numbers\n",
    "num1 = 0  \n",
    "num2 = 1\n",
    "\n",
    "# Create an empty list to store the Fibonacci numbers\n",
    "fibo = []\n",
    "\n",
    "for i in range(5):\n",
    "    fibo.append(num1)  # Append num1 for each iteration on fibo list\n",
    "    num1, num2 = num2, num1 + num2\n",
    "\n",
    "print(\"Tuple of the first 5 Fibonacci numbers\", tuple(fibo)) # Convert the list into a tuple and print"
   ]
  },
  {
   "cell_type": "markdown",
   "id": "c6459d57-a12f-4af1-bf4f-be4cff030bd5",
   "metadata": {},
   "source": [
    "42. Create a tuple from user input."
   ]
  },
  {
   "cell_type": "code",
   "execution_count": 153,
   "id": "83ce1470-1e5b-4cf0-a54e-4d5cbddda4a6",
   "metadata": {},
   "outputs": [
    {
     "name": "stdin",
     "output_type": "stream",
     "text": [
      "Enter elements separated by commas:  1,2,3,4,5\n"
     ]
    },
    {
     "name": "stdout",
     "output_type": "stream",
     "text": [
      "User input tuple: ('1', '2', '3', '4', '5')\n"
     ]
    }
   ],
   "source": [
    "# Taking user input for creating a tuple\n",
    "input_str = input(\"Enter elements separated by commas: \")\n",
    "\n",
    "# Splitting the input string into a list of strings\n",
    "input_list = input_str.split(',')\n",
    "\n",
    "# Converting the list of strings to a tuple\n",
    "user_tuple = tuple(input_list)\n",
    "\n",
    "# Printing the created tuple\n",
    "print(\"User input tuple:\", user_tuple)"
   ]
  },
  {
   "cell_type": "markdown",
   "id": "27478bda-e2b3-472c-86e6-8659509dee55",
   "metadata": {},
   "source": [
    "43. Swap two elements in a tuple."
   ]
  },
  {
   "cell_type": "code",
   "execution_count": 154,
   "id": "755fb83d-550a-4be9-83c7-a8d1732715f0",
   "metadata": {},
   "outputs": [
    {
     "name": "stdout",
     "output_type": "stream",
     "text": [
      "Swapped tuple: (1, 4, 3, 2, 5)\n"
     ]
    }
   ],
   "source": [
    "# Create a tuple\n",
    "my_tuple = (1,2,3,4,5)\n",
    "\n",
    "# Swap elements at indices 1 and 3\n",
    "ind1 = 1\n",
    "ind2 = 3\n",
    "\n",
    "# Convert the tuple into a list to support item assignment\n",
    "my_list = list(my_tuple)\n",
    "\n",
    "# Swapping done here using item assignment\n",
    "my_list[ind1], my_list[ind2] = my_list[ind2], my_list[ind1]\n",
    "\n",
    "# Convert back to tuple\n",
    "swapped_tuple = tuple(my_list)\n",
    "\n",
    "# Print the swapped tuple\n",
    "print(\"Swapped tuple:\", swapped_tuple)"
   ]
  },
  {
   "cell_type": "code",
   "execution_count": 155,
   "id": "66cb5e44-bb7b-4474-9a6f-c702b6e4442c",
   "metadata": {},
   "outputs": [
    {
     "name": "stdout",
     "output_type": "stream",
     "text": [
      "Swapped tuple: (1, 4, 3, 2, 5)\n"
     ]
    }
   ],
   "source": [
    "# Create a tuple\n",
    "my_tuple = (1, 2, 3, 4, 5)\n",
    "\n",
    "# Swap elements at indices 1 and 3\n",
    "index1 = 1\n",
    "index2 = 3\n",
    "\n",
    "# Swapping done here using list comprehension, and convert back to tuple\n",
    "swapped_tuple = tuple(\n",
    "    my_tuple[i] if i not in (index1, index2) else\n",
    "    my_tuple[index2] if i == index1 else\n",
    "    my_tuple[index1]\n",
    "    for i in range(len(my_tuple))\n",
    ")\n",
    "\n",
    "# Print the swapped tuple\n",
    "print(\"Swapped tuple:\", swapped_tuple)"
   ]
  },
  {
   "cell_type": "markdown",
   "id": "c53daceb-8ab3-40b4-9078-2de7fba80075",
   "metadata": {},
   "source": [
    "44. Reverse the elements of a tuple."
   ]
  },
  {
   "cell_type": "code",
   "execution_count": 156,
   "id": "d8753550-5280-4401-ad69-e0da3c72d6ef",
   "metadata": {},
   "outputs": [
    {
     "name": "stdout",
     "output_type": "stream",
     "text": [
      "Reversed tuple: (5, 4, 3, 2, 1)\n"
     ]
    }
   ],
   "source": [
    "# Create a tuple\n",
    "my_tuple = (1, 2, 3, 4, 5)\n",
    "\n",
    "# Reverse the elements using slicing\n",
    "reversed_tuple = my_tuple[::-1]\n",
    "\n",
    "# Print the reversed tuple\n",
    "print(\"Reversed tuple:\", reversed_tuple)"
   ]
  },
  {
   "cell_type": "markdown",
   "id": "80131812-7b08-4cc9-9e0c-7dc6fc933738",
   "metadata": {},
   "source": [
    "45. Create a tuple of the first `n` powers of 2."
   ]
  },
  {
   "cell_type": "code",
   "execution_count": 157,
   "id": "34a89ad1-a020-460c-88ea-59e03bb7c704",
   "metadata": {},
   "outputs": [
    {
     "name": "stdout",
     "output_type": "stream",
     "text": [
      "(1, 2, 4, 8, 16)\n"
     ]
    }
   ],
   "source": [
    "# The n value\n",
    "n = 5\n",
    "\n",
    "# Create a tuple of the first n powers of 2 using a list comprehension\n",
    "t = tuple(2**x for x in range(n))\n",
    "\n",
    "print(t)"
   ]
  },
  {
   "cell_type": "markdown",
   "id": "3a7bc76f-a1b2-4cef-9118-2cdda6c89816",
   "metadata": {},
   "source": [
    "46. Find the longest string in a tuple of strings."
   ]
  },
  {
   "cell_type": "code",
   "execution_count": 158,
   "id": "5d0e48ff-8b15-4b2b-af90-531e5d4e1248",
   "metadata": {},
   "outputs": [
    {
     "name": "stdout",
     "output_type": "stream",
     "text": [
      "Longest string: watermelon\n"
     ]
    }
   ],
   "source": [
    "# Create a tuple of strings\n",
    "string_tuple = (\"apple\", \"banana\", \"grape\", \"kiwi\", \"watermelon\")\n",
    "\n",
    "# Find the longest string in the tuple using max() function with length as key\n",
    "longest_string = max(string_tuple, key=len)\n",
    "\n",
    "# Print the longest string\n",
    "print(\"Longest string:\", longest_string)"
   ]
  },
  {
   "cell_type": "markdown",
   "id": "1aac77c6-2e40-4639-8192-9025e2e9ebf1",
   "metadata": {},
   "source": [
    "47. Find the shortest string in a tuple of strings."
   ]
  },
  {
   "cell_type": "code",
   "execution_count": 159,
   "id": "3f97617a-0e82-4143-9628-f86734f3625a",
   "metadata": {},
   "outputs": [
    {
     "name": "stdout",
     "output_type": "stream",
     "text": [
      "Shortest string: kiwi\n"
     ]
    }
   ],
   "source": [
    "# Create a tuple of strings\n",
    "string_tuple = (\"apple\", \"banana\", \"grape\", \"kiwi\", \"watermelon\")\n",
    "\n",
    "# Find the shortest string in the tuple using min() function with length as key\n",
    "shortest_string = min(string_tuple, key=len)\n",
    "\n",
    "# Print the shortest string\n",
    "print(\"Shortest string:\", shortest_string)"
   ]
  },
  {
   "cell_type": "markdown",
   "id": "c098f7a6-7268-4045-90d6-1dc278403beb",
   "metadata": {},
   "source": [
    "48. Create a tuple of the first `n` triangular numbers."
   ]
  },
  {
   "cell_type": "markdown",
   "id": "6b848cb8-c4cf-4dcf-96bf-9c5739e7b988",
   "metadata": {},
   "source": [
    "Triangular numbers represent the number of objects that can be arranged in the shape of an equilateral triangle.\n",
    "\n",
    "Triangular numbers are those that can be represented as a sum of consecutive natural numbers, starting from 1\n",
    "\n",
    "* Formula:\n",
    "$T_n = \\frac{n * (n+1)}{2}$"
   ]
  },
  {
   "cell_type": "code",
   "execution_count": 160,
   "id": "6fc78e8f-4b06-4a44-ac3b-d1d2da0f4f29",
   "metadata": {},
   "outputs": [
    {
     "name": "stdout",
     "output_type": "stream",
     "text": [
      "(1, 3, 6, 10, 15, 21, 28, 36, 45, 55)\n"
     ]
    }
   ],
   "source": [
    "# The n value\n",
    "n = 10\n",
    "\n",
    "# Create a tuple of the first n triangular numbers using a list comprehension\n",
    "triangular_numbers_tuple = tuple((i * (i + 1)) // 2 for i in range(1, n + 1)) #//(floor division) to remove the decimals\n",
    "\n",
    "print(triangular_numbers_tuple)"
   ]
  },
  {
   "cell_type": "markdown",
   "id": "fd62dccf-9720-4ff9-b48a-94229cc76d7f",
   "metadata": {},
   "source": [
    "49. Check if a tuple contains another tuple as a subsequence."
   ]
  },
  {
   "cell_type": "code",
   "execution_count": 161,
   "id": "0a1a14a5-33a7-416a-9820-154e2e1bbdd2",
   "metadata": {},
   "outputs": [
    {
     "name": "stdout",
     "output_type": "stream",
     "text": [
      "sub_tuple is a subsequence of main_tuple\n"
     ]
    }
   ],
   "source": [
    "def is_subsequence(sequence, subsequence):\n",
    "    \n",
    "    sub_len = len(subsequence)\n",
    "    \n",
    "    if sub_len == 0:\n",
    "        return True  # An empty list is a subsequence of any list.\n",
    "    \n",
    "    sub_index = 0  # Index to track the position in the subsequence.\n",
    "    \n",
    "    for element in sequence:\n",
    "        if subsequence[sub_index] == element:\n",
    "            sub_index += 1\n",
    "        \n",
    "        if sub_index == sub_len:\n",
    "            return True  # The entire subsequence has been found.\n",
    "    \n",
    "    return False\n",
    "\n",
    "# Main tuple\n",
    "main_tuple = (1, 2, 3, 4, 5, 6, 7, 8, 9)\n",
    "# Subsequence tuple\n",
    "sub_tuple = (2, 4, 7)\n",
    "\n",
    "if is_subsequence(main_tuple, sub_tuple):\n",
    "    print(\"sub_tuple is a subsequence of main_tuple\")\n",
    "else:\n",
    "    print(\"sub_tuple is not a subsequence of main_tuple\")"
   ]
  },
  {
   "cell_type": "markdown",
   "id": "42d67d8f-85b5-4ff5-80a7-3db95dd6a477",
   "metadata": {},
   "source": [
    "50. Create a tuple of alternating 1s and 0s of length `n`."
   ]
  },
  {
   "cell_type": "code",
   "execution_count": 162,
   "id": "4995a838-7390-4f25-a0b0-338eb7726207",
   "metadata": {},
   "outputs": [
    {
     "name": "stdout",
     "output_type": "stream",
     "text": [
      "Tuple of alternating 1s and 0s: (0, 1, 0, 1, 0, 1, 0, 1, 0, 1)\n"
     ]
    }
   ],
   "source": [
    "# Define the value of n\n",
    "n = 10\n",
    "\n",
    "# Create a tuple of alternating 1s and 0s using a list comprehension\n",
    "alternating_tuple = tuple(i % 2 for i in range(n))\n",
    "\n",
    "# Print the tuple of alternating 1s and 0s\n",
    "print(\"Tuple of alternating 1s and 0s:\", alternating_tuple)"
   ]
  },
  {
   "cell_type": "markdown",
   "id": "941ad1c7-967d-4a70-ae69-2440cf4e33a7",
   "metadata": {},
   "source": [
    "# TOPIC: Set Based Practice Problem"
   ]
  },
  {
   "cell_type": "markdown",
   "id": "3fc27757-3b1d-4b42-b5fb-33b66ef32d0c",
   "metadata": {},
   "source": [
    "1. Create a set with integers from 1 to 5."
   ]
  },
  {
   "cell_type": "code",
   "execution_count": 163,
   "id": "a101b60e-bf06-4f2b-91b9-a700d69a6c30",
   "metadata": {},
   "outputs": [
    {
     "name": "stdout",
     "output_type": "stream",
     "text": [
      "{1, 2, 3, 4, 5}\n",
      "<class 'set'>\n"
     ]
    }
   ],
   "source": [
    "my_set = {1, 2, 3, 4, 5}\n",
    "print(my_set)\n",
    "print(type(my_set))"
   ]
  },
  {
   "cell_type": "markdown",
   "id": "ed5aee38-22c8-49e3-ac05-16162120d094",
   "metadata": {},
   "source": [
    "2. Add an element to a set."
   ]
  },
  {
   "cell_type": "code",
   "execution_count": 164,
   "id": "07e65c8d-7c3d-4a35-a24e-23eff2b92da5",
   "metadata": {},
   "outputs": [
    {
     "name": "stdout",
     "output_type": "stream",
     "text": [
      "{1, 2, 3, 4, 5, 6}\n"
     ]
    }
   ],
   "source": [
    "my_set = {1, 2, 3, 4, 5}\n",
    "\n",
    "my_set.add(6)\n",
    "\n",
    "print(my_set)"
   ]
  },
  {
   "cell_type": "markdown",
   "id": "3cc7f6ff-bfb7-4fbe-9ad9-e8d5bf53e4be",
   "metadata": {},
   "source": [
    "3. Remove an element from a set."
   ]
  },
  {
   "cell_type": "code",
   "execution_count": 165,
   "id": "6cfb7bf5-7736-4f32-bd87-d741c872ee20",
   "metadata": {},
   "outputs": [
    {
     "name": "stdout",
     "output_type": "stream",
     "text": [
      "{1, 2, 4, 5}\n"
     ]
    }
   ],
   "source": [
    "my_set = {1, 2, 3, 4, 5}\n",
    "\n",
    "my_set.remove(3)\n",
    "\n",
    "print(my_set)"
   ]
  },
  {
   "cell_type": "code",
   "execution_count": 166,
   "id": "b7105bfc-388c-4b87-aefa-0f50e84db20f",
   "metadata": {},
   "outputs": [
    {
     "name": "stdout",
     "output_type": "stream",
     "text": [
      "{2, 3, 4, 5}\n"
     ]
    }
   ],
   "source": [
    "my_set = {1, 2, 3, 4, 5}\n",
    "\n",
    "my_set.pop()\n",
    "\n",
    "print(my_set)"
   ]
  },
  {
   "cell_type": "markdown",
   "id": "a18f40f9-01ae-4106-9135-34c862b2dee9",
   "metadata": {},
   "source": [
    "4. Check if an element exists in a set."
   ]
  },
  {
   "cell_type": "code",
   "execution_count": 167,
   "id": "e5349b95-ab22-47e2-82d8-c7e4c16a0f97",
   "metadata": {},
   "outputs": [
    {
     "name": "stdout",
     "output_type": "stream",
     "text": [
      "True\n"
     ]
    }
   ],
   "source": [
    "my_set = {1, 2, 3, 4, 5}\n",
    "\n",
    "print(3 in my_set)"
   ]
  },
  {
   "cell_type": "markdown",
   "id": "662c7da4-e4e6-40aa-a288-2041b7af9205",
   "metadata": {},
   "source": [
    "5. Find the length of a set without using the `len()` function."
   ]
  },
  {
   "cell_type": "code",
   "execution_count": 168,
   "id": "27423a42-bd1f-4855-97f8-2d1e12a8f994",
   "metadata": {},
   "outputs": [
    {
     "name": "stdout",
     "output_type": "stream",
     "text": [
      "6\n"
     ]
    }
   ],
   "source": [
    "my_set = {1, 2, 3, 4, 5, 6}\n",
    "\n",
    "count = 0\n",
    "for i in my_set:\n",
    "    count += 1\n",
    "\n",
    "print(count)"
   ]
  },
  {
   "cell_type": "markdown",
   "id": "edb4fedf-04ff-4567-a077-b72115db55ba",
   "metadata": {},
   "source": [
    "6. Clear all elements from a set."
   ]
  },
  {
   "cell_type": "code",
   "execution_count": 169,
   "id": "608aa52b-15a9-46b9-be30-16f546eb7d07",
   "metadata": {},
   "outputs": [
    {
     "name": "stdout",
     "output_type": "stream",
     "text": [
      "set()\n"
     ]
    }
   ],
   "source": [
    "my_set = {1, 2, 3, 4, 5, 6}\n",
    "\n",
    "my_set.clear()\n",
    "\n",
    "print(my_set)"
   ]
  },
  {
   "cell_type": "markdown",
   "id": "1346dc6f-e536-4a35-88ad-6fff284e7200",
   "metadata": {},
   "source": [
    "7. Create a set of even numbers from 1 to 10."
   ]
  },
  {
   "cell_type": "code",
   "execution_count": 170,
   "id": "7568139f-d2a3-4382-b214-64870aad38c5",
   "metadata": {},
   "outputs": [
    {
     "name": "stdout",
     "output_type": "stream",
     "text": [
      "{2, 4, 6, 8, 10}\n"
     ]
    }
   ],
   "source": [
    "even_set = {x for x in range(1,11) if x % 2 == 0}\n",
    "\n",
    "print(even_set)"
   ]
  },
  {
   "cell_type": "markdown",
   "id": "cbbd867c-2cff-4fef-9bf1-a104483b43fe",
   "metadata": {},
   "source": [
    "8. Create a set of odd numbers from 1 to 10."
   ]
  },
  {
   "cell_type": "code",
   "execution_count": 171,
   "id": "f1b109e5-fb31-4f4f-9e12-bd6b00e72649",
   "metadata": {},
   "outputs": [
    {
     "name": "stdout",
     "output_type": "stream",
     "text": [
      "{1, 3, 5, 7, 9}\n"
     ]
    }
   ],
   "source": [
    "even_set = {x for x in range(1,11) if x % 2 != 0}\n",
    "\n",
    "print(even_set)"
   ]
  },
  {
   "cell_type": "markdown",
   "id": "96cff651-326a-482b-9d15-da55e2d9d327",
   "metadata": {},
   "source": [
    "9. Find the union of two sets."
   ]
  },
  {
   "cell_type": "code",
   "execution_count": 172,
   "id": "b9ec8391-614f-495f-bf14-2cd08ed3c3f2",
   "metadata": {},
   "outputs": [
    {
     "name": "stdout",
     "output_type": "stream",
     "text": [
      "Union of set1 and set2 : {1, 2, 3, 4, 5, 6, 7, 8}\n"
     ]
    }
   ],
   "source": [
    "# Create two sets\n",
    "set1 = {1,2,3,4,5}\n",
    "set2 = {3,4,5,6,7,8}\n",
    "\n",
    "# Findig the union of the two sets using union() method\n",
    "set3 = set1.union(set2)\n",
    "\n",
    "print(\"Union of set1 and set2 :\",set3)"
   ]
  },
  {
   "cell_type": "markdown",
   "id": "7e394bbb-49eb-4d8d-b2ec-16860e9d1953",
   "metadata": {},
   "source": [
    "10. Find the intersection of two sets."
   ]
  },
  {
   "cell_type": "code",
   "execution_count": 173,
   "id": "a412fa31-9a5b-4383-bd6b-9165a9f068e2",
   "metadata": {},
   "outputs": [
    {
     "name": "stdout",
     "output_type": "stream",
     "text": [
      "Intersection of set1 and set2 : {3, 4, 5}\n"
     ]
    }
   ],
   "source": [
    "# Create two sets\n",
    "set1 = {1,2,3,4,5}\n",
    "set2 = {3,4,5,6,7,8}\n",
    "\n",
    "# Findig the intersection of the two sets using intersection() method\n",
    "set3 = set1.intersection(set2)\n",
    "\n",
    "print(\"Intersection of set1 and set2 :\",set3)"
   ]
  },
  {
   "cell_type": "markdown",
   "id": "796c6f52-86f7-4bb1-8c9e-8d43dae1133f",
   "metadata": {},
   "source": [
    "11. Find the difference between two sets."
   ]
  },
  {
   "cell_type": "code",
   "execution_count": 174,
   "id": "689e0e1e-afa8-407c-89de-afa257133b2e",
   "metadata": {},
   "outputs": [
    {
     "name": "stdout",
     "output_type": "stream",
     "text": [
      "Difference : {1, 2}\n"
     ]
    }
   ],
   "source": [
    "# Create two sets\n",
    "set1 = {1,2,3,4,5}\n",
    "set2 = {3,4,5,6,7,8}\n",
    "\n",
    "# Findig the difference between the sets using the difference() method\n",
    "'''The difference between two sets contains all the elements that are present \n",
    "in the first set but not in the second set.'''\n",
    "\n",
    "set3 = set1.difference(set2)\n",
    "\n",
    "print(\"Difference :\",set3)"
   ]
  },
  {
   "cell_type": "markdown",
   "id": "f72f38b4-582f-402d-ac79-8fd29b0f76d1",
   "metadata": {},
   "source": [
    "12. Check if a set is a subset of another set."
   ]
  },
  {
   "cell_type": "code",
   "execution_count": 175,
   "id": "0f937d7a-f290-466b-851d-0f2a4fa77511",
   "metadata": {},
   "outputs": [
    {
     "name": "stdout",
     "output_type": "stream",
     "text": [
      "set1 is a subset of set2 : True\n"
     ]
    }
   ],
   "source": [
    "# Create two sets\n",
    "set1 = {3,4,5}\n",
    "set2 = {3,4,5,6,7,8}\n",
    "\n",
    "# Use the \"issubset()\" method to check if set1 is a subset of set2\n",
    "is_subset = set1.issubset(set2)\n",
    "\n",
    "print(\"set1 is a subset of set2 :\",is_subset)"
   ]
  },
  {
   "cell_type": "markdown",
   "id": "b9f4b541-c8c8-4b18-95f7-ad272d72e29a",
   "metadata": {},
   "source": [
    "13. Check if a set is a superset of another set."
   ]
  },
  {
   "cell_type": "code",
   "execution_count": 176,
   "id": "39c34fca-087b-4ab2-be39-350cbc46764b",
   "metadata": {},
   "outputs": [
    {
     "name": "stdout",
     "output_type": "stream",
     "text": [
      "set1 is a superset of set2 : True\n"
     ]
    }
   ],
   "source": [
    "# Create two sets\n",
    "set1 = {1,2,3,4,5}\n",
    "set2 = {3,4,5}\n",
    "\n",
    "# Use the \"issuperset()\" method to check if set1 is a superset of set2\n",
    "is_superset = set1.issuperset(set2)\n",
    "\n",
    "print(\"set1 is a superset of set2 :\",is_superset)"
   ]
  },
  {
   "cell_type": "markdown",
   "id": "7ff74982-a0d9-4b4f-b5ba-a2ab00b4c4f2",
   "metadata": {},
   "source": [
    "14. Create a set from a list."
   ]
  },
  {
   "cell_type": "code",
   "execution_count": 177,
   "id": "3b401399-80bc-46e9-838d-9c172427b000",
   "metadata": {},
   "outputs": [
    {
     "name": "stdout",
     "output_type": "stream",
     "text": [
      "{1, 2, 3, 4, 5}\n"
     ]
    }
   ],
   "source": [
    "# Create a list of elements\n",
    "mylist = [2, 4, 1, 4, 3, 2, 5]\n",
    "\n",
    "# Use the set() constructor to convert the list into a set\n",
    "# This automatically removes duplicates and creates a set with unique elements\n",
    "myset = set(mylist)\n",
    "\n",
    "print(myset)"
   ]
  },
  {
   "cell_type": "markdown",
   "id": "665a66dc-132c-4ead-a12d-5c3f5968ce5a",
   "metadata": {},
   "source": [
    "15. Convert a set to a list."
   ]
  },
  {
   "cell_type": "code",
   "execution_count": 178,
   "id": "6e6f0e93-e72c-4cc5-86dc-a4ed65bf58e1",
   "metadata": {},
   "outputs": [
    {
     "name": "stdout",
     "output_type": "stream",
     "text": [
      "{1, 2, 3, 4, 5, 6, 9}\n",
      "[1, 2, 3, 4, 5, 6, 9]\n"
     ]
    }
   ],
   "source": [
    "# Create a set with some elements\n",
    "my_set = {3, 1, 4, 1, 5, 9, 2, 6, 5}\n",
    "\n",
    "# Print the original set\n",
    "print(my_set)\n",
    "\n",
    "# Convert the set to a list using the list() constructor\n",
    "my_list = list(my_set)\n",
    "\n",
    "print(my_list)"
   ]
  },
  {
   "cell_type": "markdown",
   "id": "801793ef-02ca-477a-b9e4-fa61b4f49586",
   "metadata": {},
   "source": [
    "16. Remove a random element from a set."
   ]
  },
  {
   "cell_type": "code",
   "execution_count": 179,
   "id": "d009a7f2-7d7e-4965-af49-29fcd783c066",
   "metadata": {},
   "outputs": [
    {
     "name": "stdout",
     "output_type": "stream",
     "text": [
      "{1, 2, 4, 5, 6, 7, 8, 9}\n"
     ]
    }
   ],
   "source": [
    "import random  # import the random module\n",
    "\n",
    "# Create a set with some elements\n",
    "my_set = {1,2,3,4,5,6,7,8,9}\n",
    "\n",
    "# Choose a random element from the set using the random.choice() function\n",
    "random_element = random.choice(list(my_set))\n",
    "\n",
    "# Remove the chosen random element from the set using the remove() method\n",
    "my_set.remove(random_element)\n",
    "\n",
    "print(my_set)"
   ]
  },
  {
   "cell_type": "markdown",
   "id": "3c15ea3c-135c-45eb-a188-e6300536ce15",
   "metadata": {},
   "source": [
    "17. Pop an element from a set."
   ]
  },
  {
   "cell_type": "code",
   "execution_count": 180,
   "id": "1735e474-a8a2-4ec7-837d-225a64c443b8",
   "metadata": {},
   "outputs": [
    {
     "name": "stdout",
     "output_type": "stream",
     "text": [
      "2\n",
      "{3, 4, 6, 7, 8}\n"
     ]
    }
   ],
   "source": [
    "# Create a set with some elements\n",
    "my_set = {4,6,3,2,8,7}\n",
    "\n",
    "# Pop an element from the set using the pop() method\n",
    "popped_element = my_set.pop()\n",
    "\n",
    "# Print the element that was popped\n",
    "print(popped_element)\n",
    "\n",
    "#Print the set after popping an element\n",
    "print(my_set)"
   ]
  },
  {
   "cell_type": "markdown",
   "id": "18b2cc4a-14ef-4fee-990c-b56a96a6712c",
   "metadata": {},
   "source": [
    "18. Check if two sets have no elements in common."
   ]
  },
  {
   "cell_type": "code",
   "execution_count": 181,
   "id": "ad7d0d39-e453-4d27-b52e-ee71ff7b7b20",
   "metadata": {},
   "outputs": [
    {
     "name": "stdout",
     "output_type": "stream",
     "text": [
      "They have common elements\n"
     ]
    }
   ],
   "source": [
    "# Define two sets\n",
    "set1 = {1, 2, 3, 4}\n",
    "set2 = {3, 6, 7, 8}\n",
    "\n",
    "# Check if the intersection of the two sets is empty\n",
    "# The intersection is the set of elements that are common to both sets\n",
    "common_elements = set1.intersection(set2)\n",
    "\n",
    "if common_elements:\n",
    "    print(\"They have common elements\")\n",
    "else:\n",
    "    print(\"They have no common elements\")\n",
    "    "
   ]
  },
  {
   "cell_type": "markdown",
   "id": "b86cd442-b451-464c-9a18-a6ef39ebe3ba",
   "metadata": {},
   "source": [
    "19. Find the symmetric difference between two sets."
   ]
  },
  {
   "cell_type": "code",
   "execution_count": 182,
   "id": "e0ba7c13-468b-4504-a7c2-565c95a93690",
   "metadata": {},
   "outputs": [
    {
     "name": "stdout",
     "output_type": "stream",
     "text": [
      "Symmetric Difference: {1, 2, 3, 6, 7, 8}\n"
     ]
    }
   ],
   "source": [
    "# Define two sets\n",
    "set1 = {1, 2, 3, 4, 5}\n",
    "set2 = {4, 5, 6, 7, 8}\n",
    "\n",
    "# Calculate the symmetric difference using the symmetric_difference() method\n",
    "'''The symmetric_difference() method returns a set that contains all items from both sets, \n",
    "but not the items that are present in both sets.'''\n",
    "symmetric_difference = set1.symmetric_difference(set2)\n",
    "\n",
    "# Print the symmetric difference\n",
    "print(\"Symmetric Difference:\", symmetric_difference)"
   ]
  },
  {
   "cell_type": "markdown",
   "id": "15f9f48f-28b4-400f-9a82-f81cadf89c46",
   "metadata": {},
   "source": [
    "20. Update a set with elements from another set."
   ]
  },
  {
   "cell_type": "code",
   "execution_count": 183,
   "id": "f5eeec7c-5fdf-4691-927a-cec0af9fbf07",
   "metadata": {},
   "outputs": [
    {
     "name": "stdout",
     "output_type": "stream",
     "text": [
      "Updated set1 : {1, 2, 3, 4, 5, 6, 7, 8}\n"
     ]
    }
   ],
   "source": [
    "# Define two sets\n",
    "set1 = {1, 2, 3, 4, 5}\n",
    "set2 = {4, 5, 6, 7, 8}\n",
    "\n",
    "# Update set1 with elements from set2\n",
    "set1.update(set2)\n",
    "\n",
    "print(\"Updated set1 :\",set1)"
   ]
  },
  {
   "cell_type": "markdown",
   "id": "6758a0ea-1974-474b-a4a4-0e71f03fe0cd",
   "metadata": {},
   "source": [
    "21. Create a set of the first 5 prime numbers."
   ]
  },
  {
   "cell_type": "code",
   "execution_count": 184,
   "id": "996f0c90-814c-4830-b438-13dcbc54b5eb",
   "metadata": {},
   "outputs": [
    {
     "name": "stdout",
     "output_type": "stream",
     "text": [
      "{2, 3, 5, 7, 11}\n"
     ]
    }
   ],
   "source": [
    "# Function to check if a number is prime\n",
    "def isprime(n):\n",
    "    if n<2:\n",
    "        return False\n",
    "    else:\n",
    "        for i in range(2, int(n ** 0.5) + 1):\n",
    "            if n % i == 0:\n",
    "                return False\n",
    "        return True\n",
    "    \n",
    "# Create an empty set to store the prime numbers\n",
    "prime_set = set()\n",
    "\n",
    "# Initialize the number to start checking for primes\n",
    "number = 1\n",
    "\n",
    "# Loop until we have found the first 5 prime numbers\n",
    "while len(prime_set)<5:\n",
    "    # Check if the current number is prime using the is_prime function\n",
    "    if isprime(number):\n",
    "        # If the number is prime, add it to the prime_set\n",
    "        prime_set.add(number)\n",
    "    # Move on to the next number for the next iteration\n",
    "    number += 1\n",
    "\n",
    "# Print the set of prime numbers\n",
    "print(prime_set)"
   ]
  },
  {
   "cell_type": "markdown",
   "id": "36648abe-8b69-42fe-b2ad-15ed30de2625",
   "metadata": {},
   "source": [
    "22. Check if two sets are identical."
   ]
  },
  {
   "cell_type": "code",
   "execution_count": 185,
   "id": "0b47a148-d9d6-4199-a6ea-121c6cc49b65",
   "metadata": {},
   "outputs": [
    {
     "name": "stdout",
     "output_type": "stream",
     "text": [
      "The sets are identical.\n"
     ]
    }
   ],
   "source": [
    "# Define two sets\n",
    "set1 = {1, 2, 3, 4, 5}\n",
    "set2 = {3, 1, 5, 2, 4}  # The order of elements doesn't matter in sets\n",
    "\n",
    "# The `==` operator compares the content of the sets.\n",
    "if set1 == set2:\n",
    "    print(\"The sets are identical.\")\n",
    "else:\n",
    "    print(\"The sets are not identical.\")"
   ]
  },
  {
   "cell_type": "markdown",
   "id": "b3432c5f-5453-4e8e-b972-09c29e6c5f87",
   "metadata": {},
   "source": [
    "23. Create a frozen set."
   ]
  },
  {
   "cell_type": "code",
   "execution_count": 186,
   "id": "6c048d43-dd15-44dc-bc73-0fb1a9d3809d",
   "metadata": {},
   "outputs": [
    {
     "name": "stdout",
     "output_type": "stream",
     "text": [
      "frozenset({1, 2, 3, 4, 5})\n"
     ]
    }
   ],
   "source": [
    "# Create a frozen set using the 'frozenset' constructor and passing the tuple of elements\n",
    "my_frozen_set = frozenset((1,2,3,4,5))\n",
    "\n",
    "print(my_frozen_set)"
   ]
  },
  {
   "cell_type": "code",
   "execution_count": 187,
   "id": "644b5cb7-d909-45d0-bb93-3e41d6c8900b",
   "metadata": {},
   "outputs": [
    {
     "name": "stdout",
     "output_type": "stream",
     "text": [
      "frozenset({1, 2, 3, 4, 5})\n"
     ]
    }
   ],
   "source": [
    "# Create a frozen set using the 'frozenset' constructor and passing the list of elements\n",
    "my_frozen_set = frozenset([1,2,3,4,5])\n",
    "\n",
    "print(my_frozen_set)"
   ]
  },
  {
   "cell_type": "code",
   "execution_count": 188,
   "id": "351d88d0-0088-4125-93d7-0e85df76610e",
   "metadata": {},
   "outputs": [
    {
     "name": "stdout",
     "output_type": "stream",
     "text": [
      "frozenset({1, 2, 3, 4, 5})\n"
     ]
    }
   ],
   "source": [
    "# Create a frozen set using the 'frozenset' constructor and passing the set of elements\n",
    "my_frozen_set = frozenset({1,2,3,4,5})\n",
    "\n",
    "print(my_frozen_set)"
   ]
  },
  {
   "cell_type": "markdown",
   "id": "88e5bd47-346f-4933-afcd-a46da55d9a3a",
   "metadata": {},
   "source": [
    "24. Check if a set is disjoint with another set."
   ]
  },
  {
   "cell_type": "code",
   "execution_count": 189,
   "id": "1494f7f9-c273-4cd5-9d0f-2175e59a41b3",
   "metadata": {},
   "outputs": [
    {
     "data": {
      "text/plain": [
       "True"
      ]
     },
     "execution_count": 189,
     "metadata": {},
     "output_type": "execute_result"
    }
   ],
   "source": [
    "# Define two sets\n",
    "set1 = {1, 2, 3, 4, 5}\n",
    "set2 = {6, 7, 8}\n",
    "\n",
    "# Use the `isdisjoint()` method to check if the sets are disjoint\n",
    "set1.isdisjoint(set2)"
   ]
  },
  {
   "cell_type": "markdown",
   "id": "1878b909-9b4f-40f0-ad86-bd8430f12902",
   "metadata": {},
   "source": [
    "25. Create a set of squares of numbers from 1 to 5."
   ]
  },
  {
   "cell_type": "code",
   "execution_count": 190,
   "id": "4ea0ed50-2b27-4e85-97ac-0b032db834f4",
   "metadata": {},
   "outputs": [
    {
     "name": "stdout",
     "output_type": "stream",
     "text": [
      "{1, 4, 9, 16, 25}\n"
     ]
    }
   ],
   "source": [
    "sq_set = set(x**2 for x in range(1,6)) # using list comprehension and turn back to set\n",
    "\n",
    "print(sq_set)"
   ]
  },
  {
   "cell_type": "markdown",
   "id": "9d181955-0469-4c2a-b145-094efbb3da89",
   "metadata": {},
   "source": [
    "26. Filter out all even numbers from a set."
   ]
  },
  {
   "cell_type": "code",
   "execution_count": 191,
   "id": "dbdb88cc-8ecd-40e1-ac3e-e0e73282493b",
   "metadata": {},
   "outputs": [
    {
     "name": "stdout",
     "output_type": "stream",
     "text": [
      "{1, 3, 5, 7, 9}\n"
     ]
    }
   ],
   "source": [
    "my_set = {1,2,3,4,5,6,7,8,9,10}\n",
    "\n",
    "odd_set = set(filter(lambda x : x % 2 != 0, my_set))\n",
    "\n",
    "print(odd_set)"
   ]
  },
  {
   "cell_type": "code",
   "execution_count": 192,
   "id": "98d37901-5d25-4c32-b18b-19af367468e1",
   "metadata": {},
   "outputs": [
    {
     "name": "stdout",
     "output_type": "stream",
     "text": [
      "{1, 3, 5, 7, 9}\n"
     ]
    }
   ],
   "source": [
    "my_set = {1,2,3,4,5,6,7,8,9,10}\n",
    "\n",
    "odd_set = set(x for x in my_set if x % 2 != 0)\n",
    "\n",
    "print(odd_set)"
   ]
  },
  {
   "cell_type": "markdown",
   "id": "afcda878-a08c-4a03-9dc9-47b01b2e9e2b",
   "metadata": {},
   "source": [
    "27. Multiply all elements in a set by 2."
   ]
  },
  {
   "cell_type": "code",
   "execution_count": 193,
   "id": "57b3e4a5-3bae-4f84-95dd-3ff99a049d9e",
   "metadata": {},
   "outputs": [
    {
     "name": "stdout",
     "output_type": "stream",
     "text": [
      "{2, 4, 6, 8, 10, 12, 14, 16, 18, 20}\n"
     ]
    }
   ],
   "source": [
    "my_set = {1,2,3,4,5,6,7,8,9,10}\n",
    "\n",
    "doubled_set = set(x * 2 for x in my_set)\n",
    "\n",
    "print(doubled_set)"
   ]
  },
  {
   "cell_type": "markdown",
   "id": "31f2e2bc-a63c-4709-8f8e-d4a36b5fa497",
   "metadata": {},
   "source": [
    "28. Create a set of random numbers."
   ]
  },
  {
   "cell_type": "code",
   "execution_count": 194,
   "id": "66cb22d9-2bad-46ab-a8ac-113e7ce598f6",
   "metadata": {},
   "outputs": [
    {
     "name": "stdout",
     "output_type": "stream",
     "text": [
      "{34, 37, 79, 53, 21, 27, 61}\n"
     ]
    }
   ],
   "source": [
    "import random #import random module\n",
    "\n",
    "rand_set = set(random.randint(1,100) for _ in range(7))\n",
    "\n",
    "print(rand_set)"
   ]
  },
  {
   "cell_type": "markdown",
   "id": "43f4a553-d2d3-4247-8599-efd8c974b232",
   "metadata": {},
   "source": [
    "29. Check if a set is empty."
   ]
  },
  {
   "cell_type": "code",
   "execution_count": 195,
   "id": "603b6310-b29f-4cf0-a34a-36879856cfe6",
   "metadata": {},
   "outputs": [
    {
     "name": "stdout",
     "output_type": "stream",
     "text": [
      "set1 is not empty\n"
     ]
    }
   ],
   "source": [
    "set1 = {1,2,3,4}\n",
    "\n",
    "if set1:\n",
    "    print(\"set1 is not empty\")\n",
    "else:\n",
    "    print(\"set1 is empty\")"
   ]
  },
  {
   "cell_type": "markdown",
   "id": "e7a33a6e-9e56-4c00-948c-8216260bbd35",
   "metadata": {},
   "source": [
    "30. Create a nested set (hint: use frozenset)."
   ]
  },
  {
   "cell_type": "code",
   "execution_count": 196,
   "id": "3b7fece9-b108-4643-ae09-88702d6f8d0b",
   "metadata": {},
   "outputs": [
    {
     "name": "stdout",
     "output_type": "stream",
     "text": [
      "{frozenset({1, 2, 3}), frozenset({2, 3, 4, 5})}\n"
     ]
    }
   ],
   "source": [
    "# Create the inner sets\n",
    "set1 = {1,2,3}\n",
    "set2 = {2,3,4,5}\n",
    "\n",
    "# Create frozensets from the inner sets\n",
    "frozen_set1 = frozenset(set1)\n",
    "frozen_set2 = frozenset(set2)\n",
    "\n",
    "# Create the nested set using the frozensets\n",
    "nested_set = {frozen_set1, frozen_set2}\n",
    "\n",
    "print(nested_set)"
   ]
  },
  {
   "cell_type": "markdown",
   "id": "b485b451-8276-4edd-b8d2-2aa5d59cd0b6",
   "metadata": {},
   "source": [
    "31. Remove an element from a set using the discard method."
   ]
  },
  {
   "cell_type": "code",
   "execution_count": 197,
   "id": "0a8611a5-2b01-4c4e-a1bc-3059d8ea543e",
   "metadata": {},
   "outputs": [
    {
     "name": "stdout",
     "output_type": "stream",
     "text": [
      "{1, 2, 3, 5}\n"
     ]
    }
   ],
   "source": [
    "# Create a set of elements\n",
    "my_set = {1,2,3,4,5}\n",
    "\n",
    "# Define the element to be removed\n",
    "element_to_remove = 4\n",
    "\n",
    "# Use the discard() method to remove the element from the set\n",
    "# If the element is not present in the set, discard() won't raise an error\n",
    "my_set.discard(element_to_remove)\n",
    "\n",
    "print(my_set)"
   ]
  },
  {
   "cell_type": "markdown",
   "id": "547850e4-eec7-4561-98bb-18730a586291",
   "metadata": {},
   "source": [
    "32. Compare two sets."
   ]
  },
  {
   "cell_type": "code",
   "execution_count": 198,
   "id": "e3d5bf46-b475-43c2-ac8b-ee20fcb1ac1a",
   "metadata": {},
   "outputs": [
    {
     "name": "stdout",
     "output_type": "stream",
     "text": [
      "Set 1: {1, 2, 3, 4, 5}\n",
      "Set 2: {4, 5, 6, 7, 8}\n",
      "\n",
      "set1 is a subset of set2: False\n",
      "set1 is a superset of set2: False\n",
      "Intersection: {4, 5}\n",
      "Union: {1, 2, 3, 4, 5, 6, 7, 8}\n",
      "Elements in set1 but not in set2: {1, 2, 3}\n",
      "Elements in set2 but not in set1: {8, 6, 7}\n"
     ]
    }
   ],
   "source": [
    "# Step 1: Define two sets\n",
    "set1 = {1, 2, 3, 4, 5}\n",
    "set2 = {4, 5, 6, 7, 8}\n",
    "\n",
    "# Step 2: Use set operations to compare the sets\n",
    "# Check if set1 is a subset of set2\n",
    "is_subset = set1.issubset(set2)\n",
    "\n",
    "# Check if set1 is a superset of set2\n",
    "is_superset = set1.issuperset(set2)\n",
    "\n",
    "# Find the intersection of the sets\n",
    "intersection = set1.intersection(set2)\n",
    "\n",
    "# Find the union of the sets\n",
    "union = set1.union(set2)\n",
    "\n",
    "# Find the elements that are in set1 but not in set2\n",
    "difference1 = set1.difference(set2)\n",
    "\n",
    "# Find the elements that are in set2 but not in set1\n",
    "difference2 = set2.difference(set1)\n",
    "\n",
    "# Step 3: Print the results\n",
    "print(\"Set 1:\", set1)\n",
    "print(\"Set 2:\", set2)\n",
    "print()\n",
    "print(\"set1 is a subset of set2:\", is_subset)\n",
    "print(\"set1 is a superset of set2:\", is_superset)\n",
    "print(\"Intersection:\", intersection)\n",
    "print(\"Union:\", union)\n",
    "print(\"Elements in set1 but not in set2:\", difference1)\n",
    "print(\"Elements in set2 but not in set1:\", difference2)"
   ]
  },
  {
   "cell_type": "markdown",
   "id": "12a9fa7d-80b1-44aa-b993-567f0c97284a",
   "metadata": {},
   "source": [
    "33. Create a set from a string."
   ]
  },
  {
   "cell_type": "code",
   "execution_count": 199,
   "id": "c14ffc36-ff0e-49e9-b3b6-61a2cbfa15c2",
   "metadata": {},
   "outputs": [
    {
     "name": "stdout",
     "output_type": "stream",
     "text": [
      "{'o', 'l', 'H', 'e'}\n"
     ]
    }
   ],
   "source": [
    "# Define the string\n",
    "s = \"Hello\"\n",
    "\n",
    "# Use the set() constructor to create a set from the characters in the string\n",
    "my_set = set(s)\n",
    "\n",
    "print(my_set)"
   ]
  },
  {
   "cell_type": "markdown",
   "id": "45230df6-fc0f-46c3-a4fe-929c92de2045",
   "metadata": {},
   "source": [
    "34. Convert a set of strings to a set of integers."
   ]
  },
  {
   "cell_type": "code",
   "execution_count": 200,
   "id": "3389348f-8a92-4097-87f5-d8cd26f57767",
   "metadata": {},
   "outputs": [
    {
     "name": "stdout",
     "output_type": "stream",
     "text": [
      "{56, 12, 23}\n"
     ]
    }
   ],
   "source": [
    "# Create a set of strings\n",
    "string_set = {\"12\", \"23\", \"56\"}\n",
    "\n",
    "# Convert the set of strings to set of integers using list comprehension\n",
    "integer_set = set(int(x) for x in string_set)\n",
    "\n",
    "print(integer_set)"
   ]
  },
  {
   "cell_type": "markdown",
   "id": "65e55058-dbff-4465-8261-cb8e383fcd08",
   "metadata": {},
   "source": [
    "35. Convert a set of integers to a set of strings."
   ]
  },
  {
   "cell_type": "code",
   "execution_count": 201,
   "id": "f8749d15-4fb8-4686-8473-fda3bbe1701e",
   "metadata": {},
   "outputs": [
    {
     "name": "stdout",
     "output_type": "stream",
     "text": [
      "{'23', '56', '12'}\n"
     ]
    }
   ],
   "source": [
    "# Create a set of strings\n",
    "int_set = {12, 23, 56}\n",
    "\n",
    "# Convert the set of integers to set of strings using list comprehension\n",
    "str_set = set(str(x) for x in int_set)\n",
    "\n",
    "print(str_set)"
   ]
  },
  {
   "cell_type": "markdown",
   "id": "b04f12d3-3f2c-49db-8842-49b6bad89be0",
   "metadata": {},
   "source": [
    "36. Create a set from a tuple."
   ]
  },
  {
   "cell_type": "code",
   "execution_count": 202,
   "id": "39a317bc-93ae-4094-8c7f-53a037d96996",
   "metadata": {},
   "outputs": [
    {
     "name": "stdout",
     "output_type": "stream",
     "text": [
      "{1, 2, 3, 4, 5}\n"
     ]
    }
   ],
   "source": [
    "# Create a tuple\n",
    "my_tuple = (1,2,1,4,3,4,5)\n",
    "\n",
    "# Convert the tuple to a set using set() constuctor\n",
    "# sets only contain unique elements, duplicate values are automatically removed.\n",
    "my_set = set(my_tuple)\n",
    "\n",
    "print(my_set)"
   ]
  },
  {
   "cell_type": "markdown",
   "id": "c077d8d4-03bc-44e2-b2d9-edd3dbe20f25",
   "metadata": {},
   "source": [
    "37. Convert a set to a tuple."
   ]
  },
  {
   "cell_type": "code",
   "execution_count": 203,
   "id": "7cb9da22-4ca3-4a94-a45d-1237799b5d82",
   "metadata": {},
   "outputs": [
    {
     "name": "stdout",
     "output_type": "stream",
     "text": [
      "(1, 2, 3, 4, 5)\n"
     ]
    }
   ],
   "source": [
    "# Create a set\n",
    "my_set = {1, 2, 3, 4, 5}\n",
    "\n",
    "# Convert the set to a tuple using tuple() constructor\n",
    "my_tuple = tuple(my_set)\n",
    "\n",
    "print(my_tuple)"
   ]
  },
  {
   "cell_type": "markdown",
   "id": "cd0d1ef9-f4b3-46ca-9d47-e17420eb2e1b",
   "metadata": {},
   "source": [
    "38. Find the maximum value in a set."
   ]
  },
  {
   "cell_type": "code",
   "execution_count": 204,
   "id": "4e9e4eb8-31e5-40d5-9c4d-3250644a805a",
   "metadata": {},
   "outputs": [
    {
     "name": "stdout",
     "output_type": "stream",
     "text": [
      "8\n"
     ]
    }
   ],
   "source": [
    "# Create a set\n",
    "my_set = {4,2,8,1,6,7}\n",
    "\n",
    "max_val = max(my_set)\n",
    "\n",
    "print(max_val)"
   ]
  },
  {
   "cell_type": "markdown",
   "id": "29b489a4-061d-4814-bcec-4e5189749303",
   "metadata": {},
   "source": [
    "39. Find the minimum value in a set."
   ]
  },
  {
   "cell_type": "code",
   "execution_count": 205,
   "id": "9c208f1a-73fe-42f3-a3cf-5d52b83e4c79",
   "metadata": {},
   "outputs": [
    {
     "name": "stdout",
     "output_type": "stream",
     "text": [
      "1\n"
     ]
    }
   ],
   "source": [
    "# Create a set\n",
    "my_set = {4,2,8,1,6,7}\n",
    "\n",
    "max_val = min(my_set)\n",
    "\n",
    "print(max_val)"
   ]
  },
  {
   "cell_type": "markdown",
   "id": "092346d4-4a67-439d-b53f-383b4931fd4a",
   "metadata": {},
   "source": [
    "40. Create a set from user input."
   ]
  },
  {
   "cell_type": "code",
   "execution_count": 206,
   "id": "aa210e39-f564-4e1d-9019-607a10fd46b0",
   "metadata": {},
   "outputs": [
    {
     "name": "stdin",
     "output_type": "stream",
     "text": [
      "Enter the elements of the set separated by a comma 1,2,3,4,5\n"
     ]
    },
    {
     "name": "stdout",
     "output_type": "stream",
     "text": [
      "{'5', '4', '1', '3', '2'}\n"
     ]
    }
   ],
   "source": [
    "# Get input from the user, elements separated by a comma\n",
    "user_input = input(\"Enter the elements of the set separated by a comma\")\n",
    "\n",
    "# Get a list by splitting the input with delimeter as comma\n",
    "user_input_list = user_input.split(',')\n",
    "\n",
    "# Convert the list to a set\n",
    "user_set = set(user_input_list)\n",
    "\n",
    "print(user_set)"
   ]
  },
  {
   "cell_type": "markdown",
   "id": "61ead189-179e-4c24-9eb5-2d8c88f545e6",
   "metadata": {},
   "source": [
    "41. Check if the intersection of two sets is empty."
   ]
  },
  {
   "cell_type": "code",
   "execution_count": 207,
   "id": "6d433ba9-e815-4df4-8abb-23c86eb9a0a3",
   "metadata": {},
   "outputs": [
    {
     "name": "stdout",
     "output_type": "stream",
     "text": [
      "The intersection of the two sets is not empty.\n"
     ]
    }
   ],
   "source": [
    "# Define two sets\n",
    "set1 = {1, 2, 3, 4, 5}\n",
    "set2 = {4, 5, 6, 7, 8}\n",
    "\n",
    "# Find the intersection of the two sets using the `intersection()` method\n",
    "intersection_result = set1.intersection(set2)\n",
    "\n",
    "# Check if the intersection result is empty\n",
    "if not intersection_result:\n",
    "    print(\"The intersection of the two sets is empty.\")\n",
    "else:\n",
    "    print(\"The intersection of the two sets is not empty.\")"
   ]
  },
  {
   "cell_type": "markdown",
   "id": "c4fc28ee-267d-47af-8638-daf355291420",
   "metadata": {},
   "source": [
    "42. Create a set of the first 5 Fibonacci numbers."
   ]
  },
  {
   "cell_type": "code",
   "execution_count": 208,
   "id": "94544e79-f2e6-4f61-826b-8d8ae6c5264a",
   "metadata": {},
   "outputs": [
    {
     "name": "stdout",
     "output_type": "stream",
     "text": [
      "{0, 1, 2, 3, 5}\n"
     ]
    }
   ],
   "source": [
    "# Create a set to store the first 5 Fibonacci numbers\n",
    "fibonacci_set = set()\n",
    "\n",
    "# Initialize the first two Fibonacci numbers\n",
    "num1, num2 = 0, 1\n",
    "\n",
    "while len(fibonacci_set)<5:\n",
    "    fibonacci_set.add(num1)\n",
    "    num1, num2 = num2, num1 + num2\n",
    "    \n",
    "print(fibonacci_set)"
   ]
  },
  {
   "cell_type": "markdown",
   "id": "9cea6d08-1e99-4795-a2f5-8370ea028f0d",
   "metadata": {},
   "source": [
    "43. Remove duplicates from a list using sets."
   ]
  },
  {
   "cell_type": "code",
   "execution_count": 209,
   "id": "6ec4bba2-867f-4f62-b19f-391b2db2e811",
   "metadata": {},
   "outputs": [
    {
     "name": "stdout",
     "output_type": "stream",
     "text": [
      "{2, 3, 4, 6}\n"
     ]
    }
   ],
   "source": [
    "# Define a list with duplicates\n",
    "my_list = [2, 4, 6, 2, 3, 6]\n",
    "\n",
    "# Convert the list to a set\n",
    "# A set contains only unique elements from 'my_list'\n",
    "my_set = set(my_list)\n",
    "\n",
    "print(my_set)"
   ]
  },
  {
   "cell_type": "markdown",
   "id": "e56e98d2-7965-418a-85d8-06367dc88985",
   "metadata": {},
   "source": [
    "44. Check if two sets have the same elements, regardless of their count."
   ]
  },
  {
   "cell_type": "code",
   "execution_count": 210,
   "id": "8bdc6414-7d44-4669-a06e-e012ec627e4d",
   "metadata": {},
   "outputs": [
    {
     "name": "stdout",
     "output_type": "stream",
     "text": [
      "The sets have the same elements.\n"
     ]
    }
   ],
   "source": [
    "set1 = {1, 2, 3, 2, 1}\n",
    "set2 = {3, 1, 2}\n",
    "\n",
    "# Convert the sets to lists and sort them\n",
    "sortedlist1 = sorted(list(set1))\n",
    "sortedlist2 = sorted(list(set2))\n",
    "\n",
    "# Compare the sorted lists to check if they are equal\n",
    "if sortedlist1 == sortedlist2:\n",
    "    print(\"The sets have the same elements.\")\n",
    "else:\n",
    "    print(\"The sets do not have the same elements.\")"
   ]
  },
  {
   "cell_type": "markdown",
   "id": "f598e5b7-2c63-432f-8c9d-70190056a7b4",
   "metadata": {},
   "source": [
    "45. Create a set of the first `n` powers of 2."
   ]
  },
  {
   "cell_type": "code",
   "execution_count": 211,
   "id": "57385f6d-0b3f-4e43-abfa-2db80a76331e",
   "metadata": {},
   "outputs": [
    {
     "name": "stdout",
     "output_type": "stream",
     "text": [
      "{32, 1, 2, 4, 8, 16}\n"
     ]
    }
   ],
   "source": [
    "# The n value\n",
    "n = 6\n",
    "\n",
    "# Create a set of first n powers of 2 using the exponentiation operator ** and list comprehension\n",
    "powers_set = set(2**n for n in range(n))\n",
    "\n",
    "print(powers_set)"
   ]
  },
  {
   "cell_type": "markdown",
   "id": "85e52e53-4228-46e4-b2b7-3761810d720c",
   "metadata": {},
   "source": [
    "46. Find the common elements between a set and a list."
   ]
  },
  {
   "cell_type": "code",
   "execution_count": 212,
   "id": "596892df-e770-499e-967d-df086643c68e",
   "metadata": {},
   "outputs": [
    {
     "name": "stdout",
     "output_type": "stream",
     "text": [
      "Common elements: {9, 12, 7}\n"
     ]
    }
   ],
   "source": [
    "# Define a set and a list\n",
    "my_set = {3, 7, 9, 12, 15}\n",
    "my_list = [7, 12, 5, 9]\n",
    "\n",
    "#Convert the list to a set for efficient comparison\n",
    "list_to_set = set(my_list)\n",
    "\n",
    "common_elements = my_set.intersection(list_to_set)\n",
    "\n",
    "# Print the common elements\n",
    "print(\"Common elements:\", common_elements)"
   ]
  },
  {
   "cell_type": "markdown",
   "id": "cbbacfad-242b-4ad3-a58e-0080e2bd7f60",
   "metadata": {},
   "source": [
    "47. Create a set of the first `n` triangular numbers."
   ]
  },
  {
   "cell_type": "markdown",
   "id": "bf1c0eca-3a51-48b9-990f-189d90da29ef",
   "metadata": {},
   "source": [
    "Triangular numbers represent the number of objects that can be arranged in the shape of an equilateral triangle.\n",
    "\n",
    "Triangular numbers are those that can be represented as a sum of consecutive natural numbers, starting from 1\n",
    "\n",
    "* Formula:\n",
    "$T_n = \\frac{n * (n+1)}{2}$"
   ]
  },
  {
   "cell_type": "code",
   "execution_count": 213,
   "id": "8ae1bf68-8538-4884-92a7-f4aa6229c6b6",
   "metadata": {},
   "outputs": [
    {
     "name": "stdout",
     "output_type": "stream",
     "text": [
      "{1, 3, 36, 6, 10, 45, 15, 21, 55, 28}\n"
     ]
    }
   ],
   "source": [
    "# The n value\n",
    "n = 10\n",
    "\n",
    "# Create a set of first n traingular numbers using list comprehension\n",
    "triangular_set = set((x * (x+1))//2 for x in range(1,n+1))\n",
    "\n",
    "print(triangular_set)"
   ]
  },
  {
   "cell_type": "markdown",
   "id": "045d6bd9-17b1-437c-a3fb-d67acccb5253",
   "metadata": {},
   "source": [
    "48. Check if a set contains another set as a subset."
   ]
  },
  {
   "cell_type": "code",
   "execution_count": 214,
   "id": "a750eb8c-87e9-451a-8c30-a400cedc6d90",
   "metadata": {},
   "outputs": [
    {
     "name": "stdout",
     "output_type": "stream",
     "text": [
      "set2 is a subset of set1\n"
     ]
    }
   ],
   "source": [
    "# Define two sets\n",
    "set1 = {1, 2, 3, 4, 5}\n",
    "set2 = {3, 4}\n",
    "\n",
    "# Check if set2 is a subset of set1\n",
    "is_subset = set2.issubset(set1)\n",
    "\n",
    "# Print the result\n",
    "if is_subset:\n",
    "    print(\"set2 is a subset of set1\")\n",
    "else:\n",
    "    print(\"set2 is not a subset of set1\")"
   ]
  },
  {
   "cell_type": "markdown",
   "id": "76782b83-dae5-4fea-8466-2ffb681c7061",
   "metadata": {},
   "source": [
    "49. Create a set of alternating 1s and 0s of length `n`."
   ]
  },
  {
   "cell_type": "code",
   "execution_count": 215,
   "id": "47e62047-d816-44fe-8350-5c0c98d23b72",
   "metadata": {},
   "outputs": [
    {
     "name": "stdout",
     "output_type": "stream",
     "text": [
      "{0, 1}\n"
     ]
    }
   ],
   "source": [
    "# Define the desired length n\n",
    "n = 10\n",
    "\n",
    "# Create a set of alternating 1s and 0s of length n using list comprehension\n",
    "alternating_set = set(x % 2 for x in range(n))\n",
    "\n",
    "print(alternating_set)"
   ]
  },
  {
   "cell_type": "markdown",
   "id": "64b2cc95-c983-4d90-9f36-e7a50c2535ea",
   "metadata": {},
   "source": [
    "50. Merge multiple sets into one."
   ]
  },
  {
   "cell_type": "code",
   "execution_count": 216,
   "id": "5e1d40a8-2d29-4dff-a9c5-9181d423bb93",
   "metadata": {},
   "outputs": [
    {
     "name": "stdout",
     "output_type": "stream",
     "text": [
      "{1, 2, 3, 4, 5, 6, 7}\n"
     ]
    }
   ],
   "source": [
    "# Create multiple sets\n",
    "set1 = {1, 2, 3}\n",
    "set2 = {3, 4, 5}\n",
    "set3 = {5, 6, 7}\n",
    "\n",
    "# Use the union() method to merge sets\n",
    "merged_set = set1.union(set2, set3)\n",
    "\n",
    "print(merged_set)"
   ]
  },
  {
   "cell_type": "code",
   "execution_count": 217,
   "id": "06f93e8e-f5da-4b4f-bbee-c9c6bd070814",
   "metadata": {},
   "outputs": [
    {
     "name": "stdout",
     "output_type": "stream",
     "text": [
      "{1, 2, 3, 4, 5, 6, 7}\n"
     ]
    }
   ],
   "source": [
    "# Create multiple sets\n",
    "set1 = {1, 2, 3}\n",
    "set2 = {3, 4, 5}\n",
    "set3 = {5, 6, 7}\n",
    "\n",
    "# Use the | operator to merge sets\n",
    "merged_set = set1 | set2 | set3\n",
    "\n",
    "print(merged_set)"
   ]
  },
  {
   "cell_type": "code",
   "execution_count": null,
   "id": "36ee71af-cc90-45b2-8e1a-44b153b8c19d",
   "metadata": {},
   "outputs": [],
   "source": []
  }
 ],
 "metadata": {
  "kernelspec": {
   "display_name": "Python 3 (ipykernel)",
   "language": "python",
   "name": "python3"
  },
  "language_info": {
   "codemirror_mode": {
    "name": "ipython",
    "version": 3
   },
   "file_extension": ".py",
   "mimetype": "text/x-python",
   "name": "python",
   "nbconvert_exporter": "python",
   "pygments_lexer": "ipython3",
   "version": "3.10.8"
  }
 },
 "nbformat": 4,
 "nbformat_minor": 5
}
