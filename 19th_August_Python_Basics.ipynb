{
 "cells": [
  {
   "cell_type": "markdown",
   "id": "54499147-4c27-4864-adc2-3401abe298f9",
   "metadata": {},
   "source": [
    "# TOPIC: Python Basics Variable"
   ]
  },
  {
   "cell_type": "markdown",
   "id": "050a9a65-704d-48b5-b4d8-85c514a7f09d",
   "metadata": {},
   "source": [
    "1. Declare two variables, `x` and `y`, and assign them integer values. Swap the\n",
    "values of these variables without using any temporary variable."
   ]
  },
  {
   "cell_type": "code",
   "execution_count": 1,
   "id": "f4c61b21-06e8-4b6d-9d9a-264aaa974bd1",
   "metadata": {},
   "outputs": [
    {
     "name": "stdout",
     "output_type": "stream",
     "text": [
      "After Swaping\n",
      "value of x :  3\n",
      "value of y :  5\n"
     ]
    }
   ],
   "source": [
    "# Variable declaration\n",
    "x = 5\n",
    "y = 3\n",
    "\n",
    "x = x + y  # Assign x the sum of x and y (5 + 3 i.e. 8)\n",
    "y = x - y  # here, y = 8 - 3  i.e. 5\n",
    "x = x - y  # x is now 8 - 5 i.e. 3\n",
    "\n",
    "print(\"After Swaping\")\n",
    "print(\"value of x : \", x)\n",
    "print(\"value of y : \", y)"
   ]
  },
  {
   "cell_type": "markdown",
   "id": "1fd0cff2-ebe2-449c-967b-7a36a69e8401",
   "metadata": {},
   "source": [
    "2. Create a program that calculates the area of a rectangle. Take the length and\n",
    "width as inputs from the user and store them in variables. Calculate and\n",
    "display the area."
   ]
  },
  {
   "cell_type": "markdown",
   "id": "1c968a8c-5b5b-423e-92b3-394549f2421e",
   "metadata": {},
   "source": [
    "Formula of area of rectangle = length x width"
   ]
  },
  {
   "cell_type": "code",
   "execution_count": 2,
   "id": "41b066f9-2f8a-4ddd-a252-19c059c9a00b",
   "metadata": {},
   "outputs": [
    {
     "name": "stdin",
     "output_type": "stream",
     "text": [
      "Enter the length of the rectangle:  25\n",
      "Enter the width of the rectangle:  10\n"
     ]
    },
    {
     "name": "stdout",
     "output_type": "stream",
     "text": [
      "The area of the rectangle is  250.0\n"
     ]
    }
   ],
   "source": [
    "x = float(input(\"Enter the length of the rectangle: \"))  # input() returns a string so typecasting is reqd.\n",
    "y = float(input(\"Enter the width of the rectangle: \"))\n",
    "\n",
    "area = x * y   # formula\n",
    "\n",
    "print(\"The area of the rectangle is \", area)"
   ]
  },
  {
   "cell_type": "markdown",
   "id": "7a6ccf0e-ce4c-447c-86fc-f3a334fda22f",
   "metadata": {},
   "source": [
    "3. Write a Python program that converts temperatures from Celsius to\n",
    "Fahrenheit. Take the temperature in Celsius as input, store it in a variable,\n",
    "convert it to Fahrenheit, and display the result."
   ]
  },
  {
   "cell_type": "markdown",
   "id": "cf008d1c-00ea-46e8-be38-a575792cb3ae",
   "metadata": {
    "tags": []
   },
   "source": [
    "### Formula :\n",
    "$ Fahrenheit = (Celsius *  \\frac {9}{5}) + 32 $"
   ]
  },
  {
   "cell_type": "code",
   "execution_count": 3,
   "id": "de2e18e6-9439-46e0-87d4-b353c5e68713",
   "metadata": {},
   "outputs": [
    {
     "name": "stdin",
     "output_type": "stream",
     "text": [
      "Enter the temperature in °C :  32\n"
     ]
    },
    {
     "name": "stdout",
     "output_type": "stream",
     "text": [
      "The temperature in °F is  89.6\n"
     ]
    }
   ],
   "source": [
    "tempCel = float(input(\"Enter the temperature in °C : \")) # input() returns a string so typecasting is reqd.\n",
    "\n",
    "tempFahr = (tempCel * (9/5)) + 32  #formula\n",
    "\n",
    "print(\"The temperature in °F is \", tempFahr) \n"
   ]
  },
  {
   "cell_type": "markdown",
   "id": "bf7e2f2c-186b-494d-9f1a-b2c7c89e9983",
   "metadata": {},
   "source": [
    "# TOPIC: String Based Questions"
   ]
  },
  {
   "cell_type": "markdown",
   "id": "9bb493bd-be93-4362-92b0-e85587d809a1",
   "metadata": {},
   "source": [
    "1. Write a Python program that takes a string as input and prints the length of\n",
    "the string."
   ]
  },
  {
   "cell_type": "code",
   "execution_count": 4,
   "id": "2c9436e2-a814-4f64-b845-ba2f88a4de8d",
   "metadata": {},
   "outputs": [
    {
     "name": "stdin",
     "output_type": "stream",
     "text": [
      "Enter a string :  Hi, I am learning Python.\n"
     ]
    },
    {
     "name": "stdout",
     "output_type": "stream",
     "text": [
      "The length of the provided string is  25\n"
     ]
    }
   ],
   "source": [
    "txt = input(\"Enter a string : \")\n",
    "print(\"The length of the provided string is \", len(txt))  #len() for getting the length of a string"
   ]
  },
  {
   "cell_type": "markdown",
   "id": "5789337a-94ba-426e-84bb-fe44fb2dbd36",
   "metadata": {},
   "source": [
    "2. Create a program that takes a sentence from the user and counts the number\n",
    "of vowels (a, e, i, o, u) in the string."
   ]
  },
  {
   "cell_type": "code",
   "execution_count": 5,
   "id": "6bd3096b-d689-442b-9e67-8150f9d07132",
   "metadata": {},
   "outputs": [
    {
     "name": "stdin",
     "output_type": "stream",
     "text": [
      "Enter a sentence :  Hi, I am learning Python.\n"
     ]
    },
    {
     "name": "stdout",
     "output_type": "stream",
     "text": [
      "There are 7 vowels in the given sentence.\n"
     ]
    }
   ],
   "source": [
    "sent = input(\"Enter a sentence : \")\n",
    "\n",
    "num_vow = 0  # counter variable\n",
    "\n",
    "for x in sent:\n",
    "    if x.lower() in \"aeiou\":  # to check the characters regardless of the case\n",
    "        num_vow += 1\n",
    "\n",
    "print(\"There are {} vowels in the given sentence.\".format(num_vow))"
   ]
  },
  {
   "cell_type": "markdown",
   "id": "77de0bec-e43f-4bfc-92cc-1a0e0451cdd0",
   "metadata": {},
   "source": [
    "3. Given a string, reverse the order of characters using string slicing and print\n",
    "the reversed string."
   ]
  },
  {
   "cell_type": "code",
   "execution_count": 6,
   "id": "c1dc61c8-6ce2-4b18-9423-d2227eda3278",
   "metadata": {},
   "outputs": [
    {
     "name": "stdout",
     "output_type": "stream",
     "text": [
      "gninraeL\n"
     ]
    }
   ],
   "source": [
    "s = \"Learning\"\n",
    "\n",
    "rev = s[::-1]  # -1 for negative step\n",
    "\n",
    "print(rev)"
   ]
  },
  {
   "cell_type": "markdown",
   "id": "6c0b2c26-bd0d-4250-8667-c46872e0e41c",
   "metadata": {},
   "source": [
    "4. Write a program that takes a string as input and checks if it is a palindrome\n",
    "(reads the same forwards and backwards)."
   ]
  },
  {
   "cell_type": "code",
   "execution_count": 7,
   "id": "5f9b726e-3bfa-4f6b-ab1c-17fdcbd89d37",
   "metadata": {},
   "outputs": [
    {
     "name": "stdin",
     "output_type": "stream",
     "text": [
      "Enter the string :  MaLayAlam\n"
     ]
    },
    {
     "name": "stdout",
     "output_type": "stream",
     "text": [
      "Yes, it is a palindrome\n"
     ]
    }
   ],
   "source": [
    "s = input(\"Enter the string : \")\n",
    "\n",
    "rev = s[::-1]  # reverse of the given string\n",
    "\n",
    "## lower() is used to check regardless of the case\n",
    "print(\"Yes, it is a palindrome\") if rev.lower() == s.lower() else print(\"No, it is not a palindrome\")"
   ]
  },
  {
   "cell_type": "markdown",
   "id": "d4ef78b1-5318-4560-9b48-4d6be4575730",
   "metadata": {},
   "source": [
    "5. Create a program that takes a string as input and removes all the spaces from\n",
    "it. Print the modified string without spaces."
   ]
  },
  {
   "cell_type": "code",
   "execution_count": 8,
   "id": "87266fa4-e2f0-4564-8645-981dfe416697",
   "metadata": {},
   "outputs": [
    {
     "name": "stdin",
     "output_type": "stream",
     "text": [
      "Enter a string :  Hi, I     am          learning   Python.\n"
     ]
    },
    {
     "name": "stdout",
     "output_type": "stream",
     "text": [
      "Hi,IamlearningPython.\n"
     ]
    }
   ],
   "source": [
    "s = input(\"Enter a string : \")\n",
    "mod = s.replace(\" \",\"\")  # removes all whitespaces\n",
    "print(mod)"
   ]
  }
 ],
 "metadata": {
  "kernelspec": {
   "display_name": "Python 3 (ipykernel)",
   "language": "python",
   "name": "python3"
  },
  "language_info": {
   "codemirror_mode": {
    "name": "ipython",
    "version": 3
   },
   "file_extension": ".py",
   "mimetype": "text/x-python",
   "name": "python",
   "nbconvert_exporter": "python",
   "pygments_lexer": "ipython3",
   "version": "3.10.8"
  }
 },
 "nbformat": 4,
 "nbformat_minor": 5
}
